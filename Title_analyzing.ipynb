{
 "cells": [
  {
   "cell_type": "code",
   "execution_count": 41,
   "metadata": {
    "id": "PN8dRGwbmDaU"
   },
   "outputs": [],
   "source": [
    "import pandas as pd\n",
    "import numpy as np\n",
    "pd.set_option('display.max_rows', 50000)\n",
    "from sklearn.feature_extraction.text import CountVectorizer\n",
    "from sklearn.feature_extraction.text import TfidfVectorizer\n",
    "#from sklearn.neighbors import NearestNeighbors\n",
    "#from sklearn.cluster import KMeans\n",
    "#from sklearn.metrics import adjusted_rand_score\n",
    "from nltk.corpus import stopwords\n",
    "from sklearn.metrics.pairwise import linear_kernel\n",
    "from nltk.tokenize import RegexpTokenizer\n",
    "from sklearn.metrics.pairwise import cosine_similarity\n",
    "import re\n",
    "import string\n",
    "import random\n",
    "from PIL import Image\n",
    "import requests\n",
    "from io import BytesIO"
   ]
  },
  {
   "cell_type": "code",
   "execution_count": null,
   "metadata": {
    "colab": {
     "base_uri": "https://localhost:8080/"
    },
    "id": "7PwAWjafmGkY",
    "outputId": "fc2b596b-166a-455d-f1a8-85e51b41c861"
   },
   "outputs": [
    {
     "name": "stdout",
     "output_type": "stream",
     "text": [
      "Drive already mounted at /content/drive; to attempt to forcibly remount, call drive.mount(\"/content/drive\", force_remount=True).\n"
     ]
    }
   ],
   "source": [
    "#from google.colab import drive\n",
    "#drive.mount('/content/drive')"
   ]
  },
  {
   "cell_type": "code",
   "execution_count": 27,
   "metadata": {
    "colab": {
     "base_uri": "https://localhost:8080/"
    },
    "id": "-Udl7QzRmG2x",
    "outputId": "5e2072f8-6cd9-4298-a3ab-2dd3d5461580"
   },
   "outputs": [
    {
     "name": "stdout",
     "output_type": "stream",
     "text": [
      "(78030, 6)\n",
      "(365143, 5)\n",
      "(1000, 1)\n"
     ]
    }
   ],
   "source": [
    "#pfad = \"drive/MyDrive/DataMiningSeminar/\"\n",
    "items = pd.read_csv(\"items.csv\", delimiter='|')\n",
    "transactions = pd.read_csv(\"transactions.csv\", delimiter='|')\n",
    "evaluation = pd.read_csv(\"evaluation.csv\", delimiter='|')\n",
    "print(items.shape)\n",
    "print(transactions.shape)\n",
    "print(evaluation.shape)"
   ]
  },
  {
   "cell_type": "code",
   "execution_count": 31,
   "metadata": {
    "id": "KbA91gUKmLGZ"
   },
   "outputs": [],
   "source": [
    "items_new = pd.read_csv('items_language.csv')"
   ]
  },
  {
   "cell_type": "code",
   "execution_count": 32,
   "metadata": {
    "id": "b5f4qIPUm28s"
   },
   "outputs": [],
   "source": [
    "titles_eng = items_new.loc[items_new.language == \"en\"]"
   ]
  },
  {
   "cell_type": "code",
   "execution_count": null,
   "metadata": {
    "colab": {
     "base_uri": "https://localhost:8080/",
     "height": 555
    },
    "id": "YtAG6cyBmuFq",
    "outputId": "a68c1e46-1ec0-409f-bf40-5e244a1088eb"
   },
   "outputs": [],
   "source": [
    "titles_eng.reset_index(level = 0, inplace = True)"
   ]
  },
  {
   "cell_type": "code",
   "execution_count": 45,
   "metadata": {},
   "outputs": [],
   "source": [
    "def recommend(title):\n",
    "     \n",
    "  \n",
    "    # Convert the index into series\n",
    "    indices = pd.Series(titles_eng.index, index = titles_eng['title'])\n",
    "    \n",
    "    #Converting the book title into vectors and used bigram\n",
    "    tf = TfidfVectorizer(analyzer='word', ngram_range=(2, 2), min_df = 1, stop_words='english')\n",
    "    tfidf_matrix = tf.fit_transform(titles_eng['title'])\n",
    "    \n",
    "    # Calculating the similarity measures based on Cosine Similarity\n",
    "    sg = cosine_similarity(tfidf_matrix, tfidf_matrix)\n",
    "    \n",
    "    # Get the index corresponding to original_title\n",
    "    idx = indices[title]\n",
    "    # Get the pairwsie similarity scores \n",
    "    sig = list(enumerate(sg[idx]))\n",
    "    # Sort the books\n",
    "    sig = sorted(sig, key=lambda x: x[1], reverse=True)\n",
    "    # Scores of the 5 most similar books \n",
    "    sig = sig[1:6]\n",
    "    # Book indicies\n",
    "    book_indices = [i[0] for i in sig]\n",
    "   \n",
    "    # Top 5 book recommendation\n",
    "    rec = titles_eng[['title']].iloc[book_indices]\n",
    "    print(rec)"
   ]
  },
  {
   "cell_type": "code",
   "execution_count": 44,
   "metadata": {},
   "outputs": [
    {
     "data": {
      "text/html": [
       "<div>\n",
       "<style scoped>\n",
       "    .dataframe tbody tr th:only-of-type {\n",
       "        vertical-align: middle;\n",
       "    }\n",
       "\n",
       "    .dataframe tbody tr th {\n",
       "        vertical-align: top;\n",
       "    }\n",
       "\n",
       "    .dataframe thead th {\n",
       "        text-align: right;\n",
       "    }\n",
       "</style>\n",
       "<table border=\"1\" class=\"dataframe\">\n",
       "  <thead>\n",
       "    <tr style=\"text-align: right;\">\n",
       "      <th></th>\n",
       "      <th>level_0</th>\n",
       "      <th>index</th>\n",
       "      <th>itemID</th>\n",
       "      <th>title</th>\n",
       "      <th>author</th>\n",
       "      <th>publisher</th>\n",
       "      <th>main topic</th>\n",
       "      <th>subtopics</th>\n",
       "      <th>language</th>\n",
       "    </tr>\n",
       "  </thead>\n",
       "  <tbody>\n",
       "    <tr>\n",
       "      <th>334</th>\n",
       "      <td>334</td>\n",
       "      <td>1301</td>\n",
       "      <td>9578</td>\n",
       "      <td>Harry Potter 2 and the Chamber of Secrets</td>\n",
       "      <td>Joanne K. Rowling</td>\n",
       "      <td>Bloomsbury UK</td>\n",
       "      <td>YFH</td>\n",
       "      <td>[FM,YFB]</td>\n",
       "      <td>en</td>\n",
       "    </tr>\n",
       "  </tbody>\n",
       "</table>\n",
       "</div>"
      ],
      "text/plain": [
       "     level_0  index  itemID                                      title  \\\n",
       "334      334   1301    9578  Harry Potter 2 and the Chamber of Secrets   \n",
       "\n",
       "                author      publisher main topic subtopics language  \n",
       "334  Joanne K. Rowling  Bloomsbury UK        YFH  [FM,YFB]       en  "
      ]
     },
     "execution_count": 44,
     "metadata": {},
     "output_type": "execute_result"
    }
   ],
   "source": [
    "titles_eng.loc[titles_eng.title == \"Harry Potter 2 and the Chamber of Secrets\"]"
   ]
  },
  {
   "cell_type": "code",
   "execution_count": 46,
   "metadata": {},
   "outputs": [
    {
     "name": "stdout",
     "output_type": "stream",
     "text": [
      "                                                   title\n",
      "642              Harry Potter and the Chamber of Secrets\n",
      "1064             Harry Potter and the Chamber of Secrets\n",
      "39014            Harry Potter and the Chamber of Secrets\n",
      "874    Harry Potter and the Chamber of Secrets. Illus...\n",
      "1208   Harry Potter Harry Potter and the Chamber of S...\n"
     ]
    }
   ],
   "source": [
    "recommend(\"Harry Potter 2 and the Chamber of Secrets\")"
   ]
  },
  {
   "cell_type": "code",
   "execution_count": null,
   "metadata": {
    "id": "AUPp17pKmtRf"
   },
   "outputs": [],
   "source": []
  },
  {
   "cell_type": "code",
   "execution_count": null,
   "metadata": {},
   "outputs": [],
   "source": []
  }
 ],
 "metadata": {
  "accelerator": "GPU",
  "colab": {
   "collapsed_sections": [],
   "machine_shape": "hm",
   "name": "Title_analyzing.ipynb",
   "provenance": []
  },
  "kernelspec": {
   "display_name": "Python 3",
   "language": "python",
   "name": "python3"
  },
  "language_info": {
   "codemirror_mode": {
    "name": "ipython",
    "version": 3
   },
   "file_extension": ".py",
   "mimetype": "text/x-python",
   "name": "python",
   "nbconvert_exporter": "python",
   "pygments_lexer": "ipython3",
   "version": "3.7.6"
  }
 },
 "nbformat": 4,
 "nbformat_minor": 1
}
