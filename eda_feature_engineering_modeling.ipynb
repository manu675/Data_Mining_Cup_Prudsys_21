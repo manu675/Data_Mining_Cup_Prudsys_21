{
  "nbformat": 4,
  "nbformat_minor": 0,
  "metadata": {
    "accelerator": "GPU",
    "colab": {
      "name": "eda_feature_engineering_modeling.ipynb",
      "provenance": [],
      "collapsed_sections": [],
      "authorship_tag": "ABX9TyNPaY8e7ER99llz7BpREOMG",
      "include_colab_link": true
    },
    "kernelspec": {
      "display_name": "Python 3",
      "name": "python3"
    },
    "language_info": {
      "name": "python"
    },
    "widgets": {
      "application/vnd.jupyter.widget-state+json": {
        "d2333fe356f646b8861ee3ad2fa77c67": {
          "model_module": "@jupyter-widgets/controls",
          "model_name": "HBoxModel",
          "state": {
            "_view_name": "HBoxView",
            "_dom_classes": [],
            "_model_name": "HBoxModel",
            "_view_module": "@jupyter-widgets/controls",
            "_model_module_version": "1.5.0",
            "_view_count": null,
            "_view_module_version": "1.5.0",
            "box_style": "",
            "layout": "IPY_MODEL_4bf559ac774b46449806854a8fa9ebc0",
            "_model_module": "@jupyter-widgets/controls",
            "children": [
              "IPY_MODEL_daa648ca46a6466680794fc69ad8cf33",
              "IPY_MODEL_2821977ceb524355ab1b47f2f165cbab"
            ]
          }
        },
        "4bf559ac774b46449806854a8fa9ebc0": {
          "model_module": "@jupyter-widgets/base",
          "model_name": "LayoutModel",
          "state": {
            "_view_name": "LayoutView",
            "grid_template_rows": null,
            "right": null,
            "justify_content": null,
            "_view_module": "@jupyter-widgets/base",
            "overflow": null,
            "_model_module_version": "1.2.0",
            "_view_count": null,
            "flex_flow": null,
            "width": null,
            "min_width": null,
            "border": null,
            "align_items": null,
            "bottom": null,
            "_model_module": "@jupyter-widgets/base",
            "top": null,
            "grid_column": null,
            "overflow_y": null,
            "overflow_x": null,
            "grid_auto_flow": null,
            "grid_area": null,
            "grid_template_columns": null,
            "flex": null,
            "_model_name": "LayoutModel",
            "justify_items": null,
            "grid_row": null,
            "max_height": null,
            "align_content": null,
            "visibility": null,
            "align_self": null,
            "height": null,
            "min_height": null,
            "padding": null,
            "grid_auto_rows": null,
            "grid_gap": null,
            "max_width": null,
            "order": null,
            "_view_module_version": "1.2.0",
            "grid_template_areas": null,
            "object_position": null,
            "object_fit": null,
            "grid_auto_columns": null,
            "margin": null,
            "display": null,
            "left": null
          }
        },
        "daa648ca46a6466680794fc69ad8cf33": {
          "model_module": "@jupyter-widgets/controls",
          "model_name": "FloatProgressModel",
          "state": {
            "_view_name": "ProgressView",
            "style": "IPY_MODEL_06b04e350a2146cc90ca9fb954778618",
            "_dom_classes": [],
            "description": "100%",
            "_model_name": "FloatProgressModel",
            "bar_style": "success",
            "max": 15,
            "_view_module": "@jupyter-widgets/controls",
            "_model_module_version": "1.5.0",
            "value": 15,
            "_view_count": null,
            "_view_module_version": "1.5.0",
            "orientation": "horizontal",
            "min": 0,
            "description_tooltip": null,
            "_model_module": "@jupyter-widgets/controls",
            "layout": "IPY_MODEL_b48003d6d49e47878a349a7f64df9c90"
          }
        },
        "2821977ceb524355ab1b47f2f165cbab": {
          "model_module": "@jupyter-widgets/controls",
          "model_name": "HTMLModel",
          "state": {
            "_view_name": "HTMLView",
            "style": "IPY_MODEL_1a8a58e812e84992955bbe25b61c9048",
            "_dom_classes": [],
            "description": "",
            "_model_name": "HTMLModel",
            "placeholder": "​",
            "_view_module": "@jupyter-widgets/controls",
            "_model_module_version": "1.5.0",
            "value": " 15/15 [00:52&lt;00:00,  3.48s/it]",
            "_view_count": null,
            "_view_module_version": "1.5.0",
            "description_tooltip": null,
            "_model_module": "@jupyter-widgets/controls",
            "layout": "IPY_MODEL_2ca96bdb2e4b4cfaadd5106b9a09d796"
          }
        },
        "06b04e350a2146cc90ca9fb954778618": {
          "model_module": "@jupyter-widgets/controls",
          "model_name": "ProgressStyleModel",
          "state": {
            "_view_name": "StyleView",
            "_model_name": "ProgressStyleModel",
            "description_width": "initial",
            "_view_module": "@jupyter-widgets/base",
            "_model_module_version": "1.5.0",
            "_view_count": null,
            "_view_module_version": "1.2.0",
            "bar_color": null,
            "_model_module": "@jupyter-widgets/controls"
          }
        },
        "b48003d6d49e47878a349a7f64df9c90": {
          "model_module": "@jupyter-widgets/base",
          "model_name": "LayoutModel",
          "state": {
            "_view_name": "LayoutView",
            "grid_template_rows": null,
            "right": null,
            "justify_content": null,
            "_view_module": "@jupyter-widgets/base",
            "overflow": null,
            "_model_module_version": "1.2.0",
            "_view_count": null,
            "flex_flow": null,
            "width": null,
            "min_width": null,
            "border": null,
            "align_items": null,
            "bottom": null,
            "_model_module": "@jupyter-widgets/base",
            "top": null,
            "grid_column": null,
            "overflow_y": null,
            "overflow_x": null,
            "grid_auto_flow": null,
            "grid_area": null,
            "grid_template_columns": null,
            "flex": null,
            "_model_name": "LayoutModel",
            "justify_items": null,
            "grid_row": null,
            "max_height": null,
            "align_content": null,
            "visibility": null,
            "align_self": null,
            "height": null,
            "min_height": null,
            "padding": null,
            "grid_auto_rows": null,
            "grid_gap": null,
            "max_width": null,
            "order": null,
            "_view_module_version": "1.2.0",
            "grid_template_areas": null,
            "object_position": null,
            "object_fit": null,
            "grid_auto_columns": null,
            "margin": null,
            "display": null,
            "left": null
          }
        },
        "1a8a58e812e84992955bbe25b61c9048": {
          "model_module": "@jupyter-widgets/controls",
          "model_name": "DescriptionStyleModel",
          "state": {
            "_view_name": "StyleView",
            "_model_name": "DescriptionStyleModel",
            "description_width": "",
            "_view_module": "@jupyter-widgets/base",
            "_model_module_version": "1.5.0",
            "_view_count": null,
            "_view_module_version": "1.2.0",
            "_model_module": "@jupyter-widgets/controls"
          }
        },
        "2ca96bdb2e4b4cfaadd5106b9a09d796": {
          "model_module": "@jupyter-widgets/base",
          "model_name": "LayoutModel",
          "state": {
            "_view_name": "LayoutView",
            "grid_template_rows": null,
            "right": null,
            "justify_content": null,
            "_view_module": "@jupyter-widgets/base",
            "overflow": null,
            "_model_module_version": "1.2.0",
            "_view_count": null,
            "flex_flow": null,
            "width": null,
            "min_width": null,
            "border": null,
            "align_items": null,
            "bottom": null,
            "_model_module": "@jupyter-widgets/base",
            "top": null,
            "grid_column": null,
            "overflow_y": null,
            "overflow_x": null,
            "grid_auto_flow": null,
            "grid_area": null,
            "grid_template_columns": null,
            "flex": null,
            "_model_name": "LayoutModel",
            "justify_items": null,
            "grid_row": null,
            "max_height": null,
            "align_content": null,
            "visibility": null,
            "align_self": null,
            "height": null,
            "min_height": null,
            "padding": null,
            "grid_auto_rows": null,
            "grid_gap": null,
            "max_width": null,
            "order": null,
            "_view_module_version": "1.2.0",
            "grid_template_areas": null,
            "object_position": null,
            "object_fit": null,
            "grid_auto_columns": null,
            "margin": null,
            "display": null,
            "left": null
          }
        }
      }
    }
  },
  "cells": [
    {
      "cell_type": "markdown",
      "metadata": {
        "id": "view-in-github",
        "colab_type": "text"
      },
      "source": [
        "<a href=\"https://colab.research.google.com/github/manu675/Data_Mining_Cup_Prudsys_21/blob/master/eda_feature_engineering_modeling.ipynb\" target=\"_parent\"><img src=\"https://colab.research.google.com/assets/colab-badge.svg\" alt=\"Open In Colab\"/></a>"
      ]
    },
    {
      "cell_type": "markdown",
      "metadata": {
        "id": "XG5Wc-C6SJuw"
      },
      "source": [
        "# Data Mining Cup Prudsys 2021\n"
      ]
    },
    {
      "cell_type": "markdown",
      "metadata": {
        "id": "gIxf3pq-SSFd"
      },
      "source": [
        "Task: https://www.data-mining-cup.com/dmc-2021/?utm_source=dmc&utm_medium=email&utm_campaign=newsletter"
      ]
    },
    {
      "cell_type": "markdown",
      "metadata": {
        "id": "AqXZsN7Lz8tM"
      },
      "source": [
        "**Starting points:**  \n",
        "*General Overview*:     \n",
        "https://towardsdatascience.com/the-remarkable-world-of-recommender-systems-bff4b9cbe6a7\n",
        "\n",
        "*More details and potential libraries:*  \n",
        "https://towardsdatascience.com/recommendation-systems-in-the-real-world-51e3948772f3\n",
        "\n",
        "\n",
        "*Resources:*  \n",
        "*   https://machinelearningmastery.com/recommender-systems-resources/\n",
        "*   https://medium.com/@chaitanyarb619/recommendation-systems-a-walk-trough-33587fecc195\n",
        "\n",
        "\n",
        "*TFIDF:*  \n",
        "https://heartbeat.fritz.ai/recommender-systems-with-python-part-i-content-based-filtering-5df4940bd831\n",
        "\n",
        "*Recommender + Countvectorizer:*   \n",
        "https://www.kdnuggets.com/2019/11/content-based-recommender-using-natural-language-processing-nlp.html\n",
        "\n",
        "*Content-based recommender:*  \n",
        "*  https://towardsdatascience.com/building-a-content-based-recommender-system-for-hotels-in-seattle-d724f0a32070\n",
        "\n",
        "*  https://www.kdnuggets.com/2020/07/building-content-based-book-recommendation-engine.html\n",
        "\n",
        "*  https://medium.com/analytics-vidhya/recommendation-system-content-based-part-1-8f5ac093127a\n",
        "\n",
        "*Building a recommender in Keras:*\n",
        "\n",
        "https://heartbeat.fritz.ai/build-train-and-deploy-a-book-recommender-system-using-keras-tensorflow-js-b96944b936a7\n",
        "\n",
        "*K means based recommender:*\n",
        "\n",
        "https://asdkazmi.medium.com/ai-movies-recommendation-system-with-clustering-based-k-means-algorithm-f04467e02fcd\n",
        "\n",
        "*Top-N recommender and hit rate evaluation:*\n",
        "\n",
        "https://towardsdatascience.com/evaluating-a-real-life-recommender-system-error-based-and-ranking-based-84708e3285b\n",
        "\n",
        "*Bayesian personalized ranking:*  \n",
        "https://towardsdatascience.com/recommender-system-using-bayesian-personalized-ranking-d30e98bba0b9\n",
        "\n",
        "*Alternating Least Squares (ALS) for implict data:*  \n",
        "https://medium.com/radon-dev/als-implicit-collaborative-filtering-5ed653ba39fe\n",
        "\n",
        "https://jessesw.com/Rec-System/\n",
        "\n",
        "*Implict library for Recommender systems:*\n",
        "https://implicit.readthedocs.io/en/latest/ann.html\n",
        "\n",
        "*Deep Neural Network based recommendation systems:*  \n",
        "https://towardsdatascience.com/introduction-to-recommender-systems-2-deep-neural-network-based-recommendation-systems-4e4484e64746\n",
        "\n",
        "**Goal**: content-based Top-N recommender system (item-item recommendations based on item attributes such as same author, similar title, same topic/subtopic)\n",
        "\n",
        "**Potential models**:\n",
        "- Matrix Factorization (Alternating Least Squares; Logistic Matrix Factorization)\n",
        "- Clustering (KNN)\n",
        "- Bayesian Personalized Ranking\n",
        "- Deep Learning (NNs) ?\n",
        "\n",
        "\n",
        "**Potential evaluation/comparison metrics for recommender systems:**  \n",
        "https://towardsdatascience.com/evaluation-metrics-for-recommender-systems-df56c6611093\n",
        "\n",
        "*Measuring similarity in Recommender systems:*  \n",
        "https://levelup.gitconnected.com/measuring-similarity-in-recommendation-systems-8f2aa8ad1f44\n",
        "\n",
        "Levenshtein distance:  \n",
        "https://github.com/ztane/python-Levenshtein\n",
        "\n",
        "https://towardsdatascience.com/calculating-string-similarity-in-python-276e18a7d33a\n",
        "\n",
        "*Recommender evaluation library:*  \n",
        "https://github.com/statisticianinstilettos/recmetrics\n",
        "\n",
        "*Evaluation metrics for Rating Prediction Recommenders (predict user ratings by taking explicit feedback data from users in the form of ratings between 0 and 10):* RMSE, MAE\n",
        "\n",
        "*Top-N recommender (return a ranked list of N items users will potentially be interested in based on ):* Hit rate (find all items in a user's history in the training data and remove one of these items; then run a Leave one out CV and get the top-N recommendations - if the removed item is one of the top-N it's a hit)\n",
        "\n",
        "Precision: popular evaluation metric for recommender systems. It simply looks at the top K recommendations and calculate what proportion of those recommendations are actually relevant to the user. k: total # of recommendations, n_relevant: recommendations relevant to the user\n",
        "\n",
        "$$ precision_k = n_{relevant}/k $$\n",
        "\n",
        "Recall: the proportion of items that were found in the top K recommendations.\n"
      ]
    },
    {
      "cell_type": "markdown",
      "metadata": {
        "id": "L8M4M98eq-5B"
      },
      "source": [
        "**ToDo's for the presentation:**  \n",
        "\n",
        "Summary about task and data   \n",
        "Challenges (Data Modeling)  \n",
        "Subproblems and responsibilities within the team  \n",
        "First EDA insights: # of features, summary stats, plots  \n"
      ]
    },
    {
      "cell_type": "markdown",
      "metadata": {
        "id": "IPjS4mPvtCtG"
      },
      "source": [
        "Implementation Tutorial:  \n",
        "https://medium.datadriveninvestor.com/how-to-build-a-recommendation-system-for-purchase-data-step-by-step-d6d7a78800b6"
      ]
    },
    {
      "cell_type": "markdown",
      "metadata": {
        "id": "kwCR0xrPVXjQ"
      },
      "source": [
        "Installing libraries"
      ]
    },
    {
      "cell_type": "code",
      "metadata": {
        "colab": {
          "base_uri": "https://localhost:8080/"
        },
        "id": "9pa-5FXy26FA",
        "outputId": "dd238363-c8fc-43c7-e0f9-b49901323f11"
      },
      "source": [
        "##pip install rake_nltk"
      ],
      "execution_count": null,
      "outputs": [
        {
          "output_type": "stream",
          "text": [
            "Collecting rake_nltk\n",
            "  Downloading https://files.pythonhosted.org/packages/8e/c4/b4ff57e541ac5624ad4b20b89c2bafd4e98f29fd83139f3a81858bdb3815/rake_nltk-1.0.4.tar.gz\n",
            "Requirement already satisfied: nltk in /usr/local/lib/python3.7/dist-packages (from rake_nltk) (3.2.5)\n",
            "Requirement already satisfied: six in /usr/local/lib/python3.7/dist-packages (from nltk->rake_nltk) (1.15.0)\n",
            "Building wheels for collected packages: rake-nltk\n",
            "  Building wheel for rake-nltk (setup.py) ... \u001b[?25l\u001b[?25hdone\n",
            "  Created wheel for rake-nltk: filename=rake_nltk-1.0.4-py2.py3-none-any.whl size=7819 sha256=a2583900f1e5bec436240d0d2844414501693a37edfd781490de5886bcd3e4c8\n",
            "  Stored in directory: /root/.cache/pip/wheels/ef/92/fc/271b3709e71a96ffe934b27818946b795ac6b9b8ff8682483f\n",
            "Successfully built rake-nltk\n",
            "Installing collected packages: rake-nltk\n",
            "Successfully installed rake-nltk-1.0.4\n"
          ],
          "name": "stdout"
        }
      ]
    },
    {
      "cell_type": "code",
      "metadata": {
        "colab": {
          "base_uri": "https://localhost:8080/"
        },
        "id": "rOYrJTWz2YFb",
        "outputId": "acffae61-58d4-4bec-b365-ac9a19631e8b"
      },
      "source": [
        "pip install textdistance"
      ],
      "execution_count": 1,
      "outputs": [
        {
          "output_type": "stream",
          "text": [
            "Collecting textdistance\n",
            "  Downloading https://files.pythonhosted.org/packages/2d/6d/a04e0ec4b82a2a554b44deb01cc5dcfa56502784a7af356b47f83906af91/textdistance-4.2.1-py3-none-any.whl\n",
            "Installing collected packages: textdistance\n",
            "Successfully installed textdistance-4.2.1\n"
          ],
          "name": "stdout"
        }
      ]
    },
    {
      "cell_type": "code",
      "metadata": {
        "colab": {
          "base_uri": "https://localhost:8080/"
        },
        "id": "R1efOHxuODSs",
        "outputId": "8d6cfdfb-bb21-4c46-b3b3-e92f42237ca4"
      },
      "source": [
        "pip install python-Levenshtein"
      ],
      "execution_count": 2,
      "outputs": [
        {
          "output_type": "stream",
          "text": [
            "Collecting python-Levenshtein\n",
            "\u001b[?25l  Downloading https://files.pythonhosted.org/packages/2a/dc/97f2b63ef0fa1fd78dcb7195aca577804f6b2b51e712516cc0e902a9a201/python-Levenshtein-0.12.2.tar.gz (50kB)\n",
            "\r\u001b[K     |██████▌                         | 10kB 22.9MB/s eta 0:00:01\r\u001b[K     |█████████████                   | 20kB 28.4MB/s eta 0:00:01\r\u001b[K     |███████████████████▌            | 30kB 21.5MB/s eta 0:00:01\r\u001b[K     |██████████████████████████      | 40kB 17.3MB/s eta 0:00:01\r\u001b[K     |████████████████████████████████| 51kB 5.2MB/s \n",
            "\u001b[?25hRequirement already satisfied: setuptools in /usr/local/lib/python3.7/dist-packages (from python-Levenshtein) (56.1.0)\n",
            "Building wheels for collected packages: python-Levenshtein\n",
            "  Building wheel for python-Levenshtein (setup.py) ... \u001b[?25l\u001b[?25hdone\n",
            "  Created wheel for python-Levenshtein: filename=python_Levenshtein-0.12.2-cp37-cp37m-linux_x86_64.whl size=149804 sha256=eb85a31e3da2026d7fdb26ac820494f72c3ddf8266784f40cafa9183e7584619\n",
            "  Stored in directory: /root/.cache/pip/wheels/b3/26/73/4b48503bac73f01cf18e52cd250947049a7f339e940c5df8fc\n",
            "Successfully built python-Levenshtein\n",
            "Installing collected packages: python-Levenshtein\n",
            "Successfully installed python-Levenshtein-0.12.2\n"
          ],
          "name": "stdout"
        }
      ]
    },
    {
      "cell_type": "code",
      "metadata": {
        "colab": {
          "base_uri": "https://localhost:8080/"
        },
        "id": "VxzBJFEdVO0K",
        "outputId": "27a15808-3828-4e11-dd0b-33fe670cb1ee"
      },
      "source": [
        "##pip install chart_studio"
      ],
      "execution_count": null,
      "outputs": [
        {
          "output_type": "stream",
          "text": [
            "Requirement already satisfied: chart_studio in /usr/local/lib/python3.7/dist-packages (1.1.0)\n",
            "Requirement already satisfied: plotly in /usr/local/lib/python3.7/dist-packages (from chart_studio) (4.4.1)\n",
            "Requirement already satisfied: six in /usr/local/lib/python3.7/dist-packages (from chart_studio) (1.15.0)\n",
            "Requirement already satisfied: retrying>=1.3.3 in /usr/local/lib/python3.7/dist-packages (from chart_studio) (1.3.3)\n",
            "Requirement already satisfied: requests in /usr/local/lib/python3.7/dist-packages (from chart_studio) (2.23.0)\n",
            "Requirement already satisfied: idna<3,>=2.5 in /usr/local/lib/python3.7/dist-packages (from requests->chart_studio) (2.10)\n",
            "Requirement already satisfied: urllib3!=1.25.0,!=1.25.1,<1.26,>=1.21.1 in /usr/local/lib/python3.7/dist-packages (from requests->chart_studio) (1.24.3)\n",
            "Requirement already satisfied: certifi>=2017.4.17 in /usr/local/lib/python3.7/dist-packages (from requests->chart_studio) (2020.12.5)\n",
            "Requirement already satisfied: chardet<4,>=3.0.2 in /usr/local/lib/python3.7/dist-packages (from requests->chart_studio) (3.0.4)\n"
          ],
          "name": "stdout"
        }
      ]
    },
    {
      "cell_type": "code",
      "metadata": {
        "id": "8sRz5ww8R-OZ"
      },
      "source": [
        "# importing libaries:\n",
        "\n",
        "# basic libraries\n",
        "import pandas as pd\n",
        "import numpy as np\n",
        "import matplotlib.pyplot as plt\n",
        "import seaborn as sns\n",
        "\n",
        "# Hyperparameter tuning libraries\n",
        "from sklearn.model_selection import train_test_split, GridSearchCV, RandomizedSearchCV, RepeatedStratifiedKFold\n",
        "from sklearn.preprocessing import OneHotEncoder, OrdinalEncoder\n",
        "from sklearn.model_selection import cross_val_score, KFold, StratifiedKFold\n",
        "from scipy.stats import loguniform, randint, uniform\n",
        "\n",
        "# specific libraries\n",
        "import nltk # natural language toolkit\n",
        "from sklearn.feature_extraction.text import TfidfVectorizer\n",
        "from sklearn.metrics.pairwise import cosine_similarity\n",
        "from sklearn.feature_extraction.text import CountVectorizer\n",
        "import textdistance # Jaro-Winkler string distance\n",
        "import Levenshtein # distance measure for strings\n",
        "##from sklearn.metrics.pairwise import linear_kernel \n",
        "##from rake_nltk import Rake # Rapid automatic keyword extraction (RAKE)\n",
        "\n",
        "\n"
      ],
      "execution_count": 3,
      "outputs": []
    },
    {
      "cell_type": "markdown",
      "metadata": {
        "id": "2zF-HJhwUM57"
      },
      "source": [
        "## Reading in the data"
      ]
    },
    {
      "cell_type": "code",
      "metadata": {
        "colab": {
          "resources": {
            "http://localhost:8080/nbextensions/google.colab/files.js": {
              "data": "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",
              "ok": true,
              "headers": [
                [
                  "content-type",
                  "application/javascript"
                ]
              ],
              "status": 200,
              "status_text": "OK"
            }
          },
          "base_uri": "https://localhost:8080/",
          "height": 73
        },
        "id": "kvYR08EJZvm9",
        "outputId": "f4071c1f-5c51-49de-a69e-ba3c8be8ec01"
      },
      "source": [
        "## Way 2: uploading the local data to google colab\n",
        "# importing local data to google colab:\n",
        "from google.colab import files\n",
        "uploaded = files.upload()"
      ],
      "execution_count": 4,
      "outputs": [
        {
          "output_type": "display_data",
          "data": {
            "text/html": [
              "\n",
              "     <input type=\"file\" id=\"files-613aedb1-729b-489c-869b-1329abd01a8e\" name=\"files[]\" multiple disabled\n",
              "        style=\"border:none\" />\n",
              "     <output id=\"result-613aedb1-729b-489c-869b-1329abd01a8e\">\n",
              "      Upload widget is only available when the cell has been executed in the\n",
              "      current browser session. Please rerun this cell to enable.\n",
              "      </output>\n",
              "      <script src=\"/nbextensions/google.colab/files.js\"></script> "
            ],
            "text/plain": [
              "<IPython.core.display.HTML object>"
            ]
          },
          "metadata": {
            "tags": []
          }
        },
        {
          "output_type": "stream",
          "text": [
            "Saving evaluation.csv to evaluation.csv\n"
          ],
          "name": "stdout"
        }
      ]
    },
    {
      "cell_type": "code",
      "metadata": {
        "colab": {
          "resources": {
            "http://localhost:8080/nbextensions/google.colab/files.js": {
              "data": "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",
              "ok": true,
              "headers": [
                [
                  "content-type",
                  "application/javascript"
                ]
              ],
              "status": 200,
              "status_text": "OK"
            }
          },
          "base_uri": "https://localhost:8080/",
          "height": 73
        },
        "id": "bWq1Nfv1aU32",
        "outputId": "83ec2e94-9f1c-4d99-c38a-c33e92b4a76c"
      },
      "source": [
        "## Way 2: uploading the local data to google colab\n",
        "# importing local data to google colab:\n",
        "from google.colab import files\n",
        "uploaded = files.upload()"
      ],
      "execution_count": 5,
      "outputs": [
        {
          "output_type": "display_data",
          "data": {
            "text/html": [
              "\n",
              "     <input type=\"file\" id=\"files-18fd5577-e533-4528-acb8-90eff80758b7\" name=\"files[]\" multiple disabled\n",
              "        style=\"border:none\" />\n",
              "     <output id=\"result-18fd5577-e533-4528-acb8-90eff80758b7\">\n",
              "      Upload widget is only available when the cell has been executed in the\n",
              "      current browser session. Please rerun this cell to enable.\n",
              "      </output>\n",
              "      <script src=\"/nbextensions/google.colab/files.js\"></script> "
            ],
            "text/plain": [
              "<IPython.core.display.HTML object>"
            ]
          },
          "metadata": {
            "tags": []
          }
        },
        {
          "output_type": "stream",
          "text": [
            "Saving items.csv to items.csv\n"
          ],
          "name": "stdout"
        }
      ]
    },
    {
      "cell_type": "code",
      "metadata": {
        "colab": {
          "resources": {
            "http://localhost:8080/nbextensions/google.colab/files.js": {
              "data": "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",
              "ok": true,
              "headers": [
                [
                  "content-type",
                  "application/javascript"
                ]
              ],
              "status": 200,
              "status_text": "OK"
            }
          },
          "base_uri": "https://localhost:8080/",
          "height": 73
        },
        "id": "uZDNacsNaYY0",
        "outputId": "82184104-f334-45ac-9f87-b595b256e4a1"
      },
      "source": [
        "## Way 2: uploading the local data to google colab\n",
        "# importing local data to google colab:\n",
        "from google.colab import files\n",
        "uploaded = files.upload()"
      ],
      "execution_count": 6,
      "outputs": [
        {
          "output_type": "display_data",
          "data": {
            "text/html": [
              "\n",
              "     <input type=\"file\" id=\"files-f7378be9-b5f5-46f0-b674-e4c60f0e6454\" name=\"files[]\" multiple disabled\n",
              "        style=\"border:none\" />\n",
              "     <output id=\"result-f7378be9-b5f5-46f0-b674-e4c60f0e6454\">\n",
              "      Upload widget is only available when the cell has been executed in the\n",
              "      current browser session. Please rerun this cell to enable.\n",
              "      </output>\n",
              "      <script src=\"/nbextensions/google.colab/files.js\"></script> "
            ],
            "text/plain": [
              "<IPython.core.display.HTML object>"
            ]
          },
          "metadata": {
            "tags": []
          }
        },
        {
          "output_type": "stream",
          "text": [
            "Saving transactions.csv to transactions.csv\n"
          ],
          "name": "stdout"
        }
      ]
    },
    {
      "cell_type": "markdown",
      "metadata": {
        "id": "Um0WOJwM7CYG"
      },
      "source": [
        "# Exploratory Data Analysis\n"
      ]
    },
    {
      "cell_type": "markdown",
      "metadata": {
        "id": "octMC57O8_qv"
      },
      "source": [
        "https://towardsdatascience.com/exploratory-data-analysis-8fc1cb20fd15https://towardsdatascience.com/exploratory-data-analysis-8fc1cb20fd15"
      ]
    },
    {
      "cell_type": "markdown",
      "metadata": {
        "id": "o-4v_pv8VzOc"
      },
      "source": [
        "Reading in the provided csv data files"
      ]
    },
    {
      "cell_type": "code",
      "metadata": {
        "id": "MWqlFi1UUMV9"
      },
      "source": [
        "eval_df = pd.read_csv(\"evaluation.csv\", sep =\";\")"
      ],
      "execution_count": 7,
      "outputs": []
    },
    {
      "cell_type": "code",
      "metadata": {
        "id": "2uhOi7olaQ3Q"
      },
      "source": [
        "items_df = pd.read_csv(\"items.csv\", sep =\"|\")"
      ],
      "execution_count": 8,
      "outputs": []
    },
    {
      "cell_type": "code",
      "metadata": {
        "id": "A9AVWGEuaplx"
      },
      "source": [
        "transactions_df = pd.read_csv(\"transactions.csv\", sep =\"|\")"
      ],
      "execution_count": 9,
      "outputs": []
    },
    {
      "cell_type": "code",
      "metadata": {
        "colab": {
          "base_uri": "https://localhost:8080/",
          "height": 206
        },
        "id": "j4mnmjDAaQ-F",
        "outputId": "557b2d69-f6e0-4b3e-b0e1-dfad7e79d07e"
      },
      "source": [
        "eval_df.head()"
      ],
      "execution_count": null,
      "outputs": [
        {
          "output_type": "execute_result",
          "data": {
            "text/html": [
              "<div>\n",
              "<style scoped>\n",
              "    .dataframe tbody tr th:only-of-type {\n",
              "        vertical-align: middle;\n",
              "    }\n",
              "\n",
              "    .dataframe tbody tr th {\n",
              "        vertical-align: top;\n",
              "    }\n",
              "\n",
              "    .dataframe thead th {\n",
              "        text-align: right;\n",
              "    }\n",
              "</style>\n",
              "<table border=\"1\" class=\"dataframe\">\n",
              "  <thead>\n",
              "    <tr style=\"text-align: right;\">\n",
              "      <th></th>\n",
              "      <th>itemID</th>\n",
              "    </tr>\n",
              "  </thead>\n",
              "  <tbody>\n",
              "    <tr>\n",
              "      <th>0</th>\n",
              "      <td>12</td>\n",
              "    </tr>\n",
              "    <tr>\n",
              "      <th>1</th>\n",
              "      <td>45274</td>\n",
              "    </tr>\n",
              "    <tr>\n",
              "      <th>2</th>\n",
              "      <td>10104</td>\n",
              "    </tr>\n",
              "    <tr>\n",
              "      <th>3</th>\n",
              "      <td>41371</td>\n",
              "    </tr>\n",
              "    <tr>\n",
              "      <th>4</th>\n",
              "      <td>14015</td>\n",
              "    </tr>\n",
              "  </tbody>\n",
              "</table>\n",
              "</div>"
            ],
            "text/plain": [
              "   itemID\n",
              "0      12\n",
              "1   45274\n",
              "2   10104\n",
              "3   41371\n",
              "4   14015"
            ]
          },
          "metadata": {
            "tags": []
          },
          "execution_count": 14
        }
      ]
    },
    {
      "cell_type": "code",
      "metadata": {
        "colab": {
          "base_uri": "https://localhost:8080/"
        },
        "id": "Qk5Vmr_ObVMa",
        "outputId": "85c02334-da12-42ca-faa5-2537aff4a578"
      },
      "source": [
        "eval_df.shape"
      ],
      "execution_count": null,
      "outputs": [
        {
          "output_type": "execute_result",
          "data": {
            "text/plain": [
              "(1000, 1)"
            ]
          },
          "metadata": {
            "tags": []
          },
          "execution_count": 15
        }
      ]
    },
    {
      "cell_type": "code",
      "metadata": {
        "colab": {
          "base_uri": "https://localhost:8080/",
          "height": 206
        },
        "id": "4Jm7AchGcAVs",
        "outputId": "36fc1867-f84b-4100-afe1-d450e2778c01"
      },
      "source": [
        "items_df.head()"
      ],
      "execution_count": null,
      "outputs": [
        {
          "output_type": "execute_result",
          "data": {
            "text/html": [
              "<div>\n",
              "<style scoped>\n",
              "    .dataframe tbody tr th:only-of-type {\n",
              "        vertical-align: middle;\n",
              "    }\n",
              "\n",
              "    .dataframe tbody tr th {\n",
              "        vertical-align: top;\n",
              "    }\n",
              "\n",
              "    .dataframe thead th {\n",
              "        text-align: right;\n",
              "    }\n",
              "</style>\n",
              "<table border=\"1\" class=\"dataframe\">\n",
              "  <thead>\n",
              "    <tr style=\"text-align: right;\">\n",
              "      <th></th>\n",
              "      <th>itemID</th>\n",
              "      <th>title</th>\n",
              "      <th>author</th>\n",
              "      <th>publisher</th>\n",
              "      <th>main topic</th>\n",
              "      <th>subtopics</th>\n",
              "    </tr>\n",
              "  </thead>\n",
              "  <tbody>\n",
              "    <tr>\n",
              "      <th>0</th>\n",
              "      <td>21310</td>\n",
              "      <td>Princess Poppy: The Big Mix Up</td>\n",
              "      <td>Janey Louise Jones</td>\n",
              "      <td>Penguin Random House Children's UK</td>\n",
              "      <td>YFB</td>\n",
              "      <td>[5AH]</td>\n",
              "    </tr>\n",
              "    <tr>\n",
              "      <th>1</th>\n",
              "      <td>73018</td>\n",
              "      <td>Einfach zeichnen! Step by Step</td>\n",
              "      <td>Wiebke Krabbe</td>\n",
              "      <td>Schwager und Steinlein</td>\n",
              "      <td>AGZ</td>\n",
              "      <td>[5AJ,AGZ,WFA,YBG,YBL,YNA,YPA]</td>\n",
              "    </tr>\n",
              "    <tr>\n",
              "      <th>2</th>\n",
              "      <td>19194</td>\n",
              "      <td>Red Queen 1</td>\n",
              "      <td>Victoria Aveyard</td>\n",
              "      <td>Orion Publishing Group</td>\n",
              "      <td>YFH</td>\n",
              "      <td>[5AP,FBA]</td>\n",
              "    </tr>\n",
              "    <tr>\n",
              "      <th>3</th>\n",
              "      <td>40250</td>\n",
              "      <td>Meine Kindergarten-Freunde (Pirat)</td>\n",
              "      <td>NaN</td>\n",
              "      <td>Ars Edition GmbH</td>\n",
              "      <td>YB</td>\n",
              "      <td>[5AC,5AD,YBG,YBL,YF]</td>\n",
              "    </tr>\n",
              "    <tr>\n",
              "      <th>4</th>\n",
              "      <td>46107</td>\n",
              "      <td>Mein großes Schablonen-Buch - Wilde Tiere</td>\n",
              "      <td>Elizabeth Golding</td>\n",
              "      <td>Edition Michael Fischer</td>\n",
              "      <td>WFTM</td>\n",
              "      <td>[WD,WFTM,YBG,YBL,YBLD,YBLN1]</td>\n",
              "    </tr>\n",
              "  </tbody>\n",
              "</table>\n",
              "</div>"
            ],
            "text/plain": [
              "   itemID  ...                      subtopics\n",
              "0   21310  ...                          [5AH]\n",
              "1   73018  ...  [5AJ,AGZ,WFA,YBG,YBL,YNA,YPA]\n",
              "2   19194  ...                      [5AP,FBA]\n",
              "3   40250  ...           [5AC,5AD,YBG,YBL,YF]\n",
              "4   46107  ...   [WD,WFTM,YBG,YBL,YBLD,YBLN1]\n",
              "\n",
              "[5 rows x 6 columns]"
            ]
          },
          "metadata": {
            "tags": []
          },
          "execution_count": 71
        }
      ]
    },
    {
      "cell_type": "code",
      "metadata": {
        "colab": {
          "base_uri": "https://localhost:8080/"
        },
        "id": "hSq18GjncAdp",
        "outputId": "a5cedf2e-343a-4abf-8080-daa827edfc4e"
      },
      "source": [
        "items_df.shape"
      ],
      "execution_count": null,
      "outputs": [
        {
          "output_type": "execute_result",
          "data": {
            "text/plain": [
              "(78030, 6)"
            ]
          },
          "metadata": {
            "tags": []
          },
          "execution_count": 10
        }
      ]
    },
    {
      "cell_type": "markdown",
      "metadata": {
        "id": "UPU5arClQg_8"
      },
      "source": [
        "**Levenshtein Distance**: The distance value describes the minimal number of deletions, insertions, or substitutions that are required to transform one string (the source) into another (the target). The Levenshtein Distance also works on strings of unequal length\n",
        "\n",
        "https://stackabuse.com/levenshtein-distance-and-text-similarity-in-python/"
      ]
    },
    {
      "cell_type": "code",
      "metadata": {
        "colab": {
          "base_uri": "https://localhost:8080/"
        },
        "id": "W_CF9b6JPTsx",
        "outputId": "5049aa90-88a9-4750-8d5e-212d5aa89182"
      },
      "source": [
        "# testing levenshtein distance metric on main topic\n",
        "print(items_df[\"main topic\"][0], items_df[\"main topic\"][2])"
      ],
      "execution_count": null,
      "outputs": [
        {
          "output_type": "stream",
          "text": [
            "YFB YFH\n"
          ],
          "name": "stdout"
        }
      ]
    },
    {
      "cell_type": "code",
      "metadata": {
        "colab": {
          "base_uri": "https://localhost:8080/"
        },
        "id": "-clvhZhIOW4l",
        "outputId": "63cf71b0-cb92-4296-d659-1b7e2ec99685"
      },
      "source": [
        "Levenshtein.distance(items_df[\"main topic\"][0],items_df[\"main topic\"][2])"
      ],
      "execution_count": null,
      "outputs": [
        {
          "output_type": "execute_result",
          "data": {
            "text/plain": [
              "1"
            ]
          },
          "metadata": {
            "tags": []
          },
          "execution_count": 10
        }
      ]
    },
    {
      "cell_type": "code",
      "metadata": {
        "colab": {
          "base_uri": "https://localhost:8080/"
        },
        "id": "-66OhWZ4QLEZ",
        "outputId": "4958fb9f-a3aa-4eb8-cd89-51ef17949921"
      },
      "source": [
        "# test 2 levenshtein distance \n",
        "print(items_df[\"main topic\"][0], items_df[\"main topic\"][3])"
      ],
      "execution_count": null,
      "outputs": [
        {
          "output_type": "stream",
          "text": [
            "YFB YB\n"
          ],
          "name": "stdout"
        }
      ]
    },
    {
      "cell_type": "code",
      "metadata": {
        "colab": {
          "base_uri": "https://localhost:8080/"
        },
        "id": "tKZykyHSQLHM",
        "outputId": "22759561-f1f3-4024-d035-42d8fb7f7c58"
      },
      "source": [
        "Levenshtein.distance(items_df[\"main topic\"][0],items_df[\"main topic\"][3])"
      ],
      "execution_count": null,
      "outputs": [
        {
          "output_type": "execute_result",
          "data": {
            "text/plain": [
              "1"
            ]
          },
          "metadata": {
            "tags": []
          },
          "execution_count": 12
        }
      ]
    },
    {
      "cell_type": "markdown",
      "metadata": {
        "id": "aCzF3S0838J4"
      },
      "source": [
        "**Jaro-Winkler string distance**  \n",
        "\n",
        "The Jaro algorithm is a measure of characters in common, being no more than half the length of the longer string in distance, with consideration for transpositions. Winkler modified this algorithm to support the idea that differences near the start of the string are more significant than differences near the end of the string. Jaro and Jaro-Winkler are suited for comparing smaller strings like words and names."
      ]
    },
    {
      "cell_type": "markdown",
      "metadata": {
        "id": "2GfbGbAgAxS1"
      },
      "source": [
        "![Screen Shot 2021-05-07 at 3.26.22 PM.png](data:image/png;base64,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)"
      ]
    },
    {
      "cell_type": "code",
      "metadata": {
        "colab": {
          "base_uri": "https://localhost:8080/"
        },
        "id": "p1xRYKjE-Dhb",
        "outputId": "960fc6b7-a5ea-453c-fe18-535522b94ced"
      },
      "source": [
        "# Jaro winkler distance; prefix weight of 0.5\n",
        "Levenshtein.jaro_winkler(\"Y\",\"YB\", 0.5)"
      ],
      "execution_count": null,
      "outputs": [
        {
          "output_type": "execute_result",
          "data": {
            "text/plain": [
              "0.9166666666666667"
            ]
          },
          "metadata": {
            "tags": []
          },
          "execution_count": 66
        }
      ]
    },
    {
      "cell_type": "code",
      "metadata": {
        "colab": {
          "base_uri": "https://localhost:8080/"
        },
        "id": "JdmBThPB-Tfr",
        "outputId": "7d42c8a4-29f7-4652-c0f4-1ca5667d99de"
      },
      "source": [
        "Levenshtein.jaro_winkler(\"Y\",\"YBC\", 0.5)"
      ],
      "execution_count": null,
      "outputs": [
        {
          "output_type": "execute_result",
          "data": {
            "text/plain": [
              "0.8888888888888888"
            ]
          },
          "metadata": {
            "tags": []
          },
          "execution_count": 67
        }
      ]
    },
    {
      "cell_type": "code",
      "metadata": {
        "colab": {
          "base_uri": "https://localhost:8080/"
        },
        "id": "C0NTfmGaBoXy",
        "outputId": "8304d05e-57a5-462c-f132-b80eb568edd1"
      },
      "source": [
        "Levenshtein.jaro_winkler(\"YB\",\"YBC\", 0.5)"
      ],
      "execution_count": null,
      "outputs": [
        {
          "output_type": "execute_result",
          "data": {
            "text/plain": [
              "1.0"
            ]
          },
          "metadata": {
            "tags": []
          },
          "execution_count": 68
        }
      ]
    },
    {
      "cell_type": "code",
      "metadata": {
        "colab": {
          "base_uri": "https://localhost:8080/"
        },
        "id": "J7BgqaLq-s10",
        "outputId": "d44f38e0-93f6-4383-dab3-04ef6b67a219"
      },
      "source": [
        "Levenshtein.jaro_winkler(\"Y\",\"Q\", 0.5)"
      ],
      "execution_count": null,
      "outputs": [
        {
          "output_type": "execute_result",
          "data": {
            "text/plain": [
              "0.0"
            ]
          },
          "metadata": {
            "tags": []
          },
          "execution_count": 69
        }
      ]
    },
    {
      "cell_type": "code",
      "metadata": {
        "colab": {
          "base_uri": "https://localhost:8080/"
        },
        "id": "k810RZHACQwQ",
        "outputId": "e2656191-e386-4173-cfdb-0d224ce19fc6"
      },
      "source": [
        "Levenshtein.jaro_winkler(\"ABC\",\"YBC\", 0.5)"
      ],
      "execution_count": null,
      "outputs": [
        {
          "output_type": "execute_result",
          "data": {
            "text/plain": [
              "0.7777777777777777"
            ]
          },
          "metadata": {
            "tags": []
          },
          "execution_count": 70
        }
      ]
    },
    {
      "cell_type": "markdown",
      "metadata": {
        "id": "BY0FJpWnNPtK"
      },
      "source": [
        "loop attempt 1"
      ]
    },
    {
      "cell_type": "markdown",
      "metadata": {
        "id": "NZ3sPo894mZf"
      },
      "source": [
        "```\n",
        "import pandas\n",
        "import Levenshtein\n",
        "\n",
        "df1 = pandas.DataFrame({\"text\": [\"hello world\", \"world hello\"], \"id\": [11, 31]})\n",
        "df2 = pandas.DataFrame({\"test\": [\"hello\", \"world\", \"hello word\"], \"id\": [13, 11, 12]})\n",
        "\n",
        "# Create all possible combinations by joining the dataframes on a fictional key\n",
        "df1[\"key\"] = 0\n",
        "df2[\"key\"] = 0\n",
        "df = df1.merge(df2, on=\"key\").drop(columns=[\"key\"])\n",
        "\n",
        "# Calculate the distances for all possible combinations\n",
        "df[\"distance\"] = df.apply(lambda row: Levenshtein.ratio(str(row[\"text\"]), str(row[\"test\"])), axis=1)\n",
        "\n",
        "# Use the distances as a filter\n",
        "df1.loc[df1[\"id\"].isin(df.loc[df[\"distance\"] < 0.9, \"id_x\"])]\n",
        "\n",
        "```\n",
        "\n"
      ]
    },
    {
      "cell_type": "code",
      "metadata": {
        "colab": {
          "base_uri": "https://localhost:8080/"
        },
        "id": "xWC9KYrfD3m1",
        "outputId": "efc0d4a2-07d8-44ec-8d1d-9288a077bf5c"
      },
      "source": [
        "# number of unique main topic codes\n",
        "items_df[\"main topic\"].nunique()"
      ],
      "execution_count": null,
      "outputs": [
        {
          "output_type": "execute_result",
          "data": {
            "text/plain": [
              "699"
            ]
          },
          "metadata": {
            "tags": []
          },
          "execution_count": 75
        }
      ]
    },
    {
      "cell_type": "code",
      "metadata": {
        "id": "Y2rz79j-EKCr"
      },
      "source": [
        "##items_df[\"main topic\"].unique()"
      ],
      "execution_count": null,
      "outputs": []
    },
    {
      "cell_type": "code",
      "metadata": {
        "id": "RazmksZONPFk",
        "colab": {
          "base_uri": "https://localhost:8080/",
          "height": 424
        },
        "outputId": "d06493c3-d4da-4bde-8e6c-2e6c5fbecac7"
      },
      "source": [
        "df1 = pd.DataFrame(items_df[\"main topic\"].unique())\n",
        "df2 = pd.DataFrame(items_df[\"main topic\"].unique())\n",
        " \n",
        "# Create all possible combinations by joining the dataframes on a fictional key\n",
        "df1[\"key\"] = 0\n",
        "df2[\"key\"] = 0\n",
        "df = df1.merge(df2, on=\"key\").drop(columns=[\"key\"])\n",
        " \n",
        "df"
      ],
      "execution_count": null,
      "outputs": [
        {
          "output_type": "execute_result",
          "data": {
            "text/html": [
              "<div>\n",
              "<style scoped>\n",
              "    .dataframe tbody tr th:only-of-type {\n",
              "        vertical-align: middle;\n",
              "    }\n",
              "\n",
              "    .dataframe tbody tr th {\n",
              "        vertical-align: top;\n",
              "    }\n",
              "\n",
              "    .dataframe thead th {\n",
              "        text-align: right;\n",
              "    }\n",
              "</style>\n",
              "<table border=\"1\" class=\"dataframe\">\n",
              "  <thead>\n",
              "    <tr style=\"text-align: right;\">\n",
              "      <th></th>\n",
              "      <th>0_x</th>\n",
              "      <th>0_y</th>\n",
              "    </tr>\n",
              "  </thead>\n",
              "  <tbody>\n",
              "    <tr>\n",
              "      <th>0</th>\n",
              "      <td>YFB</td>\n",
              "      <td>YFB</td>\n",
              "    </tr>\n",
              "    <tr>\n",
              "      <th>1</th>\n",
              "      <td>YFB</td>\n",
              "      <td>AGZ</td>\n",
              "    </tr>\n",
              "    <tr>\n",
              "      <th>2</th>\n",
              "      <td>YFB</td>\n",
              "      <td>YFH</td>\n",
              "    </tr>\n",
              "    <tr>\n",
              "      <th>3</th>\n",
              "      <td>YFB</td>\n",
              "      <td>YB</td>\n",
              "    </tr>\n",
              "    <tr>\n",
              "      <th>4</th>\n",
              "      <td>YFB</td>\n",
              "      <td>WFTM</td>\n",
              "    </tr>\n",
              "    <tr>\n",
              "      <th>...</th>\n",
              "      <td>...</td>\n",
              "      <td>...</td>\n",
              "    </tr>\n",
              "    <tr>\n",
              "      <th>489995</th>\n",
              "      <td>YBD</td>\n",
              "      <td>YPAD</td>\n",
              "    </tr>\n",
              "    <tr>\n",
              "      <th>489996</th>\n",
              "      <td>YBD</td>\n",
              "      <td>WNCF</td>\n",
              "    </tr>\n",
              "    <tr>\n",
              "      <th>489997</th>\n",
              "      <td>YBD</td>\n",
              "      <td>TJFM1</td>\n",
              "    </tr>\n",
              "    <tr>\n",
              "      <th>489998</th>\n",
              "      <td>YBD</td>\n",
              "      <td>JPFF</td>\n",
              "    </tr>\n",
              "    <tr>\n",
              "      <th>489999</th>\n",
              "      <td>YBD</td>\n",
              "      <td>YBD</td>\n",
              "    </tr>\n",
              "  </tbody>\n",
              "</table>\n",
              "<p>490000 rows × 2 columns</p>\n",
              "</div>"
            ],
            "text/plain": [
              "        0_x    0_y\n",
              "0       YFB    YFB\n",
              "1       YFB    AGZ\n",
              "2       YFB    YFH\n",
              "3       YFB     YB\n",
              "4       YFB   WFTM\n",
              "...     ...    ...\n",
              "489995  YBD   YPAD\n",
              "489996  YBD   WNCF\n",
              "489997  YBD  TJFM1\n",
              "489998  YBD   JPFF\n",
              "489999  YBD    YBD\n",
              "\n",
              "[490000 rows x 2 columns]"
            ]
          },
          "metadata": {
            "tags": []
          },
          "execution_count": 78
        }
      ]
    },
    {
      "cell_type": "code",
      "metadata": {
        "id": "YfyizAuyEnRj"
      },
      "source": [
        "# Calculate the distances for all possible combinations\n",
        "df[\"distance\"] = df.apply(lambda row: Levenshtein.jaro_winkler(str(row[\"0_x\"]), str(row[\"0_y\"]),0.4), axis=1)\n",
        " \n",
        "# Use the distances as a filter\n",
        "##df1.loc[df1[\"id\"].isin(df.loc[df[\"distance\"] >= 0.8, \"id_x\"])]\n"
      ],
      "execution_count": null,
      "outputs": []
    },
    {
      "cell_type": "code",
      "metadata": {
        "colab": {
          "base_uri": "https://localhost:8080/",
          "height": 677
        },
        "id": "fABNzDWBGMAg",
        "outputId": "05f67732-58c0-4049-c958-e8ec25f333b4"
      },
      "source": [
        "df.head(n=20)"
      ],
      "execution_count": null,
      "outputs": [
        {
          "output_type": "execute_result",
          "data": {
            "text/html": [
              "<div>\n",
              "<style scoped>\n",
              "    .dataframe tbody tr th:only-of-type {\n",
              "        vertical-align: middle;\n",
              "    }\n",
              "\n",
              "    .dataframe tbody tr th {\n",
              "        vertical-align: top;\n",
              "    }\n",
              "\n",
              "    .dataframe thead th {\n",
              "        text-align: right;\n",
              "    }\n",
              "</style>\n",
              "<table border=\"1\" class=\"dataframe\">\n",
              "  <thead>\n",
              "    <tr style=\"text-align: right;\">\n",
              "      <th></th>\n",
              "      <th>0_x</th>\n",
              "      <th>0_y</th>\n",
              "      <th>distance</th>\n",
              "    </tr>\n",
              "  </thead>\n",
              "  <tbody>\n",
              "    <tr>\n",
              "      <th>0</th>\n",
              "      <td>YFB</td>\n",
              "      <td>YFB</td>\n",
              "      <td>1.000000</td>\n",
              "    </tr>\n",
              "    <tr>\n",
              "      <th>1</th>\n",
              "      <td>YFB</td>\n",
              "      <td>AGZ</td>\n",
              "      <td>0.000000</td>\n",
              "    </tr>\n",
              "    <tr>\n",
              "      <th>2</th>\n",
              "      <td>YFB</td>\n",
              "      <td>YFH</td>\n",
              "      <td>0.955556</td>\n",
              "    </tr>\n",
              "    <tr>\n",
              "      <th>3</th>\n",
              "      <td>YFB</td>\n",
              "      <td>YB</td>\n",
              "      <td>0.933333</td>\n",
              "    </tr>\n",
              "    <tr>\n",
              "      <th>4</th>\n",
              "      <td>YFB</td>\n",
              "      <td>WFTM</td>\n",
              "      <td>0.527778</td>\n",
              "    </tr>\n",
              "    <tr>\n",
              "      <th>5</th>\n",
              "      <td>YFB</td>\n",
              "      <td>FMR</td>\n",
              "      <td>0.555556</td>\n",
              "    </tr>\n",
              "    <tr>\n",
              "      <th>6</th>\n",
              "      <td>YFB</td>\n",
              "      <td>YBG</td>\n",
              "      <td>0.866667</td>\n",
              "    </tr>\n",
              "    <tr>\n",
              "      <th>7</th>\n",
              "      <td>YFB</td>\n",
              "      <td>YFE</td>\n",
              "      <td>0.955556</td>\n",
              "    </tr>\n",
              "    <tr>\n",
              "      <th>8</th>\n",
              "      <td>YFB</td>\n",
              "      <td>YZG</td>\n",
              "      <td>0.733333</td>\n",
              "    </tr>\n",
              "    <tr>\n",
              "      <th>9</th>\n",
              "      <td>YFB</td>\n",
              "      <td>FMB</td>\n",
              "      <td>0.777778</td>\n",
              "    </tr>\n",
              "    <tr>\n",
              "      <th>10</th>\n",
              "      <td>YFB</td>\n",
              "      <td>YNV</td>\n",
              "      <td>0.733333</td>\n",
              "    </tr>\n",
              "    <tr>\n",
              "      <th>11</th>\n",
              "      <td>YFB</td>\n",
              "      <td>YNWD1</td>\n",
              "      <td>0.706667</td>\n",
              "    </tr>\n",
              "    <tr>\n",
              "      <th>12</th>\n",
              "      <td>YFB</td>\n",
              "      <td>YNVP</td>\n",
              "      <td>0.716667</td>\n",
              "    </tr>\n",
              "    <tr>\n",
              "      <th>13</th>\n",
              "      <td>YFB</td>\n",
              "      <td>YXHL</td>\n",
              "      <td>0.716667</td>\n",
              "    </tr>\n",
              "    <tr>\n",
              "      <th>14</th>\n",
              "      <td>YFB</td>\n",
              "      <td>YBCS</td>\n",
              "      <td>0.833333</td>\n",
              "    </tr>\n",
              "    <tr>\n",
              "      <th>15</th>\n",
              "      <td>YFB</td>\n",
              "      <td>ATDH</td>\n",
              "      <td>0.000000</td>\n",
              "    </tr>\n",
              "    <tr>\n",
              "      <th>16</th>\n",
              "      <td>YFB</td>\n",
              "      <td>YFHR</td>\n",
              "      <td>0.944444</td>\n",
              "    </tr>\n",
              "    <tr>\n",
              "      <th>17</th>\n",
              "      <td>YFB</td>\n",
              "      <td>FRD</td>\n",
              "      <td>0.555556</td>\n",
              "    </tr>\n",
              "    <tr>\n",
              "      <th>18</th>\n",
              "      <td>YFB</td>\n",
              "      <td>YBLD</td>\n",
              "      <td>0.833333</td>\n",
              "    </tr>\n",
              "    <tr>\n",
              "      <th>19</th>\n",
              "      <td>YFB</td>\n",
              "      <td>YBL</td>\n",
              "      <td>0.866667</td>\n",
              "    </tr>\n",
              "  </tbody>\n",
              "</table>\n",
              "</div>"
            ],
            "text/plain": [
              "    0_x    0_y  distance\n",
              "0   YFB    YFB  1.000000\n",
              "1   YFB    AGZ  0.000000\n",
              "2   YFB    YFH  0.955556\n",
              "3   YFB     YB  0.933333\n",
              "4   YFB   WFTM  0.527778\n",
              "5   YFB    FMR  0.555556\n",
              "6   YFB    YBG  0.866667\n",
              "7   YFB    YFE  0.955556\n",
              "8   YFB    YZG  0.733333\n",
              "9   YFB    FMB  0.777778\n",
              "10  YFB    YNV  0.733333\n",
              "11  YFB  YNWD1  0.706667\n",
              "12  YFB   YNVP  0.716667\n",
              "13  YFB   YXHL  0.716667\n",
              "14  YFB   YBCS  0.833333\n",
              "15  YFB   ATDH  0.000000\n",
              "16  YFB   YFHR  0.944444\n",
              "17  YFB    FRD  0.555556\n",
              "18  YFB   YBLD  0.833333\n",
              "19  YFB    YBL  0.866667"
            ]
          },
          "metadata": {
            "tags": []
          },
          "execution_count": 100
        }
      ]
    },
    {
      "cell_type": "markdown",
      "metadata": {
        "id": "d18dqSk3NE_H"
      },
      "source": [
        "Custom Approach"
      ]
    },
    {
      "cell_type": "markdown",
      "metadata": {
        "id": "k4PeQd0uNOuQ"
      },
      "source": [
        "https://medium.com/@d_dchris/10-methods-to-solve-the-longest-common-prefix-problem-using-python-leetcode-14-a87bb3eb0f3a\n"
      ]
    },
    {
      "cell_type": "code",
      "metadata": {
        "id": "4Q2Eo2aKOiFs"
      },
      "source": [
        "# dataframe to represent all main topic code combinations\n",
        "df1 = pd.DataFrame(items_df[\"main topic\"].unique())\n",
        "df2 = pd.DataFrame(items_df[\"main topic\"].unique())\n",
        " \n",
        "# Create all possible combinations by joining the dataframes on a fictional key\n",
        "df1[\"key\"] = 0\n",
        "df2[\"key\"] = 0\n",
        "df = df1.merge(df2, on=\"key\").drop(columns=[\"key\"])\n",
        " \n",
        "df"
      ],
      "execution_count": null,
      "outputs": []
    },
    {
      "cell_type": "code",
      "metadata": {
        "id": "Oq-iPu0NN4WV"
      },
      "source": [
        "# custom longest common prefix function\n",
        "def longestCommonPrefix(strs):\n",
        "    longest_pre = \"\"\n",
        "    if not strs: \n",
        "      return longest_pre\n",
        "    shortest_str = min(strs, key=len)\n",
        "    for i in range(len(shortest_str)):\n",
        "        if all([x.startswith(shortest_str[:i+1]) for x in strs]):\n",
        "            longest_pre = shortest_str[:i+1]\n",
        "        else:\n",
        "            break\n",
        "    return longest_pre"
      ],
      "execution_count": null,
      "outputs": []
    },
    {
      "cell_type": "code",
      "metadata": {
        "id": "ob5AwxmfNI9G"
      },
      "source": [
        "# Calculate length of the common prefixes for all possible combinations of main topic codes\n",
        "df[\"longest_common_prefix\"] = df.apply(lambda row: len(longestCommonPrefix([str(row[\"0_x\"]), str(row[\"0_y\"])])), axis=1)\n",
        " \n",
        "    # Use the distances as a filter\n",
        "##df1.loc[df1[\"id\"].isin(df.loc[df[\"distance\"] >= 0.8, \"id_x\"])]"
      ],
      "execution_count": null,
      "outputs": []
    },
    {
      "cell_type": "code",
      "metadata": {
        "colab": {
          "base_uri": "https://localhost:8080/",
          "height": 424
        },
        "id": "6M0BHPAsOFpf",
        "outputId": "0b3d6061-4c5d-459c-cb3c-e76352a12691"
      },
      "source": [
        "df"
      ],
      "execution_count": null,
      "outputs": [
        {
          "output_type": "execute_result",
          "data": {
            "text/html": [
              "<div>\n",
              "<style scoped>\n",
              "    .dataframe tbody tr th:only-of-type {\n",
              "        vertical-align: middle;\n",
              "    }\n",
              "\n",
              "    .dataframe tbody tr th {\n",
              "        vertical-align: top;\n",
              "    }\n",
              "\n",
              "    .dataframe thead th {\n",
              "        text-align: right;\n",
              "    }\n",
              "</style>\n",
              "<table border=\"1\" class=\"dataframe\">\n",
              "  <thead>\n",
              "    <tr style=\"text-align: right;\">\n",
              "      <th></th>\n",
              "      <th>0_x</th>\n",
              "      <th>0_y</th>\n",
              "      <th>longest_common_prefix</th>\n",
              "    </tr>\n",
              "  </thead>\n",
              "  <tbody>\n",
              "    <tr>\n",
              "      <th>0</th>\n",
              "      <td>YFB</td>\n",
              "      <td>YFB</td>\n",
              "      <td>3</td>\n",
              "    </tr>\n",
              "    <tr>\n",
              "      <th>1</th>\n",
              "      <td>YFB</td>\n",
              "      <td>AGZ</td>\n",
              "      <td>0</td>\n",
              "    </tr>\n",
              "    <tr>\n",
              "      <th>2</th>\n",
              "      <td>YFB</td>\n",
              "      <td>YFH</td>\n",
              "      <td>2</td>\n",
              "    </tr>\n",
              "    <tr>\n",
              "      <th>3</th>\n",
              "      <td>YFB</td>\n",
              "      <td>YB</td>\n",
              "      <td>1</td>\n",
              "    </tr>\n",
              "    <tr>\n",
              "      <th>4</th>\n",
              "      <td>YFB</td>\n",
              "      <td>WFTM</td>\n",
              "      <td>0</td>\n",
              "    </tr>\n",
              "    <tr>\n",
              "      <th>...</th>\n",
              "      <td>...</td>\n",
              "      <td>...</td>\n",
              "      <td>...</td>\n",
              "    </tr>\n",
              "    <tr>\n",
              "      <th>489995</th>\n",
              "      <td>YBD</td>\n",
              "      <td>YPAD</td>\n",
              "      <td>1</td>\n",
              "    </tr>\n",
              "    <tr>\n",
              "      <th>489996</th>\n",
              "      <td>YBD</td>\n",
              "      <td>WNCF</td>\n",
              "      <td>0</td>\n",
              "    </tr>\n",
              "    <tr>\n",
              "      <th>489997</th>\n",
              "      <td>YBD</td>\n",
              "      <td>TJFM1</td>\n",
              "      <td>0</td>\n",
              "    </tr>\n",
              "    <tr>\n",
              "      <th>489998</th>\n",
              "      <td>YBD</td>\n",
              "      <td>JPFF</td>\n",
              "      <td>0</td>\n",
              "    </tr>\n",
              "    <tr>\n",
              "      <th>489999</th>\n",
              "      <td>YBD</td>\n",
              "      <td>YBD</td>\n",
              "      <td>3</td>\n",
              "    </tr>\n",
              "  </tbody>\n",
              "</table>\n",
              "<p>490000 rows × 3 columns</p>\n",
              "</div>"
            ],
            "text/plain": [
              "        0_x    0_y  longest_common_prefix\n",
              "0       YFB    YFB                      3\n",
              "1       YFB    AGZ                      0\n",
              "2       YFB    YFH                      2\n",
              "3       YFB     YB                      1\n",
              "4       YFB   WFTM                      0\n",
              "...     ...    ...                    ...\n",
              "489995  YBD   YPAD                      1\n",
              "489996  YBD   WNCF                      0\n",
              "489997  YBD  TJFM1                      0\n",
              "489998  YBD   JPFF                      0\n",
              "489999  YBD    YBD                      3\n",
              "\n",
              "[490000 rows x 3 columns]"
            ]
          },
          "metadata": {
            "tags": []
          },
          "execution_count": 113
        }
      ]
    },
    {
      "cell_type": "code",
      "metadata": {
        "colab": {
          "base_uri": "https://localhost:8080/"
        },
        "id": "E4ZBAD0_QIO4",
        "outputId": "06f99a17-eef8-4986-8b4f-7e28cc477fca"
      },
      "source": [
        "len(items_df)"
      ],
      "execution_count": null,
      "outputs": [
        {
          "output_type": "execute_result",
          "data": {
            "text/plain": [
              "78030"
            ]
          },
          "metadata": {
            "tags": []
          },
          "execution_count": 114
        }
      ]
    },
    {
      "cell_type": "markdown",
      "metadata": {
        "id": "ic_q3lM_NTU0"
      },
      "source": [
        "End custom approach"
      ]
    },
    {
      "cell_type": "code",
      "metadata": {
        "colab": {
          "base_uri": "https://localhost:8080/",
          "height": 206
        },
        "id": "Xv17I-5aa-9b",
        "outputId": "bcdb1a33-d88a-42b1-d889-dc4beebe5d0c"
      },
      "source": [
        "transactions_df.head()"
      ],
      "execution_count": null,
      "outputs": [
        {
          "output_type": "execute_result",
          "data": {
            "text/html": [
              "<div>\n",
              "<style scoped>\n",
              "    .dataframe tbody tr th:only-of-type {\n",
              "        vertical-align: middle;\n",
              "    }\n",
              "\n",
              "    .dataframe tbody tr th {\n",
              "        vertical-align: top;\n",
              "    }\n",
              "\n",
              "    .dataframe thead th {\n",
              "        text-align: right;\n",
              "    }\n",
              "</style>\n",
              "<table border=\"1\" class=\"dataframe\">\n",
              "  <thead>\n",
              "    <tr style=\"text-align: right;\">\n",
              "      <th></th>\n",
              "      <th>sessionID</th>\n",
              "      <th>itemID</th>\n",
              "      <th>click</th>\n",
              "      <th>basket</th>\n",
              "      <th>order</th>\n",
              "    </tr>\n",
              "  </thead>\n",
              "  <tbody>\n",
              "    <tr>\n",
              "      <th>0</th>\n",
              "      <td>0</td>\n",
              "      <td>21310</td>\n",
              "      <td>1</td>\n",
              "      <td>0</td>\n",
              "      <td>0</td>\n",
              "    </tr>\n",
              "    <tr>\n",
              "      <th>1</th>\n",
              "      <td>1</td>\n",
              "      <td>73018</td>\n",
              "      <td>1</td>\n",
              "      <td>0</td>\n",
              "      <td>0</td>\n",
              "    </tr>\n",
              "    <tr>\n",
              "      <th>2</th>\n",
              "      <td>2</td>\n",
              "      <td>19194</td>\n",
              "      <td>1</td>\n",
              "      <td>0</td>\n",
              "      <td>0</td>\n",
              "    </tr>\n",
              "    <tr>\n",
              "      <th>3</th>\n",
              "      <td>3</td>\n",
              "      <td>40250</td>\n",
              "      <td>1</td>\n",
              "      <td>0</td>\n",
              "      <td>0</td>\n",
              "    </tr>\n",
              "    <tr>\n",
              "      <th>4</th>\n",
              "      <td>4</td>\n",
              "      <td>46107</td>\n",
              "      <td>1</td>\n",
              "      <td>0</td>\n",
              "      <td>0</td>\n",
              "    </tr>\n",
              "  </tbody>\n",
              "</table>\n",
              "</div>"
            ],
            "text/plain": [
              "   sessionID  itemID  click  basket  order\n",
              "0          0   21310      1       0      0\n",
              "1          1   73018      1       0      0\n",
              "2          2   19194      1       0      0\n",
              "3          3   40250      1       0      0\n",
              "4          4   46107      1       0      0"
            ]
          },
          "metadata": {
            "tags": []
          },
          "execution_count": 10
        }
      ]
    },
    {
      "cell_type": "code",
      "metadata": {
        "colab": {
          "base_uri": "https://localhost:8080/"
        },
        "id": "OnmnhtvbHYE3",
        "outputId": "97e4d8d3-3cf5-48e3-f140-3e708b5f4dbc"
      },
      "source": [
        "transactions_df[\"sessionID\"].value_counts()"
      ],
      "execution_count": null,
      "outputs": [
        {
          "output_type": "execute_result",
          "data": {
            "text/plain": [
              "29304     213\n",
              "95250     157\n",
              "7394      144\n",
              "218629    141\n",
              "15327     129\n",
              "         ... \n",
              "234710      1\n",
              "232661      1\n",
              "230612      1\n",
              "244947      1\n",
              "0           1\n",
              "Name: sessionID, Length: 271983, dtype: int64"
            ]
          },
          "metadata": {
            "tags": []
          },
          "execution_count": 11
        }
      ]
    },
    {
      "cell_type": "code",
      "metadata": {
        "colab": {
          "base_uri": "https://localhost:8080/"
        },
        "id": "R5wUXdaoHgZu",
        "outputId": "312b22f4-3162-4072-de57-fb681fde71e2"
      },
      "source": [
        "transactions_df[\"click\"].value_counts()"
      ],
      "execution_count": null,
      "outputs": [
        {
          "output_type": "execute_result",
          "data": {
            "text/plain": [
              "1      288473\n",
              "2       29033\n",
              "0       23548\n",
              "3       12028\n",
              "4        4841\n",
              "5        2925\n",
              "6        1535\n",
              "7        1086\n",
              "8         598\n",
              "9         384\n",
              "10        235\n",
              "11        152\n",
              "12         89\n",
              "13         68\n",
              "14         46\n",
              "16         28\n",
              "15         21\n",
              "17         16\n",
              "18         10\n",
              "21          6\n",
              "22          5\n",
              "20          4\n",
              "19          3\n",
              "97          1\n",
              "23          1\n",
              "24          1\n",
              "25          1\n",
              "28          1\n",
              "32          1\n",
              "34          1\n",
              "36          1\n",
              "118         1\n",
              "Name: click, dtype: int64"
            ]
          },
          "metadata": {
            "tags": []
          },
          "execution_count": 12
        }
      ]
    },
    {
      "cell_type": "code",
      "metadata": {
        "colab": {
          "base_uri": "https://localhost:8080/"
        },
        "id": "0lralTaVKQNN",
        "outputId": "67876947-6ac3-478b-b08e-73a13d4f5c7b"
      },
      "source": [
        "transactions_df[\"order\"].value_counts()"
      ],
      "execution_count": null,
      "outputs": [
        {
          "output_type": "execute_result",
          "data": {
            "text/plain": [
              "0     348237\n",
              "1      16593\n",
              "2        255\n",
              "3         18\n",
              "4          7\n",
              "5          7\n",
              "21         4\n",
              "10         2\n",
              "25         2\n",
              "7          2\n",
              "27         2\n",
              "12         2\n",
              "11         2\n",
              "6          1\n",
              "28         1\n",
              "14         1\n",
              "15         1\n",
              "19         1\n",
              "20         1\n",
              "22         1\n",
              "23         1\n",
              "26         1\n",
              "13         1\n",
              "Name: order, dtype: int64"
            ]
          },
          "metadata": {
            "tags": []
          },
          "execution_count": 13
        }
      ]
    },
    {
      "cell_type": "code",
      "metadata": {
        "colab": {
          "base_uri": "https://localhost:8080/"
        },
        "id": "jRd2mXTtIogJ",
        "outputId": "bb617aec-ae05-4966-b130-3e16840d4c23"
      },
      "source": [
        "# itemIDs for which orders where >0 and basket was >0\n",
        "transactions_df.loc[(transactions_df[\"order\"]>0) & (transactions_df[\"basket\"]>0), \"itemID\" ]"
      ],
      "execution_count": 10,
      "outputs": [
        {
          "output_type": "execute_result",
          "data": {
            "text/plain": [
              "66        10666\n",
              "115       38931\n",
              "154       53473\n",
              "269        9196\n",
              "590        2408\n",
              "          ...  \n",
              "364830     1342\n",
              "364883     3837\n",
              "364945    43441\n",
              "364983    71270\n",
              "365038    67753\n",
              "Name: itemID, Length: 4527, dtype: int64"
            ]
          },
          "metadata": {
            "tags": []
          },
          "execution_count": 10
        }
      ]
    },
    {
      "cell_type": "code",
      "metadata": {
        "colab": {
          "base_uri": "https://localhost:8080/"
        },
        "id": "pb2SQfDsKLgH",
        "outputId": "a5ab81dd-5d9b-4c3f-b04a-a606874920fd"
      },
      "source": [
        "# itemIDs for which clicks where >0 and orders were >0\n",
        "transactions_df.loc[(transactions_df[\"order\"]>0) & (transactions_df[\"click\"]>0), \"itemID\" ]"
      ],
      "execution_count": 11,
      "outputs": [
        {
          "output_type": "execute_result",
          "data": {
            "text/plain": [
              "66        10666\n",
              "115       38931\n",
              "154       53473\n",
              "269        9196\n",
              "590        2408\n",
              "          ...  \n",
              "364830     1342\n",
              "364883     3837\n",
              "364945    43441\n",
              "364983    71270\n",
              "365038    67753\n",
              "Name: itemID, Length: 3772, dtype: int64"
            ]
          },
          "metadata": {
            "tags": []
          },
          "execution_count": 11
        }
      ]
    },
    {
      "cell_type": "code",
      "metadata": {
        "colab": {
          "base_uri": "https://localhost:8080/"
        },
        "id": "b-rOKdb9KeUg",
        "outputId": "b3cb69b2-078e-470c-823f-0313a79dbb27"
      },
      "source": [
        "# itemIDs for which clicks where >0 and orders were >0 and basket was >0\n",
        "transactions_df.loc[(transactions_df[\"order\"]>0) & (transactions_df[\"click\"]>0) & (transactions_df[\"basket\"]>0), \"itemID\" ]"
      ],
      "execution_count": 12,
      "outputs": [
        {
          "output_type": "execute_result",
          "data": {
            "text/plain": [
              "66        10666\n",
              "115       38931\n",
              "154       53473\n",
              "269        9196\n",
              "590        2408\n",
              "          ...  \n",
              "364830     1342\n",
              "364883     3837\n",
              "364945    43441\n",
              "364983    71270\n",
              "365038    67753\n",
              "Name: itemID, Length: 3692, dtype: int64"
            ]
          },
          "metadata": {
            "tags": []
          },
          "execution_count": 12
        }
      ]
    },
    {
      "cell_type": "code",
      "metadata": {
        "colab": {
          "base_uri": "https://localhost:8080/"
        },
        "id": "Ej8nsx3UbJh9",
        "outputId": "e4d0700f-c19b-4331-904c-cd2323a4401f"
      },
      "source": [
        "transactions_df.shape"
      ],
      "execution_count": null,
      "outputs": [
        {
          "output_type": "execute_result",
          "data": {
            "text/plain": [
              "(365143, 5)"
            ]
          },
          "metadata": {
            "tags": []
          },
          "execution_count": 13
        }
      ]
    },
    {
      "cell_type": "code",
      "metadata": {
        "colab": {
          "base_uri": "https://localhost:8080/",
          "height": 310
        },
        "id": "tT36Mwou7I5J",
        "outputId": "d65d9f97-0ebc-4f5c-a59b-adf1b586ab58"
      },
      "source": [
        "# joining the items_df and the transactions_df\n",
        "df_combined = pd.merge(items_df, transactions_df, on=\"itemID\")\n",
        "\n",
        "df_combined.head()\n",
        "                       \n",
        "                     "
      ],
      "execution_count": 13,
      "outputs": [
        {
          "output_type": "execute_result",
          "data": {
            "text/html": [
              "<div>\n",
              "<style scoped>\n",
              "    .dataframe tbody tr th:only-of-type {\n",
              "        vertical-align: middle;\n",
              "    }\n",
              "\n",
              "    .dataframe tbody tr th {\n",
              "        vertical-align: top;\n",
              "    }\n",
              "\n",
              "    .dataframe thead th {\n",
              "        text-align: right;\n",
              "    }\n",
              "</style>\n",
              "<table border=\"1\" class=\"dataframe\">\n",
              "  <thead>\n",
              "    <tr style=\"text-align: right;\">\n",
              "      <th></th>\n",
              "      <th>itemID</th>\n",
              "      <th>title</th>\n",
              "      <th>author</th>\n",
              "      <th>publisher</th>\n",
              "      <th>main topic</th>\n",
              "      <th>subtopics</th>\n",
              "      <th>sessionID</th>\n",
              "      <th>click</th>\n",
              "      <th>basket</th>\n",
              "      <th>order</th>\n",
              "    </tr>\n",
              "  </thead>\n",
              "  <tbody>\n",
              "    <tr>\n",
              "      <th>0</th>\n",
              "      <td>21310</td>\n",
              "      <td>Princess Poppy: The Big Mix Up</td>\n",
              "      <td>Janey Louise Jones</td>\n",
              "      <td>Penguin Random House Children's UK</td>\n",
              "      <td>YFB</td>\n",
              "      <td>[5AH]</td>\n",
              "      <td>0</td>\n",
              "      <td>1</td>\n",
              "      <td>0</td>\n",
              "      <td>0</td>\n",
              "    </tr>\n",
              "    <tr>\n",
              "      <th>1</th>\n",
              "      <td>21310</td>\n",
              "      <td>Princess Poppy: The Big Mix Up</td>\n",
              "      <td>Janey Louise Jones</td>\n",
              "      <td>Penguin Random House Children's UK</td>\n",
              "      <td>YFB</td>\n",
              "      <td>[5AH]</td>\n",
              "      <td>89272</td>\n",
              "      <td>1</td>\n",
              "      <td>0</td>\n",
              "      <td>0</td>\n",
              "    </tr>\n",
              "    <tr>\n",
              "      <th>2</th>\n",
              "      <td>21310</td>\n",
              "      <td>Princess Poppy: The Big Mix Up</td>\n",
              "      <td>Janey Louise Jones</td>\n",
              "      <td>Penguin Random House Children's UK</td>\n",
              "      <td>YFB</td>\n",
              "      <td>[5AH]</td>\n",
              "      <td>183856</td>\n",
              "      <td>1</td>\n",
              "      <td>0</td>\n",
              "      <td>0</td>\n",
              "    </tr>\n",
              "    <tr>\n",
              "      <th>3</th>\n",
              "      <td>73018</td>\n",
              "      <td>Einfach zeichnen! Step by Step</td>\n",
              "      <td>Wiebke Krabbe</td>\n",
              "      <td>Schwager und Steinlein</td>\n",
              "      <td>AGZ</td>\n",
              "      <td>[5AJ,AGZ,WFA,YBG,YBL,YNA,YPA]</td>\n",
              "      <td>1</td>\n",
              "      <td>1</td>\n",
              "      <td>0</td>\n",
              "      <td>0</td>\n",
              "    </tr>\n",
              "    <tr>\n",
              "      <th>4</th>\n",
              "      <td>73018</td>\n",
              "      <td>Einfach zeichnen! Step by Step</td>\n",
              "      <td>Wiebke Krabbe</td>\n",
              "      <td>Schwager und Steinlein</td>\n",
              "      <td>AGZ</td>\n",
              "      <td>[5AJ,AGZ,WFA,YBG,YBL,YNA,YPA]</td>\n",
              "      <td>771</td>\n",
              "      <td>1</td>\n",
              "      <td>0</td>\n",
              "      <td>0</td>\n",
              "    </tr>\n",
              "  </tbody>\n",
              "</table>\n",
              "</div>"
            ],
            "text/plain": [
              "   itemID                           title  ... basket order\n",
              "0   21310  Princess Poppy: The Big Mix Up  ...      0     0\n",
              "1   21310  Princess Poppy: The Big Mix Up  ...      0     0\n",
              "2   21310  Princess Poppy: The Big Mix Up  ...      0     0\n",
              "3   73018  Einfach zeichnen! Step by Step  ...      0     0\n",
              "4   73018  Einfach zeichnen! Step by Step  ...      0     0\n",
              "\n",
              "[5 rows x 10 columns]"
            ]
          },
          "metadata": {
            "tags": []
          },
          "execution_count": 13
        }
      ]
    },
    {
      "cell_type": "markdown",
      "metadata": {
        "id": "tf9rmAcD9zAh"
      },
      "source": [
        "# Data Insights"
      ]
    },
    {
      "cell_type": "code",
      "metadata": {
        "colab": {
          "base_uri": "https://localhost:8080/"
        },
        "id": "m3AgSbnu9f1A",
        "outputId": "781f88ce-2cce-4aa5-843d-dea1d8d9b9fc"
      },
      "source": [
        "# dimensions and No. of features\n",
        "df_combined.shape"
      ],
      "execution_count": null,
      "outputs": [
        {
          "output_type": "execute_result",
          "data": {
            "text/plain": [
              "(365143, 10)"
            ]
          },
          "metadata": {
            "tags": []
          },
          "execution_count": 15
        }
      ]
    },
    {
      "cell_type": "code",
      "metadata": {
        "colab": {
          "base_uri": "https://localhost:8080/"
        },
        "id": "cnafSryHAcng",
        "outputId": "ef25c619-fb84-4b68-fdb6-ced77fb74567"
      },
      "source": [
        "df_combined.columns"
      ],
      "execution_count": null,
      "outputs": [
        {
          "output_type": "execute_result",
          "data": {
            "text/plain": [
              "Index(['itemID', 'title', 'author', 'publisher', 'main topic', 'subtopics',\n",
              "       'sessionID', 'click', 'basket', 'order'],\n",
              "      dtype='object')"
            ]
          },
          "metadata": {
            "tags": []
          },
          "execution_count": 16
        }
      ]
    },
    {
      "cell_type": "code",
      "metadata": {
        "colab": {
          "base_uri": "https://localhost:8080/"
        },
        "id": "h7G4i3vw9rBq",
        "outputId": "4980052d-f1b1-4822-9c3f-9dc4a5425444"
      },
      "source": [
        "# data types (5 integer variables)\n",
        "df_combined.info()"
      ],
      "execution_count": null,
      "outputs": [
        {
          "output_type": "stream",
          "text": [
            "<class 'pandas.core.frame.DataFrame'>\n",
            "Int64Index: 365143 entries, 0 to 365142\n",
            "Data columns (total 10 columns):\n",
            " #   Column      Non-Null Count   Dtype \n",
            "---  ------      --------------   ----- \n",
            " 0   itemID      365143 non-null  int64 \n",
            " 1   title       365143 non-null  object\n",
            " 2   author      323809 non-null  object\n",
            " 3   publisher   365142 non-null  object\n",
            " 4   main topic  364248 non-null  object\n",
            " 5   subtopics   365143 non-null  object\n",
            " 6   sessionID   365143 non-null  int64 \n",
            " 7   click       365143 non-null  int64 \n",
            " 8   basket      365143 non-null  int64 \n",
            " 9   order       365143 non-null  int64 \n",
            "dtypes: int64(5), object(5)\n",
            "memory usage: 30.6+ MB\n"
          ],
          "name": "stdout"
        }
      ]
    },
    {
      "cell_type": "code",
      "metadata": {
        "colab": {
          "base_uri": "https://localhost:8080/"
        },
        "id": "TXRet0S_IFCH",
        "outputId": "aaa514ac-0136-4bf7-eb18-fa3cf976c0ea"
      },
      "source": [
        "df_combined[\"basket\"].unique()"
      ],
      "execution_count": null,
      "outputs": [
        {
          "output_type": "execute_result",
          "data": {
            "text/plain": [
              "array([  0,   1,   2,   3,   4,   7,  10,  23,   6,  20,   5,  51,  43,\n",
              "        36, 119,   9,   8,  25,  14, 287, 268,  18,  38,  26,  11,  30,\n",
              "        24,  98,  52,  65,  15,  28, 182,  21,  80, 293,  58, 100,  22,\n",
              "        12,  13,  29,  16,  48, 150])"
            ]
          },
          "metadata": {
            "tags": []
          },
          "execution_count": 18
        }
      ]
    },
    {
      "cell_type": "code",
      "metadata": {
        "colab": {
          "base_uri": "https://localhost:8080/"
        },
        "id": "u9JNpf37IT1h",
        "outputId": "07423c2e-609e-48d3-8ee6-46957e4b3ffc"
      },
      "source": [
        "df_combined[\"basket\"].unique()\n"
      ],
      "execution_count": null,
      "outputs": [
        {
          "output_type": "execute_result",
          "data": {
            "text/plain": [
              "array([  0,   1,   2,   3,   4,   7,  10,  23,   6,  20,   5,  51,  43,\n",
              "        36, 119,   9,   8,  25,  14, 287, 268,  18,  38,  26,  11,  30,\n",
              "        24,  98,  52,  65,  15,  28, 182,  21,  80, 293,  58, 100,  22,\n",
              "        12,  13,  29,  16,  48, 150])"
            ]
          },
          "metadata": {
            "tags": []
          },
          "execution_count": 19
        }
      ]
    },
    {
      "cell_type": "code",
      "metadata": {
        "colab": {
          "base_uri": "https://localhost:8080/"
        },
        "id": "SYJq3LE0IXDT",
        "outputId": "31a5deb8-22e4-4150-d436-e7bba8189dd2"
      },
      "source": [
        "df_combined[\"order\"].unique()"
      ],
      "execution_count": null,
      "outputs": [
        {
          "output_type": "execute_result",
          "data": {
            "text/plain": [
              "array([ 0,  1,  2,  3,  4,  7, 10,  5, 27, 25, 26, 21, 12, 11, 15, 22, 23,\n",
              "       14, 28,  6, 13, 20, 19])"
            ]
          },
          "metadata": {
            "tags": []
          },
          "execution_count": 20
        }
      ]
    },
    {
      "cell_type": "code",
      "metadata": {
        "colab": {
          "base_uri": "https://localhost:8080/",
          "height": 300
        },
        "id": "QRM6DTjS9s5s",
        "outputId": "8a470d63-84fd-40b1-ac29-a494a92ea3ae"
      },
      "source": [
        "# summary stats (for integer variables)\n",
        "df_combined.describe()"
      ],
      "execution_count": null,
      "outputs": [
        {
          "output_type": "execute_result",
          "data": {
            "text/html": [
              "<div>\n",
              "<style scoped>\n",
              "    .dataframe tbody tr th:only-of-type {\n",
              "        vertical-align: middle;\n",
              "    }\n",
              "\n",
              "    .dataframe tbody tr th {\n",
              "        vertical-align: top;\n",
              "    }\n",
              "\n",
              "    .dataframe thead th {\n",
              "        text-align: right;\n",
              "    }\n",
              "</style>\n",
              "<table border=\"1\" class=\"dataframe\">\n",
              "  <thead>\n",
              "    <tr style=\"text-align: right;\">\n",
              "      <th></th>\n",
              "      <th>itemID</th>\n",
              "      <th>sessionID</th>\n",
              "      <th>click</th>\n",
              "      <th>basket</th>\n",
              "      <th>order</th>\n",
              "    </tr>\n",
              "  </thead>\n",
              "  <tbody>\n",
              "    <tr>\n",
              "      <th>count</th>\n",
              "      <td>365143.000000</td>\n",
              "      <td>365143.000000</td>\n",
              "      <td>365143.000000</td>\n",
              "      <td>365143.000000</td>\n",
              "      <td>365143.000000</td>\n",
              "    </tr>\n",
              "    <tr>\n",
              "      <th>mean</th>\n",
              "      <td>40051.292307</td>\n",
              "      <td>139586.939175</td>\n",
              "      <td>1.233180</td>\n",
              "      <td>0.141202</td>\n",
              "      <td>0.048403</td>\n",
              "    </tr>\n",
              "    <tr>\n",
              "      <th>std</th>\n",
              "      <td>22493.347334</td>\n",
              "      <td>80795.207871</td>\n",
              "      <td>1.069996</td>\n",
              "      <td>1.107574</td>\n",
              "      <td>0.268717</td>\n",
              "    </tr>\n",
              "    <tr>\n",
              "      <th>min</th>\n",
              "      <td>1.000000</td>\n",
              "      <td>0.000000</td>\n",
              "      <td>0.000000</td>\n",
              "      <td>0.000000</td>\n",
              "      <td>0.000000</td>\n",
              "    </tr>\n",
              "    <tr>\n",
              "      <th>25%</th>\n",
              "      <td>20713.000000</td>\n",
              "      <td>69459.500000</td>\n",
              "      <td>1.000000</td>\n",
              "      <td>0.000000</td>\n",
              "      <td>0.000000</td>\n",
              "    </tr>\n",
              "    <tr>\n",
              "      <th>50%</th>\n",
              "      <td>40692.000000</td>\n",
              "      <td>139608.000000</td>\n",
              "      <td>1.000000</td>\n",
              "      <td>0.000000</td>\n",
              "      <td>0.000000</td>\n",
              "    </tr>\n",
              "    <tr>\n",
              "      <th>75%</th>\n",
              "      <td>58916.000000</td>\n",
              "      <td>209750.500000</td>\n",
              "      <td>1.000000</td>\n",
              "      <td>0.000000</td>\n",
              "      <td>0.000000</td>\n",
              "    </tr>\n",
              "    <tr>\n",
              "      <th>max</th>\n",
              "      <td>79066.000000</td>\n",
              "      <td>279354.000000</td>\n",
              "      <td>118.000000</td>\n",
              "      <td>293.000000</td>\n",
              "      <td>28.000000</td>\n",
              "    </tr>\n",
              "  </tbody>\n",
              "</table>\n",
              "</div>"
            ],
            "text/plain": [
              "              itemID      sessionID  ...         basket          order\n",
              "count  365143.000000  365143.000000  ...  365143.000000  365143.000000\n",
              "mean    40051.292307  139586.939175  ...       0.141202       0.048403\n",
              "std     22493.347334   80795.207871  ...       1.107574       0.268717\n",
              "min         1.000000       0.000000  ...       0.000000       0.000000\n",
              "25%     20713.000000   69459.500000  ...       0.000000       0.000000\n",
              "50%     40692.000000  139608.000000  ...       0.000000       0.000000\n",
              "75%     58916.000000  209750.500000  ...       0.000000       0.000000\n",
              "max     79066.000000  279354.000000  ...     293.000000      28.000000\n",
              "\n",
              "[8 rows x 5 columns]"
            ]
          },
          "metadata": {
            "tags": []
          },
          "execution_count": 21
        }
      ]
    },
    {
      "cell_type": "code",
      "metadata": {
        "colab": {
          "base_uri": "https://localhost:8080/"
        },
        "id": "mERQ_TRpAR9u",
        "outputId": "8cf64f1a-7490-4de1-cc2a-4f8a3504e043"
      },
      "source": [
        "# detecting and counting missing values \n",
        "df_combined.isnull().sum() # number of NaNs per column"
      ],
      "execution_count": null,
      "outputs": [
        {
          "output_type": "execute_result",
          "data": {
            "text/plain": [
              "itemID            0\n",
              "title             0\n",
              "author        41334\n",
              "publisher         1\n",
              "main topic      895\n",
              "subtopics         0\n",
              "sessionID         0\n",
              "click             0\n",
              "basket            0\n",
              "order             0\n",
              "dtype: int64"
            ]
          },
          "metadata": {
            "tags": []
          },
          "execution_count": 22
        }
      ]
    },
    {
      "cell_type": "code",
      "metadata": {
        "colab": {
          "base_uri": "https://localhost:8080/",
          "height": 326
        },
        "id": "7OgbuhnpCNMa",
        "outputId": "ca3e1405-19ce-47f0-a39a-78054a98639a"
      },
      "source": [
        "# visualization of missing values\n",
        "sns.heatmap(df_combined.isnull(),cbar=False,yticklabels=False,cmap = 'viridis')"
      ],
      "execution_count": null,
      "outputs": [
        {
          "output_type": "execute_result",
          "data": {
            "text/plain": [
              "<matplotlib.axes._subplots.AxesSubplot at 0x7f4992265a10>"
            ]
          },
          "metadata": {
            "tags": []
          },
          "execution_count": 23
        },
        {
          "output_type": "display_data",
          "data": {
            "image/png": "[encoded data removed]",
            "text/plain": [
              "<Figure size 432x288 with 1 Axes>"
            ]
          },
          "metadata": {
            "tags": []
          }
        }
      ]
    },
    {
      "cell_type": "code",
      "metadata": {
        "colab": {
          "base_uri": "https://localhost:8080/"
        },
        "id": "IOWMK6AcBDnF",
        "outputId": "52b04d59-f48b-4c6f-d580-e0bea2ccbc81"
      },
      "source": [
        "# list of categorical features\n",
        "cat_feature_mask = df_combined.dtypes == object # boolean test (mask) of whether the col is of \"object type\" or not\n",
        "cat_feature_mask"
      ],
      "execution_count": null,
      "outputs": [
        {
          "output_type": "execute_result",
          "data": {
            "text/plain": [
              "itemID        False\n",
              "title          True\n",
              "author         True\n",
              "publisher      True\n",
              "main topic     True\n",
              "subtopics      True\n",
              "sessionID     False\n",
              "click         False\n",
              "basket        False\n",
              "order         False\n",
              "dtype: bool"
            ]
          },
          "metadata": {
            "tags": []
          },
          "execution_count": 24
        }
      ]
    },
    {
      "cell_type": "code",
      "metadata": {
        "colab": {
          "base_uri": "https://localhost:8080/"
        },
        "id": "5EVy2sPaBJ2V",
        "outputId": "fbcdab64-b50f-4f31-974b-c63956b2ceb5"
      },
      "source": [
        "# filter categorical columns using the mask and turn it into a list\n",
        "cat_list = df_combined.columns[cat_feature_mask].to_list()\n",
        "\n",
        "cat_list"
      ],
      "execution_count": null,
      "outputs": [
        {
          "output_type": "execute_result",
          "data": {
            "text/plain": [
              "['title', 'author', 'publisher', 'main topic', 'subtopics']"
            ]
          },
          "metadata": {
            "tags": []
          },
          "execution_count": 25
        }
      ]
    },
    {
      "cell_type": "code",
      "metadata": {
        "colab": {
          "base_uri": "https://localhost:8080/"
        },
        "id": "5khYb8AHDiV1",
        "outputId": "a4b6af5e-ca59-48af-a82a-e1f8b9a22304"
      },
      "source": [
        "# list of numerical features\n",
        "num_feature_mask = df_combined.dtypes != object # boolean test of whether the col is not of the type object \n",
        "num_feature_mask"
      ],
      "execution_count": null,
      "outputs": [
        {
          "output_type": "execute_result",
          "data": {
            "text/plain": [
              "itemID         True\n",
              "title         False\n",
              "author        False\n",
              "publisher     False\n",
              "main topic    False\n",
              "subtopics     False\n",
              "sessionID      True\n",
              "click          True\n",
              "basket         True\n",
              "order          True\n",
              "dtype: bool"
            ]
          },
          "metadata": {
            "tags": []
          },
          "execution_count": 26
        }
      ]
    },
    {
      "cell_type": "code",
      "metadata": {
        "colab": {
          "base_uri": "https://localhost:8080/"
        },
        "id": "VEH-m5BIERdh",
        "outputId": "73822081-cc15-4550-c194-97bfd2d68eff"
      },
      "source": [
        "# filter categorical columns using the mask and turn it into a list\n",
        "num_list = df_combined.columns[num_feature_mask].to_list()\n",
        "\n",
        "num_list"
      ],
      "execution_count": null,
      "outputs": [
        {
          "output_type": "execute_result",
          "data": {
            "text/plain": [
              "['itemID', 'sessionID', 'click', 'basket', 'order']"
            ]
          },
          "metadata": {
            "tags": []
          },
          "execution_count": 27
        }
      ]
    },
    {
      "cell_type": "code",
      "metadata": {
        "colab": {
          "base_uri": "https://localhost:8080/"
        },
        "id": "tsMc79dw_KMS",
        "outputId": "99636b46-b783-45b7-e009-c4c91a0247a0"
      },
      "source": [
        "df_combined[[\"author\",\"title\"]].value_counts()"
      ],
      "execution_count": null,
      "outputs": [
        {
          "output_type": "execute_result",
          "data": {
            "text/plain": [
              "author                    title                                                                                   \n",
              "Joanne K. Rowling         Harry Potter Box Set: The Complete Collection (Children's Paperback)                        2291\n",
              "Ben Aaronovitch           Der Geist in der British Library und andere Geschichten aus dem Folly                       1775\n",
              "Insight Editions, Panini  Aus den Filmen zu Harry Potter: Eine magische Reise: Alles für deine Fahrt nach Hogwarts    1749\n",
              "Gecko Keck                Die Kunst des Zeichnens für Kinder                                                          1290\n",
              "Leigh Bardugo             Goldene Flammen                                                                             1276\n",
              "                                                                                                                      ... \n",
              "Scott Sonneborn           Shell Shocker                                                                                  1\n",
              "Scott Reintgen            Bloodsworn                                                                                     1\n",
              "John T Biggs              Sacred Alarm Clock                                                                             1\n",
              "                          Clementine                                                                                     1\n",
              "Robert Westall            Blitzcat                                                                                       1\n",
              "Length: 21817, dtype: int64"
            ]
          },
          "metadata": {
            "tags": []
          },
          "execution_count": 28
        }
      ]
    },
    {
      "cell_type": "code",
      "metadata": {
        "colab": {
          "base_uri": "https://localhost:8080/"
        },
        "id": "pRG51AFhBq0E",
        "outputId": "b708ba79-d088-468b-afec-46ab3a4a5892"
      },
      "source": [
        "df_combined[[\"publisher\", \"main topic\"]].value_counts()"
      ],
      "execution_count": null,
      "outputs": [
        {
          "output_type": "execute_result",
          "data": {
            "text/plain": [
              "publisher                  main topic\n",
              "Usborne Verlag             YBG           6874\n",
              "Klett-Cotta Verlag         FMB           6709\n",
              "Ars Edition GmbH           YBG           6703\n",
              "Bloomsbury UK              YFH           6584\n",
              "LYX                        FMR           5442\n",
              "                                         ... \n",
              "G & G Verlagsgesellschaft  YBC              1\n",
              "                           Y                1\n",
              "Fulton Books               FMW              1\n",
              "                           FMH              1\n",
              ".                          FLS              1\n",
              "Length: 7618, dtype: int64"
            ]
          },
          "metadata": {
            "tags": []
          },
          "execution_count": 29
        }
      ]
    },
    {
      "cell_type": "code",
      "metadata": {
        "colab": {
          "base_uri": "https://localhost:8080/"
        },
        "id": "JGgEV_D6BuVn",
        "outputId": "d608ce41-6f35-40f5-f97b-080946b98acb"
      },
      "source": [
        "df_combined[\"main topic\"].value_counts()"
      ],
      "execution_count": null,
      "outputs": [
        {
          "output_type": "execute_result",
          "data": {
            "text/plain": [
              "FMB     27851\n",
              "YFH     24286\n",
              "YBG     23580\n",
              "YFHR    16675\n",
              "FMR     16408\n",
              "        ...  \n",
              "YXFS        1\n",
              "MQR         1\n",
              "CBVS        1\n",
              "VSA         1\n",
              "QRM         1\n",
              "Name: main topic, Length: 605, dtype: int64"
            ]
          },
          "metadata": {
            "tags": []
          },
          "execution_count": 30
        }
      ]
    },
    {
      "cell_type": "code",
      "metadata": {
        "colab": {
          "base_uri": "https://localhost:8080/",
          "height": 206
        },
        "id": "8d5FmgIw-q2A",
        "outputId": "1b493a96-f5e0-4dbe-bd69-f524ce38b729"
      },
      "source": [
        "# correlation matrix (no high positive nor negative cross-correlations)\n",
        "df_combined.corr()"
      ],
      "execution_count": null,
      "outputs": [
        {
          "output_type": "execute_result",
          "data": {
            "text/html": [
              "<div>\n",
              "<style scoped>\n",
              "    .dataframe tbody tr th:only-of-type {\n",
              "        vertical-align: middle;\n",
              "    }\n",
              "\n",
              "    .dataframe tbody tr th {\n",
              "        vertical-align: top;\n",
              "    }\n",
              "\n",
              "    .dataframe thead th {\n",
              "        text-align: right;\n",
              "    }\n",
              "</style>\n",
              "<table border=\"1\" class=\"dataframe\">\n",
              "  <thead>\n",
              "    <tr style=\"text-align: right;\">\n",
              "      <th></th>\n",
              "      <th>itemID</th>\n",
              "      <th>sessionID</th>\n",
              "      <th>click</th>\n",
              "      <th>basket</th>\n",
              "      <th>order</th>\n",
              "    </tr>\n",
              "  </thead>\n",
              "  <tbody>\n",
              "    <tr>\n",
              "      <th>itemID</th>\n",
              "      <td>1.000000</td>\n",
              "      <td>-0.001154</td>\n",
              "      <td>0.003196</td>\n",
              "      <td>-0.004658</td>\n",
              "      <td>0.002651</td>\n",
              "    </tr>\n",
              "    <tr>\n",
              "      <th>sessionID</th>\n",
              "      <td>-0.001154</td>\n",
              "      <td>1.000000</td>\n",
              "      <td>-0.001762</td>\n",
              "      <td>-0.001147</td>\n",
              "      <td>0.004193</td>\n",
              "    </tr>\n",
              "    <tr>\n",
              "      <th>click</th>\n",
              "      <td>0.003196</td>\n",
              "      <td>-0.001762</td>\n",
              "      <td>1.000000</td>\n",
              "      <td>0.024665</td>\n",
              "      <td>-0.134103</td>\n",
              "    </tr>\n",
              "    <tr>\n",
              "      <th>basket</th>\n",
              "      <td>-0.004658</td>\n",
              "      <td>-0.001147</td>\n",
              "      <td>0.024665</td>\n",
              "      <td>1.000000</td>\n",
              "      <td>0.122249</td>\n",
              "    </tr>\n",
              "    <tr>\n",
              "      <th>order</th>\n",
              "      <td>0.002651</td>\n",
              "      <td>0.004193</td>\n",
              "      <td>-0.134103</td>\n",
              "      <td>0.122249</td>\n",
              "      <td>1.000000</td>\n",
              "    </tr>\n",
              "  </tbody>\n",
              "</table>\n",
              "</div>"
            ],
            "text/plain": [
              "             itemID  sessionID     click    basket     order\n",
              "itemID     1.000000  -0.001154  0.003196 -0.004658  0.002651\n",
              "sessionID -0.001154   1.000000 -0.001762 -0.001147  0.004193\n",
              "click      0.003196  -0.001762  1.000000  0.024665 -0.134103\n",
              "basket    -0.004658  -0.001147  0.024665  1.000000  0.122249\n",
              "order      0.002651   0.004193 -0.134103  0.122249  1.000000"
            ]
          },
          "metadata": {
            "tags": []
          },
          "execution_count": 31
        }
      ]
    },
    {
      "cell_type": "code",
      "metadata": {
        "colab": {
          "base_uri": "https://localhost:8080/",
          "height": 287
        },
        "id": "NGZHdTl5AqrS",
        "outputId": "bc4cb850-9f73-445f-c558-68eaebdd8b77"
      },
      "source": [
        "# visualization of the correlation matrix\n",
        "# (Dark shades represents positive correlation while lighter shades represents negative correlation.)\n",
        "plt.figure(figsize=(6,4))\n",
        "sns.heatmap(df_combined.corr(),cmap='Blues',annot=True) \n",
        "# annot=True displays cross correlation values in the matrix cells"
      ],
      "execution_count": null,
      "outputs": [
        {
          "output_type": "execute_result",
          "data": {
            "text/plain": [
              "<matplotlib.axes._subplots.AxesSubplot at 0x7f4989cf18d0>"
            ]
          },
          "metadata": {
            "tags": []
          },
          "execution_count": 32
        },
        {
          "output_type": "display_data",
          "data": {
            "image/png": "[encoded data removed]",
            "text/plain": [
              "<Figure size 432x288 with 2 Axes>"
            ]
          },
          "metadata": {
            "tags": []
          }
        }
      ]
    },
    {
      "cell_type": "code",
      "metadata": {
        "colab": {
          "base_uri": "https://localhost:8080/",
          "height": 768
        },
        "id": "EuWjjt6JDLcS",
        "outputId": "4503ff74-5187-458c-fc0b-85147a12e3c5"
      },
      "source": [
        "# checking for outliers (in the numerical variables)\n",
        "l = df_combined[num_list].columns.values\n",
        "number_of_columns=12\n",
        "number_of_rows = len(l)-1/number_of_columns\n",
        "plt.figure(figsize=(number_of_columns,5*number_of_rows))\n",
        "for i in range(0,len(l)):\n",
        "    plt.subplot(number_of_rows + 1,number_of_columns,i+1)\n",
        "    sns.set_style('whitegrid')\n",
        "    sns.boxplot(df_combined[l[i]],color='green',orient='v')\n",
        "    plt.tight_layout()"
      ],
      "execution_count": null,
      "outputs": [
        {
          "output_type": "stream",
          "text": [
            "/usr/local/lib/python3.7/dist-packages/seaborn/_decorators.py:43: FutureWarning: Pass the following variable as a keyword arg: x. From version 0.12, the only valid positional argument will be `data`, and passing other arguments without an explicit keyword will result in an error or misinterpretation.\n",
            "  FutureWarning\n",
            "/usr/local/lib/python3.7/dist-packages/seaborn/_core.py:1319: UserWarning: Vertical orientation ignored with only `x` specified.\n",
            "  warnings.warn(single_var_warning.format(\"Vertical\", \"x\"))\n",
            "/usr/local/lib/python3.7/dist-packages/seaborn/_decorators.py:43: FutureWarning: Pass the following variable as a keyword arg: x. From version 0.12, the only valid positional argument will be `data`, and passing other arguments without an explicit keyword will result in an error or misinterpretation.\n",
            "  FutureWarning\n",
            "/usr/local/lib/python3.7/dist-packages/seaborn/_core.py:1319: UserWarning: Vertical orientation ignored with only `x` specified.\n",
            "  warnings.warn(single_var_warning.format(\"Vertical\", \"x\"))\n",
            "/usr/local/lib/python3.7/dist-packages/seaborn/_decorators.py:43: FutureWarning: Pass the following variable as a keyword arg: x. From version 0.12, the only valid positional argument will be `data`, and passing other arguments without an explicit keyword will result in an error or misinterpretation.\n",
            "  FutureWarning\n",
            "/usr/local/lib/python3.7/dist-packages/seaborn/_core.py:1319: UserWarning: Vertical orientation ignored with only `x` specified.\n",
            "  warnings.warn(single_var_warning.format(\"Vertical\", \"x\"))\n",
            "/usr/local/lib/python3.7/dist-packages/seaborn/_decorators.py:43: FutureWarning: Pass the following variable as a keyword arg: x. From version 0.12, the only valid positional argument will be `data`, and passing other arguments without an explicit keyword will result in an error or misinterpretation.\n",
            "  FutureWarning\n",
            "/usr/local/lib/python3.7/dist-packages/seaborn/_core.py:1319: UserWarning: Vertical orientation ignored with only `x` specified.\n",
            "  warnings.warn(single_var_warning.format(\"Vertical\", \"x\"))\n",
            "/usr/local/lib/python3.7/dist-packages/seaborn/_decorators.py:43: FutureWarning: Pass the following variable as a keyword arg: x. From version 0.12, the only valid positional argument will be `data`, and passing other arguments without an explicit keyword will result in an error or misinterpretation.\n",
            "  FutureWarning\n",
            "/usr/local/lib/python3.7/dist-packages/seaborn/_core.py:1319: UserWarning: Vertical orientation ignored with only `x` specified.\n",
            "  warnings.warn(single_var_warning.format(\"Vertical\", \"x\"))\n"
          ],
          "name": "stderr"
        },
        {
          "output_type": "display_data",
          "data": {
            "image/png": "[encoded data removed]",
            "text/plain": [
              "<Figure size 864x1770 with 5 Axes>"
            ]
          },
          "metadata": {
            "tags": []
          }
        }
      ]
    },
    {
      "cell_type": "code",
      "metadata": {
        "colab": {
          "base_uri": "https://localhost:8080/",
          "height": 508
        },
        "id": "o7I0znr8DB1V",
        "outputId": "d5059921-5282-436d-a749-f690ac4fe0cd"
      },
      "source": [
        "# checking distribution skewness\n",
        "plt.figure(figsize=(2*number_of_columns,5*number_of_rows))\n",
        "for i in range(0,len(l)):\n",
        "    plt.subplot(number_of_rows + 1,number_of_columns,i+1)\n",
        "    sns.distplot(df_combined[l[i]],kde=True) "
      ],
      "execution_count": null,
      "outputs": [
        {
          "output_type": "stream",
          "text": [
            "/usr/local/lib/python3.7/dist-packages/seaborn/distributions.py:2557: FutureWarning: `distplot` is a deprecated function and will be removed in a future version. Please adapt your code to use either `displot` (a figure-level function with similar flexibility) or `histplot` (an axes-level function for histograms).\n",
            "  warnings.warn(msg, FutureWarning)\n",
            "/usr/local/lib/python3.7/dist-packages/seaborn/distributions.py:2557: FutureWarning: `distplot` is a deprecated function and will be removed in a future version. Please adapt your code to use either `displot` (a figure-level function with similar flexibility) or `histplot` (an axes-level function for histograms).\n",
            "  warnings.warn(msg, FutureWarning)\n",
            "/usr/local/lib/python3.7/dist-packages/seaborn/distributions.py:2557: FutureWarning: `distplot` is a deprecated function and will be removed in a future version. Please adapt your code to use either `displot` (a figure-level function with similar flexibility) or `histplot` (an axes-level function for histograms).\n",
            "  warnings.warn(msg, FutureWarning)\n",
            "/usr/local/lib/python3.7/dist-packages/seaborn/distributions.py:2557: FutureWarning: `distplot` is a deprecated function and will be removed in a future version. Please adapt your code to use either `displot` (a figure-level function with similar flexibility) or `histplot` (an axes-level function for histograms).\n",
            "  warnings.warn(msg, FutureWarning)\n",
            "/usr/local/lib/python3.7/dist-packages/seaborn/distributions.py:2557: FutureWarning: `distplot` is a deprecated function and will be removed in a future version. Please adapt your code to use either `displot` (a figure-level function with similar flexibility) or `histplot` (an axes-level function for histograms).\n",
            "  warnings.warn(msg, FutureWarning)\n"
          ],
          "name": "stderr"
        },
        {
          "output_type": "display_data",
          "data": {
            "image/png": "[encoded data removed]",
            "text/plain": [
              "<Figure size 1728x1770 with 5 Axes>"
            ]
          },
          "metadata": {
            "tags": []
          }
        }
      ]
    },
    {
      "cell_type": "markdown",
      "metadata": {
        "id": "9grNObFcyoEI"
      },
      "source": [
        "# Feature Engineering"
      ]
    },
    {
      "cell_type": "markdown",
      "metadata": {
        "id": "7qhlWFirUcmw"
      },
      "source": [
        "https://towardsdatascience.com/building-a-content-based-book-recommendation-engine-9fd4d57a4da"
      ]
    },
    {
      "cell_type": "markdown",
      "metadata": {
        "id": "Eouot5i__qkR"
      },
      "source": [
        "**text feature extraction:** converting text data input into numerical vectors to perform machine learning  \n",
        "\n",
        "*Bag of words*: converting text data into numerical feature vectors with a fixed size:\n",
        "- step 1) tokenizing: assign a fixed ID to each word  \n",
        "- step 2) counting: count the number of occurences of each word  \n",
        "- step 3) storing: store as a value feature"
      ]
    },
    {
      "cell_type": "code",
      "metadata": {
        "colab": {
          "base_uri": "https://localhost:8080/"
        },
        "id": "4Mc-YeksLJyF",
        "outputId": "8cb0b549-ced0-4962-8414-aaac96087718"
      },
      "source": [
        "# main topic feature\n",
        "items_df[\"main topic\"]"
      ],
      "execution_count": null,
      "outputs": [
        {
          "output_type": "execute_result",
          "data": {
            "text/plain": [
              "0         YFB\n",
              "1         AGZ\n",
              "2         YFH\n",
              "3          YB\n",
              "4        WFTM\n",
              "         ... \n",
              "78025     YFA\n",
              "78026     FMB\n",
              "78027     YFU\n",
              "78028     YFC\n",
              "78029      FL\n",
              "Name: main topic, Length: 78030, dtype: object"
            ]
          },
          "metadata": {
            "tags": []
          },
          "execution_count": 20
        }
      ]
    },
    {
      "cell_type": "code",
      "metadata": {
        "colab": {
          "base_uri": "https://localhost:8080/"
        },
        "id": "68QdAnJPLN32",
        "outputId": "e2377108-de1d-4a0f-8abc-52578d174f58"
      },
      "source": [
        "items_df[\"main topic\"].value_counts()"
      ],
      "execution_count": null,
      "outputs": [
        {
          "output_type": "execute_result",
          "data": {
            "text/plain": [
              "FM       6536\n",
              "YFB      5104\n",
              "FL       4576\n",
              "YFH      4149\n",
              "YFC      3468\n",
              "         ... \n",
              "YNNH5       1\n",
              "YR          1\n",
              "CBW         1\n",
              "WHP         1\n",
              "QRST        1\n",
              "Name: main topic, Length: 699, dtype: int64"
            ]
          },
          "metadata": {
            "tags": []
          },
          "execution_count": 21
        }
      ]
    },
    {
      "cell_type": "code",
      "metadata": {
        "colab": {
          "base_uri": "https://localhost:8080/"
        },
        "id": "6-Ef3Y0ALZba",
        "outputId": "563d1a3e-085e-48c0-fccf-cf71abbb5aef"
      },
      "source": [
        "# subtopics feature\n",
        "items_df[\"subtopics\"]"
      ],
      "execution_count": null,
      "outputs": [
        {
          "output_type": "execute_result",
          "data": {
            "text/plain": [
              "0                                [5AH]\n",
              "1        [5AJ,AGZ,WFA,YBG,YBL,YNA,YPA]\n",
              "2                            [5AP,FBA]\n",
              "3                 [5AC,5AD,YBG,YBL,YF]\n",
              "4         [WD,WFTM,YBG,YBL,YBLD,YBLN1]\n",
              "                     ...              \n",
              "78025                            [YFJ]\n",
              "78026                               []\n",
              "78027                               []\n",
              "78028                        [YFG,YFH]\n",
              "78029                               []\n",
              "Name: subtopics, Length: 78030, dtype: object"
            ]
          },
          "metadata": {
            "tags": []
          },
          "execution_count": 22
        }
      ]
    },
    {
      "cell_type": "code",
      "metadata": {
        "colab": {
          "base_uri": "https://localhost:8080/"
        },
        "id": "Mtwy5zmdLmrv",
        "outputId": "8b013e01-1f01-43f1-c5da-17a903ea5c6d"
      },
      "source": [
        "items_df[\"subtopics\"].value_counts()"
      ],
      "execution_count": null,
      "outputs": [
        {
          "output_type": "execute_result",
          "data": {
            "text/plain": [
              "[]                              36904\n",
              "[YF]                             1425\n",
              "[FL]                             1076\n",
              "[YFQ]                             854\n",
              "[FM]                              841\n",
              "                                ...  \n",
              "[5AL,1FPJ,YFH]                      1\n",
              "[5AN,4CL,YNC]                       1\n",
              "[5AL,FBA,FM,YFB]                    1\n",
              "[5AM,FJMS,YFCW,YFT,YFY,3MPB]        1\n",
              "[5JA,FMR,FMX,FRD]                   1\n",
              "Name: subtopics, Length: 11381, dtype: int64"
            ]
          },
          "metadata": {
            "tags": []
          },
          "execution_count": 23
        }
      ]
    },
    {
      "cell_type": "code",
      "metadata": {
        "colab": {
          "base_uri": "https://localhost:8080/"
        },
        "id": "FNH2tDcYzFdz",
        "outputId": "cfe5eef3-dc07-442a-fbe2-8912405925f9"
      },
      "source": [
        "# title feature\n",
        "items_df[\"title\"].head()"
      ],
      "execution_count": null,
      "outputs": [
        {
          "output_type": "execute_result",
          "data": {
            "text/plain": [
              "0               Princess Poppy: The Big Mix Up\n",
              "1               Einfach zeichnen! Step by Step\n",
              "2                                  Red Queen 1\n",
              "3           Meine Kindergarten-Freunde (Pirat)\n",
              "4    Mein großes Schablonen-Buch - Wilde Tiere\n",
              "Name: title, dtype: object"
            ]
          },
          "metadata": {
            "tags": []
          },
          "execution_count": 24
        }
      ]
    },
    {
      "cell_type": "code",
      "metadata": {
        "colab": {
          "base_uri": "https://localhost:8080/"
        },
        "id": "EGD4hP5U9ooS",
        "outputId": "aca80be9-e9a4-406b-de74-8d6a5c6478b2"
      },
      "source": [
        "items_df[\"title\"].value_counts()"
      ],
      "execution_count": null,
      "outputs": [
        {
          "output_type": "execute_result",
          "data": {
            "text/plain": [
              "The Secret Garden                    25\n",
              "Anne of Green Gables                 19\n",
              "Alice's Adventures in Wonderland     18\n",
              "The Railway Children                 17\n",
              "Peter Pan                            16\n",
              "                                     ..\n",
              "Drew Is Just Like You!                1\n",
              "Take Me Back to Oz                    1\n",
              "Flat Stanley and the Fire Station     1\n",
              "Die Legende vom Feuermal              1\n",
              "The Waisting of Time                  1\n",
              "Name: title, Length: 72128, dtype: int64"
            ]
          },
          "metadata": {
            "tags": []
          },
          "execution_count": 25
        }
      ]
    },
    {
      "cell_type": "code",
      "metadata": {
        "colab": {
          "base_uri": "https://localhost:8080/"
        },
        "id": "GH1_3u6LAcW6",
        "outputId": "e32db415-eebf-4d8b-c1b9-4255d81ba951"
      },
      "source": [
        "# authors feature\n",
        "items_df[\"author\"].value_counts()"
      ],
      "execution_count": null,
      "outputs": [
        {
          "output_type": "execute_result",
          "data": {
            "text/plain": [
              "Garcia Santiago                    1479\n",
              "Shelley Admont, Kidkiddos Books     228\n",
              "James Manning                       180\n",
              "Jules Verne                         178\n",
              "Idries Shah                         168\n",
              "                                   ... \n",
              "Sharon Lee Wander                     1\n",
              "Joe Green                             1\n",
              "C. E Dimond                           1\n",
              "Paul Schullery                        1\n",
              "Katharina Wilhelm                     1\n",
              "Name: author, Length: 35969, dtype: int64"
            ]
          },
          "metadata": {
            "tags": []
          },
          "execution_count": 11
        }
      ]
    },
    {
      "cell_type": "code",
      "metadata": {
        "id": "VWuntuJjFFSW"
      },
      "source": [
        "# getting the top N words in the title feature before removing stop words\n",
        "def get_top_n_words(corpus, n=None):\n",
        "    vec = CountVectorizer().fit(corpus)\n",
        "    bag_of_words = vec.transform(corpus)\n",
        "    sum_words = bag_of_words.sum(axis=0) \n",
        "    words_freq = [(word, sum_words[0, idx]) for word, idx in vec.vocabulary_.items()]\n",
        "    words_freq =sorted(words_freq, key = lambda x: x[1], reverse=True)\n",
        "    return words_freq[:n]\n",
        "\n"
      ],
      "execution_count": null,
      "outputs": []
    },
    {
      "cell_type": "code",
      "metadata": {
        "colab": {
          "base_uri": "https://localhost:8080/",
          "height": 517
        },
        "id": "qkZS2N0nFV78",
        "outputId": "d8d9d3a9-d7e5-4fcb-93c9-eaa72a85a4b7"
      },
      "source": [
        "from plotly.offline import iplot\n",
        "import cufflinks\n",
        "cufflinks.go_offline()\n",
        "cufflinks.set_config_file(world_readable=True, theme='solar')\n",
        "import plotly.graph_objs as go\n",
        "import plotly.figure_factory as ff\n",
        "\n",
        "#import chart_studio.plotly as py\n",
        "#import plotly.figure_factory as ff\n",
        "\n",
        "common_words = get_top_n_words(df_combined['title'], n=20)\n",
        "df1 = pd.DataFrame(common_words, columns = ['title' , 'count'])\n",
        "df1.groupby('title').sum()['count'].sort_values().plot(kind='barh', \n",
        "                                                       #yTitle='Count', \n",
        "                                                       #linecolor='black', \n",
        "                                                       figsize = (12,8),\n",
        "                                                       title='Top 20 words in the book titles before removing stop words')\n",
        "\n"
      ],
      "execution_count": null,
      "outputs": [
        {
          "output_type": "display_data",
          "data": {
            "text/html": [
              "        <script type=\"text/javascript\">\n",
              "        window.PlotlyConfig = {MathJaxConfig: 'local'};\n",
              "        if (window.MathJax) {MathJax.Hub.Config({SVG: {font: \"STIX-Web\"}});}\n",
              "        if (typeof require !== 'undefined') {\n",
              "        require.undef(\"plotly\");\n",
              "        requirejs.config({\n",
              "            paths: {\n",
              "                'plotly': ['https://cdn.plot.ly/plotly-latest.min']\n",
              "            }\n",
              "        });\n",
              "        require(['plotly'], function(Plotly) {\n",
              "            window._Plotly = Plotly;\n",
              "        });\n",
              "        }\n",
              "        </script>\n",
              "        "
            ]
          },
          "metadata": {
            "tags": []
          }
        },
        {
          "output_type": "execute_result",
          "data": {
            "text/plain": [
              "<matplotlib.axes._subplots.AxesSubplot at 0x7f315102dc50>"
            ]
          },
          "metadata": {
            "tags": []
          },
          "execution_count": 23
        },
        {
          "output_type": "display_data",
          "data": {
            "image/png": "[encoded data removed]",
            "text/plain": [
              "<Figure size 864x576 with 1 Axes>"
            ]
          },
          "metadata": {
            "tags": [],
            "needs_background": "light"
          }
        }
      ]
    },
    {
      "cell_type": "code",
      "metadata": {
        "colab": {
          "base_uri": "https://localhost:8080/",
          "height": 677
        },
        "id": "YiNmDJIXGEGR",
        "outputId": "20c92a96-8c54-4103-ea03-3c4bf8afa13b"
      },
      "source": [
        "# top 20 terms in the book title feature before removing stopwords\n",
        "df1"
      ],
      "execution_count": null,
      "outputs": [
        {
          "output_type": "execute_result",
          "data": {
            "text/html": [
              "<div>\n",
              "<style scoped>\n",
              "    .dataframe tbody tr th:only-of-type {\n",
              "        vertical-align: middle;\n",
              "    }\n",
              "\n",
              "    .dataframe tbody tr th {\n",
              "        vertical-align: top;\n",
              "    }\n",
              "\n",
              "    .dataframe thead th {\n",
              "        text-align: right;\n",
              "    }\n",
              "</style>\n",
              "<table border=\"1\" class=\"dataframe\">\n",
              "  <thead>\n",
              "    <tr style=\"text-align: right;\">\n",
              "      <th></th>\n",
              "      <th>title</th>\n",
              "      <th>count</th>\n",
              "    </tr>\n",
              "  </thead>\n",
              "  <tbody>\n",
              "    <tr>\n",
              "      <th>0</th>\n",
              "      <td>der</td>\n",
              "      <td>75261</td>\n",
              "    </tr>\n",
              "    <tr>\n",
              "      <th>1</th>\n",
              "      <td>the</td>\n",
              "      <td>56291</td>\n",
              "    </tr>\n",
              "    <tr>\n",
              "      <th>2</th>\n",
              "      <td>die</td>\n",
              "      <td>53324</td>\n",
              "    </tr>\n",
              "    <tr>\n",
              "      <th>3</th>\n",
              "      <td>of</td>\n",
              "      <td>35393</td>\n",
              "    </tr>\n",
              "    <tr>\n",
              "      <th>4</th>\n",
              "      <td>das</td>\n",
              "      <td>32622</td>\n",
              "    </tr>\n",
              "    <tr>\n",
              "      <th>5</th>\n",
              "      <td>und</td>\n",
              "      <td>28431</td>\n",
              "    </tr>\n",
              "    <tr>\n",
              "      <th>6</th>\n",
              "      <td>mein</td>\n",
              "      <td>22675</td>\n",
              "    </tr>\n",
              "    <tr>\n",
              "      <th>7</th>\n",
              "      <td>harry</td>\n",
              "      <td>16425</td>\n",
              "    </tr>\n",
              "    <tr>\n",
              "      <th>8</th>\n",
              "      <td>potter</td>\n",
              "      <td>16414</td>\n",
              "    </tr>\n",
              "    <tr>\n",
              "      <th>9</th>\n",
              "      <td>des</td>\n",
              "      <td>15008</td>\n",
              "    </tr>\n",
              "    <tr>\n",
              "      <th>10</th>\n",
              "      <td>für</td>\n",
              "      <td>14862</td>\n",
              "    </tr>\n",
              "    <tr>\n",
              "      <th>11</th>\n",
              "      <td>meine</td>\n",
              "      <td>13357</td>\n",
              "    </tr>\n",
              "    <tr>\n",
              "      <th>12</th>\n",
              "      <td>and</td>\n",
              "      <td>13295</td>\n",
              "    </tr>\n",
              "    <tr>\n",
              "      <th>13</th>\n",
              "      <td>in</td>\n",
              "      <td>10565</td>\n",
              "    </tr>\n",
              "    <tr>\n",
              "      <th>14</th>\n",
              "      <td>im</td>\n",
              "      <td>10217</td>\n",
              "    </tr>\n",
              "    <tr>\n",
              "      <th>15</th>\n",
              "      <td>freunde</td>\n",
              "      <td>10181</td>\n",
              "    </tr>\n",
              "    <tr>\n",
              "      <th>16</th>\n",
              "      <td>von</td>\n",
              "      <td>10118</td>\n",
              "    </tr>\n",
              "    <tr>\n",
              "      <th>17</th>\n",
              "      <td>kinder</td>\n",
              "      <td>8190</td>\n",
              "    </tr>\n",
              "    <tr>\n",
              "      <th>18</th>\n",
              "      <td>set</td>\n",
              "      <td>8035</td>\n",
              "    </tr>\n",
              "    <tr>\n",
              "      <th>19</th>\n",
              "      <td>01</td>\n",
              "      <td>7940</td>\n",
              "    </tr>\n",
              "  </tbody>\n",
              "</table>\n",
              "</div>"
            ],
            "text/plain": [
              "      title  count\n",
              "0       der  75261\n",
              "1       the  56291\n",
              "2       die  53324\n",
              "3        of  35393\n",
              "4       das  32622\n",
              "5       und  28431\n",
              "6      mein  22675\n",
              "7     harry  16425\n",
              "8    potter  16414\n",
              "9       des  15008\n",
              "10      für  14862\n",
              "11    meine  13357\n",
              "12      and  13295\n",
              "13       in  10565\n",
              "14       im  10217\n",
              "15  freunde  10181\n",
              "16      von  10118\n",
              "17   kinder   8190\n",
              "18      set   8035\n",
              "19       01   7940"
            ]
          },
          "metadata": {
            "tags": []
          },
          "execution_count": 13
        }
      ]
    },
    {
      "cell_type": "code",
      "metadata": {
        "id": "nacKYaR2HW-y",
        "colab": {
          "base_uri": "https://localhost:8080/",
          "height": 517
        },
        "outputId": "88e70e4e-279f-4f54-ee55-4b18d19e8647"
      },
      "source": [
        "#import chart_studio.plotly as py # library for the interactive plot method iplot()\n",
        "#import plotly.graph_objects as go\n",
        "#import plotly.figure_factory as ff\n",
        "\n",
        "def get_top_n_words(corpus, n=None):\n",
        "    vec = CountVectorizer(stop_words=['english','german']).fit(corpus) # converts text documents into a matrix of token(word) counts; stop_words option is used here \n",
        "    bag_of_words = vec.transform(corpus)\n",
        "    sum_words = bag_of_words.sum(axis=0) \n",
        "    words_freq = [(word, sum_words[0, idx]) for word, idx in vec.vocabulary_.items()]\n",
        "    words_freq =sorted(words_freq, key = lambda x: x[1], reverse=True)\n",
        "    return words_freq[:n]\n",
        "\n",
        "common_words = get_top_n_words(df_combined['title'], 20)\n",
        "df2 = pd.DataFrame(common_words, columns = ['title' , 'count'])\n",
        "df2.groupby('title').sum()['count'].sort_values().plot(kind='barh', \n",
        "                                                        #yTitle='Count', \n",
        "                                                        #linecolor='black', \n",
        "                                                        figsize = (12,8),\n",
        "                                                        title='Top 20 words in book title after removing stop words')\n",
        "\n"
      ],
      "execution_count": null,
      "outputs": [
        {
          "output_type": "execute_result",
          "data": {
            "text/plain": [
              "<matplotlib.axes._subplots.AxesSubplot at 0x7f3155dd6590>"
            ]
          },
          "metadata": {
            "tags": []
          },
          "execution_count": 21
        },
        {
          "output_type": "display_data",
          "data": {
            "image/png": "[encoded data removed]",
            "text/plain": [
              "<Figure size 864x576 with 1 Axes>"
            ]
          },
          "metadata": {
            "tags": [],
            "needs_background": "light"
          }
        }
      ]
    },
    {
      "cell_type": "code",
      "metadata": {
        "colab": {
          "base_uri": "https://localhost:8080/",
          "height": 677
        },
        "id": "jDqe6DjsKRn-",
        "outputId": "0ac4a74f-495c-490e-d81a-5274cada56b1"
      },
      "source": [
        "df2"
      ],
      "execution_count": null,
      "outputs": [
        {
          "output_type": "execute_result",
          "data": {
            "text/html": [
              "<div>\n",
              "<style scoped>\n",
              "    .dataframe tbody tr th:only-of-type {\n",
              "        vertical-align: middle;\n",
              "    }\n",
              "\n",
              "    .dataframe tbody tr th {\n",
              "        vertical-align: top;\n",
              "    }\n",
              "\n",
              "    .dataframe thead th {\n",
              "        text-align: right;\n",
              "    }\n",
              "</style>\n",
              "<table border=\"1\" class=\"dataframe\">\n",
              "  <thead>\n",
              "    <tr style=\"text-align: right;\">\n",
              "      <th></th>\n",
              "      <th>title</th>\n",
              "      <th>count</th>\n",
              "    </tr>\n",
              "  </thead>\n",
              "  <tbody>\n",
              "    <tr>\n",
              "      <th>0</th>\n",
              "      <td>der</td>\n",
              "      <td>75261</td>\n",
              "    </tr>\n",
              "    <tr>\n",
              "      <th>1</th>\n",
              "      <td>the</td>\n",
              "      <td>56291</td>\n",
              "    </tr>\n",
              "    <tr>\n",
              "      <th>2</th>\n",
              "      <td>die</td>\n",
              "      <td>53324</td>\n",
              "    </tr>\n",
              "    <tr>\n",
              "      <th>3</th>\n",
              "      <td>of</td>\n",
              "      <td>35393</td>\n",
              "    </tr>\n",
              "    <tr>\n",
              "      <th>4</th>\n",
              "      <td>das</td>\n",
              "      <td>32622</td>\n",
              "    </tr>\n",
              "    <tr>\n",
              "      <th>5</th>\n",
              "      <td>und</td>\n",
              "      <td>28431</td>\n",
              "    </tr>\n",
              "    <tr>\n",
              "      <th>6</th>\n",
              "      <td>mein</td>\n",
              "      <td>22675</td>\n",
              "    </tr>\n",
              "    <tr>\n",
              "      <th>7</th>\n",
              "      <td>harry</td>\n",
              "      <td>16425</td>\n",
              "    </tr>\n",
              "    <tr>\n",
              "      <th>8</th>\n",
              "      <td>potter</td>\n",
              "      <td>16414</td>\n",
              "    </tr>\n",
              "    <tr>\n",
              "      <th>9</th>\n",
              "      <td>des</td>\n",
              "      <td>15008</td>\n",
              "    </tr>\n",
              "    <tr>\n",
              "      <th>10</th>\n",
              "      <td>für</td>\n",
              "      <td>14862</td>\n",
              "    </tr>\n",
              "    <tr>\n",
              "      <th>11</th>\n",
              "      <td>meine</td>\n",
              "      <td>13357</td>\n",
              "    </tr>\n",
              "    <tr>\n",
              "      <th>12</th>\n",
              "      <td>and</td>\n",
              "      <td>13295</td>\n",
              "    </tr>\n",
              "    <tr>\n",
              "      <th>13</th>\n",
              "      <td>in</td>\n",
              "      <td>10565</td>\n",
              "    </tr>\n",
              "    <tr>\n",
              "      <th>14</th>\n",
              "      <td>im</td>\n",
              "      <td>10217</td>\n",
              "    </tr>\n",
              "    <tr>\n",
              "      <th>15</th>\n",
              "      <td>freunde</td>\n",
              "      <td>10181</td>\n",
              "    </tr>\n",
              "    <tr>\n",
              "      <th>16</th>\n",
              "      <td>von</td>\n",
              "      <td>10118</td>\n",
              "    </tr>\n",
              "    <tr>\n",
              "      <th>17</th>\n",
              "      <td>kinder</td>\n",
              "      <td>8190</td>\n",
              "    </tr>\n",
              "    <tr>\n",
              "      <th>18</th>\n",
              "      <td>set</td>\n",
              "      <td>8035</td>\n",
              "    </tr>\n",
              "    <tr>\n",
              "      <th>19</th>\n",
              "      <td>01</td>\n",
              "      <td>7940</td>\n",
              "    </tr>\n",
              "  </tbody>\n",
              "</table>\n",
              "</div>"
            ],
            "text/plain": [
              "      title  count\n",
              "0       der  75261\n",
              "1       the  56291\n",
              "2       die  53324\n",
              "3        of  35393\n",
              "4       das  32622\n",
              "5       und  28431\n",
              "6      mein  22675\n",
              "7     harry  16425\n",
              "8    potter  16414\n",
              "9       des  15008\n",
              "10      für  14862\n",
              "11    meine  13357\n",
              "12      and  13295\n",
              "13       in  10565\n",
              "14       im  10217\n",
              "15  freunde  10181\n",
              "16      von  10118\n",
              "17   kinder   8190\n",
              "18      set   8035\n",
              "19       01   7940"
            ]
          },
          "metadata": {
            "tags": []
          },
          "execution_count": 15
        }
      ]
    },
    {
      "cell_type": "code",
      "metadata": {
        "colab": {
          "base_uri": "https://localhost:8080/"
        },
        "id": "0PjMzezwM_jv",
        "outputId": "c3c62aee-b183-4db9-b55d-abc1da22718c"
      },
      "source": [
        "# title word counts\n",
        "df_combined['word_count'] = df_combined['title'].apply(lambda x: len(str(x).split())) # adding a word_count column to the dataframe\n",
        "title_lengths = list(df_combined['word_count'])\n",
        "print(\"Number of descriptions:\",len(title_lengths),\n",
        "      \"\\nAverage word count\", np.average(title_lengths),\n",
        "      \"\\nMinimum word count\", min(title_lengths),\n",
        "      \"\\nMaximum word count\", max(title_lengths))"
      ],
      "execution_count": null,
      "outputs": [
        {
          "output_type": "stream",
          "text": [
            "Number of descriptions: 365143 \n",
            "Average word count 4.931793845151078 \n",
            "Minimum word count 1 \n",
            "Maximum word count 22\n"
          ],
          "name": "stdout"
        }
      ]
    },
    {
      "cell_type": "code",
      "metadata": {
        "colab": {
          "base_uri": "https://localhost:8080/",
          "height": 517
        },
        "id": "BPvLTxpFQKT1",
        "outputId": "ee5ffb4b-4e31-4f74-d4a0-f2c5e1a13858"
      },
      "source": [
        "df_combined['word_count'].plot(\n",
        "    kind='hist',\n",
        "    bins = 50,\n",
        "    #linecolor='black',\n",
        "    #xTitle='word count',\n",
        "    #yTitle='count',\n",
        "    figsize = (12,8),\n",
        "    title='Word Count Distribution in book title')\n",
        "\n"
      ],
      "execution_count": null,
      "outputs": [
        {
          "output_type": "execute_result",
          "data": {
            "text/plain": [
              "<matplotlib.axes._subplots.AxesSubplot at 0x7f3155824b50>"
            ]
          },
          "metadata": {
            "tags": []
          },
          "execution_count": 17
        },
        {
          "output_type": "display_data",
          "data": {
            "image/png": "[encoded data removed]",
            "text/plain": [
              "<Figure size 864x576 with 1 Axes>"
            ]
          },
          "metadata": {
            "tags": [],
            "needs_background": "light"
          }
        }
      ]
    },
    {
      "cell_type": "code",
      "metadata": {
        "id": "TgvlG0WLQeJl"
      },
      "source": [
        "from nltk.corpus import stopwords\n",
        "import re\n",
        "\n",
        "# text processing (cleaning the title by removing special characters, numbers and stopwords)\n",
        "\n",
        "REPLACE_BY_SPACE_RE = re.compile('[/(){}\\[\\]\\|@,;]')\n",
        "BAD_SYMBOLS_RE = re.compile('[^0-9a-z #+_]')\n",
        "STOPWORDS = set(stopwords.words('english')) # idea: use a list of languages for stopwords\n",
        "\n",
        "def clean_text(text):\n",
        "    \"\"\"\n",
        "        text: a string\n",
        "        \n",
        "        return: modified initial string\n",
        "    \"\"\"\n",
        "    text = text.lower() # lowercase text\n",
        "    text = REPLACE_BY_SPACE_RE.sub(' ', text) # replace REPLACE_BY_SPACE_RE symbols by space in text. substitute the matched string in REPLACE_BY_SPACE_RE with space.\n",
        "    text = BAD_SYMBOLS_RE.sub('', text) # remove symbols which are in BAD_SYMBOLS_RE from text. substitute the matched string in BAD_SYMBOLS_RE with nothing. \n",
        "    text = ' '.join(word for word in text.split() if word not in STOPWORDS) # remove stopwors from text\n",
        "    return text\n",
        "    \n",
        "df_combined['title_clean'] = df_combined['title'].apply(clean_text) # adding a column with the clean title to the dataframe"
      ],
      "execution_count": null,
      "outputs": []
    },
    {
      "cell_type": "code",
      "metadata": {
        "colab": {
          "base_uri": "https://localhost:8080/",
          "height": 310
        },
        "id": "Sf53YBYhQ549",
        "outputId": "60917e7c-9a1a-4f08-b5bf-73cb95d1672a"
      },
      "source": [
        "df_combined.head()"
      ],
      "execution_count": null,
      "outputs": [
        {
          "output_type": "execute_result",
          "data": {
            "text/html": [
              "<div>\n",
              "<style scoped>\n",
              "    .dataframe tbody tr th:only-of-type {\n",
              "        vertical-align: middle;\n",
              "    }\n",
              "\n",
              "    .dataframe tbody tr th {\n",
              "        vertical-align: top;\n",
              "    }\n",
              "\n",
              "    .dataframe thead th {\n",
              "        text-align: right;\n",
              "    }\n",
              "</style>\n",
              "<table border=\"1\" class=\"dataframe\">\n",
              "  <thead>\n",
              "    <tr style=\"text-align: right;\">\n",
              "      <th></th>\n",
              "      <th>itemID</th>\n",
              "      <th>title</th>\n",
              "      <th>author</th>\n",
              "      <th>publisher</th>\n",
              "      <th>main topic</th>\n",
              "      <th>subtopics</th>\n",
              "      <th>sessionID</th>\n",
              "      <th>click</th>\n",
              "      <th>basket</th>\n",
              "      <th>order</th>\n",
              "      <th>word_count</th>\n",
              "      <th>title_clean</th>\n",
              "    </tr>\n",
              "  </thead>\n",
              "  <tbody>\n",
              "    <tr>\n",
              "      <th>0</th>\n",
              "      <td>21310</td>\n",
              "      <td>Princess Poppy: The Big Mix Up</td>\n",
              "      <td>Janey Louise Jones</td>\n",
              "      <td>Penguin Random House Children's UK</td>\n",
              "      <td>YFB</td>\n",
              "      <td>[5AH]</td>\n",
              "      <td>0</td>\n",
              "      <td>1</td>\n",
              "      <td>0</td>\n",
              "      <td>0</td>\n",
              "      <td>6</td>\n",
              "      <td>princess poppy big mix</td>\n",
              "    </tr>\n",
              "    <tr>\n",
              "      <th>1</th>\n",
              "      <td>21310</td>\n",
              "      <td>Princess Poppy: The Big Mix Up</td>\n",
              "      <td>Janey Louise Jones</td>\n",
              "      <td>Penguin Random House Children's UK</td>\n",
              "      <td>YFB</td>\n",
              "      <td>[5AH]</td>\n",
              "      <td>89272</td>\n",
              "      <td>1</td>\n",
              "      <td>0</td>\n",
              "      <td>0</td>\n",
              "      <td>6</td>\n",
              "      <td>princess poppy big mix</td>\n",
              "    </tr>\n",
              "    <tr>\n",
              "      <th>2</th>\n",
              "      <td>21310</td>\n",
              "      <td>Princess Poppy: The Big Mix Up</td>\n",
              "      <td>Janey Louise Jones</td>\n",
              "      <td>Penguin Random House Children's UK</td>\n",
              "      <td>YFB</td>\n",
              "      <td>[5AH]</td>\n",
              "      <td>183856</td>\n",
              "      <td>1</td>\n",
              "      <td>0</td>\n",
              "      <td>0</td>\n",
              "      <td>6</td>\n",
              "      <td>princess poppy big mix</td>\n",
              "    </tr>\n",
              "    <tr>\n",
              "      <th>3</th>\n",
              "      <td>73018</td>\n",
              "      <td>Einfach zeichnen! Step by Step</td>\n",
              "      <td>Wiebke Krabbe</td>\n",
              "      <td>Schwager und Steinlein</td>\n",
              "      <td>AGZ</td>\n",
              "      <td>[5AJ,AGZ,WFA,YBG,YBL,YNA,YPA]</td>\n",
              "      <td>1</td>\n",
              "      <td>1</td>\n",
              "      <td>0</td>\n",
              "      <td>0</td>\n",
              "      <td>5</td>\n",
              "      <td>einfach zeichnen step step</td>\n",
              "    </tr>\n",
              "    <tr>\n",
              "      <th>4</th>\n",
              "      <td>73018</td>\n",
              "      <td>Einfach zeichnen! Step by Step</td>\n",
              "      <td>Wiebke Krabbe</td>\n",
              "      <td>Schwager und Steinlein</td>\n",
              "      <td>AGZ</td>\n",
              "      <td>[5AJ,AGZ,WFA,YBG,YBL,YNA,YPA]</td>\n",
              "      <td>771</td>\n",
              "      <td>1</td>\n",
              "      <td>0</td>\n",
              "      <td>0</td>\n",
              "      <td>5</td>\n",
              "      <td>einfach zeichnen step step</td>\n",
              "    </tr>\n",
              "  </tbody>\n",
              "</table>\n",
              "</div>"
            ],
            "text/plain": [
              "   itemID  ...                 title_clean\n",
              "0   21310  ...      princess poppy big mix\n",
              "1   21310  ...      princess poppy big mix\n",
              "2   21310  ...      princess poppy big mix\n",
              "3   73018  ...  einfach zeichnen step step\n",
              "4   73018  ...  einfach zeichnen step step\n",
              "\n",
              "[5 rows x 12 columns]"
            ]
          },
          "metadata": {
            "tags": []
          },
          "execution_count": 26
        }
      ]
    },
    {
      "cell_type": "markdown",
      "metadata": {
        "id": "cZZmKAKLJ3vU"
      },
      "source": [
        "# (1) Vectorization of the feature containing text data"
      ]
    },
    {
      "cell_type": "markdown",
      "metadata": {
        "id": "aq7g1k2wR9lF"
      },
      "source": [
        "old attempt of cleaning the title column start"
      ]
    },
    {
      "cell_type": "code",
      "metadata": {
        "id": "a53fz48Y63lz"
      },
      "source": [
        "# data pre-processing to remove stop words, punctuation, white space, and convert all words to lower case\n",
        "l = [] # instantiating an empty list\n",
        "r = Rake() # instantiating the RAKE (rapid automatic keyword extraction) object\n",
        "for index, row in items_df.iterrows():\n",
        "    r.extract_keywords_from_text(row['title'])\n",
        "    key_words_dict_scores = r.get_word_degrees()\n",
        "    l.append(list(key_words_dict_scores.keys()))\n",
        "items_df['keywords'] = l # creating a keywords column in the items_df dataframe which contains a list of keywords"
      ],
      "execution_count": null,
      "outputs": []
    },
    {
      "cell_type": "code",
      "metadata": {
        "colab": {
          "base_uri": "https://localhost:8080/",
          "height": 206
        },
        "id": "rsGjtf1lCi51",
        "outputId": "b2477c51-b7cc-4c12-b8bf-1a0b6b3ccdb2"
      },
      "source": [
        "items_df.head()"
      ],
      "execution_count": null,
      "outputs": [
        {
          "output_type": "execute_result",
          "data": {
            "text/html": [
              "<div>\n",
              "<style scoped>\n",
              "    .dataframe tbody tr th:only-of-type {\n",
              "        vertical-align: middle;\n",
              "    }\n",
              "\n",
              "    .dataframe tbody tr th {\n",
              "        vertical-align: top;\n",
              "    }\n",
              "\n",
              "    .dataframe thead th {\n",
              "        text-align: right;\n",
              "    }\n",
              "</style>\n",
              "<table border=\"1\" class=\"dataframe\">\n",
              "  <thead>\n",
              "    <tr style=\"text-align: right;\">\n",
              "      <th></th>\n",
              "      <th>itemID</th>\n",
              "      <th>title</th>\n",
              "      <th>author</th>\n",
              "      <th>publisher</th>\n",
              "      <th>main topic</th>\n",
              "      <th>subtopics</th>\n",
              "      <th>keywords</th>\n",
              "    </tr>\n",
              "  </thead>\n",
              "  <tbody>\n",
              "    <tr>\n",
              "      <th>0</th>\n",
              "      <td>21310</td>\n",
              "      <td>Princess Poppy: The Big Mix Up</td>\n",
              "      <td>Janey Louise Jones</td>\n",
              "      <td>Penguin Random House Children's UK</td>\n",
              "      <td>YFB</td>\n",
              "      <td>[5AH]</td>\n",
              "      <td>[princess, poppy, big, mix]</td>\n",
              "    </tr>\n",
              "    <tr>\n",
              "      <th>1</th>\n",
              "      <td>73018</td>\n",
              "      <td>Einfach zeichnen! Step by Step</td>\n",
              "      <td>Wiebke Krabbe</td>\n",
              "      <td>Schwager und Steinlein</td>\n",
              "      <td>AGZ</td>\n",
              "      <td>[5AJ,AGZ,WFA,YBG,YBL,YNA,YPA]</td>\n",
              "      <td>[step, einfach, zeichnen]</td>\n",
              "    </tr>\n",
              "    <tr>\n",
              "      <th>2</th>\n",
              "      <td>19194</td>\n",
              "      <td>Red Queen 1</td>\n",
              "      <td>Victoria Aveyard</td>\n",
              "      <td>Orion Publishing Group</td>\n",
              "      <td>YFH</td>\n",
              "      <td>[5AP,FBA]</td>\n",
              "      <td>[red, queen, 1]</td>\n",
              "    </tr>\n",
              "    <tr>\n",
              "      <th>3</th>\n",
              "      <td>40250</td>\n",
              "      <td>Meine Kindergarten-Freunde (Pirat)</td>\n",
              "      <td>NaN</td>\n",
              "      <td>Ars Edition GmbH</td>\n",
              "      <td>YB</td>\n",
              "      <td>[5AC,5AD,YBG,YBL,YF]</td>\n",
              "      <td>[meine, kindergarten, pirat, freunde]</td>\n",
              "    </tr>\n",
              "    <tr>\n",
              "      <th>4</th>\n",
              "      <td>46107</td>\n",
              "      <td>Mein großes Schablonen-Buch - Wilde Tiere</td>\n",
              "      <td>Elizabeth Golding</td>\n",
              "      <td>Edition Michael Fischer</td>\n",
              "      <td>WFTM</td>\n",
              "      <td>[WD,WFTM,YBG,YBL,YBLD,YBLN1]</td>\n",
              "      <td>[mein, großes, schablonen, buch, wilde, tiere]</td>\n",
              "    </tr>\n",
              "  </tbody>\n",
              "</table>\n",
              "</div>"
            ],
            "text/plain": [
              "   itemID  ...                                        keywords\n",
              "0   21310  ...                     [princess, poppy, big, mix]\n",
              "1   73018  ...                       [step, einfach, zeichnen]\n",
              "2   19194  ...                                 [red, queen, 1]\n",
              "3   40250  ...           [meine, kindergarten, pirat, freunde]\n",
              "4   46107  ...  [mein, großes, schablonen, buch, wilde, tiere]\n",
              "\n",
              "[5 rows x 7 columns]"
            ]
          },
          "metadata": {
            "tags": []
          },
          "execution_count": 15
        }
      ]
    },
    {
      "cell_type": "markdown",
      "metadata": {
        "id": "WeP6WHl4DAJG"
      },
      "source": [
        "The recommender system can only read and compare a vector with another so we need to convert the text data into a vector using the CountVectorizer which counts the frequencies of each word"
      ]
    },
    {
      "cell_type": "code",
      "metadata": {
        "colab": {
          "base_uri": "https://localhost:8080/"
        },
        "id": "XVF3Vv1pE_cw",
        "outputId": "287e26cb-521f-4c3c-899d-301ffd1baa94"
      },
      "source": [
        "#items_df[\"keywords\"].shape\n",
        "\n",
        "items_df[\"title\"].shape\n"
      ],
      "execution_count": null,
      "outputs": [
        {
          "output_type": "execute_result",
          "data": {
            "text/plain": [
              "(78030,)"
            ]
          },
          "metadata": {
            "tags": []
          },
          "execution_count": 32
        }
      ]
    },
    {
      "cell_type": "code",
      "metadata": {
        "id": "fFwEYtrXAE8R"
      },
      "source": [
        "# instantiating the CountVectorizer as an object\n",
        "vectorizer = CountVectorizer()"
      ],
      "execution_count": null,
      "outputs": []
    },
    {
      "cell_type": "code",
      "metadata": {
        "colab": {
          "base_uri": "https://localhost:8080/"
        },
        "id": "8oDhCboUCRbl",
        "outputId": "a3212f69-cdce-409a-f1aa-a72c8c5fe28f"
      },
      "source": [
        "bag_of_words = vectorizer.fit_transform(items_df[\"title\"])\n",
        "\n",
        "print(bag_of_words) # (tuple) frequency of words"
      ],
      "execution_count": null,
      "outputs": [
        {
          "output_type": "stream",
          "text": [
            "  (0, 30745)\t1\n",
            "  (0, 30413)\t1\n",
            "  (0, 38985)\t1\n",
            "  (0, 4741)\t1\n",
            "  (0, 25672)\t1\n",
            "  (0, 41085)\t1\n",
            "  (1, 11630)\t1\n",
            "  (1, 44408)\t1\n",
            "  (1, 37222)\t2\n",
            "  (1, 6247)\t1\n",
            "  (2, 31944)\t1\n",
            "  (2, 31324)\t1\n",
            "  (3, 24997)\t1\n",
            "  (3, 21236)\t1\n",
            "  (3, 14922)\t1\n",
            "  (3, 29990)\t1\n",
            "  (4, 24996)\t1\n",
            "  (4, 16986)\t1\n",
            "  (4, 33824)\t1\n",
            "  (4, 5978)\t1\n",
            "  (4, 43243)\t1\n",
            "  (4, 39248)\t1\n",
            "  (5, 13000)\t1\n",
            "  (5, 15792)\t1\n",
            "  (6, 24997)\t1\n",
            "  :\t:\n",
            "  (78023, 37412)\t1\n",
            "  (78023, 26505)\t1\n",
            "  (78023, 39975)\t1\n",
            "  (78023, 11969)\t1\n",
            "  (78023, 3665)\t1\n",
            "  (78024, 38985)\t1\n",
            "  (78024, 27995)\t1\n",
            "  (78024, 10767)\t1\n",
            "  (78024, 30582)\t1\n",
            "  (78025, 38389)\t1\n",
            "  (78025, 13301)\t1\n",
            "  (78025, 39348)\t1\n",
            "  (78026, 15430)\t1\n",
            "  (78026, 9677)\t1\n",
            "  (78027, 38985)\t1\n",
            "  (78027, 2164)\t1\n",
            "  (78027, 9690)\t1\n",
            "  (78027, 23174)\t1\n",
            "  (78027, 23470)\t1\n",
            "  (78028, 38985)\t1\n",
            "  (78028, 12986)\t1\n",
            "  (78028, 2844)\t1\n",
            "  (78029, 38985)\t1\n",
            "  (78029, 23052)\t1\n",
            "  (78029, 42277)\t1\n"
          ],
          "name": "stdout"
        }
      ]
    },
    {
      "cell_type": "code",
      "metadata": {
        "colab": {
          "base_uri": "https://localhost:8080/"
        },
        "id": "CHd4S9DBDEGs",
        "outputId": "5a362fc4-e46d-48c6-bf78-19e2bf12ab84"
      },
      "source": [
        "# print the counts of repeated words\n",
        "##print(vectorizer.vocabulary_)\n"
      ],
      "execution_count": null,
      "outputs": [
        {
          "output_type": "execute_result",
          "data": {
            "text/plain": [
              "<function dict.values>"
            ]
          },
          "metadata": {
            "tags": []
          },
          "execution_count": 67
        }
      ]
    },
    {
      "cell_type": "markdown",
      "metadata": {
        "id": "Gbb7IvnzSQNZ"
      },
      "source": [
        "old attempt to clean the title feature end"
      ]
    },
    {
      "cell_type": "markdown",
      "metadata": {
        "id": "NCoR6AcjKETo"
      },
      "source": [
        "# (2) TF-IDF Transformation"
      ]
    },
    {
      "cell_type": "markdown",
      "metadata": {
        "id": "qS5wW5SZONJm"
      },
      "source": [
        "TF-IDF: \"term frequency - inverse document frequency\n",
        "Text mining technique to compute a weight for each word (=term) representing its importance in the document"
      ]
    },
    {
      "cell_type": "markdown",
      "metadata": {
        "id": "Kk8fRaw_khRp"
      },
      "source": [
        "https://towardsdatascience.com/tf-idf-for-document-ranking-from-scratch-in-python-on-real-world-dataset-796d339a4089"
      ]
    },
    {
      "cell_type": "markdown",
      "metadata": {
        "id": "zwnBv8R5-7Hk"
      },
      "source": [
        "**Parameters of the TfidfVectorizer function**:  \n",
        "\n",
        "analyzer : str, {'word', 'char', 'char_wb'} \n",
        "    Whether the feature should be made of word or character n-grams.\n",
        "    Option 'char_wb' creates character n-grams only from text inside \n",
        "   word boundaries; n-grams at the edges of words are padded with space.\n",
        "\n",
        "ngram_range : tuple (min_n, max_n), default=(1, 1)\n",
        "    The lower and upper boundary of the range of n-values for different\n",
        "    n-grams to be extracted  \n",
        "\n",
        "\n"
      ]
    },
    {
      "cell_type": "code",
      "metadata": {
        "id": "-1CyGqZB92q4"
      },
      "source": [
        "##df_combined.set_index('title', inplace = True) # modifying the dataframe in place (not in a new object)\n",
        "\n",
        "# Create a TF-IDF matrix (containing the TFIDF scores) of unigrams, bigrams, and trigrams for each book title\n",
        "tf = TfidfVectorizer(analyzer='word', ngram_range=(1, 3), min_df=0, stop_words='english') \n",
        "tfidf_matrix = tf.fit_transform(df_combined['title_clean']) # transform the cleaned title feature \n",
        "\n",
        "\n",
        "\n",
        "\n"
      ],
      "execution_count": null,
      "outputs": []
    },
    {
      "cell_type": "markdown",
      "metadata": {
        "id": "jx5C7FC7Z_S9"
      },
      "source": [
        "TO DO: use multiple features and compute TFIDF scores for all of them\n",
        ", e.g.:  \n",
        "tfidf_matrix_3_features = tf.fit_transform(df_combined[[\"title_clean\",\"publisher\",\"author\"]])"
      ]
    },
    {
      "cell_type": "code",
      "metadata": {
        "colab": {
          "base_uri": "https://localhost:8080/"
        },
        "id": "3Pcywcyd-K7-",
        "outputId": "c56cfb2f-3de0-4bd0-f006-a5fb09f8115e"
      },
      "source": [
        "# the TFIDF matrix contains the TFIDF score of each word\n",
        "print(tfidf_matrix)"
      ],
      "execution_count": null,
      "outputs": [
        {
          "output_type": "stream",
          "text": [
            "  (0, 66613)\t0.37498706618772626\n",
            "  (0, 67132)\t0.37498706618772626\n",
            "  (0, 9859)\t0.37498706618772626\n",
            "  (0, 66612)\t0.37498706618772626\n",
            "  (0, 67131)\t0.3627469117723769\n",
            "  (0, 59787)\t0.3540623840068011\n",
            "  (0, 9814)\t0.2454669545374768\n",
            "  (0, 66611)\t0.271322082930969\n",
            "  (0, 67075)\t0.2161564446016081\n",
            "  (1, 66613)\t0.37498706618772626\n",
            "  (1, 67132)\t0.37498706618772626\n",
            "  (1, 9859)\t0.37498706618772626\n",
            "  (1, 66612)\t0.37498706618772626\n",
            "  (1, 67131)\t0.3627469117723769\n",
            "  (1, 59787)\t0.3540623840068011\n",
            "  (1, 9814)\t0.2454669545374768\n",
            "  (1, 66611)\t0.271322082930969\n",
            "  (1, 67075)\t0.2161564446016081\n",
            "  (2, 66613)\t0.37498706618772626\n",
            "  (2, 67132)\t0.37498706618772626\n",
            "  (2, 9859)\t0.37498706618772626\n",
            "  (2, 66612)\t0.37498706618772626\n",
            "  (2, 67131)\t0.3627469117723769\n",
            "  (2, 59787)\t0.3540623840068011\n",
            "  (2, 9814)\t0.2454669545374768\n",
            "  :\t:\n",
            "  (365139, 35198)\t0.26143793829041395\n",
            "  (365139, 89679)\t0.26143793829041395\n",
            "  (365139, 5526)\t0.26143793829041395\n",
            "  (365139, 35197)\t0.26143793829041395\n",
            "  (365139, 89678)\t0.26143793829041395\n",
            "  (365139, 48728)\t0.26143793829041395\n",
            "  (365139, 89675)\t0.21562375250744903\n",
            "  (365139, 5521)\t0.25456386645658025\n",
            "  (365139, 35196)\t0.25456386645658025\n",
            "  (365139, 20562)\t0.2075268698403271\n",
            "  (365139, 61542)\t0.19024031091974383\n",
            "  (365139, 19169)\t0.06940671301142315\n",
            "  (365140, 81524)\t1.0\n",
            "  (365141, 42212)\t0.425925429045126\n",
            "  (365141, 38508)\t0.425925429045126\n",
            "  (365141, 42211)\t0.425925429045126\n",
            "  (365141, 38507)\t0.41275736054900786\n",
            "  (365141, 42208)\t0.3961675562259972\n",
            "  (365141, 41161)\t0.35839254370691614\n",
            "  (365142, 31501)\t0.43019623390190215\n",
            "  (365142, 74375)\t0.43019623390190215\n",
            "  (365142, 31500)\t0.43019623390190215\n",
            "  (365142, 31499)\t0.43019623390190215\n",
            "  (365142, 5509)\t0.3424785473690693\n",
            "  (365142, 74374)\t0.377403293491792\n"
          ],
          "name": "stdout"
        }
      ]
    },
    {
      "cell_type": "code",
      "metadata": {
        "colab": {
          "base_uri": "https://localhost:8080/"
        },
        "id": "PuHKAN8aMmRa",
        "outputId": "2f74ad81-8106-4e25-9387-cf12bd275239"
      },
      "source": [
        "tfidf_matrix.shape"
      ],
      "execution_count": null,
      "outputs": [
        {
          "output_type": "execute_result",
          "data": {
            "text/plain": [
              "(365143, 94745)"
            ]
          },
          "metadata": {
            "tags": []
          },
          "execution_count": 29
        }
      ]
    },
    {
      "cell_type": "markdown",
      "metadata": {
        "id": "Bdw0zPIvRilF"
      },
      "source": [
        "Cosine Similarity: The ultimate reason behind using cosine is that the value of cosine will increase as the angle between vectors with decreases, which signifies more similarity."
      ]
    },
    {
      "cell_type": "code",
      "metadata": {
        "colab": {
          "base_uri": "https://localhost:8080/"
        },
        "id": "N9JiUX1I_dqK",
        "outputId": "e95b5dd5-0338-4663-d647-9b855ea5d07a"
      },
      "source": [
        "# calcluating cosine similarities: (trying a subset of the data first to prevent the session from crashing)\n",
        "cosine_similarities = cosine_similarity(tfidf_matrix[1:1500], tfidf_matrix[1:1500]) \n",
        "\n",
        "print(cosine_similarities)"
      ],
      "execution_count": null,
      "outputs": [
        {
          "output_type": "stream",
          "text": [
            "[[1. 1. 0. ... 0. 0. 0.]\n",
            " [1. 1. 0. ... 0. 0. 0.]\n",
            " [0. 0. 1. ... 0. 0. 0.]\n",
            " ...\n",
            " [0. 0. 0. ... 1. 1. 1.]\n",
            " [0. 0. 0. ... 1. 1. 1.]\n",
            " [0. 0. 0. ... 1. 1. 1.]]\n"
          ],
          "name": "stdout"
        }
      ]
    },
    {
      "cell_type": "code",
      "metadata": {
        "colab": {
          "base_uri": "https://localhost:8080/"
        },
        "id": "kZPNQngDSwsl",
        "outputId": "0d0a1964-fe54-4075-83ff-10c7f7ba8969"
      },
      "source": [
        "cosine_similarities.shape"
      ],
      "execution_count": null,
      "outputs": [
        {
          "output_type": "execute_result",
          "data": {
            "text/plain": [
              "(1499, 1499)"
            ]
          },
          "metadata": {
            "tags": []
          },
          "execution_count": 31
        }
      ]
    },
    {
      "cell_type": "code",
      "metadata": {
        "id": "j1Otu_nPGkzb"
      },
      "source": [
        "# creating a series of titles, so that the series index can match the row and column index of the similarity matrix\n",
        "##indices = pd.Series(df_combined.index)\n",
        "indices = pd.Series(df_combined[\"title\"])"
      ],
      "execution_count": null,
      "outputs": []
    },
    {
      "cell_type": "markdown",
      "metadata": {
        "id": "xdoZlwJhTimx"
      },
      "source": [
        "# (3) Making a recommendation"
      ]
    },
    {
      "cell_type": "markdown",
      "metadata": {
        "id": "3CLZT7fRQCWN"
      },
      "source": [
        "**Idea**: include main topics/subtopics in the recommendation function  \n",
        "**final model number 1**: combine item-item recommender (title, author) with kNN clustering of transaction data"
      ]
    },
    {
      "cell_type": "code",
      "metadata": {
        "id": "wtfgYGS4Dc5s"
      },
      "source": [
        "#  defining the function that takes in a book title as an input and returns the top 5 recommended similar books\n",
        "# This function will match the input book title with the corresponding index of the Similarity Matrix and extract the row of similarity values in descending order\n",
        "\n",
        "def recommendations(title, cosine_sim = cosine_similarities):\n",
        "    \n",
        "    recommendations = [] # initializing the empty list of recommended books\n",
        "\n",
        "    # gettin the index of the book that matches the title\n",
        "    idx = indices[indices == title].index[0]\n",
        "\n",
        "    ##if title not in idx:\n",
        "    ##    raise KeyError(\"title is not in indices\")\n",
        "\n",
        "    # creating a Series with the similarity scores in descending order\n",
        "    score_series = pd.Series(cosine_sim[idx]).sort_values(ascending = False)\n",
        "\n",
        "    # getting the indices of the 10 most similar movies\n",
        "    top_5_indices = list(score_series.iloc[1:6].index)\n",
        "\n",
        "    # populating the list with the titles of the best 10 matching movies\n",
        "    for i in top_5_indices:\n",
        "        recommendations.append(list(items_df[\"title\"])[i])\n",
        "\n",
        "    return recommendations\n"
      ],
      "execution_count": null,
      "outputs": []
    },
    {
      "cell_type": "code",
      "metadata": {
        "colab": {
          "base_uri": "https://localhost:8080/"
        },
        "id": "JneJvcXmD0hP",
        "outputId": "7600afe5-7205-4543-f49e-f8b05e705a17"
      },
      "source": [
        "# calling the recommendation function \n",
        "recommendations(title = \"Red Queen 1\", cosine_sim=cosine_similarities)"
      ],
      "execution_count": null,
      "outputs": [
        {
          "output_type": "execute_result",
          "data": {
            "text/plain": [
              "['Fae - The Sins of the Wyrde',\n",
              " 'Fall; or, Dodge in Hell',\n",
              " 'Gregs Filmtagebuch - Endlich berühmt!',\n",
              " 'Meine Kindergarten-Freunde (Dinosaurier)',\n",
              " 'Mein erstes Einhorn-Bastelbuch']"
            ]
          },
          "metadata": {
            "tags": []
          },
          "execution_count": 38
        }
      ]
    },
    {
      "cell_type": "markdown",
      "metadata": {
        "id": "X7O5pYO9IoLe"
      },
      "source": [
        "Backtest"
      ]
    },
    {
      "cell_type": "code",
      "metadata": {
        "colab": {
          "base_uri": "https://localhost:8080/",
          "height": 206
        },
        "id": "2fJWvvBeIpSy",
        "outputId": "7137e319-e61b-426e-9b9b-344139db0674"
      },
      "source": [
        "items_df.head()"
      ],
      "execution_count": null,
      "outputs": [
        {
          "output_type": "execute_result",
          "data": {
            "text/html": [
              "<div>\n",
              "<style scoped>\n",
              "    .dataframe tbody tr th:only-of-type {\n",
              "        vertical-align: middle;\n",
              "    }\n",
              "\n",
              "    .dataframe tbody tr th {\n",
              "        vertical-align: top;\n",
              "    }\n",
              "\n",
              "    .dataframe thead th {\n",
              "        text-align: right;\n",
              "    }\n",
              "</style>\n",
              "<table border=\"1\" class=\"dataframe\">\n",
              "  <thead>\n",
              "    <tr style=\"text-align: right;\">\n",
              "      <th></th>\n",
              "      <th>itemID</th>\n",
              "      <th>title</th>\n",
              "      <th>author</th>\n",
              "      <th>publisher</th>\n",
              "      <th>main topic</th>\n",
              "      <th>subtopics</th>\n",
              "      <th>keywords</th>\n",
              "    </tr>\n",
              "  </thead>\n",
              "  <tbody>\n",
              "    <tr>\n",
              "      <th>0</th>\n",
              "      <td>21310</td>\n",
              "      <td>Princess Poppy: The Big Mix Up</td>\n",
              "      <td>Janey Louise Jones</td>\n",
              "      <td>Penguin Random House Children's UK</td>\n",
              "      <td>YFB</td>\n",
              "      <td>[5AH]</td>\n",
              "      <td>[princess, poppy, big, mix]</td>\n",
              "    </tr>\n",
              "    <tr>\n",
              "      <th>1</th>\n",
              "      <td>73018</td>\n",
              "      <td>Einfach zeichnen! Step by Step</td>\n",
              "      <td>Wiebke Krabbe</td>\n",
              "      <td>Schwager und Steinlein</td>\n",
              "      <td>AGZ</td>\n",
              "      <td>[5AJ,AGZ,WFA,YBG,YBL,YNA,YPA]</td>\n",
              "      <td>[step, einfach, zeichnen]</td>\n",
              "    </tr>\n",
              "    <tr>\n",
              "      <th>2</th>\n",
              "      <td>19194</td>\n",
              "      <td>Red Queen 1</td>\n",
              "      <td>Victoria Aveyard</td>\n",
              "      <td>Orion Publishing Group</td>\n",
              "      <td>YFH</td>\n",
              "      <td>[5AP,FBA]</td>\n",
              "      <td>[red, queen, 1]</td>\n",
              "    </tr>\n",
              "    <tr>\n",
              "      <th>3</th>\n",
              "      <td>40250</td>\n",
              "      <td>Meine Kindergarten-Freunde (Pirat)</td>\n",
              "      <td>NaN</td>\n",
              "      <td>Ars Edition GmbH</td>\n",
              "      <td>YB</td>\n",
              "      <td>[5AC,5AD,YBG,YBL,YF]</td>\n",
              "      <td>[meine, kindergarten, pirat, freunde]</td>\n",
              "    </tr>\n",
              "    <tr>\n",
              "      <th>4</th>\n",
              "      <td>46107</td>\n",
              "      <td>Mein großes Schablonen-Buch - Wilde Tiere</td>\n",
              "      <td>Elizabeth Golding</td>\n",
              "      <td>Edition Michael Fischer</td>\n",
              "      <td>WFTM</td>\n",
              "      <td>[WD,WFTM,YBG,YBL,YBLD,YBLN1]</td>\n",
              "      <td>[mein, großes, schablonen, buch, wilde, tiere]</td>\n",
              "    </tr>\n",
              "  </tbody>\n",
              "</table>\n",
              "</div>"
            ],
            "text/plain": [
              "   itemID  ...                                        keywords\n",
              "0   21310  ...                     [princess, poppy, big, mix]\n",
              "1   73018  ...                       [step, einfach, zeichnen]\n",
              "2   19194  ...                                 [red, queen, 1]\n",
              "3   40250  ...           [meine, kindergarten, pirat, freunde]\n",
              "4   46107  ...  [mein, großes, schablonen, buch, wilde, tiere]\n",
              "\n",
              "[5 rows x 7 columns]"
            ]
          },
          "metadata": {
            "tags": []
          },
          "execution_count": 50
        }
      ]
    },
    {
      "cell_type": "code",
      "metadata": {
        "colab": {
          "base_uri": "https://localhost:8080/"
        },
        "id": "8nMiowatIvZ2",
        "outputId": "b5eb7964-ffe8-4be2-8959-d54eee86418f"
      },
      "source": [
        "# double check: printing the keywords of the book with the title \"Astrid Lindgren\"\n",
        "items_df[\"keywords\"].loc[items_df[\"title\"]==\"Astrid Lindgren\"]"
      ],
      "execution_count": null,
      "outputs": [
        {
          "output_type": "execute_result",
          "data": {
            "text/plain": [
              "75    [astrid, lindgren]\n",
              "Name: keywords, dtype: object"
            ]
          },
          "metadata": {
            "tags": []
          },
          "execution_count": 57
        }
      ]
    },
    {
      "cell_type": "markdown",
      "metadata": {
        "id": "3RzXUMKhFPnu"
      },
      "source": [
        "# K-NN based item-item recommendation"
      ]
    },
    {
      "cell_type": "markdown",
      "metadata": {
        "id": "jHAkh2joFlzf"
      },
      "source": [
        "https://github.com/topspinj/recommender-tutorial/blob/master/part-1-item-item-recommender.ipynb"
      ]
    },
    {
      "cell_type": "markdown",
      "metadata": {
        "id": "RjUKNfAUIDYT"
      },
      "source": [
        "\n",
        "\n",
        "The create_X() function outputs a sparse matrix X with four mapper dictionaries:\n",
        "\n",
        "    user_mapper: maps user id to user index\n",
        "    movie_mapper: maps movie id to movie index\n",
        "    user_inv_mapper: maps user index to user id\n",
        "    movie_inv_mapper: maps movie index to movie id\n",
        "\n",
        "We need these dictionaries because they map which row and column of the utility matrix corresponds to which user ID and movie ID, respectively.\n",
        "\n",
        "The X (user-item) matrix is a scipy.sparse.csr_matrix which stores the data sparsely.\n"
      ]
    },
    {
      "cell_type": "code",
      "metadata": {
        "id": "Zu55F9IMH8eH"
      },
      "source": [
        "# Idea:\n",
        "# movie id = itemID\n",
        "# user id  = sessionID\n",
        "# use click or order as implicit feedback (equivalent to ratings in a CF recommender)\n",
        "\n",
        "from scipy.sparse import csr_matrix\n",
        "\n",
        "def create_X(df):\n",
        "    \"\"\"\n",
        "    Generates a sparse matrix from ratings dataframe.\n",
        "    \n",
        "    Args:\n",
        "        df: pandas dataframe\n",
        "    \n",
        "    Returns:\n",
        "        X: sparse matrix\n",
        "        user_mapper: dict that maps user id's to user indices\n",
        "        user_inv_mapper: dict that maps user indices to user id's\n",
        "        movie_mapper: dict that maps movie id's to movie indices\n",
        "        movie_inv_mapper: dict that maps movie indices to movie id's\n",
        "    \"\"\"\n",
        "    N = df_combined['sessionID'].nunique()\n",
        "    M = df_combined['itemID'].nunique()\n",
        "\n",
        "    user_mapper = dict(zip(np.unique(df_combined['sessionID']), list(range(N))))\n",
        "    movie_mapper = dict(zip(np.unique(df_combined['itemID']), list(range(M))))\n",
        "    \n",
        "    user_inv_mapper = dict(zip(list(range(N)), np.unique(df_combined['sessionID'])))\n",
        "    movie_inv_mapper = dict(zip(list(range(M)), np.unique(df_combined['itemID'])))\n",
        "    \n",
        "    user_index = [user_mapper[i] for i in df_combined['sessionID']]\n",
        "    movie_index = [movie_mapper[i] for i in df_combined['itemID']]\n",
        "\n",
        "    X = csr_matrix((df_combined[\"click\"], (movie_index, user_index)), shape=(M, N))\n",
        "    \n",
        "    return X, user_mapper, movie_mapper, user_inv_mapper, movie_inv_mapper"
      ],
      "execution_count": null,
      "outputs": []
    },
    {
      "cell_type": "code",
      "metadata": {
        "id": "Boc8tdKgIoBD"
      },
      "source": [
        "X, user_mapper, movie_mapper, user_inv_mapper, movie_inv_mapper = create_X(df_combined)"
      ],
      "execution_count": null,
      "outputs": []
    },
    {
      "cell_type": "code",
      "metadata": {
        "id": "I89wCIZ-Fjbq"
      },
      "source": [
        "# k-nearest neighbors using cosine as a similarity measure\n",
        "from sklearn.neighbors import NearestNeighbors\n",
        "\n",
        "movie_id = df_combined[\"itemID\"]\n",
        "\n",
        "\n",
        "def find_similar_movies(movie_id, X, k, metric='cosine', show_distance=False):\n",
        "    \"\"\"\n",
        "    Finds k-nearest neighbours for a given movie id.\n",
        "    \n",
        "    Args:\n",
        "        movie_id: id of the movie of interest\n",
        "        X: user-item utility matrix\n",
        "        k: number of similar movies to retrieve\n",
        "        metric: distance metric for kNN calculations\n",
        "    \n",
        "    Returns:\n",
        "        list of k similar movie ID's\n",
        "    \"\"\"\n",
        "    neighbour_ids = []\n",
        "    \n",
        "    movie_ind = movie_mapper[movie_id]\n",
        "    movie_vec = X[movie_ind]\n",
        "    k+=1\n",
        "    kNN = NearestNeighbors(n_neighbors=k, algorithm=\"brute\", metric=metric)\n",
        "    kNN.fit(X)\n",
        "    if isinstance(movie_vec, (np.ndarray)):\n",
        "        movie_vec = movie_vec.reshape(1,-1)\n",
        "    neighbour = kNN.kneighbors(movie_vec, return_distance=show_distance)\n",
        "    for i in range(0,k):\n",
        "        n = neighbour.item(i)\n",
        "        neighbour_ids.append(movie_inv_mapper[n])\n",
        "    neighbour_ids.pop(0)\n",
        "    return neighbour_ids"
      ],
      "execution_count": null,
      "outputs": []
    },
    {
      "cell_type": "code",
      "metadata": {
        "colab": {
          "base_uri": "https://localhost:8080/"
        },
        "id": "kSWlha63GNzF",
        "outputId": "546cb8c9-0193-4961-fae7-2f929766de7e"
      },
      "source": [
        "movie_titles = dict(zip(df_combined['itemID'], df_combined[\"title\"]))\n",
        "\n",
        "movie_id = 1\n",
        "\n",
        "similar_ids = find_similar_movies(movie_id, X, k=5) # use k-NN to get the top 5 (k=5) similar items\n",
        "movie_title = movie_titles[movie_id]\n",
        "\n",
        "print(f\"Because you watched {movie_title}\")\n",
        "for i in similar_ids:\n",
        "    print(movie_titles[i])\n",
        "\n"
      ],
      "execution_count": null,
      "outputs": [
        {
          "output_type": "stream",
          "text": [
            "Because you watched Kinderklassiker-Soundbuch - Don Quichotte\n",
            "Kleine Musiker - Klavier\n",
            "Klappensoundbuch Ballettmusik\n",
            "Trötsch Der kleine Maulwurf Was hörst du da?\n",
            "LEGO Star Wars Das große Stickerbuch\n",
            "Meine Kindergarten-Freunde (Märchen)\n"
          ],
          "name": "stdout"
        }
      ]
    },
    {
      "cell_type": "code",
      "metadata": {
        "colab": {
          "base_uri": "https://localhost:8080/"
        },
        "id": "8jsq-oGnLZm1",
        "outputId": "671f204b-99a4-4963-cd3c-7cf27b7a78e3"
      },
      "source": [
        "movie_id"
      ],
      "execution_count": null,
      "outputs": [
        {
          "output_type": "execute_result",
          "data": {
            "text/plain": [
              "1"
            ]
          },
          "metadata": {
            "tags": []
          },
          "execution_count": 37
        }
      ]
    },
    {
      "cell_type": "markdown",
      "metadata": {
        "id": "kIf1G3VGNKfY"
      },
      "source": [
        "# Recommender system based on implicit feedback"
      ]
    },
    {
      "cell_type": "markdown",
      "metadata": {
        "id": "waAHbZ8NNS2a"
      },
      "source": [
        "https://github.com/topspinj/recommender-tutorial/blob/master/part-3-implicit-feedback-recommender.ipynb"
      ]
    },
    {
      "cell_type": "code",
      "metadata": {
        "id": "Tj9gJOU4NJqk"
      },
      "source": [
        "# Idea:\n",
        "# movie id = itemID\n",
        "# user id  = sessionID\n",
        "# use click or order as implicit feedback (equivalent to ratings in a CF recommender)\n",
        "\n",
        "from scipy.sparse import csr_matrix\n",
        "\n",
        "def create_X(df):\n",
        "    \"\"\"\n",
        "    Generates a sparse matrix from ratings dataframe.\n",
        "    \n",
        "    Args:\n",
        "        df: pandas dataframe\n",
        "    \n",
        "    Returns:\n",
        "        X: sparse matrix\n",
        "        user_mapper: dict that maps user id's to user indices\n",
        "        user_inv_mapper: dict that maps user indices to user id's\n",
        "        movie_mapper: dict that maps movie id's to movie indices\n",
        "        movie_inv_mapper: dict that maps movie indices to movie id's\n",
        "    \"\"\"\n",
        "    N = df_combined['sessionID'].nunique()\n",
        "    M = df_combined['itemID'].nunique()\n",
        "\n",
        "    user_mapper = dict(zip(np.unique(df_combined['sessionID']), list(range(N))))\n",
        "    movie_mapper = dict(zip(np.unique(df_combined['itemID']), list(range(M))))\n",
        "    \n",
        "    user_inv_mapper = dict(zip(list(range(N)), np.unique(df_combined['sessionID'])))\n",
        "    movie_inv_mapper = dict(zip(list(range(M)), np.unique(df_combined['itemID'])))\n",
        "    \n",
        "    user_index = [user_mapper[i] for i in df_combined['sessionID']]\n",
        "    movie_index = [movie_mapper[i] for i in df_combined['itemID']]\n",
        "\n",
        "    X = csr_matrix((df_combined[\"click\"], (movie_index, user_index)), shape=(M, N))\n",
        "    \n",
        "    return X, user_mapper, movie_mapper, user_inv_mapper, movie_inv_mapper"
      ],
      "execution_count": null,
      "outputs": []
    },
    {
      "cell_type": "code",
      "metadata": {
        "id": "gvCE5O0aNnTY"
      },
      "source": [
        "X, user_mapper, movie_mapper, user_inv_mapper, movie_inv_mapper = create_X(df_combined)"
      ],
      "execution_count": null,
      "outputs": []
    },
    {
      "cell_type": "markdown",
      "metadata": {
        "id": "64QSJ9LkNZjm"
      },
      "source": [
        "\n",
        "Creating Movie Title Mappers¶\n",
        "\n",
        "We need to interpret a movie title from its index in the user-item matrix and vice versa. Let's create 2 helper functions that make this interpretation easy:\n",
        "\n",
        "    get_movie_index() - converts a movie title to movie index\n",
        "        Note that this function uses fuzzywuzzy's string matching to get the approximate movie title match based on the string that gets passed in. This means that you don't need to know the exact spelling and formatting of the title to get the corresponding movie index.\n",
        "    get_movie_title() - converts a movie index to movie title\n",
        "\n"
      ]
    },
    {
      "cell_type": "code",
      "metadata": {
        "colab": {
          "base_uri": "https://localhost:8080/"
        },
        "id": "Xklve3OUOchY",
        "outputId": "fc1f2d62-da4b-4361-c55d-7204beb423aa"
      },
      "source": [
        "pip install fuzzywuzzy"
      ],
      "execution_count": null,
      "outputs": [
        {
          "output_type": "stream",
          "text": [
            "Collecting fuzzywuzzy\n",
            "  Downloading https://files.pythonhosted.org/packages/43/ff/74f23998ad2f93b945c0309f825be92e04e0348e062026998b5eefef4c33/fuzzywuzzy-0.18.0-py2.py3-none-any.whl\n",
            "Installing collected packages: fuzzywuzzy\n",
            "Successfully installed fuzzywuzzy-0.18.0\n"
          ],
          "name": "stdout"
        }
      ]
    },
    {
      "cell_type": "code",
      "metadata": {
        "id": "jjhmJVVyNaBR"
      },
      "source": [
        "# idea: replace movies[\"title\"] with df_combined[\"title\"] and movies[\"movieID\"] with df_combined[\"itemID\"]\n",
        "\n",
        "from fuzzywuzzy import process\n",
        "\n",
        "def movie_finder(title):\n",
        "    all_titles = df_combined['title'].tolist()\n",
        "    closest_match = process.extractOne(title,all_titles)\n",
        "    return closest_match[0]\n",
        "\n",
        "movie_title_mapper = dict(zip(df_combined['title'], df_combined['itemID']))\n",
        "movie_title_inv_mapper = dict(zip(df_combined['itemID'], df_combined['title']))\n",
        "\n",
        "def get_movie_index(title):\n",
        "    fuzzy_title = movie_finder(title)\n",
        "    movie_id = movie_title_mapper[fuzzy_title]\n",
        "    movie_idx = movie_mapper[movie_id]\n",
        "    return movie_idx\n",
        "\n",
        "def get_movie_title(movie_idx): \n",
        "    movie_id = movie_inv_mapper[movie_idx]\n",
        "    title = movie_title_inv_mapper[movie_id]\n",
        "    return title\n"
      ],
      "execution_count": null,
      "outputs": []
    },
    {
      "cell_type": "code",
      "metadata": {
        "colab": {
          "base_uri": "https://localhost:8080/",
          "height": 455
        },
        "id": "0m2xfNUNOlgv",
        "outputId": "aba4e91b-ed0c-4aca-fa51-4a8703b08167"
      },
      "source": [
        "# test\n",
        "get_movie_index('Red Queen 1')"
      ],
      "execution_count": null,
      "outputs": [
        {
          "output_type": "error",
          "ename": "KeyboardInterrupt",
          "evalue": "ignored",
          "traceback": [
            "\u001b[0;31m---------------------------------------------------------------------------\u001b[0m",
            "\u001b[0;31mAttributeError\u001b[0m                            Traceback (most recent call last)",
            "\u001b[0;32m/usr/local/lib/python3.7/dist-packages/fuzzywuzzy/process.py\u001b[0m in \u001b[0;36mextractWithoutOrder\u001b[0;34m(query, choices, processor, scorer, score_cutoff)\u001b[0m\n\u001b[1;32m    107\u001b[0m         \u001b[0;31m# See if choices is a dictionary-like object.\u001b[0m\u001b[0;34m\u001b[0m\u001b[0;34m\u001b[0m\u001b[0;34m\u001b[0m\u001b[0m\n\u001b[0;32m--> 108\u001b[0;31m         \u001b[0;32mfor\u001b[0m \u001b[0mkey\u001b[0m\u001b[0;34m,\u001b[0m \u001b[0mchoice\u001b[0m \u001b[0;32min\u001b[0m \u001b[0mchoices\u001b[0m\u001b[0;34m.\u001b[0m\u001b[0mitems\u001b[0m\u001b[0;34m(\u001b[0m\u001b[0;34m)\u001b[0m\u001b[0;34m:\u001b[0m\u001b[0;34m\u001b[0m\u001b[0;34m\u001b[0m\u001b[0m\n\u001b[0m\u001b[1;32m    109\u001b[0m             \u001b[0mprocessed\u001b[0m \u001b[0;34m=\u001b[0m \u001b[0mpre_processor\u001b[0m\u001b[0;34m(\u001b[0m\u001b[0mprocessor\u001b[0m\u001b[0;34m(\u001b[0m\u001b[0mchoice\u001b[0m\u001b[0;34m)\u001b[0m\u001b[0;34m)\u001b[0m\u001b[0;34m\u001b[0m\u001b[0;34m\u001b[0m\u001b[0m\n",
            "\u001b[0;31mAttributeError\u001b[0m: 'list' object has no attribute 'items'",
            "\nDuring handling of the above exception, another exception occurred:\n",
            "\u001b[0;31mKeyboardInterrupt\u001b[0m                         Traceback (most recent call last)",
            "\u001b[0;32m<ipython-input-46-a20aa63d1806>\u001b[0m in \u001b[0;36m<module>\u001b[0;34m()\u001b[0m\n\u001b[1;32m      1\u001b[0m \u001b[0;31m# test\u001b[0m\u001b[0;34m\u001b[0m\u001b[0;34m\u001b[0m\u001b[0;34m\u001b[0m\u001b[0m\n\u001b[0;32m----> 2\u001b[0;31m \u001b[0mget_movie_index\u001b[0m\u001b[0;34m(\u001b[0m\u001b[0;34m'Red Queen 1'\u001b[0m\u001b[0;34m)\u001b[0m\u001b[0;34m\u001b[0m\u001b[0;34m\u001b[0m\u001b[0m\n\u001b[0m",
            "\u001b[0;32m<ipython-input-43-c7e69eb1c0d6>\u001b[0m in \u001b[0;36mget_movie_index\u001b[0;34m(title)\u001b[0m\n\u001b[1;32m     12\u001b[0m \u001b[0;34m\u001b[0m\u001b[0m\n\u001b[1;32m     13\u001b[0m \u001b[0;32mdef\u001b[0m \u001b[0mget_movie_index\u001b[0m\u001b[0;34m(\u001b[0m\u001b[0mtitle\u001b[0m\u001b[0;34m)\u001b[0m\u001b[0;34m:\u001b[0m\u001b[0;34m\u001b[0m\u001b[0;34m\u001b[0m\u001b[0m\n\u001b[0;32m---> 14\u001b[0;31m     \u001b[0mfuzzy_title\u001b[0m \u001b[0;34m=\u001b[0m \u001b[0mmovie_finder\u001b[0m\u001b[0;34m(\u001b[0m\u001b[0mtitle\u001b[0m\u001b[0;34m)\u001b[0m\u001b[0;34m\u001b[0m\u001b[0;34m\u001b[0m\u001b[0m\n\u001b[0m\u001b[1;32m     15\u001b[0m     \u001b[0mmovie_id\u001b[0m \u001b[0;34m=\u001b[0m \u001b[0mmovie_title_mapper\u001b[0m\u001b[0;34m[\u001b[0m\u001b[0mfuzzy_title\u001b[0m\u001b[0;34m]\u001b[0m\u001b[0;34m\u001b[0m\u001b[0;34m\u001b[0m\u001b[0m\n\u001b[1;32m     16\u001b[0m     \u001b[0mmovie_idx\u001b[0m \u001b[0;34m=\u001b[0m \u001b[0mmovie_mapper\u001b[0m\u001b[0;34m[\u001b[0m\u001b[0mmovie_id\u001b[0m\u001b[0;34m]\u001b[0m\u001b[0;34m\u001b[0m\u001b[0;34m\u001b[0m\u001b[0m\n",
            "\u001b[0;32m<ipython-input-43-c7e69eb1c0d6>\u001b[0m in \u001b[0;36mmovie_finder\u001b[0;34m(title)\u001b[0m\n\u001b[1;32m      5\u001b[0m \u001b[0;32mdef\u001b[0m \u001b[0mmovie_finder\u001b[0m\u001b[0;34m(\u001b[0m\u001b[0mtitle\u001b[0m\u001b[0;34m)\u001b[0m\u001b[0;34m:\u001b[0m\u001b[0;34m\u001b[0m\u001b[0;34m\u001b[0m\u001b[0m\n\u001b[1;32m      6\u001b[0m     \u001b[0mall_titles\u001b[0m \u001b[0;34m=\u001b[0m \u001b[0mdf_combined\u001b[0m\u001b[0;34m[\u001b[0m\u001b[0;34m'title'\u001b[0m\u001b[0;34m]\u001b[0m\u001b[0;34m.\u001b[0m\u001b[0mtolist\u001b[0m\u001b[0;34m(\u001b[0m\u001b[0;34m)\u001b[0m\u001b[0;34m\u001b[0m\u001b[0;34m\u001b[0m\u001b[0m\n\u001b[0;32m----> 7\u001b[0;31m     \u001b[0mclosest_match\u001b[0m \u001b[0;34m=\u001b[0m \u001b[0mprocess\u001b[0m\u001b[0;34m.\u001b[0m\u001b[0mextractOne\u001b[0m\u001b[0;34m(\u001b[0m\u001b[0mtitle\u001b[0m\u001b[0;34m,\u001b[0m\u001b[0mall_titles\u001b[0m\u001b[0;34m)\u001b[0m\u001b[0;34m\u001b[0m\u001b[0;34m\u001b[0m\u001b[0m\n\u001b[0m\u001b[1;32m      8\u001b[0m     \u001b[0;32mreturn\u001b[0m \u001b[0mclosest_match\u001b[0m\u001b[0;34m[\u001b[0m\u001b[0;36m0\u001b[0m\u001b[0;34m]\u001b[0m\u001b[0;34m\u001b[0m\u001b[0;34m\u001b[0m\u001b[0m\n\u001b[1;32m      9\u001b[0m \u001b[0;34m\u001b[0m\u001b[0m\n",
            "\u001b[0;32m/usr/local/lib/python3.7/dist-packages/fuzzywuzzy/process.py\u001b[0m in \u001b[0;36mextractOne\u001b[0;34m(query, choices, processor, scorer, score_cutoff)\u001b[0m\n\u001b[1;32m    218\u001b[0m     \u001b[0mbest_list\u001b[0m \u001b[0;34m=\u001b[0m \u001b[0mextractWithoutOrder\u001b[0m\u001b[0;34m(\u001b[0m\u001b[0mquery\u001b[0m\u001b[0;34m,\u001b[0m \u001b[0mchoices\u001b[0m\u001b[0;34m,\u001b[0m \u001b[0mprocessor\u001b[0m\u001b[0;34m,\u001b[0m \u001b[0mscorer\u001b[0m\u001b[0;34m,\u001b[0m \u001b[0mscore_cutoff\u001b[0m\u001b[0;34m)\u001b[0m\u001b[0;34m\u001b[0m\u001b[0;34m\u001b[0m\u001b[0m\n\u001b[1;32m    219\u001b[0m     \u001b[0;32mtry\u001b[0m\u001b[0;34m:\u001b[0m\u001b[0;34m\u001b[0m\u001b[0;34m\u001b[0m\u001b[0m\n\u001b[0;32m--> 220\u001b[0;31m         \u001b[0;32mreturn\u001b[0m \u001b[0mmax\u001b[0m\u001b[0;34m(\u001b[0m\u001b[0mbest_list\u001b[0m\u001b[0;34m,\u001b[0m \u001b[0mkey\u001b[0m\u001b[0;34m=\u001b[0m\u001b[0;32mlambda\u001b[0m \u001b[0mi\u001b[0m\u001b[0;34m:\u001b[0m \u001b[0mi\u001b[0m\u001b[0;34m[\u001b[0m\u001b[0;36m1\u001b[0m\u001b[0;34m]\u001b[0m\u001b[0;34m)\u001b[0m\u001b[0;34m\u001b[0m\u001b[0;34m\u001b[0m\u001b[0m\n\u001b[0m\u001b[1;32m    221\u001b[0m     \u001b[0;32mexcept\u001b[0m \u001b[0mValueError\u001b[0m\u001b[0;34m:\u001b[0m\u001b[0;34m\u001b[0m\u001b[0;34m\u001b[0m\u001b[0m\n\u001b[1;32m    222\u001b[0m         \u001b[0;32mreturn\u001b[0m \u001b[0;32mNone\u001b[0m\u001b[0;34m\u001b[0m\u001b[0;34m\u001b[0m\u001b[0m\n",
            "\u001b[0;32m/usr/local/lib/python3.7/dist-packages/fuzzywuzzy/process.py\u001b[0m in \u001b[0;36mextractWithoutOrder\u001b[0;34m(query, choices, processor, scorer, score_cutoff)\u001b[0m\n\u001b[1;32m    115\u001b[0m         \u001b[0;32mfor\u001b[0m \u001b[0mchoice\u001b[0m \u001b[0;32min\u001b[0m \u001b[0mchoices\u001b[0m\u001b[0;34m:\u001b[0m\u001b[0;34m\u001b[0m\u001b[0;34m\u001b[0m\u001b[0m\n\u001b[1;32m    116\u001b[0m             \u001b[0mprocessed\u001b[0m \u001b[0;34m=\u001b[0m \u001b[0mpre_processor\u001b[0m\u001b[0;34m(\u001b[0m\u001b[0mprocessor\u001b[0m\u001b[0;34m(\u001b[0m\u001b[0mchoice\u001b[0m\u001b[0;34m)\u001b[0m\u001b[0;34m)\u001b[0m\u001b[0;34m\u001b[0m\u001b[0;34m\u001b[0m\u001b[0m\n\u001b[0;32m--> 117\u001b[0;31m             \u001b[0mscore\u001b[0m \u001b[0;34m=\u001b[0m \u001b[0mscorer\u001b[0m\u001b[0;34m(\u001b[0m\u001b[0mprocessed_query\u001b[0m\u001b[0;34m,\u001b[0m \u001b[0mprocessed\u001b[0m\u001b[0;34m)\u001b[0m\u001b[0;34m\u001b[0m\u001b[0;34m\u001b[0m\u001b[0m\n\u001b[0m\u001b[1;32m    118\u001b[0m             \u001b[0;32mif\u001b[0m \u001b[0mscore\u001b[0m \u001b[0;34m>=\u001b[0m \u001b[0mscore_cutoff\u001b[0m\u001b[0;34m:\u001b[0m\u001b[0;34m\u001b[0m\u001b[0;34m\u001b[0m\u001b[0m\n\u001b[1;32m    119\u001b[0m                 \u001b[0;32myield\u001b[0m \u001b[0;34m(\u001b[0m\u001b[0mchoice\u001b[0m\u001b[0;34m,\u001b[0m \u001b[0mscore\u001b[0m\u001b[0;34m)\u001b[0m\u001b[0;34m\u001b[0m\u001b[0;34m\u001b[0m\u001b[0m\n",
            "\u001b[0;32m/usr/local/lib/python3.7/dist-packages/fuzzywuzzy/fuzz.py\u001b[0m in \u001b[0;36mWRatio\u001b[0;34m(s1, s2, force_ascii, full_process)\u001b[0m\n\u001b[1;32m    288\u001b[0m         \u001b[0mpartial\u001b[0m \u001b[0;34m=\u001b[0m \u001b[0mpartial_ratio\u001b[0m\u001b[0;34m(\u001b[0m\u001b[0mp1\u001b[0m\u001b[0;34m,\u001b[0m \u001b[0mp2\u001b[0m\u001b[0;34m)\u001b[0m \u001b[0;34m*\u001b[0m \u001b[0mpartial_scale\u001b[0m\u001b[0;34m\u001b[0m\u001b[0;34m\u001b[0m\u001b[0m\n\u001b[1;32m    289\u001b[0m         \u001b[0mptsor\u001b[0m \u001b[0;34m=\u001b[0m \u001b[0mpartial_token_sort_ratio\u001b[0m\u001b[0;34m(\u001b[0m\u001b[0mp1\u001b[0m\u001b[0;34m,\u001b[0m \u001b[0mp2\u001b[0m\u001b[0;34m,\u001b[0m \u001b[0mfull_process\u001b[0m\u001b[0;34m=\u001b[0m\u001b[0;32mFalse\u001b[0m\u001b[0;34m)\u001b[0m\u001b[0;31m \u001b[0m\u001b[0;31m\\\u001b[0m\u001b[0;34m\u001b[0m\u001b[0;34m\u001b[0m\u001b[0m\n\u001b[0;32m--> 290\u001b[0;31m             \u001b[0;34m*\u001b[0m \u001b[0munbase_scale\u001b[0m \u001b[0;34m*\u001b[0m \u001b[0mpartial_scale\u001b[0m\u001b[0;34m\u001b[0m\u001b[0;34m\u001b[0m\u001b[0m\n\u001b[0m\u001b[1;32m    291\u001b[0m         \u001b[0mptser\u001b[0m \u001b[0;34m=\u001b[0m \u001b[0mpartial_token_set_ratio\u001b[0m\u001b[0;34m(\u001b[0m\u001b[0mp1\u001b[0m\u001b[0;34m,\u001b[0m \u001b[0mp2\u001b[0m\u001b[0;34m,\u001b[0m \u001b[0mfull_process\u001b[0m\u001b[0;34m=\u001b[0m\u001b[0;32mFalse\u001b[0m\u001b[0;34m)\u001b[0m\u001b[0;31m \u001b[0m\u001b[0;31m\\\u001b[0m\u001b[0;34m\u001b[0m\u001b[0;34m\u001b[0m\u001b[0m\n\u001b[1;32m    292\u001b[0m             \u001b[0;34m*\u001b[0m \u001b[0munbase_scale\u001b[0m \u001b[0;34m*\u001b[0m \u001b[0mpartial_scale\u001b[0m\u001b[0;34m\u001b[0m\u001b[0;34m\u001b[0m\u001b[0m\n",
            "\u001b[0;32m/usr/local/lib/python3.7/dist-packages/fuzzywuzzy/fuzz.py\u001b[0m in \u001b[0;36mpartial_token_sort_ratio\u001b[0;34m(s1, s2, force_ascii, full_process)\u001b[0m\n\u001b[1;32m    110\u001b[0m     \u001b[0;36m0\u001b[0m \u001b[0;32mand\u001b[0m \u001b[0;36m100\u001b[0m \u001b[0mbut\u001b[0m \u001b[0msorting\u001b[0m \u001b[0mthe\u001b[0m \u001b[0mtoken\u001b[0m \u001b[0mbefore\u001b[0m \u001b[0mcomparing\u001b[0m\u001b[0;34m.\u001b[0m\u001b[0;34m\u001b[0m\u001b[0;34m\u001b[0m\u001b[0m\n\u001b[1;32m    111\u001b[0m     \"\"\"\n\u001b[0;32m--> 112\u001b[0;31m     \u001b[0;32mreturn\u001b[0m \u001b[0m_token_sort\u001b[0m\u001b[0;34m(\u001b[0m\u001b[0ms1\u001b[0m\u001b[0;34m,\u001b[0m \u001b[0ms2\u001b[0m\u001b[0;34m,\u001b[0m \u001b[0mpartial\u001b[0m\u001b[0;34m=\u001b[0m\u001b[0;32mTrue\u001b[0m\u001b[0;34m,\u001b[0m \u001b[0mforce_ascii\u001b[0m\u001b[0;34m=\u001b[0m\u001b[0mforce_ascii\u001b[0m\u001b[0;34m,\u001b[0m \u001b[0mfull_process\u001b[0m\u001b[0;34m=\u001b[0m\u001b[0mfull_process\u001b[0m\u001b[0;34m)\u001b[0m\u001b[0;34m\u001b[0m\u001b[0;34m\u001b[0m\u001b[0m\n\u001b[0m\u001b[1;32m    113\u001b[0m \u001b[0;34m\u001b[0m\u001b[0m\n\u001b[1;32m    114\u001b[0m \u001b[0;34m\u001b[0m\u001b[0m\n",
            "\u001b[0;32m/usr/local/lib/python3.7/dist-packages/fuzzywuzzy/utils.py\u001b[0m in \u001b[0;36mdecorator\u001b[0;34m(*args, **kwargs)\u001b[0m\n\u001b[1;32m     36\u001b[0m         \u001b[0;32mif\u001b[0m \u001b[0margs\u001b[0m\u001b[0;34m[\u001b[0m\u001b[0;36m0\u001b[0m\u001b[0;34m]\u001b[0m \u001b[0;32mis\u001b[0m \u001b[0;32mNone\u001b[0m \u001b[0;32mor\u001b[0m \u001b[0margs\u001b[0m\u001b[0;34m[\u001b[0m\u001b[0;36m1\u001b[0m\u001b[0;34m]\u001b[0m \u001b[0;32mis\u001b[0m \u001b[0;32mNone\u001b[0m\u001b[0;34m:\u001b[0m\u001b[0;34m\u001b[0m\u001b[0;34m\u001b[0m\u001b[0m\n\u001b[1;32m     37\u001b[0m             \u001b[0;32mreturn\u001b[0m \u001b[0;36m0\u001b[0m\u001b[0;34m\u001b[0m\u001b[0;34m\u001b[0m\u001b[0m\n\u001b[0;32m---> 38\u001b[0;31m         \u001b[0;32mreturn\u001b[0m \u001b[0mfunc\u001b[0m\u001b[0;34m(\u001b[0m\u001b[0;34m*\u001b[0m\u001b[0margs\u001b[0m\u001b[0;34m,\u001b[0m \u001b[0;34m**\u001b[0m\u001b[0mkwargs\u001b[0m\u001b[0;34m)\u001b[0m\u001b[0;34m\u001b[0m\u001b[0;34m\u001b[0m\u001b[0m\n\u001b[0m\u001b[1;32m     39\u001b[0m     \u001b[0;32mreturn\u001b[0m \u001b[0mdecorator\u001b[0m\u001b[0;34m\u001b[0m\u001b[0;34m\u001b[0m\u001b[0m\n\u001b[1;32m     40\u001b[0m \u001b[0;34m\u001b[0m\u001b[0m\n",
            "\u001b[0;32m/usr/local/lib/python3.7/dist-packages/fuzzywuzzy/fuzz.py\u001b[0m in \u001b[0;36m_token_sort\u001b[0;34m(s1, s2, partial, force_ascii, full_process)\u001b[0m\n\u001b[1;32m     94\u001b[0m \u001b[0;34m\u001b[0m\u001b[0m\n\u001b[1;32m     95\u001b[0m     \u001b[0;32mif\u001b[0m \u001b[0mpartial\u001b[0m\u001b[0;34m:\u001b[0m\u001b[0;34m\u001b[0m\u001b[0;34m\u001b[0m\u001b[0m\n\u001b[0;32m---> 96\u001b[0;31m         \u001b[0;32mreturn\u001b[0m \u001b[0mpartial_ratio\u001b[0m\u001b[0;34m(\u001b[0m\u001b[0msorted1\u001b[0m\u001b[0;34m,\u001b[0m \u001b[0msorted2\u001b[0m\u001b[0;34m)\u001b[0m\u001b[0;34m\u001b[0m\u001b[0;34m\u001b[0m\u001b[0m\n\u001b[0m\u001b[1;32m     97\u001b[0m     \u001b[0;32melse\u001b[0m\u001b[0;34m:\u001b[0m\u001b[0;34m\u001b[0m\u001b[0;34m\u001b[0m\u001b[0m\n\u001b[1;32m     98\u001b[0m         \u001b[0;32mreturn\u001b[0m \u001b[0mratio\u001b[0m\u001b[0;34m(\u001b[0m\u001b[0msorted1\u001b[0m\u001b[0;34m,\u001b[0m \u001b[0msorted2\u001b[0m\u001b[0;34m)\u001b[0m\u001b[0;34m\u001b[0m\u001b[0;34m\u001b[0m\u001b[0m\n",
            "\u001b[0;32m/usr/local/lib/python3.7/dist-packages/fuzzywuzzy/utils.py\u001b[0m in \u001b[0;36mdecorator\u001b[0;34m(*args, **kwargs)\u001b[0m\n\u001b[1;32m     36\u001b[0m         \u001b[0;32mif\u001b[0m \u001b[0margs\u001b[0m\u001b[0;34m[\u001b[0m\u001b[0;36m0\u001b[0m\u001b[0;34m]\u001b[0m \u001b[0;32mis\u001b[0m \u001b[0;32mNone\u001b[0m \u001b[0;32mor\u001b[0m \u001b[0margs\u001b[0m\u001b[0;34m[\u001b[0m\u001b[0;36m1\u001b[0m\u001b[0;34m]\u001b[0m \u001b[0;32mis\u001b[0m \u001b[0;32mNone\u001b[0m\u001b[0;34m:\u001b[0m\u001b[0;34m\u001b[0m\u001b[0;34m\u001b[0m\u001b[0m\n\u001b[1;32m     37\u001b[0m             \u001b[0;32mreturn\u001b[0m \u001b[0;36m0\u001b[0m\u001b[0;34m\u001b[0m\u001b[0;34m\u001b[0m\u001b[0m\n\u001b[0;32m---> 38\u001b[0;31m         \u001b[0;32mreturn\u001b[0m \u001b[0mfunc\u001b[0m\u001b[0;34m(\u001b[0m\u001b[0;34m*\u001b[0m\u001b[0margs\u001b[0m\u001b[0;34m,\u001b[0m \u001b[0;34m**\u001b[0m\u001b[0mkwargs\u001b[0m\u001b[0;34m)\u001b[0m\u001b[0;34m\u001b[0m\u001b[0;34m\u001b[0m\u001b[0m\n\u001b[0m\u001b[1;32m     39\u001b[0m     \u001b[0;32mreturn\u001b[0m \u001b[0mdecorator\u001b[0m\u001b[0;34m\u001b[0m\u001b[0;34m\u001b[0m\u001b[0m\n\u001b[1;32m     40\u001b[0m \u001b[0;34m\u001b[0m\u001b[0m\n",
            "\u001b[0;32m/usr/local/lib/python3.7/dist-packages/fuzzywuzzy/utils.py\u001b[0m in \u001b[0;36mdecorator\u001b[0;34m(*args, **kwargs)\u001b[0m\n\u001b[1;32m     27\u001b[0m         \u001b[0;32mif\u001b[0m \u001b[0margs\u001b[0m\u001b[0;34m[\u001b[0m\u001b[0;36m0\u001b[0m\u001b[0;34m]\u001b[0m \u001b[0;34m==\u001b[0m \u001b[0margs\u001b[0m\u001b[0;34m[\u001b[0m\u001b[0;36m1\u001b[0m\u001b[0;34m]\u001b[0m\u001b[0;34m:\u001b[0m\u001b[0;34m\u001b[0m\u001b[0;34m\u001b[0m\u001b[0m\n\u001b[1;32m     28\u001b[0m             \u001b[0;32mreturn\u001b[0m \u001b[0;36m100\u001b[0m\u001b[0;34m\u001b[0m\u001b[0;34m\u001b[0m\u001b[0m\n\u001b[0;32m---> 29\u001b[0;31m         \u001b[0;32mreturn\u001b[0m \u001b[0mfunc\u001b[0m\u001b[0;34m(\u001b[0m\u001b[0;34m*\u001b[0m\u001b[0margs\u001b[0m\u001b[0;34m,\u001b[0m \u001b[0;34m**\u001b[0m\u001b[0mkwargs\u001b[0m\u001b[0;34m)\u001b[0m\u001b[0;34m\u001b[0m\u001b[0;34m\u001b[0m\u001b[0m\n\u001b[0m\u001b[1;32m     30\u001b[0m     \u001b[0;32mreturn\u001b[0m \u001b[0mdecorator\u001b[0m\u001b[0;34m\u001b[0m\u001b[0;34m\u001b[0m\u001b[0m\n\u001b[1;32m     31\u001b[0m \u001b[0;34m\u001b[0m\u001b[0m\n",
            "\u001b[0;32m/usr/local/lib/python3.7/dist-packages/fuzzywuzzy/utils.py\u001b[0m in \u001b[0;36mdecorator\u001b[0;34m(*args, **kwargs)\u001b[0m\n\u001b[1;32m     45\u001b[0m         \u001b[0;32mif\u001b[0m \u001b[0mlen\u001b[0m\u001b[0;34m(\u001b[0m\u001b[0margs\u001b[0m\u001b[0;34m[\u001b[0m\u001b[0;36m0\u001b[0m\u001b[0;34m]\u001b[0m\u001b[0;34m)\u001b[0m \u001b[0;34m==\u001b[0m \u001b[0;36m0\u001b[0m \u001b[0;32mor\u001b[0m \u001b[0mlen\u001b[0m\u001b[0;34m(\u001b[0m\u001b[0margs\u001b[0m\u001b[0;34m[\u001b[0m\u001b[0;36m1\u001b[0m\u001b[0;34m]\u001b[0m\u001b[0;34m)\u001b[0m \u001b[0;34m==\u001b[0m \u001b[0;36m0\u001b[0m\u001b[0;34m:\u001b[0m\u001b[0;34m\u001b[0m\u001b[0;34m\u001b[0m\u001b[0m\n\u001b[1;32m     46\u001b[0m             \u001b[0;32mreturn\u001b[0m \u001b[0;36m0\u001b[0m\u001b[0;34m\u001b[0m\u001b[0;34m\u001b[0m\u001b[0m\n\u001b[0;32m---> 47\u001b[0;31m         \u001b[0;32mreturn\u001b[0m \u001b[0mfunc\u001b[0m\u001b[0;34m(\u001b[0m\u001b[0;34m*\u001b[0m\u001b[0margs\u001b[0m\u001b[0;34m,\u001b[0m \u001b[0;34m**\u001b[0m\u001b[0mkwargs\u001b[0m\u001b[0;34m)\u001b[0m\u001b[0;34m\u001b[0m\u001b[0;34m\u001b[0m\u001b[0m\n\u001b[0m\u001b[1;32m     48\u001b[0m     \u001b[0;32mreturn\u001b[0m \u001b[0mdecorator\u001b[0m\u001b[0;34m\u001b[0m\u001b[0;34m\u001b[0m\u001b[0m\n\u001b[1;32m     49\u001b[0m \u001b[0;34m\u001b[0m\u001b[0m\n",
            "\u001b[0;32m/usr/local/lib/python3.7/dist-packages/fuzzywuzzy/fuzz.py\u001b[0m in \u001b[0;36mpartial_ratio\u001b[0;34m(s1, s2)\u001b[0m\n\u001b[1;32m     60\u001b[0m \u001b[0;34m\u001b[0m\u001b[0m\n\u001b[1;32m     61\u001b[0m         \u001b[0mm2\u001b[0m \u001b[0;34m=\u001b[0m \u001b[0mSequenceMatcher\u001b[0m\u001b[0;34m(\u001b[0m\u001b[0;32mNone\u001b[0m\u001b[0;34m,\u001b[0m \u001b[0mshorter\u001b[0m\u001b[0;34m,\u001b[0m \u001b[0mlong_substr\u001b[0m\u001b[0;34m)\u001b[0m\u001b[0;34m\u001b[0m\u001b[0;34m\u001b[0m\u001b[0m\n\u001b[0;32m---> 62\u001b[0;31m         \u001b[0mr\u001b[0m \u001b[0;34m=\u001b[0m \u001b[0mm2\u001b[0m\u001b[0;34m.\u001b[0m\u001b[0mratio\u001b[0m\u001b[0;34m(\u001b[0m\u001b[0;34m)\u001b[0m\u001b[0;34m\u001b[0m\u001b[0;34m\u001b[0m\u001b[0m\n\u001b[0m\u001b[1;32m     63\u001b[0m         \u001b[0;32mif\u001b[0m \u001b[0mr\u001b[0m \u001b[0;34m>\u001b[0m \u001b[0;36m.995\u001b[0m\u001b[0;34m:\u001b[0m\u001b[0;34m\u001b[0m\u001b[0;34m\u001b[0m\u001b[0m\n\u001b[1;32m     64\u001b[0m             \u001b[0;32mreturn\u001b[0m \u001b[0;36m100\u001b[0m\u001b[0;34m\u001b[0m\u001b[0;34m\u001b[0m\u001b[0m\n",
            "\u001b[0;32m/usr/lib/python3.7/difflib.py\u001b[0m in \u001b[0;36mratio\u001b[0;34m(self)\u001b[0m\n\u001b[1;32m    642\u001b[0m         \"\"\"\n\u001b[1;32m    643\u001b[0m \u001b[0;34m\u001b[0m\u001b[0m\n\u001b[0;32m--> 644\u001b[0;31m         \u001b[0mmatches\u001b[0m \u001b[0;34m=\u001b[0m \u001b[0msum\u001b[0m\u001b[0;34m(\u001b[0m\u001b[0mtriple\u001b[0m\u001b[0;34m[\u001b[0m\u001b[0;34m-\u001b[0m\u001b[0;36m1\u001b[0m\u001b[0;34m]\u001b[0m \u001b[0;32mfor\u001b[0m \u001b[0mtriple\u001b[0m \u001b[0;32min\u001b[0m \u001b[0mself\u001b[0m\u001b[0;34m.\u001b[0m\u001b[0mget_matching_blocks\u001b[0m\u001b[0;34m(\u001b[0m\u001b[0;34m)\u001b[0m\u001b[0;34m)\u001b[0m\u001b[0;34m\u001b[0m\u001b[0;34m\u001b[0m\u001b[0m\n\u001b[0m\u001b[1;32m    645\u001b[0m         \u001b[0;32mreturn\u001b[0m \u001b[0m_calculate_ratio\u001b[0m\u001b[0;34m(\u001b[0m\u001b[0mmatches\u001b[0m\u001b[0;34m,\u001b[0m \u001b[0mlen\u001b[0m\u001b[0;34m(\u001b[0m\u001b[0mself\u001b[0m\u001b[0;34m.\u001b[0m\u001b[0ma\u001b[0m\u001b[0;34m)\u001b[0m \u001b[0;34m+\u001b[0m \u001b[0mlen\u001b[0m\u001b[0;34m(\u001b[0m\u001b[0mself\u001b[0m\u001b[0;34m.\u001b[0m\u001b[0mb\u001b[0m\u001b[0;34m)\u001b[0m\u001b[0;34m)\u001b[0m\u001b[0;34m\u001b[0m\u001b[0;34m\u001b[0m\u001b[0m\n\u001b[1;32m    646\u001b[0m \u001b[0;34m\u001b[0m\u001b[0m\n",
            "\u001b[0;32m/usr/lib/python3.7/difflib.py\u001b[0m in \u001b[0;36mget_matching_blocks\u001b[0;34m(self)\u001b[0m\n\u001b[1;32m    477\u001b[0m         \u001b[0;32mwhile\u001b[0m \u001b[0mqueue\u001b[0m\u001b[0;34m:\u001b[0m\u001b[0;34m\u001b[0m\u001b[0;34m\u001b[0m\u001b[0m\n\u001b[1;32m    478\u001b[0m             \u001b[0malo\u001b[0m\u001b[0;34m,\u001b[0m \u001b[0mahi\u001b[0m\u001b[0;34m,\u001b[0m \u001b[0mblo\u001b[0m\u001b[0;34m,\u001b[0m \u001b[0mbhi\u001b[0m \u001b[0;34m=\u001b[0m \u001b[0mqueue\u001b[0m\u001b[0;34m.\u001b[0m\u001b[0mpop\u001b[0m\u001b[0;34m(\u001b[0m\u001b[0;34m)\u001b[0m\u001b[0;34m\u001b[0m\u001b[0;34m\u001b[0m\u001b[0m\n\u001b[0;32m--> 479\u001b[0;31m             \u001b[0mi\u001b[0m\u001b[0;34m,\u001b[0m \u001b[0mj\u001b[0m\u001b[0;34m,\u001b[0m \u001b[0mk\u001b[0m \u001b[0;34m=\u001b[0m \u001b[0mx\u001b[0m \u001b[0;34m=\u001b[0m \u001b[0mself\u001b[0m\u001b[0;34m.\u001b[0m\u001b[0mfind_longest_match\u001b[0m\u001b[0;34m(\u001b[0m\u001b[0malo\u001b[0m\u001b[0;34m,\u001b[0m \u001b[0mahi\u001b[0m\u001b[0;34m,\u001b[0m \u001b[0mblo\u001b[0m\u001b[0;34m,\u001b[0m \u001b[0mbhi\u001b[0m\u001b[0;34m)\u001b[0m\u001b[0;34m\u001b[0m\u001b[0;34m\u001b[0m\u001b[0m\n\u001b[0m\u001b[1;32m    480\u001b[0m             \u001b[0;31m# a[alo:i] vs b[blo:j] unknown\u001b[0m\u001b[0;34m\u001b[0m\u001b[0;34m\u001b[0m\u001b[0;34m\u001b[0m\u001b[0m\n\u001b[1;32m    481\u001b[0m             \u001b[0;31m# a[i:i+k] same as b[j:j+k]\u001b[0m\u001b[0;34m\u001b[0m\u001b[0;34m\u001b[0m\u001b[0;34m\u001b[0m\u001b[0m\n",
            "\u001b[0;32m/usr/lib/python3.7/difflib.py\u001b[0m in \u001b[0;36mfind_longest_match\u001b[0;34m(self, alo, ahi, blo, bhi)\u001b[0m\n\u001b[1;32m    422\u001b[0m             \u001b[0mbesti\u001b[0m\u001b[0;34m,\u001b[0m \u001b[0mbestj\u001b[0m\u001b[0;34m,\u001b[0m \u001b[0mbestsize\u001b[0m \u001b[0;34m=\u001b[0m \u001b[0mbesti\u001b[0m\u001b[0;34m-\u001b[0m\u001b[0;36m1\u001b[0m\u001b[0;34m,\u001b[0m \u001b[0mbestj\u001b[0m\u001b[0;34m-\u001b[0m\u001b[0;36m1\u001b[0m\u001b[0;34m,\u001b[0m \u001b[0mbestsize\u001b[0m\u001b[0;34m+\u001b[0m\u001b[0;36m1\u001b[0m\u001b[0;34m\u001b[0m\u001b[0;34m\u001b[0m\u001b[0m\n\u001b[1;32m    423\u001b[0m         \u001b[0;32mwhile\u001b[0m \u001b[0mbesti\u001b[0m\u001b[0;34m+\u001b[0m\u001b[0mbestsize\u001b[0m \u001b[0;34m<\u001b[0m \u001b[0mahi\u001b[0m \u001b[0;32mand\u001b[0m \u001b[0mbestj\u001b[0m\u001b[0;34m+\u001b[0m\u001b[0mbestsize\u001b[0m \u001b[0;34m<\u001b[0m \u001b[0mbhi\u001b[0m \u001b[0;32mand\u001b[0m\u001b[0;31m \u001b[0m\u001b[0;31m\\\u001b[0m\u001b[0;34m\u001b[0m\u001b[0;34m\u001b[0m\u001b[0m\n\u001b[0;32m--> 424\u001b[0;31m               \u001b[0;32mnot\u001b[0m \u001b[0misbjunk\u001b[0m\u001b[0;34m(\u001b[0m\u001b[0mb\u001b[0m\u001b[0;34m[\u001b[0m\u001b[0mbestj\u001b[0m\u001b[0;34m+\u001b[0m\u001b[0mbestsize\u001b[0m\u001b[0;34m]\u001b[0m\u001b[0;34m)\u001b[0m \u001b[0;32mand\u001b[0m\u001b[0;31m \u001b[0m\u001b[0;31m\\\u001b[0m\u001b[0;34m\u001b[0m\u001b[0;34m\u001b[0m\u001b[0m\n\u001b[0m\u001b[1;32m    425\u001b[0m               \u001b[0ma\u001b[0m\u001b[0;34m[\u001b[0m\u001b[0mbesti\u001b[0m\u001b[0;34m+\u001b[0m\u001b[0mbestsize\u001b[0m\u001b[0;34m]\u001b[0m \u001b[0;34m==\u001b[0m \u001b[0mb\u001b[0m\u001b[0;34m[\u001b[0m\u001b[0mbestj\u001b[0m\u001b[0;34m+\u001b[0m\u001b[0mbestsize\u001b[0m\u001b[0;34m]\u001b[0m\u001b[0;34m:\u001b[0m\u001b[0;34m\u001b[0m\u001b[0;34m\u001b[0m\u001b[0m\n\u001b[1;32m    426\u001b[0m             \u001b[0mbestsize\u001b[0m \u001b[0;34m+=\u001b[0m \u001b[0;36m1\u001b[0m\u001b[0;34m\u001b[0m\u001b[0;34m\u001b[0m\u001b[0m\n",
            "\u001b[0;31mKeyboardInterrupt\u001b[0m: "
          ]
        }
      ]
    },
    {
      "cell_type": "code",
      "metadata": {
        "colab": {
          "base_uri": "https://localhost:8080/",
          "height": 36
        },
        "id": "qUunRcCuO8se",
        "outputId": "c07f9462-ccfa-4c32-856d-2897d64323f2"
      },
      "source": [
        "# test\n",
        "get_movie_title(19194)"
      ],
      "execution_count": null,
      "outputs": [
        {
          "output_type": "execute_result",
          "data": {
            "application/vnd.google.colaboratory.intrinsic+json": {
              "type": "string"
            },
            "text/plain": [
              "'Harry Potter and the Cursed Child: Journey: Behind the Scenes of the Award-Winning Stage Production'"
            ]
          },
          "metadata": {
            "tags": []
          },
          "execution_count": 45
        }
      ]
    },
    {
      "cell_type": "markdown",
      "metadata": {
        "id": "y4BOtqWvPn2_"
      },
      "source": [
        "# Matrix factorization using alternating least squares"
      ]
    },
    {
      "cell_type": "markdown",
      "metadata": {
        "id": "2izhsorhP1zj"
      },
      "source": [
        "We've transformed and prepared our data so that we can start creating our recommender model.\n",
        "\n",
        "The implicit package is built around a linear algebra technique called matrix factorization), which can help us discover latent features underlying the interactions between users and movies. These latent features give a more compact representation of user tastes and item descriptions. Matrix factorization is particularly useful for very sparse data and can enhance the quality of recommendations. The algorithm works by factorizing the original user-item matrix into two factor matrices:\n",
        "\n",
        "    user-factor matrix (n_users, k)\n",
        "    item-factor matrix (k, n_items)\n",
        "\n",
        "We are reducing the dimensions of our original matrix into \"taste\" dimensions. We cannot interpret what each latent feature $k$ represents. However, we could imagine that one latent feature may represent users who like romantic comedies from the 1990s, while another latent feature may represent movies which are independent foreign language films.\n",
        "$$X_{mn} \\approx P_{mk} \\times Q_{nk}^T = \\hat{X}$$\n",
        "\n",
        "In traditional matrix factorization, such as SVD, we would attempt to solve the factorization at once which can be very computationally expensive. As a more practical alternative, we can use a technique called Alternating Least Squares (ALS) instead. With ALS, we solve for one factor matrix at a time:\n",
        "\n",
        "    Step 1: hold user-factor matrix fixed and solve for the item-factor matrix\n",
        "    Step 2: hold item-factor matrix fixed and solve for the user-item matrix\n",
        "\n",
        "We alternate between Step 1 and 2 above, until the dot product of the item-factor matrix and user-item matrix is approximately equal to the original X (user-item) matrix. This approach is less computationally expensive and can be run in parallel.\n",
        "\n",
        "The implicit package implements matrix factorization using Alternating Least Squares (see docs here). Let's initiate the model using the AlternatingLeastSquares class."
      ]
    },
    {
      "cell_type": "code",
      "metadata": {
        "colab": {
          "base_uri": "https://localhost:8080/"
        },
        "id": "Ly_c9sGcP9f_",
        "outputId": "6c8edce8-469a-4359-acc7-5e5bd22a587e"
      },
      "source": [
        "pip install implicit"
      ],
      "execution_count": null,
      "outputs": [
        {
          "output_type": "stream",
          "text": [
            "Collecting implicit\n",
            "\u001b[?25l  Downloading https://files.pythonhosted.org/packages/bc/07/c0121884722d16e2c5beeb815f6b84b41cbf22e738e4075f1475be2791bc/implicit-0.4.4.tar.gz (1.1MB)\n",
            "\r\u001b[K     |▎                               | 10kB 22.9MB/s eta 0:00:01\r\u001b[K     |▋                               | 20kB 27.8MB/s eta 0:00:01\r\u001b[K     |▉                               | 30kB 18.7MB/s eta 0:00:01\r\u001b[K     |█▏                              | 40kB 20.8MB/s eta 0:00:01\r\u001b[K     |█▌                              | 51kB 22.6MB/s eta 0:00:01\r\u001b[K     |█▊                              | 61kB 23.8MB/s eta 0:00:01\r\u001b[K     |██                              | 71kB 18.0MB/s eta 0:00:01\r\u001b[K     |██▍                             | 81kB 18.7MB/s eta 0:00:01\r\u001b[K     |██▋                             | 92kB 18.0MB/s eta 0:00:01\r\u001b[K     |███                             | 102kB 17.7MB/s eta 0:00:01\r\u001b[K     |███▎                            | 112kB 17.7MB/s eta 0:00:01\r\u001b[K     |███▌                            | 122kB 17.7MB/s eta 0:00:01\r\u001b[K     |███▉                            | 133kB 17.7MB/s eta 0:00:01\r\u001b[K     |████▏                           | 143kB 17.7MB/s eta 0:00:01\r\u001b[K     |████▍                           | 153kB 17.7MB/s eta 0:00:01\r\u001b[K     |████▊                           | 163kB 17.7MB/s eta 0:00:01\r\u001b[K     |█████                           | 174kB 17.7MB/s eta 0:00:01\r\u001b[K     |█████▎                          | 184kB 17.7MB/s eta 0:00:01\r\u001b[K     |█████▋                          | 194kB 17.7MB/s eta 0:00:01\r\u001b[K     |██████                          | 204kB 17.7MB/s eta 0:00:01\r\u001b[K     |██████▏                         | 215kB 17.7MB/s eta 0:00:01\r\u001b[K     |██████▌                         | 225kB 17.7MB/s eta 0:00:01\r\u001b[K     |██████▉                         | 235kB 17.7MB/s eta 0:00:01\r\u001b[K     |███████                         | 245kB 17.7MB/s eta 0:00:01\r\u001b[K     |███████▍                        | 256kB 17.7MB/s eta 0:00:01\r\u001b[K     |███████▊                        | 266kB 17.7MB/s eta 0:00:01\r\u001b[K     |████████                        | 276kB 17.7MB/s eta 0:00:01\r\u001b[K     |████████▎                       | 286kB 17.7MB/s eta 0:00:01\r\u001b[K     |████████▋                       | 296kB 17.7MB/s eta 0:00:01\r\u001b[K     |████████▉                       | 307kB 17.7MB/s eta 0:00:01\r\u001b[K     |█████████▏                      | 317kB 17.7MB/s eta 0:00:01\r\u001b[K     |█████████▌                      | 327kB 17.7MB/s eta 0:00:01\r\u001b[K     |█████████▊                      | 337kB 17.7MB/s eta 0:00:01\r\u001b[K     |██████████                      | 348kB 17.7MB/s eta 0:00:01\r\u001b[K     |██████████▍                     | 358kB 17.7MB/s eta 0:00:01\r\u001b[K     |██████████▋                     | 368kB 17.7MB/s eta 0:00:01\r\u001b[K     |███████████                     | 378kB 17.7MB/s eta 0:00:01\r\u001b[K     |███████████▏                    | 389kB 17.7MB/s eta 0:00:01\r\u001b[K     |███████████▌                    | 399kB 17.7MB/s eta 0:00:01\r\u001b[K     |███████████▉                    | 409kB 17.7MB/s eta 0:00:01\r\u001b[K     |████████████                    | 419kB 17.7MB/s eta 0:00:01\r\u001b[K     |████████████▍                   | 430kB 17.7MB/s eta 0:00:01\r\u001b[K     |████████████▊                   | 440kB 17.7MB/s eta 0:00:01\r\u001b[K     |█████████████                   | 450kB 17.7MB/s eta 0:00:01\r\u001b[K     |█████████████▎                  | 460kB 17.7MB/s eta 0:00:01\r\u001b[K     |█████████████▋                  | 471kB 17.7MB/s eta 0:00:01\r\u001b[K     |█████████████▉                  | 481kB 17.7MB/s eta 0:00:01\r\u001b[K     |██████████████▏                 | 491kB 17.7MB/s eta 0:00:01\r\u001b[K     |██████████████▌                 | 501kB 17.7MB/s eta 0:00:01\r\u001b[K     |██████████████▊                 | 512kB 17.7MB/s eta 0:00:01\r\u001b[K     |███████████████                 | 522kB 17.7MB/s eta 0:00:01\r\u001b[K     |███████████████▍                | 532kB 17.7MB/s eta 0:00:01\r\u001b[K     |███████████████▋                | 542kB 17.7MB/s eta 0:00:01\r\u001b[K     |████████████████                | 552kB 17.7MB/s eta 0:00:01\r\u001b[K     |████████████████▎               | 563kB 17.7MB/s eta 0:00:01\r\u001b[K     |████████████████▌               | 573kB 17.7MB/s eta 0:00:01\r\u001b[K     |████████████████▉               | 583kB 17.7MB/s eta 0:00:01\r\u001b[K     |█████████████████▏              | 593kB 17.7MB/s eta 0:00:01\r\u001b[K     |█████████████████▍              | 604kB 17.7MB/s eta 0:00:01\r\u001b[K     |█████████████████▊              | 614kB 17.7MB/s eta 0:00:01\r\u001b[K     |██████████████████              | 624kB 17.7MB/s eta 0:00:01\r\u001b[K     |██████████████████▎             | 634kB 17.7MB/s eta 0:00:01\r\u001b[K     |██████████████████▋             | 645kB 17.7MB/s eta 0:00:01\r\u001b[K     |███████████████████             | 655kB 17.7MB/s eta 0:00:01\r\u001b[K     |███████████████████▏            | 665kB 17.7MB/s eta 0:00:01\r\u001b[K     |███████████████████▌            | 675kB 17.7MB/s eta 0:00:01\r\u001b[K     |███████████████████▉            | 686kB 17.7MB/s eta 0:00:01\r\u001b[K     |████████████████████            | 696kB 17.7MB/s eta 0:00:01\r\u001b[K     |████████████████████▍           | 706kB 17.7MB/s eta 0:00:01\r\u001b[K     |████████████████████▊           | 716kB 17.7MB/s eta 0:00:01\r\u001b[K     |█████████████████████           | 727kB 17.7MB/s eta 0:00:01\r\u001b[K     |█████████████████████▎          | 737kB 17.7MB/s eta 0:00:01\r\u001b[K     |█████████████████████▋          | 747kB 17.7MB/s eta 0:00:01\r\u001b[K     |█████████████████████▉          | 757kB 17.7MB/s eta 0:00:01\r\u001b[K     |██████████████████████▏         | 768kB 17.7MB/s eta 0:00:01\r\u001b[K     |██████████████████████▍         | 778kB 17.7MB/s eta 0:00:01\r\u001b[K     |██████████████████████▊         | 788kB 17.7MB/s eta 0:00:01\r\u001b[K     |███████████████████████         | 798kB 17.7MB/s eta 0:00:01\r\u001b[K     |███████████████████████▎        | 808kB 17.7MB/s eta 0:00:01\r\u001b[K     |███████████████████████▋        | 819kB 17.7MB/s eta 0:00:01\r\u001b[K     |████████████████████████        | 829kB 17.7MB/s eta 0:00:01\r\u001b[K     |████████████████████████▏       | 839kB 17.7MB/s eta 0:00:01\r\u001b[K     |████████████████████████▌       | 849kB 17.7MB/s eta 0:00:01\r\u001b[K     |████████████████████████▉       | 860kB 17.7MB/s eta 0:00:01\r\u001b[K     |█████████████████████████       | 870kB 17.7MB/s eta 0:00:01\r\u001b[K     |█████████████████████████▍      | 880kB 17.7MB/s eta 0:00:01\r\u001b[K     |█████████████████████████▊      | 890kB 17.7MB/s eta 0:00:01\r\u001b[K     |██████████████████████████      | 901kB 17.7MB/s eta 0:00:01\r\u001b[K     |██████████████████████████▎     | 911kB 17.7MB/s eta 0:00:01\r\u001b[K     |██████████████████████████▋     | 921kB 17.7MB/s eta 0:00:01\r\u001b[K     |██████████████████████████▉     | 931kB 17.7MB/s eta 0:00:01\r\u001b[K     |███████████████████████████▏    | 942kB 17.7MB/s eta 0:00:01\r\u001b[K     |███████████████████████████▌    | 952kB 17.7MB/s eta 0:00:01\r\u001b[K     |███████████████████████████▊    | 962kB 17.7MB/s eta 0:00:01\r\u001b[K     |████████████████████████████    | 972kB 17.7MB/s eta 0:00:01\r\u001b[K     |████████████████████████████▍   | 983kB 17.7MB/s eta 0:00:01\r\u001b[K     |████████████████████████████▋   | 993kB 17.7MB/s eta 0:00:01\r\u001b[K     |█████████████████████████████   | 1.0MB 17.7MB/s eta 0:00:01\r\u001b[K     |█████████████████████████████▎  | 1.0MB 17.7MB/s eta 0:00:01\r\u001b[K     |█████████████████████████████▌  | 1.0MB 17.7MB/s eta 0:00:01\r\u001b[K     |█████████████████████████████▉  | 1.0MB 17.7MB/s eta 0:00:01\r\u001b[K     |██████████████████████████████▏ | 1.0MB 17.7MB/s eta 0:00:01\r\u001b[K     |██████████████████████████████▍ | 1.1MB 17.7MB/s eta 0:00:01\r\u001b[K     |██████████████████████████████▊ | 1.1MB 17.7MB/s eta 0:00:01\r\u001b[K     |███████████████████████████████ | 1.1MB 17.7MB/s eta 0:00:01\r\u001b[K     |███████████████████████████████▎| 1.1MB 17.7MB/s eta 0:00:01\r\u001b[K     |███████████████████████████████▋| 1.1MB 17.7MB/s eta 0:00:01\r\u001b[K     |████████████████████████████████| 1.1MB 17.7MB/s eta 0:00:01\r\u001b[K     |████████████████████████████████| 1.1MB 17.7MB/s \n",
            "\u001b[?25hRequirement already satisfied: numpy in /usr/local/lib/python3.7/dist-packages (from implicit) (1.19.5)\n",
            "Requirement already satisfied: scipy>=0.16 in /usr/local/lib/python3.7/dist-packages (from implicit) (1.4.1)\n",
            "Requirement already satisfied: tqdm>=4.27 in /usr/local/lib/python3.7/dist-packages (from implicit) (4.41.1)\n",
            "Building wheels for collected packages: implicit\n",
            "  Building wheel for implicit (setup.py) ... \u001b[?25l\u001b[?25hdone\n",
            "  Created wheel for implicit: filename=implicit-0.4.4-cp37-cp37m-linux_x86_64.whl size=3406430 sha256=f28fa8edd2478737c4a192bbb17169f3511c862972164afdc4b3ecd55a2422a8\n",
            "  Stored in directory: /root/.cache/pip/wheels/bf/d4/ec/fd4f622fcbefb7521f149905295b2c26adecb23af38aa28217\n",
            "Successfully built implicit\n",
            "Installing collected packages: implicit\n",
            "Successfully installed implicit-0.4.4\n"
          ],
          "name": "stdout"
        }
      ]
    },
    {
      "cell_type": "markdown",
      "metadata": {
        "id": "FIdtPDsmR1nN"
      },
      "source": [
        "ALS recommender is a matrix factorization algorithm that uses Alternating Least Squares with Weighted-Lamda-Regularization (ALS-WR). It factors the user to item matrix A into the user-to-feature matrix U and the item-to-feature matrix M: It runs the ALS algorithm in a parallel fashion"
      ]
    },
    {
      "cell_type": "code",
      "metadata": {
        "id": "EV6zgFAPPsUs"
      },
      "source": [
        "import implicit\n",
        "\n",
        "model = implicit.als.AlternatingLeastSquares(factors=64)"
      ],
      "execution_count": null,
      "outputs": []
    },
    {
      "cell_type": "markdown",
      "metadata": {
        "id": "uWDhISJpQiIh"
      },
      "source": [
        "\n",
        "\n",
        "This model comes with a couple of hyperparameters that can be tuned to generate optimal results:\n",
        "\n",
        "    factors ($k$): number of latent factors,\n",
        "    regularization ($\\lambda$): prevents the model from overfitting during training\n",
        "\n",
        "In this tutorial, we'll set $k = 50$ and $\\lambda = 0.01$ (the default). In a real-world scenario, I highly recommend tuning these hyperparameters before generating recommendations to generate optimal results.\n",
        "\n",
        "The next step is to fit our model with our user-item matrix.\n"
      ]
    },
    {
      "cell_type": "code",
      "metadata": {
        "colab": {
          "base_uri": "https://localhost:8080/",
          "height": 67,
          "referenced_widgets": [
            "d2333fe356f646b8861ee3ad2fa77c67",
            "4bf559ac774b46449806854a8fa9ebc0",
            "daa648ca46a6466680794fc69ad8cf33",
            "2821977ceb524355ab1b47f2f165cbab",
            "06b04e350a2146cc90ca9fb954778618",
            "b48003d6d49e47878a349a7f64df9c90",
            "1a8a58e812e84992955bbe25b61c9048",
            "2ca96bdb2e4b4cfaadd5106b9a09d796"
          ]
        },
        "id": "aOyovTcuP5Og",
        "outputId": "c5a0b197-2cef-4305-99e5-8be4dc7c41e2"
      },
      "source": [
        "model.fit(X)"
      ],
      "execution_count": null,
      "outputs": [
        {
          "output_type": "display_data",
          "data": {
            "application/vnd.jupyter.widget-view+json": {
              "model_id": "d2333fe356f646b8861ee3ad2fa77c67",
              "version_minor": 0,
              "version_major": 2
            },
            "text/plain": [
              "HBox(children=(FloatProgress(value=0.0, max=15.0), HTML(value='')))"
            ]
          },
          "metadata": {
            "tags": []
          }
        },
        {
          "output_type": "stream",
          "text": [
            "\n"
          ],
          "name": "stdout"
        }
      ]
    },
    {
      "cell_type": "markdown",
      "metadata": {
        "id": "hLSvdt_IQtCC"
      },
      "source": [
        "\n",
        "\n",
        "Now, let's test out the model's recommendations. We can use the model's similar_items() method which returns the most relevant movies of a given movie. We can use our helpful get_movie_index() function to get the movie index of the movie that we're interested in.\n"
      ]
    },
    {
      "cell_type": "code",
      "metadata": {
        "colab": {
          "base_uri": "https://localhost:8080/"
        },
        "id": "qBU7oSjvQtpK",
        "outputId": "2a3f7aaf-29d2-46bb-ef35-9e1244195283"
      },
      "source": [
        "movie_of_interest = 'Red Queen 1'\n",
        "\n",
        "movie_index = get_movie_index(movie_of_interest)\n",
        "related = model.similar_items(movie_index)\n",
        "related"
      ],
      "execution_count": null,
      "outputs": [
        {
          "output_type": "execute_result",
          "data": {
            "text/plain": [
              "[(614, 1.0000001),\n",
              " (6004, 0.9425057),\n",
              " (5250, 0.91434276),\n",
              " (10416, 0.89084107),\n",
              " (18611, 0.8875659),\n",
              " (13414, 0.88539433),\n",
              " (12986, 0.8837407),\n",
              " (2908, 0.8756041),\n",
              " (11683, 0.87245053),\n",
              " (13302, 0.855826)]"
            ]
          },
          "metadata": {
            "tags": []
          },
          "execution_count": 53
        }
      ]
    },
    {
      "cell_type": "markdown",
      "metadata": {
        "id": "-UKdvgWQR69v"
      },
      "source": [
        "The output of similar_items() is not user-friendly. We'll need to use our get_movie_title() function to interpret what our results are."
      ]
    },
    {
      "cell_type": "code",
      "metadata": {
        "colab": {
          "base_uri": "https://localhost:8080/"
        },
        "id": "O5DSOoPSRzbN",
        "outputId": "4c92dc8f-8224-4a14-c1a3-9bcf9869dec0"
      },
      "source": [
        "print(f\"Because you watched {movie_finder(movie_of_interest)}...\")\n",
        "for r in related:\n",
        "    recommended_title = get_movie_title(r[0])\n",
        "    if recommended_title != movie_finder(movie_of_interest):     # != : \"is not equal to\"; print titles not equal to the title supplied to the model\n",
        "        print(recommended_title)"
      ],
      "execution_count": null,
      "outputs": [
        {
          "output_type": "stream",
          "text": [
            "Because you watched Red Queen 1...\n",
            "Truly Devious\n",
            "The Beautiful\n",
            "American Royals 2: Majesty\n",
            "Lovely War\n",
            "Looking for Alaska\n",
            "Looking for Alaska\n",
            "These Witches Don't Burn\n",
            "I Have Lost My Way\n"
          ],
          "name": "stdout"
        }
      ]
    },
    {
      "cell_type": "markdown",
      "metadata": {
        "id": "4Jk2qbdacpoq"
      },
      "source": [
        "last execution took 72 min"
      ]
    }
  ]
}