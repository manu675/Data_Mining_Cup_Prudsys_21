{
  "nbformat": 4,
  "nbformat_minor": 0,
  "metadata": {
    "accelerator": "GPU",
    "colab": {
      "name": "eda_feature_engineering_modeling.ipynb",
      "provenance": [],
      "collapsed_sections": [],
      "toc_visible": true,
      "authorship_tag": "ABX9TyNvZjb2IkyxfGgsfXsOKKU2",
      "include_colab_link": true
    },
    "kernelspec": {
      "display_name": "Python 3",
      "name": "python3"
    },
    "language_info": {
      "name": "python"
    },
    "widgets": {
      "application/vnd.jupyter.widget-state+json": {
        "d2333fe356f646b8861ee3ad2fa77c67": {
          "model_module": "@jupyter-widgets/controls",
          "model_name": "HBoxModel",
          "state": {
            "_view_name": "HBoxView",
            "_dom_classes": [],
            "_model_name": "HBoxModel",
            "_view_module": "@jupyter-widgets/controls",
            "_model_module_version": "1.5.0",
            "_view_count": null,
            "_view_module_version": "1.5.0",
            "box_style": "",
            "layout": "IPY_MODEL_4bf559ac774b46449806854a8fa9ebc0",
            "_model_module": "@jupyter-widgets/controls",
            "children": [
              "IPY_MODEL_daa648ca46a6466680794fc69ad8cf33",
              "IPY_MODEL_2821977ceb524355ab1b47f2f165cbab"
            ]
          }
        },
        "4bf559ac774b46449806854a8fa9ebc0": {
          "model_module": "@jupyter-widgets/base",
          "model_name": "LayoutModel",
          "state": {
            "_view_name": "LayoutView",
            "grid_template_rows": null,
            "right": null,
            "justify_content": null,
            "_view_module": "@jupyter-widgets/base",
            "overflow": null,
            "_model_module_version": "1.2.0",
            "_view_count": null,
            "flex_flow": null,
            "width": null,
            "min_width": null,
            "border": null,
            "align_items": null,
            "bottom": null,
            "_model_module": "@jupyter-widgets/base",
            "top": null,
            "grid_column": null,
            "overflow_y": null,
            "overflow_x": null,
            "grid_auto_flow": null,
            "grid_area": null,
            "grid_template_columns": null,
            "flex": null,
            "_model_name": "LayoutModel",
            "justify_items": null,
            "grid_row": null,
            "max_height": null,
            "align_content": null,
            "visibility": null,
            "align_self": null,
            "height": null,
            "min_height": null,
            "padding": null,
            "grid_auto_rows": null,
            "grid_gap": null,
            "max_width": null,
            "order": null,
            "_view_module_version": "1.2.0",
            "grid_template_areas": null,
            "object_position": null,
            "object_fit": null,
            "grid_auto_columns": null,
            "margin": null,
            "display": null,
            "left": null
          }
        },
        "daa648ca46a6466680794fc69ad8cf33": {
          "model_module": "@jupyter-widgets/controls",
          "model_name": "FloatProgressModel",
          "state": {
            "_view_name": "ProgressView",
            "style": "IPY_MODEL_06b04e350a2146cc90ca9fb954778618",
            "_dom_classes": [],
            "description": "100%",
            "_model_name": "FloatProgressModel",
            "bar_style": "success",
            "max": 15,
            "_view_module": "@jupyter-widgets/controls",
            "_model_module_version": "1.5.0",
            "value": 15,
            "_view_count": null,
            "_view_module_version": "1.5.0",
            "orientation": "horizontal",
            "min": 0,
            "description_tooltip": null,
            "_model_module": "@jupyter-widgets/controls",
            "layout": "IPY_MODEL_b48003d6d49e47878a349a7f64df9c90"
          }
        },
        "2821977ceb524355ab1b47f2f165cbab": {
          "model_module": "@jupyter-widgets/controls",
          "model_name": "HTMLModel",
          "state": {
            "_view_name": "HTMLView",
            "style": "IPY_MODEL_1a8a58e812e84992955bbe25b61c9048",
            "_dom_classes": [],
            "description": "",
            "_model_name": "HTMLModel",
            "placeholder": "​",
            "_view_module": "@jupyter-widgets/controls",
            "_model_module_version": "1.5.0",
            "value": " 15/15 [00:52&lt;00:00,  3.48s/it]",
            "_view_count": null,
            "_view_module_version": "1.5.0",
            "description_tooltip": null,
            "_model_module": "@jupyter-widgets/controls",
            "layout": "IPY_MODEL_2ca96bdb2e4b4cfaadd5106b9a09d796"
          }
        },
        "06b04e350a2146cc90ca9fb954778618": {
          "model_module": "@jupyter-widgets/controls",
          "model_name": "ProgressStyleModel",
          "state": {
            "_view_name": "StyleView",
            "_model_name": "ProgressStyleModel",
            "description_width": "initial",
            "_view_module": "@jupyter-widgets/base",
            "_model_module_version": "1.5.0",
            "_view_count": null,
            "_view_module_version": "1.2.0",
            "bar_color": null,
            "_model_module": "@jupyter-widgets/controls"
          }
        },
        "b48003d6d49e47878a349a7f64df9c90": {
          "model_module": "@jupyter-widgets/base",
          "model_name": "LayoutModel",
          "state": {
            "_view_name": "LayoutView",
            "grid_template_rows": null,
            "right": null,
            "justify_content": null,
            "_view_module": "@jupyter-widgets/base",
            "overflow": null,
            "_model_module_version": "1.2.0",
            "_view_count": null,
            "flex_flow": null,
            "width": null,
            "min_width": null,
            "border": null,
            "align_items": null,
            "bottom": null,
            "_model_module": "@jupyter-widgets/base",
            "top": null,
            "grid_column": null,
            "overflow_y": null,
            "overflow_x": null,
            "grid_auto_flow": null,
            "grid_area": null,
            "grid_template_columns": null,
            "flex": null,
            "_model_name": "LayoutModel",
            "justify_items": null,
            "grid_row": null,
            "max_height": null,
            "align_content": null,
            "visibility": null,
            "align_self": null,
            "height": null,
            "min_height": null,
            "padding": null,
            "grid_auto_rows": null,
            "grid_gap": null,
            "max_width": null,
            "order": null,
            "_view_module_version": "1.2.0",
            "grid_template_areas": null,
            "object_position": null,
            "object_fit": null,
            "grid_auto_columns": null,
            "margin": null,
            "display": null,
            "left": null
          }
        },
        "1a8a58e812e84992955bbe25b61c9048": {
          "model_module": "@jupyter-widgets/controls",
          "model_name": "DescriptionStyleModel",
          "state": {
            "_view_name": "StyleView",
            "_model_name": "DescriptionStyleModel",
            "description_width": "",
            "_view_module": "@jupyter-widgets/base",
            "_model_module_version": "1.5.0",
            "_view_count": null,
            "_view_module_version": "1.2.0",
            "_model_module": "@jupyter-widgets/controls"
          }
        },
        "2ca96bdb2e4b4cfaadd5106b9a09d796": {
          "model_module": "@jupyter-widgets/base",
          "model_name": "LayoutModel",
          "state": {
            "_view_name": "LayoutView",
            "grid_template_rows": null,
            "right": null,
            "justify_content": null,
            "_view_module": "@jupyter-widgets/base",
            "overflow": null,
            "_model_module_version": "1.2.0",
            "_view_count": null,
            "flex_flow": null,
            "width": null,
            "min_width": null,
            "border": null,
            "align_items": null,
            "bottom": null,
            "_model_module": "@jupyter-widgets/base",
            "top": null,
            "grid_column": null,
            "overflow_y": null,
            "overflow_x": null,
            "grid_auto_flow": null,
            "grid_area": null,
            "grid_template_columns": null,
            "flex": null,
            "_model_name": "LayoutModel",
            "justify_items": null,
            "grid_row": null,
            "max_height": null,
            "align_content": null,
            "visibility": null,
            "align_self": null,
            "height": null,
            "min_height": null,
            "padding": null,
            "grid_auto_rows": null,
            "grid_gap": null,
            "max_width": null,
            "order": null,
            "_view_module_version": "1.2.0",
            "grid_template_areas": null,
            "object_position": null,
            "object_fit": null,
            "grid_auto_columns": null,
            "margin": null,
            "display": null,
            "left": null
          }
        }
      }
    }
  },
  "cells": [
    {
      "cell_type": "markdown",
      "metadata": {
        "id": "view-in-github",
        "colab_type": "text"
      },
      "source": [
        "<a href=\"https://colab.research.google.com/github/manu675/Data_Mining_Cup_Prudsys_21/blob/master/eda_feature_engineering_modeling.ipynb\" target=\"_parent\"><img src=\"https://colab.research.google.com/assets/colab-badge.svg\" alt=\"Open In Colab\"/></a>"
      ]
    },
    {
      "cell_type": "markdown",
      "metadata": {
        "id": "XG5Wc-C6SJuw"
      },
      "source": [
        "**Data Mining Cup Prudsys 2021**\n"
      ]
    },
    {
      "cell_type": "markdown",
      "metadata": {
        "id": "VVOd54ly6p_t"
      },
      "source": [
        "# Background on Potential Models"
      ]
    },
    {
      "cell_type": "markdown",
      "metadata": {
        "id": "gIxf3pq-SSFd"
      },
      "source": [
        "Task: https://www.data-mining-cup.com/dmc-2021/?utm_source=dmc&utm_medium=email&utm_campaign=newsletter"
      ]
    },
    {
      "cell_type": "markdown",
      "metadata": {
        "id": "AqXZsN7Lz8tM"
      },
      "source": [
        "**Starting points:**  \n",
        "*General Overview*:     \n",
        "https://towardsdatascience.com/the-remarkable-world-of-recommender-systems-bff4b9cbe6a7\n",
        "\n",
        "*More details and potential libraries:*  \n",
        "https://towardsdatascience.com/recommendation-systems-in-the-real-world-51e3948772f3\n",
        "\n",
        "\n",
        "*Resources:*  \n",
        "*   https://machinelearningmastery.com/recommender-systems-resources/\n",
        "*   https://medium.com/@chaitanyarb619/recommendation-systems-a-walk-trough-33587fecc195\n",
        "\n",
        "\n",
        "*TFIDF:*  \n",
        "https://heartbeat.fritz.ai/recommender-systems-with-python-part-i-content-based-filtering-5df4940bd831\n",
        "\n",
        "*Recommender + Countvectorizer:*   \n",
        "https://www.kdnuggets.com/2019/11/content-based-recommender-using-natural-language-processing-nlp.html\n",
        "\n",
        "*Content-based recommender:*  \n",
        "*  https://towardsdatascience.com/building-a-content-based-recommender-system-for-hotels-in-seattle-d724f0a32070\n",
        "\n",
        "*  https://www.kdnuggets.com/2020/07/building-content-based-book-recommendation-engine.html\n",
        "\n",
        "*  https://medium.com/analytics-vidhya/recommendation-system-content-based-part-1-8f5ac093127a\n",
        "\n",
        "*Building a recommender in Keras:*\n",
        "\n",
        "https://heartbeat.fritz.ai/build-train-and-deploy-a-book-recommender-system-using-keras-tensorflow-js-b96944b936a7\n",
        "\n",
        "*K means based recommender:*\n",
        "\n",
        "https://asdkazmi.medium.com/ai-movies-recommendation-system-with-clustering-based-k-means-algorithm-f04467e02fcd\n",
        "\n",
        "*Top-N recommender and hit rate evaluation:*\n",
        "\n",
        "https://towardsdatascience.com/evaluating-a-real-life-recommender-system-error-based-and-ranking-based-84708e3285b\n",
        "\n",
        "*Bayesian personalized ranking:*  \n",
        "https://towardsdatascience.com/recommender-system-using-bayesian-personalized-ranking-d30e98bba0b9\n",
        "\n",
        "*Alternating Least Squares (ALS) for implict data:*  \n",
        "https://medium.com/radon-dev/als-implicit-collaborative-filtering-5ed653ba39fe\n",
        "\n",
        "https://jessesw.com/Rec-System/\n",
        "\n",
        "*Implict library for Recommender systems:*\n",
        "https://implicit.readthedocs.io/en/latest/ann.html\n",
        "\n",
        "*Deep Neural Network based recommendation systems:*  \n",
        "https://towardsdatascience.com/introduction-to-recommender-systems-2-deep-neural-network-based-recommendation-systems-4e4484e64746\n",
        "\n",
        "**Goal**: content-based Top-N recommender system (item-item recommendations based on item attributes such as same author, similar title, same topic/subtopic)\n",
        "\n",
        "**Potential models**:\n",
        "- Matrix Factorization (Alternating Least Squares; Logistic Matrix Factorization)\n",
        "- Clustering (KNN)\n",
        "- Bayesian Personalized Ranking\n",
        "- Deep Learning (NNs) ?\n",
        "\n",
        "\n",
        "**Potential evaluation/comparison metrics for recommender systems:**  \n",
        "https://towardsdatascience.com/evaluation-metrics-for-recommender-systems-df56c6611093\n",
        "\n",
        "*Measuring similarity in Recommender systems:*  \n",
        "https://levelup.gitconnected.com/measuring-similarity-in-recommendation-systems-8f2aa8ad1f44\n",
        "\n",
        "Levenshtein distance:  \n",
        "https://github.com/ztane/python-Levenshtein\n",
        "\n",
        "https://towardsdatascience.com/calculating-string-similarity-in-python-276e18a7d33a\n",
        "\n",
        "*Recommender evaluation library:*  \n",
        "https://github.com/statisticianinstilettos/recmetrics\n",
        "\n",
        "*Evaluation metrics for Rating Prediction Recommenders (predict user ratings by taking explicit feedback data from users in the form of ratings between 0 and 10):* RMSE, MAE\n",
        "\n",
        "*Top-N recommender (return a ranked list of N items users will potentially be interested in based on ):* Hit rate (find all items in a user's history in the training data and remove one of these items; then run a Leave one out CV and get the top-N recommendations - if the removed item is one of the top-N it's a hit)\n",
        "\n",
        "Precision: popular evaluation metric for recommender systems. It simply looks at the top K recommendations and calculate what proportion of those recommendations are actually relevant to the user. k: total # of recommendations, n_relevant: recommendations relevant to the user\n",
        "\n",
        "$$ precision_k = n_{relevant}/k $$\n",
        "\n",
        "Recall: the proportion of items that were found in the top K recommendations.\n"
      ]
    },
    {
      "cell_type": "markdown",
      "metadata": {
        "id": "L8M4M98eq-5B"
      },
      "source": [
        "**ToDo's for the presentation:**  \n",
        "\n",
        "Summary about task and data   \n",
        "Challenges (Data Modeling)  \n",
        "Subproblems and responsibilities within the team  \n",
        "First EDA insights: # of features, summary stats, plots  \n"
      ]
    },
    {
      "cell_type": "markdown",
      "metadata": {
        "id": "IPjS4mPvtCtG"
      },
      "source": [
        "Implementation Tutorial:  \n",
        "https://medium.datadriveninvestor.com/how-to-build-a-recommendation-system-for-purchase-data-step-by-step-d6d7a78800b6"
      ]
    },
    {
      "cell_type": "markdown",
      "metadata": {
        "id": "kwCR0xrPVXjQ"
      },
      "source": [
        "Installing libraries"
      ]
    },
    {
      "cell_type": "code",
      "metadata": {
        "colab": {
          "base_uri": "https://localhost:8080/"
        },
        "id": "9pa-5FXy26FA",
        "outputId": "dd238363-c8fc-43c7-e0f9-b49901323f11"
      },
      "source": [
        "##pip install rake_nltk"
      ],
      "execution_count": null,
      "outputs": [
        {
          "output_type": "stream",
          "text": [
            "Collecting rake_nltk\n",
            "  Downloading https://files.pythonhosted.org/packages/8e/c4/b4ff57e541ac5624ad4b20b89c2bafd4e98f29fd83139f3a81858bdb3815/rake_nltk-1.0.4.tar.gz\n",
            "Requirement already satisfied: nltk in /usr/local/lib/python3.7/dist-packages (from rake_nltk) (3.2.5)\n",
            "Requirement already satisfied: six in /usr/local/lib/python3.7/dist-packages (from nltk->rake_nltk) (1.15.0)\n",
            "Building wheels for collected packages: rake-nltk\n",
            "  Building wheel for rake-nltk (setup.py) ... \u001b[?25l\u001b[?25hdone\n",
            "  Created wheel for rake-nltk: filename=rake_nltk-1.0.4-py2.py3-none-any.whl size=7819 sha256=a2583900f1e5bec436240d0d2844414501693a37edfd781490de5886bcd3e4c8\n",
            "  Stored in directory: /root/.cache/pip/wheels/ef/92/fc/271b3709e71a96ffe934b27818946b795ac6b9b8ff8682483f\n",
            "Successfully built rake-nltk\n",
            "Installing collected packages: rake-nltk\n",
            "Successfully installed rake-nltk-1.0.4\n"
          ],
          "name": "stdout"
        }
      ]
    },
    {
      "cell_type": "code",
      "metadata": {
        "colab": {
          "base_uri": "https://localhost:8080/"
        },
        "id": "rOYrJTWz2YFb",
        "outputId": "8c0dde77-4908-4282-8e86-73816ab4720d"
      },
      "source": [
        "pip install textdistance"
      ],
      "execution_count": 1,
      "outputs": [
        {
          "output_type": "stream",
          "text": [
            "Requirement already satisfied: textdistance in /usr/local/lib/python3.7/dist-packages (4.2.1)\n"
          ],
          "name": "stdout"
        }
      ]
    },
    {
      "cell_type": "code",
      "metadata": {
        "colab": {
          "base_uri": "https://localhost:8080/"
        },
        "id": "R1efOHxuODSs",
        "outputId": "f099f4ff-2ec3-4635-f29a-71de55187eeb"
      },
      "source": [
        "pip install python-Levenshtein"
      ],
      "execution_count": 2,
      "outputs": [
        {
          "output_type": "stream",
          "text": [
            "Requirement already satisfied: python-Levenshtein in /usr/local/lib/python3.7/dist-packages (0.12.2)\n",
            "Requirement already satisfied: setuptools in /usr/local/lib/python3.7/dist-packages (from python-Levenshtein) (56.1.0)\n"
          ],
          "name": "stdout"
        }
      ]
    },
    {
      "cell_type": "code",
      "metadata": {
        "colab": {
          "base_uri": "https://localhost:8080/"
        },
        "id": "VxzBJFEdVO0K",
        "outputId": "27a15808-3828-4e11-dd0b-33fe670cb1ee"
      },
      "source": [
        "##pip install chart_studio"
      ],
      "execution_count": null,
      "outputs": [
        {
          "output_type": "stream",
          "text": [
            "Requirement already satisfied: chart_studio in /usr/local/lib/python3.7/dist-packages (1.1.0)\n",
            "Requirement already satisfied: plotly in /usr/local/lib/python3.7/dist-packages (from chart_studio) (4.4.1)\n",
            "Requirement already satisfied: six in /usr/local/lib/python3.7/dist-packages (from chart_studio) (1.15.0)\n",
            "Requirement already satisfied: retrying>=1.3.3 in /usr/local/lib/python3.7/dist-packages (from chart_studio) (1.3.3)\n",
            "Requirement already satisfied: requests in /usr/local/lib/python3.7/dist-packages (from chart_studio) (2.23.0)\n",
            "Requirement already satisfied: idna<3,>=2.5 in /usr/local/lib/python3.7/dist-packages (from requests->chart_studio) (2.10)\n",
            "Requirement already satisfied: urllib3!=1.25.0,!=1.25.1,<1.26,>=1.21.1 in /usr/local/lib/python3.7/dist-packages (from requests->chart_studio) (1.24.3)\n",
            "Requirement already satisfied: certifi>=2017.4.17 in /usr/local/lib/python3.7/dist-packages (from requests->chart_studio) (2020.12.5)\n",
            "Requirement already satisfied: chardet<4,>=3.0.2 in /usr/local/lib/python3.7/dist-packages (from requests->chart_studio) (3.0.4)\n"
          ],
          "name": "stdout"
        }
      ]
    },
    {
      "cell_type": "markdown",
      "metadata": {
        "id": "-zKnifgg6c3W"
      },
      "source": [
        "# Importing libraries"
      ]
    },
    {
      "cell_type": "code",
      "metadata": {
        "id": "8sRz5ww8R-OZ"
      },
      "source": [
        "# importing libaries:\n",
        "\n",
        "# basic libraries\n",
        "import pandas as pd\n",
        "import numpy as np\n",
        "import matplotlib.pyplot as plt\n",
        "import seaborn as sns\n",
        "\n",
        "# Hyperparameter tuning libraries\n",
        "from sklearn.model_selection import train_test_split, GridSearchCV, RandomizedSearchCV, RepeatedStratifiedKFold\n",
        "from sklearn.preprocessing import OneHotEncoder, OrdinalEncoder\n",
        "from sklearn.model_selection import cross_val_score, KFold, StratifiedKFold\n",
        "from scipy.stats import loguniform, randint, uniform\n",
        "\n",
        "# specific libraries\n",
        "import nltk # natural language toolkit\n",
        "from sklearn.feature_extraction.text import TfidfVectorizer\n",
        "from sklearn.metrics.pairwise import cosine_similarity\n",
        "from sklearn.feature_extraction.text import CountVectorizer\n",
        "import textdistance # Jaro-Winkler string distance\n",
        "import Levenshtein # distance measure for strings\n",
        "##from sklearn.metrics.pairwise import linear_kernel \n",
        "##from rake_nltk import Rake # Rapid automatic keyword extraction (RAKE)\n",
        "\n",
        "\n"
      ],
      "execution_count": 3,
      "outputs": []
    },
    {
      "cell_type": "markdown",
      "metadata": {
        "id": "2zF-HJhwUM57"
      },
      "source": [
        "# Reading in the data"
      ]
    },
    {
      "cell_type": "code",
      "metadata": {
        "colab": {
          "resources": {
            "http://localhost:8080/nbextensions/google.colab/files.js": {
              "data": "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",
              "ok": true,
              "headers": [
                [
                  "content-type",
                  "application/javascript"
                ]
              ],
              "status": 200,
              "status_text": "OK"
            }
          },
          "base_uri": "https://localhost:8080/",
          "height": 73
        },
        "id": "kvYR08EJZvm9",
        "outputId": "e299f66e-f9e3-4a21-868f-562cf851d14c"
      },
      "source": [
        "## Way 2: uploading the local data to google colab\n",
        "# importing local data to google colab:\n",
        "from google.colab import files\n",
        "uploaded = files.upload()"
      ],
      "execution_count": 4,
      "outputs": [
        {
          "output_type": "display_data",
          "data": {
            "text/html": [
              "\n",
              "     <input type=\"file\" id=\"files-1f398a4f-8a4d-4202-8f89-98bb652c2d3e\" name=\"files[]\" multiple disabled\n",
              "        style=\"border:none\" />\n",
              "     <output id=\"result-1f398a4f-8a4d-4202-8f89-98bb652c2d3e\">\n",
              "      Upload widget is only available when the cell has been executed in the\n",
              "      current browser session. Please rerun this cell to enable.\n",
              "      </output>\n",
              "      <script src=\"/nbextensions/google.colab/files.js\"></script> "
            ],
            "text/plain": [
              "<IPython.core.display.HTML object>"
            ]
          },
          "metadata": {
            "tags": []
          }
        },
        {
          "output_type": "stream",
          "text": [
            "Saving evaluation.csv to evaluation (1).csv\n"
          ],
          "name": "stdout"
        }
      ]
    },
    {
      "cell_type": "code",
      "metadata": {
        "colab": {
          "resources": {
            "http://localhost:8080/nbextensions/google.colab/files.js": {
              "data": "Ly8gQ29weXJpZ2h0IDIwMTcgR29vZ2xlIExMQwovLwovLyBMaWNlbnNlZCB1bmRlciB0aGUgQXBhY2hlIExpY2Vuc2UsIFZlcnNpb24gMi4wICh0aGUgIkxpY2Vuc2UiKTsKLy8geW91IG1heSBub3QgdXNlIHRoaXMgZmlsZSBleGNlcHQgaW4gY29tcGxpYW5jZSB3aXRoIHRoZSBMaWNlbnNlLgovLyBZb3UgbWF5IG9idGFpbiBhIGNvcHkgb2YgdGhlIExpY2Vuc2UgYXQKLy8KLy8gICAgICBodHRwOi8vd3d3LmFwYWNoZS5vcmcvbGljZW5zZXMvTElDRU5TRS0yLjAKLy8KLy8gVW5sZXNzIHJlcXVpcmVkIGJ5IGFwcGxpY2FibGUgbGF3IG9yIGFncmVlZCB0byBpbiB3cml0aW5nLCBzb2Z0d2FyZQovLyBkaXN0cmlidXRlZCB1bmRlciB0aGUgTGljZW5zZSBpcyBkaXN0cmlidXRlZCBvbiBhbiAiQVMgSVMiIEJBU0lTLAovLyBXSVRIT1VUIFdBUlJBTlRJRVMgT1IgQ09ORElUSU9OUyBPRiBBTlkgS0lORCwgZWl0aGVyIGV4cHJlc3Mgb3IgaW1wbGllZC4KLy8gU2VlIHRoZSBMaWNlbnNlIGZvciB0aGUgc3BlY2lmaWMgbGFuZ3VhZ2UgZ292ZXJuaW5nIHBlcm1pc3Npb25zIGFuZAovLyBsaW1pdGF0aW9ucyB1bmRlciB0aGUgTGljZW5zZS4KCi8qKgogKiBAZmlsZW92ZXJ2aWV3IEhlbHBlcnMgZm9yIGdvb2dsZS5jb2xhYiBQeXRob24gbW9kdWxlLgogKi8KKGZ1bmN0aW9uKHNjb3BlKSB7CmZ1bmN0aW9uIHNwYW4odGV4dCwgc3R5bGVBdHRyaWJ1dGVzID0ge30pIHsKICBjb25zdCBlbGVtZW50ID0gZG9jdW1lbnQuY3JlYXRlRWxlbWVudCgnc3BhbicpOwogIGVsZW1lbnQudGV4dENvbnRlbnQgPSB0ZXh0OwogIGZvciAoY29uc3Qga2V5IG9mIE9iamVjdC5rZXlzKHN0eWxlQXR0cmlidXRlcykpIHsKICAgIGVsZW1lbnQuc3R5bGVba2V5XSA9IHN0eWxlQXR0cmlidXRlc1trZXldOwogIH0KICByZXR1cm4gZWxlbWVudDsKfQoKLy8gTWF4IG51bWJlciBvZiBieXRlcyB3aGljaCB3aWxsIGJlIHVwbG9hZGVkIGF0IGEgdGltZS4KY29uc3QgTUFYX1BBWUxPQURfU0laRSA9IDEwMCAqIDEwMjQ7CgpmdW5jdGlvbiBfdXBsb2FkRmlsZXMoaW5wdXRJZCwgb3V0cHV0SWQpIHsKICBjb25zdCBzdGVwcyA9IHVwbG9hZEZpbGVzU3RlcChpbnB1dElkLCBvdXRwdXRJZCk7CiAgY29uc3Qgb3V0cHV0RWxlbWVudCA9IGRvY3VtZW50LmdldEVsZW1lbnRCeUlkKG91dHB1dElkKTsKICAvLyBDYWNoZSBzdGVwcyBvbiB0aGUgb3V0cHV0RWxlbWVudCB0byBtYWtlIGl0IGF2YWlsYWJsZSBmb3IgdGhlIG5leHQgY2FsbAogIC8vIHRvIHVwbG9hZEZpbGVzQ29udGludWUgZnJvbSBQeXRob24uCiAgb3V0cHV0RWxlbWVudC5zdGVwcyA9IHN0ZXBzOwoKICByZXR1cm4gX3VwbG9hZEZpbGVzQ29udGludWUob3V0cHV0SWQpOwp9CgovLyBUaGlzIGlzIHJvdWdobHkgYW4gYXN5bmMgZ2VuZXJhdG9yIChub3Qgc3VwcG9ydGVkIGluIHRoZSBicm93c2VyIHlldCksCi8vIHdoZXJlIHRoZXJlIGFyZSBtdWx0aXBsZSBhc3luY2hyb25vdXMgc3RlcHMgYW5kIHRoZSBQeXRob24gc2lkZSBpcyBnb2luZwovLyB0byBwb2xsIGZvciBjb21wbGV0aW9uIG9mIGVhY2ggc3RlcC4KLy8gVGhpcyB1c2VzIGEgUHJvbWlzZSB0byBibG9jayB0aGUgcHl0aG9uIHNpZGUgb24gY29tcGxldGlvbiBvZiBlYWNoIHN0ZXAsCi8vIHRoZW4gcGFzc2VzIHRoZSByZXN1bHQgb2YgdGhlIHByZXZpb3VzIHN0ZXAgYXMgdGhlIGlucHV0IHRvIHRoZSBuZXh0IHN0ZXAuCmZ1bmN0aW9uIF91cGxvYWRGaWxlc0NvbnRpbnVlKG91dHB1dElkKSB7CiAgY29uc3Qgb3V0cHV0RWxlbWVudCA9IGRvY3VtZW50LmdldEVsZW1lbnRCeUlkKG91dHB1dElkKTsKICBjb25zdCBzdGVwcyA9IG91dHB1dEVsZW1lbnQuc3RlcHM7CgogIGNvbnN0IG5leHQgPSBzdGVwcy5uZXh0KG91dHB1dEVsZW1lbnQubGFzdFByb21pc2VWYWx1ZSk7CiAgcmV0dXJuIFByb21pc2UucmVzb2x2ZShuZXh0LnZhbHVlLnByb21pc2UpLnRoZW4oKHZhbHVlKSA9PiB7CiAgICAvLyBDYWNoZSB0aGUgbGFzdCBwcm9taXNlIHZhbHVlIHRvIG1ha2UgaXQgYXZhaWxhYmxlIHRvIHRoZSBuZXh0CiAgICAvLyBzdGVwIG9mIHRoZSBnZW5lcmF0b3IuCiAgICBvdXRwdXRFbGVtZW50Lmxhc3RQcm9taXNlVmFsdWUgPSB2YWx1ZTsKICAgIHJldHVybiBuZXh0LnZhbHVlLnJlc3BvbnNlOwogIH0pOwp9CgovKioKICogR2VuZXJhdG9yIGZ1bmN0aW9uIHdoaWNoIGlzIGNhbGxlZCBiZXR3ZWVuIGVhY2ggYXN5bmMgc3RlcCBvZiB0aGUgdXBsb2FkCiAqIHByb2Nlc3MuCiAqIEBwYXJhbSB7c3RyaW5nfSBpbnB1dElkIEVsZW1lbnQgSUQgb2YgdGhlIGlucHV0IGZpbGUgcGlja2VyIGVsZW1lbnQuCiAqIEBwYXJhbSB7c3RyaW5nfSBvdXRwdXRJZCBFbGVtZW50IElEIG9mIHRoZSBvdXRwdXQgZGlzcGxheS4KICogQHJldHVybiB7IUl0ZXJhYmxlPCFPYmplY3Q+fSBJdGVyYWJsZSBvZiBuZXh0IHN0ZXBzLgogKi8KZnVuY3Rpb24qIHVwbG9hZEZpbGVzU3RlcChpbnB1dElkLCBvdXRwdXRJZCkgewogIGNvbnN0IGlucHV0RWxlbWVudCA9IGRvY3VtZW50LmdldEVsZW1lbnRCeUlkKGlucHV0SWQpOwogIGlucHV0RWxlbWVudC5kaXNhYmxlZCA9IGZhbHNlOwoKICBjb25zdCBvdXRwdXRFbGVtZW50ID0gZG9jdW1lbnQuZ2V0RWxlbWVudEJ5SWQob3V0cHV0SWQpOwogIG91dHB1dEVsZW1lbnQuaW5uZXJIVE1MID0gJyc7CgogIGNvbnN0IHBpY2tlZFByb21pc2UgPSBuZXcgUHJvbWlzZSgocmVzb2x2ZSkgPT4gewogICAgaW5wdXRFbGVtZW50LmFkZEV2ZW50TGlzdGVuZXIoJ2NoYW5nZScsIChlKSA9PiB7CiAgICAgIHJlc29sdmUoZS50YXJnZXQuZmlsZXMpOwogICAgfSk7CiAgfSk7CgogIGNvbnN0IGNhbmNlbCA9IGRvY3VtZW50LmNyZWF0ZUVsZW1lbnQoJ2J1dHRvbicpOwogIGlucHV0RWxlbWVudC5wYXJlbnRFbGVtZW50LmFwcGVuZENoaWxkKGNhbmNlbCk7CiAgY2FuY2VsLnRleHRDb250ZW50ID0gJ0NhbmNlbCB1cGxvYWQnOwogIGNvbnN0IGNhbmNlbFByb21pc2UgPSBuZXcgUHJvbWlzZSgocmVzb2x2ZSkgPT4gewogICAgY2FuY2VsLm9uY2xpY2sgPSAoKSA9PiB7CiAgICAgIHJlc29sdmUobnVsbCk7CiAgICB9OwogIH0pOwoKICAvLyBXYWl0IGZvciB0aGUgdXNlciB0byBwaWNrIHRoZSBmaWxlcy4KICBjb25zdCBmaWxlcyA9IHlpZWxkIHsKICAgIHByb21pc2U6IFByb21pc2UucmFjZShbcGlja2VkUHJvbWlzZSwgY2FuY2VsUHJvbWlzZV0pLAogICAgcmVzcG9uc2U6IHsKICAgICAgYWN0aW9uOiAnc3RhcnRpbmcnLAogICAgfQogIH07CgogIGNhbmNlbC5yZW1vdmUoKTsKCiAgLy8gRGlzYWJsZSB0aGUgaW5wdXQgZWxlbWVudCBzaW5jZSBmdXJ0aGVyIHBpY2tzIGFyZSBub3QgYWxsb3dlZC4KICBpbnB1dEVsZW1lbnQuZGlzYWJsZWQgPSB0cnVlOwoKICBpZiAoIWZpbGVzKSB7CiAgICByZXR1cm4gewogICAgICByZXNwb25zZTogewogICAgICAgIGFjdGlvbjogJ2NvbXBsZXRlJywKICAgICAgfQogICAgfTsKICB9CgogIGZvciAoY29uc3QgZmlsZSBvZiBmaWxlcykgewogICAgY29uc3QgbGkgPSBkb2N1bWVudC5jcmVhdGVFbGVtZW50KCdsaScpOwogICAgbGkuYXBwZW5kKHNwYW4oZmlsZS5uYW1lLCB7Zm9udFdlaWdodDogJ2JvbGQnfSkpOwogICAgbGkuYXBwZW5kKHNwYW4oCiAgICAgICAgYCgke2ZpbGUudHlwZSB8fCAnbi9hJ30pIC0gJHtmaWxlLnNpemV9IGJ5dGVzLCBgICsKICAgICAgICBgbGFzdCBtb2RpZmllZDogJHsKICAgICAgICAgICAgZmlsZS5sYXN0TW9kaWZpZWREYXRlID8gZmlsZS5sYXN0TW9kaWZpZWREYXRlLnRvTG9jYWxlRGF0ZVN0cmluZygpIDoKICAgICAgICAgICAgICAgICAgICAgICAgICAgICAgICAgICAgJ24vYSd9IC0gYCkpOwogICAgY29uc3QgcGVyY2VudCA9IHNwYW4oJzAlIGRvbmUnKTsKICAgIGxpLmFwcGVuZENoaWxkKHBlcmNlbnQpOwoKICAgIG91dHB1dEVsZW1lbnQuYXBwZW5kQ2hpbGQobGkpOwoKICAgIGNvbnN0IGZpbGVEYXRhUHJvbWlzZSA9IG5ldyBQcm9taXNlKChyZXNvbHZlKSA9PiB7CiAgICAgIGNvbnN0IHJlYWRlciA9IG5ldyBGaWxlUmVhZGVyKCk7CiAgICAgIHJlYWRlci5vbmxvYWQgPSAoZSkgPT4gewogICAgICAgIHJlc29sdmUoZS50YXJnZXQucmVzdWx0KTsKICAgICAgfTsKICAgICAgcmVhZGVyLnJlYWRBc0FycmF5QnVmZmVyKGZpbGUpOwogICAgfSk7CiAgICAvLyBXYWl0IGZvciB0aGUgZGF0YSB0byBiZSByZWFkeS4KICAgIGxldCBmaWxlRGF0YSA9IHlpZWxkIHsKICAgICAgcHJvbWlzZTogZmlsZURhdGFQcm9taXNlLAogICAgICByZXNwb25zZTogewogICAgICAgIGFjdGlvbjogJ2NvbnRpbnVlJywKICAgICAgfQogICAgfTsKCiAgICAvLyBVc2UgYSBjaHVua2VkIHNlbmRpbmcgdG8gYXZvaWQgbWVzc2FnZSBzaXplIGxpbWl0cy4gU2VlIGIvNjIxMTU2NjAuCiAgICBsZXQgcG9zaXRpb24gPSAwOwogICAgd2hpbGUgKHBvc2l0aW9uIDwgZmlsZURhdGEuYnl0ZUxlbmd0aCkgewogICAgICBjb25zdCBsZW5ndGggPSBNYXRoLm1pbihmaWxlRGF0YS5ieXRlTGVuZ3RoIC0gcG9zaXRpb24sIE1BWF9QQVlMT0FEX1NJWkUpOwogICAgICBjb25zdCBjaHVuayA9IG5ldyBVaW50OEFycmF5KGZpbGVEYXRhLCBwb3NpdGlvbiwgbGVuZ3RoKTsKICAgICAgcG9zaXRpb24gKz0gbGVuZ3RoOwoKICAgICAgY29uc3QgYmFzZTY0ID0gYnRvYShTdHJpbmcuZnJvbUNoYXJDb2RlLmFwcGx5KG51bGwsIGNodW5rKSk7CiAgICAgIHlpZWxkIHsKICAgICAgICByZXNwb25zZTogewogICAgICAgICAgYWN0aW9uOiAnYXBwZW5kJywKICAgICAgICAgIGZpbGU6IGZpbGUubmFtZSwKICAgICAgICAgIGRhdGE6IGJhc2U2NCwKICAgICAgICB9LAogICAgICB9OwogICAgICBwZXJjZW50LnRleHRDb250ZW50ID0KICAgICAgICAgIGAke01hdGgucm91bmQoKHBvc2l0aW9uIC8gZmlsZURhdGEuYnl0ZUxlbmd0aCkgKiAxMDApfSUgZG9uZWA7CiAgICB9CiAgfQoKICAvLyBBbGwgZG9uZS4KICB5aWVsZCB7CiAgICByZXNwb25zZTogewogICAgICBhY3Rpb246ICdjb21wbGV0ZScsCiAgICB9CiAgfTsKfQoKc2NvcGUuZ29vZ2xlID0gc2NvcGUuZ29vZ2xlIHx8IHt9OwpzY29wZS5nb29nbGUuY29sYWIgPSBzY29wZS5nb29nbGUuY29sYWIgfHwge307CnNjb3BlLmdvb2dsZS5jb2xhYi5fZmlsZXMgPSB7CiAgX3VwbG9hZEZpbGVzLAogIF91cGxvYWRGaWxlc0NvbnRpbnVlLAp9Owp9KShzZWxmKTsK",
              "ok": true,
              "headers": [
                [
                  "content-type",
                  "application/javascript"
                ]
              ],
              "status": 200,
              "status_text": "OK"
            }
          },
          "base_uri": "https://localhost:8080/",
          "height": 73
        },
        "id": "bWq1Nfv1aU32",
        "outputId": "1ee5ff04-84b3-4f3d-a6a9-1bed44ddc51d"
      },
      "source": [
        "## Way 2: uploading the local data to google colab\n",
        "# importing local data to google colab:\n",
        "from google.colab import files\n",
        "uploaded = files.upload()"
      ],
      "execution_count": 4,
      "outputs": [
        {
          "output_type": "display_data",
          "data": {
            "text/html": [
              "\n",
              "     <input type=\"file\" id=\"files-18389371-4687-4dd4-b433-66019c997621\" name=\"files[]\" multiple disabled\n",
              "        style=\"border:none\" />\n",
              "     <output id=\"result-18389371-4687-4dd4-b433-66019c997621\">\n",
              "      Upload widget is only available when the cell has been executed in the\n",
              "      current browser session. Please rerun this cell to enable.\n",
              "      </output>\n",
              "      <script src=\"/nbextensions/google.colab/files.js\"></script> "
            ],
            "text/plain": [
              "<IPython.core.display.HTML object>"
            ]
          },
          "metadata": {
            "tags": []
          }
        },
        {
          "output_type": "stream",
          "text": [
            "Saving items.csv to items (2).csv\n"
          ],
          "name": "stdout"
        }
      ]
    },
    {
      "cell_type": "code",
      "metadata": {
        "colab": {
          "resources": {
            "http://localhost:8080/nbextensions/google.colab/files.js": {
              "data": "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",
              "ok": true,
              "headers": [
                [
                  "content-type",
                  "application/javascript"
                ]
              ],
              "status": 200,
              "status_text": "OK"
            }
          },
          "base_uri": "https://localhost:8080/",
          "height": 73
        },
        "id": "uZDNacsNaYY0",
        "outputId": "249356b0-ed0e-454f-fb42-5a4390f9b203"
      },
      "source": [
        "## Way 2: uploading the local data to google colab\n",
        "# importing local data to google colab:\n",
        "from google.colab import files\n",
        "uploaded = files.upload()"
      ],
      "execution_count": 6,
      "outputs": [
        {
          "output_type": "display_data",
          "data": {
            "text/html": [
              "\n",
              "     <input type=\"file\" id=\"files-fffc6880-a84d-4c84-85a0-56e8ea195d66\" name=\"files[]\" multiple disabled\n",
              "        style=\"border:none\" />\n",
              "     <output id=\"result-fffc6880-a84d-4c84-85a0-56e8ea195d66\">\n",
              "      Upload widget is only available when the cell has been executed in the\n",
              "      current browser session. Please rerun this cell to enable.\n",
              "      </output>\n",
              "      <script src=\"/nbextensions/google.colab/files.js\"></script> "
            ],
            "text/plain": [
              "<IPython.core.display.HTML object>"
            ]
          },
          "metadata": {
            "tags": []
          }
        },
        {
          "output_type": "stream",
          "text": [
            "Saving transactions.csv to transactions (1).csv\n"
          ],
          "name": "stdout"
        }
      ]
    },
    {
      "cell_type": "markdown",
      "metadata": {
        "id": "Um0WOJwM7CYG"
      },
      "source": [
        "# Exploratory Data Analysis\n"
      ]
    },
    {
      "cell_type": "markdown",
      "metadata": {
        "id": "octMC57O8_qv"
      },
      "source": [
        "https://towardsdatascience.com/exploratory-data-analysis-8fc1cb20fd15https://towardsdatascience.com/exploratory-data-analysis-8fc1cb20fd15"
      ]
    },
    {
      "cell_type": "markdown",
      "metadata": {
        "id": "o-4v_pv8VzOc"
      },
      "source": [
        "Reading in the provided csv data files"
      ]
    },
    {
      "cell_type": "code",
      "metadata": {
        "id": "MWqlFi1UUMV9"
      },
      "source": [
        "eval_df = pd.read_csv(\"evaluation.csv\", sep =\";\")"
      ],
      "execution_count": 7,
      "outputs": []
    },
    {
      "cell_type": "code",
      "metadata": {
        "id": "2uhOi7olaQ3Q"
      },
      "source": [
        "items_df = pd.read_csv(\"items.csv\", sep =\"|\")"
      ],
      "execution_count": 5,
      "outputs": []
    },
    {
      "cell_type": "code",
      "metadata": {
        "id": "A9AVWGEuaplx"
      },
      "source": [
        "transactions_df = pd.read_csv(\"transactions.csv\", sep =\"|\")"
      ],
      "execution_count": 9,
      "outputs": []
    },
    {
      "cell_type": "code",
      "metadata": {
        "colab": {
          "base_uri": "https://localhost:8080/",
          "height": 206
        },
        "id": "j4mnmjDAaQ-F",
        "outputId": "557b2d69-f6e0-4b3e-b0e1-dfad7e79d07e"
      },
      "source": [
        "eval_df.head()"
      ],
      "execution_count": null,
      "outputs": [
        {
          "output_type": "execute_result",
          "data": {
            "text/html": [
              "<div>\n",
              "<style scoped>\n",
              "    .dataframe tbody tr th:only-of-type {\n",
              "        vertical-align: middle;\n",
              "    }\n",
              "\n",
              "    .dataframe tbody tr th {\n",
              "        vertical-align: top;\n",
              "    }\n",
              "\n",
              "    .dataframe thead th {\n",
              "        text-align: right;\n",
              "    }\n",
              "</style>\n",
              "<table border=\"1\" class=\"dataframe\">\n",
              "  <thead>\n",
              "    <tr style=\"text-align: right;\">\n",
              "      <th></th>\n",
              "      <th>itemID</th>\n",
              "    </tr>\n",
              "  </thead>\n",
              "  <tbody>\n",
              "    <tr>\n",
              "      <th>0</th>\n",
              "      <td>12</td>\n",
              "    </tr>\n",
              "    <tr>\n",
              "      <th>1</th>\n",
              "      <td>45274</td>\n",
              "    </tr>\n",
              "    <tr>\n",
              "      <th>2</th>\n",
              "      <td>10104</td>\n",
              "    </tr>\n",
              "    <tr>\n",
              "      <th>3</th>\n",
              "      <td>41371</td>\n",
              "    </tr>\n",
              "    <tr>\n",
              "      <th>4</th>\n",
              "      <td>14015</td>\n",
              "    </tr>\n",
              "  </tbody>\n",
              "</table>\n",
              "</div>"
            ],
            "text/plain": [
              "   itemID\n",
              "0      12\n",
              "1   45274\n",
              "2   10104\n",
              "3   41371\n",
              "4   14015"
            ]
          },
          "metadata": {
            "tags": []
          },
          "execution_count": 14
        }
      ]
    },
    {
      "cell_type": "code",
      "metadata": {
        "colab": {
          "base_uri": "https://localhost:8080/"
        },
        "id": "Qk5Vmr_ObVMa",
        "outputId": "85c02334-da12-42ca-faa5-2537aff4a578"
      },
      "source": [
        "eval_df.shape"
      ],
      "execution_count": null,
      "outputs": [
        {
          "output_type": "execute_result",
          "data": {
            "text/plain": [
              "(1000, 1)"
            ]
          },
          "metadata": {
            "tags": []
          },
          "execution_count": 15
        }
      ]
    },
    {
      "cell_type": "code",
      "metadata": {
        "colab": {
          "base_uri": "https://localhost:8080/",
          "height": 206
        },
        "id": "4Jm7AchGcAVs",
        "outputId": "36fc1867-f84b-4100-afe1-d450e2778c01"
      },
      "source": [
        "items_df.head()"
      ],
      "execution_count": null,
      "outputs": [
        {
          "output_type": "execute_result",
          "data": {
            "text/html": [
              "<div>\n",
              "<style scoped>\n",
              "    .dataframe tbody tr th:only-of-type {\n",
              "        vertical-align: middle;\n",
              "    }\n",
              "\n",
              "    .dataframe tbody tr th {\n",
              "        vertical-align: top;\n",
              "    }\n",
              "\n",
              "    .dataframe thead th {\n",
              "        text-align: right;\n",
              "    }\n",
              "</style>\n",
              "<table border=\"1\" class=\"dataframe\">\n",
              "  <thead>\n",
              "    <tr style=\"text-align: right;\">\n",
              "      <th></th>\n",
              "      <th>itemID</th>\n",
              "      <th>title</th>\n",
              "      <th>author</th>\n",
              "      <th>publisher</th>\n",
              "      <th>main topic</th>\n",
              "      <th>subtopics</th>\n",
              "    </tr>\n",
              "  </thead>\n",
              "  <tbody>\n",
              "    <tr>\n",
              "      <th>0</th>\n",
              "      <td>21310</td>\n",
              "      <td>Princess Poppy: The Big Mix Up</td>\n",
              "      <td>Janey Louise Jones</td>\n",
              "      <td>Penguin Random House Children's UK</td>\n",
              "      <td>YFB</td>\n",
              "      <td>[5AH]</td>\n",
              "    </tr>\n",
              "    <tr>\n",
              "      <th>1</th>\n",
              "      <td>73018</td>\n",
              "      <td>Einfach zeichnen! Step by Step</td>\n",
              "      <td>Wiebke Krabbe</td>\n",
              "      <td>Schwager und Steinlein</td>\n",
              "      <td>AGZ</td>\n",
              "      <td>[5AJ,AGZ,WFA,YBG,YBL,YNA,YPA]</td>\n",
              "    </tr>\n",
              "    <tr>\n",
              "      <th>2</th>\n",
              "      <td>19194</td>\n",
              "      <td>Red Queen 1</td>\n",
              "      <td>Victoria Aveyard</td>\n",
              "      <td>Orion Publishing Group</td>\n",
              "      <td>YFH</td>\n",
              "      <td>[5AP,FBA]</td>\n",
              "    </tr>\n",
              "    <tr>\n",
              "      <th>3</th>\n",
              "      <td>40250</td>\n",
              "      <td>Meine Kindergarten-Freunde (Pirat)</td>\n",
              "      <td>NaN</td>\n",
              "      <td>Ars Edition GmbH</td>\n",
              "      <td>YB</td>\n",
              "      <td>[5AC,5AD,YBG,YBL,YF]</td>\n",
              "    </tr>\n",
              "    <tr>\n",
              "      <th>4</th>\n",
              "      <td>46107</td>\n",
              "      <td>Mein großes Schablonen-Buch - Wilde Tiere</td>\n",
              "      <td>Elizabeth Golding</td>\n",
              "      <td>Edition Michael Fischer</td>\n",
              "      <td>WFTM</td>\n",
              "      <td>[WD,WFTM,YBG,YBL,YBLD,YBLN1]</td>\n",
              "    </tr>\n",
              "  </tbody>\n",
              "</table>\n",
              "</div>"
            ],
            "text/plain": [
              "   itemID  ...                      subtopics\n",
              "0   21310  ...                          [5AH]\n",
              "1   73018  ...  [5AJ,AGZ,WFA,YBG,YBL,YNA,YPA]\n",
              "2   19194  ...                      [5AP,FBA]\n",
              "3   40250  ...           [5AC,5AD,YBG,YBL,YF]\n",
              "4   46107  ...   [WD,WFTM,YBG,YBL,YBLD,YBLN1]\n",
              "\n",
              "[5 rows x 6 columns]"
            ]
          },
          "metadata": {
            "tags": []
          },
          "execution_count": 71
        }
      ]
    },
    {
      "cell_type": "code",
      "metadata": {
        "colab": {
          "base_uri": "https://localhost:8080/"
        },
        "id": "hSq18GjncAdp",
        "outputId": "a5cedf2e-343a-4abf-8080-daa827edfc4e"
      },
      "source": [
        "items_df.shape"
      ],
      "execution_count": null,
      "outputs": [
        {
          "output_type": "execute_result",
          "data": {
            "text/plain": [
              "(78030, 6)"
            ]
          },
          "metadata": {
            "tags": []
          },
          "execution_count": 10
        }
      ]
    },
    {
      "cell_type": "markdown",
      "metadata": {
        "id": "UPU5arClQg_8"
      },
      "source": [
        "**Levenshtein Distance**: The distance value describes the minimal number of deletions, insertions, or substitutions that are required to transform one string (the source) into another (the target). The Levenshtein Distance also works on strings of unequal length\n",
        "\n",
        "https://stackabuse.com/levenshtein-distance-and-text-similarity-in-python/"
      ]
    },
    {
      "cell_type": "code",
      "metadata": {
        "colab": {
          "base_uri": "https://localhost:8080/"
        },
        "id": "W_CF9b6JPTsx",
        "outputId": "5049aa90-88a9-4750-8d5e-212d5aa89182"
      },
      "source": [
        "# testing levenshtein distance metric on main topic\n",
        "print(items_df[\"main topic\"][0], items_df[\"main topic\"][2])"
      ],
      "execution_count": null,
      "outputs": [
        {
          "output_type": "stream",
          "text": [
            "YFB YFH\n"
          ],
          "name": "stdout"
        }
      ]
    },
    {
      "cell_type": "code",
      "metadata": {
        "colab": {
          "base_uri": "https://localhost:8080/"
        },
        "id": "-clvhZhIOW4l",
        "outputId": "63cf71b0-cb92-4296-d659-1b7e2ec99685"
      },
      "source": [
        "Levenshtein.distance(items_df[\"main topic\"][0],items_df[\"main topic\"][2])"
      ],
      "execution_count": null,
      "outputs": [
        {
          "output_type": "execute_result",
          "data": {
            "text/plain": [
              "1"
            ]
          },
          "metadata": {
            "tags": []
          },
          "execution_count": 10
        }
      ]
    },
    {
      "cell_type": "code",
      "metadata": {
        "colab": {
          "base_uri": "https://localhost:8080/"
        },
        "id": "-66OhWZ4QLEZ",
        "outputId": "4958fb9f-a3aa-4eb8-cd89-51ef17949921"
      },
      "source": [
        "# test 2 levenshtein distance \n",
        "print(items_df[\"main topic\"][0], items_df[\"main topic\"][3])"
      ],
      "execution_count": null,
      "outputs": [
        {
          "output_type": "stream",
          "text": [
            "YFB YB\n"
          ],
          "name": "stdout"
        }
      ]
    },
    {
      "cell_type": "code",
      "metadata": {
        "colab": {
          "base_uri": "https://localhost:8080/"
        },
        "id": "tKZykyHSQLHM",
        "outputId": "22759561-f1f3-4024-d035-42d8fb7f7c58"
      },
      "source": [
        "Levenshtein.distance(items_df[\"main topic\"][0],items_df[\"main topic\"][3])"
      ],
      "execution_count": null,
      "outputs": [
        {
          "output_type": "execute_result",
          "data": {
            "text/plain": [
              "1"
            ]
          },
          "metadata": {
            "tags": []
          },
          "execution_count": 12
        }
      ]
    },
    {
      "cell_type": "markdown",
      "metadata": {
        "id": "aCzF3S0838J4"
      },
      "source": [
        "**Jaro-Winkler string distance**  \n",
        "\n",
        "The Jaro algorithm is a measure of characters in common, being no more than half the length of the longer string in distance, with consideration for transpositions. Winkler modified this algorithm to support the idea that differences near the start of the string are more significant than differences near the end of the string. Jaro and Jaro-Winkler are suited for comparing smaller strings like words and names."
      ]
    },
    {
      "cell_type": "markdown",
      "metadata": {
        "id": "2GfbGbAgAxS1"
      },
      "source": [
        "![Screen Shot 2021-05-07 at 3.26.22 PM.png](data:image/png;base64,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)"
      ]
    },
    {
      "cell_type": "code",
      "metadata": {
        "colab": {
          "base_uri": "https://localhost:8080/"
        },
        "id": "p1xRYKjE-Dhb",
        "outputId": "960fc6b7-a5ea-453c-fe18-535522b94ced"
      },
      "source": [
        "# Jaro winkler distance; prefix weight of 0.5\n",
        "Levenshtein.jaro_winkler(\"Y\",\"YB\", 0.5)"
      ],
      "execution_count": null,
      "outputs": [
        {
          "output_type": "execute_result",
          "data": {
            "text/plain": [
              "0.9166666666666667"
            ]
          },
          "metadata": {
            "tags": []
          },
          "execution_count": 66
        }
      ]
    },
    {
      "cell_type": "code",
      "metadata": {
        "colab": {
          "base_uri": "https://localhost:8080/"
        },
        "id": "JdmBThPB-Tfr",
        "outputId": "7d42c8a4-29f7-4652-c0f4-1ca5667d99de"
      },
      "source": [
        "Levenshtein.jaro_winkler(\"Y\",\"YBC\", 0.5)"
      ],
      "execution_count": null,
      "outputs": [
        {
          "output_type": "execute_result",
          "data": {
            "text/plain": [
              "0.8888888888888888"
            ]
          },
          "metadata": {
            "tags": []
          },
          "execution_count": 67
        }
      ]
    },
    {
      "cell_type": "code",
      "metadata": {
        "colab": {
          "base_uri": "https://localhost:8080/"
        },
        "id": "C0NTfmGaBoXy",
        "outputId": "8304d05e-57a5-462c-f132-b80eb568edd1"
      },
      "source": [
        "Levenshtein.jaro_winkler(\"YB\",\"YBC\", 0.5)"
      ],
      "execution_count": null,
      "outputs": [
        {
          "output_type": "execute_result",
          "data": {
            "text/plain": [
              "1.0"
            ]
          },
          "metadata": {
            "tags": []
          },
          "execution_count": 68
        }
      ]
    },
    {
      "cell_type": "code",
      "metadata": {
        "colab": {
          "base_uri": "https://localhost:8080/"
        },
        "id": "J7BgqaLq-s10",
        "outputId": "d44f38e0-93f6-4383-dab3-04ef6b67a219"
      },
      "source": [
        "Levenshtein.jaro_winkler(\"Y\",\"Q\", 0.5)"
      ],
      "execution_count": null,
      "outputs": [
        {
          "output_type": "execute_result",
          "data": {
            "text/plain": [
              "0.0"
            ]
          },
          "metadata": {
            "tags": []
          },
          "execution_count": 69
        }
      ]
    },
    {
      "cell_type": "code",
      "metadata": {
        "colab": {
          "base_uri": "https://localhost:8080/"
        },
        "id": "k810RZHACQwQ",
        "outputId": "e2656191-e386-4173-cfdb-0d224ce19fc6"
      },
      "source": [
        "Levenshtein.jaro_winkler(\"ABC\",\"YBC\", 0.5)"
      ],
      "execution_count": null,
      "outputs": [
        {
          "output_type": "execute_result",
          "data": {
            "text/plain": [
              "0.7777777777777777"
            ]
          },
          "metadata": {
            "tags": []
          },
          "execution_count": 70
        }
      ]
    },
    {
      "cell_type": "markdown",
      "metadata": {
        "id": "BY0FJpWnNPtK"
      },
      "source": [
        "loop attempt 1"
      ]
    },
    {
      "cell_type": "markdown",
      "metadata": {
        "id": "NZ3sPo894mZf"
      },
      "source": [
        "```\n",
        "import pandas\n",
        "import Levenshtein\n",
        "\n",
        "df1 = pandas.DataFrame({\"text\": [\"hello world\", \"world hello\"], \"id\": [11, 31]})\n",
        "df2 = pandas.DataFrame({\"test\": [\"hello\", \"world\", \"hello word\"], \"id\": [13, 11, 12]})\n",
        "\n",
        "# Create all possible combinations by joining the dataframes on a fictional key\n",
        "df1[\"key\"] = 0\n",
        "df2[\"key\"] = 0\n",
        "df = df1.merge(df2, on=\"key\").drop(columns=[\"key\"])\n",
        "\n",
        "# Calculate the distances for all possible combinations\n",
        "df[\"distance\"] = df.apply(lambda row: Levenshtein.ratio(str(row[\"text\"]), str(row[\"test\"])), axis=1)\n",
        "\n",
        "# Use the distances as a filter\n",
        "df1.loc[df1[\"id\"].isin(df.loc[df[\"distance\"] < 0.9, \"id_x\"])]\n",
        "\n",
        "```\n",
        "\n"
      ]
    },
    {
      "cell_type": "code",
      "metadata": {
        "colab": {
          "base_uri": "https://localhost:8080/"
        },
        "id": "xWC9KYrfD3m1",
        "outputId": "efc0d4a2-07d8-44ec-8d1d-9288a077bf5c"
      },
      "source": [
        "# number of unique main topic codes\n",
        "items_df[\"main topic\"].nunique()"
      ],
      "execution_count": null,
      "outputs": [
        {
          "output_type": "execute_result",
          "data": {
            "text/plain": [
              "699"
            ]
          },
          "metadata": {
            "tags": []
          },
          "execution_count": 75
        }
      ]
    },
    {
      "cell_type": "code",
      "metadata": {
        "id": "Y2rz79j-EKCr"
      },
      "source": [
        "##items_df[\"main topic\"].unique()"
      ],
      "execution_count": null,
      "outputs": []
    },
    {
      "cell_type": "code",
      "metadata": {
        "id": "RazmksZONPFk",
        "colab": {
          "base_uri": "https://localhost:8080/",
          "height": 424
        },
        "outputId": "d06493c3-d4da-4bde-8e6c-2e6c5fbecac7"
      },
      "source": [
        "df1 = pd.DataFrame(items_df[\"main topic\"].unique())\n",
        "df2 = pd.DataFrame(items_df[\"main topic\"].unique())\n",
        " \n",
        "# Create all possible combinations by joining the dataframes on a fictional key\n",
        "df1[\"key\"] = 0\n",
        "df2[\"key\"] = 0\n",
        "df = df1.merge(df2, on=\"key\").drop(columns=[\"key\"])\n",
        " \n",
        "df"
      ],
      "execution_count": null,
      "outputs": [
        {
          "output_type": "execute_result",
          "data": {
            "text/html": [
              "<div>\n",
              "<style scoped>\n",
              "    .dataframe tbody tr th:only-of-type {\n",
              "        vertical-align: middle;\n",
              "    }\n",
              "\n",
              "    .dataframe tbody tr th {\n",
              "        vertical-align: top;\n",
              "    }\n",
              "\n",
              "    .dataframe thead th {\n",
              "        text-align: right;\n",
              "    }\n",
              "</style>\n",
              "<table border=\"1\" class=\"dataframe\">\n",
              "  <thead>\n",
              "    <tr style=\"text-align: right;\">\n",
              "      <th></th>\n",
              "      <th>0_x</th>\n",
              "      <th>0_y</th>\n",
              "    </tr>\n",
              "  </thead>\n",
              "  <tbody>\n",
              "    <tr>\n",
              "      <th>0</th>\n",
              "      <td>YFB</td>\n",
              "      <td>YFB</td>\n",
              "    </tr>\n",
              "    <tr>\n",
              "      <th>1</th>\n",
              "      <td>YFB</td>\n",
              "      <td>AGZ</td>\n",
              "    </tr>\n",
              "    <tr>\n",
              "      <th>2</th>\n",
              "      <td>YFB</td>\n",
              "      <td>YFH</td>\n",
              "    </tr>\n",
              "    <tr>\n",
              "      <th>3</th>\n",
              "      <td>YFB</td>\n",
              "      <td>YB</td>\n",
              "    </tr>\n",
              "    <tr>\n",
              "      <th>4</th>\n",
              "      <td>YFB</td>\n",
              "      <td>WFTM</td>\n",
              "    </tr>\n",
              "    <tr>\n",
              "      <th>...</th>\n",
              "      <td>...</td>\n",
              "      <td>...</td>\n",
              "    </tr>\n",
              "    <tr>\n",
              "      <th>489995</th>\n",
              "      <td>YBD</td>\n",
              "      <td>YPAD</td>\n",
              "    </tr>\n",
              "    <tr>\n",
              "      <th>489996</th>\n",
              "      <td>YBD</td>\n",
              "      <td>WNCF</td>\n",
              "    </tr>\n",
              "    <tr>\n",
              "      <th>489997</th>\n",
              "      <td>YBD</td>\n",
              "      <td>TJFM1</td>\n",
              "    </tr>\n",
              "    <tr>\n",
              "      <th>489998</th>\n",
              "      <td>YBD</td>\n",
              "      <td>JPFF</td>\n",
              "    </tr>\n",
              "    <tr>\n",
              "      <th>489999</th>\n",
              "      <td>YBD</td>\n",
              "      <td>YBD</td>\n",
              "    </tr>\n",
              "  </tbody>\n",
              "</table>\n",
              "<p>490000 rows × 2 columns</p>\n",
              "</div>"
            ],
            "text/plain": [
              "        0_x    0_y\n",
              "0       YFB    YFB\n",
              "1       YFB    AGZ\n",
              "2       YFB    YFH\n",
              "3       YFB     YB\n",
              "4       YFB   WFTM\n",
              "...     ...    ...\n",
              "489995  YBD   YPAD\n",
              "489996  YBD   WNCF\n",
              "489997  YBD  TJFM1\n",
              "489998  YBD   JPFF\n",
              "489999  YBD    YBD\n",
              "\n",
              "[490000 rows x 2 columns]"
            ]
          },
          "metadata": {
            "tags": []
          },
          "execution_count": 78
        }
      ]
    },
    {
      "cell_type": "code",
      "metadata": {
        "id": "YfyizAuyEnRj"
      },
      "source": [
        "# Calculate the distances for all possible combinations\n",
        "df[\"distance\"] = df.apply(lambda row: Levenshtein.jaro_winkler(str(row[\"0_x\"]), str(row[\"0_y\"]),0.4), axis=1)\n",
        " \n",
        "# Use the distances as a filter\n",
        "##df1.loc[df1[\"id\"].isin(df.loc[df[\"distance\"] >= 0.8, \"id_x\"])]\n"
      ],
      "execution_count": null,
      "outputs": []
    },
    {
      "cell_type": "code",
      "metadata": {
        "colab": {
          "base_uri": "https://localhost:8080/",
          "height": 677
        },
        "id": "fABNzDWBGMAg",
        "outputId": "05f67732-58c0-4049-c958-e8ec25f333b4"
      },
      "source": [
        "df.head(n=20)"
      ],
      "execution_count": null,
      "outputs": [
        {
          "output_type": "execute_result",
          "data": {
            "text/html": [
              "<div>\n",
              "<style scoped>\n",
              "    .dataframe tbody tr th:only-of-type {\n",
              "        vertical-align: middle;\n",
              "    }\n",
              "\n",
              "    .dataframe tbody tr th {\n",
              "        vertical-align: top;\n",
              "    }\n",
              "\n",
              "    .dataframe thead th {\n",
              "        text-align: right;\n",
              "    }\n",
              "</style>\n",
              "<table border=\"1\" class=\"dataframe\">\n",
              "  <thead>\n",
              "    <tr style=\"text-align: right;\">\n",
              "      <th></th>\n",
              "      <th>0_x</th>\n",
              "      <th>0_y</th>\n",
              "      <th>distance</th>\n",
              "    </tr>\n",
              "  </thead>\n",
              "  <tbody>\n",
              "    <tr>\n",
              "      <th>0</th>\n",
              "      <td>YFB</td>\n",
              "      <td>YFB</td>\n",
              "      <td>1.000000</td>\n",
              "    </tr>\n",
              "    <tr>\n",
              "      <th>1</th>\n",
              "      <td>YFB</td>\n",
              "      <td>AGZ</td>\n",
              "      <td>0.000000</td>\n",
              "    </tr>\n",
              "    <tr>\n",
              "      <th>2</th>\n",
              "      <td>YFB</td>\n",
              "      <td>YFH</td>\n",
              "      <td>0.955556</td>\n",
              "    </tr>\n",
              "    <tr>\n",
              "      <th>3</th>\n",
              "      <td>YFB</td>\n",
              "      <td>YB</td>\n",
              "      <td>0.933333</td>\n",
              "    </tr>\n",
              "    <tr>\n",
              "      <th>4</th>\n",
              "      <td>YFB</td>\n",
              "      <td>WFTM</td>\n",
              "      <td>0.527778</td>\n",
              "    </tr>\n",
              "    <tr>\n",
              "      <th>5</th>\n",
              "      <td>YFB</td>\n",
              "      <td>FMR</td>\n",
              "      <td>0.555556</td>\n",
              "    </tr>\n",
              "    <tr>\n",
              "      <th>6</th>\n",
              "      <td>YFB</td>\n",
              "      <td>YBG</td>\n",
              "      <td>0.866667</td>\n",
              "    </tr>\n",
              "    <tr>\n",
              "      <th>7</th>\n",
              "      <td>YFB</td>\n",
              "      <td>YFE</td>\n",
              "      <td>0.955556</td>\n",
              "    </tr>\n",
              "    <tr>\n",
              "      <th>8</th>\n",
              "      <td>YFB</td>\n",
              "      <td>YZG</td>\n",
              "      <td>0.733333</td>\n",
              "    </tr>\n",
              "    <tr>\n",
              "      <th>9</th>\n",
              "      <td>YFB</td>\n",
              "      <td>FMB</td>\n",
              "      <td>0.777778</td>\n",
              "    </tr>\n",
              "    <tr>\n",
              "      <th>10</th>\n",
              "      <td>YFB</td>\n",
              "      <td>YNV</td>\n",
              "      <td>0.733333</td>\n",
              "    </tr>\n",
              "    <tr>\n",
              "      <th>11</th>\n",
              "      <td>YFB</td>\n",
              "      <td>YNWD1</td>\n",
              "      <td>0.706667</td>\n",
              "    </tr>\n",
              "    <tr>\n",
              "      <th>12</th>\n",
              "      <td>YFB</td>\n",
              "      <td>YNVP</td>\n",
              "      <td>0.716667</td>\n",
              "    </tr>\n",
              "    <tr>\n",
              "      <th>13</th>\n",
              "      <td>YFB</td>\n",
              "      <td>YXHL</td>\n",
              "      <td>0.716667</td>\n",
              "    </tr>\n",
              "    <tr>\n",
              "      <th>14</th>\n",
              "      <td>YFB</td>\n",
              "      <td>YBCS</td>\n",
              "      <td>0.833333</td>\n",
              "    </tr>\n",
              "    <tr>\n",
              "      <th>15</th>\n",
              "      <td>YFB</td>\n",
              "      <td>ATDH</td>\n",
              "      <td>0.000000</td>\n",
              "    </tr>\n",
              "    <tr>\n",
              "      <th>16</th>\n",
              "      <td>YFB</td>\n",
              "      <td>YFHR</td>\n",
              "      <td>0.944444</td>\n",
              "    </tr>\n",
              "    <tr>\n",
              "      <th>17</th>\n",
              "      <td>YFB</td>\n",
              "      <td>FRD</td>\n",
              "      <td>0.555556</td>\n",
              "    </tr>\n",
              "    <tr>\n",
              "      <th>18</th>\n",
              "      <td>YFB</td>\n",
              "      <td>YBLD</td>\n",
              "      <td>0.833333</td>\n",
              "    </tr>\n",
              "    <tr>\n",
              "      <th>19</th>\n",
              "      <td>YFB</td>\n",
              "      <td>YBL</td>\n",
              "      <td>0.866667</td>\n",
              "    </tr>\n",
              "  </tbody>\n",
              "</table>\n",
              "</div>"
            ],
            "text/plain": [
              "    0_x    0_y  distance\n",
              "0   YFB    YFB  1.000000\n",
              "1   YFB    AGZ  0.000000\n",
              "2   YFB    YFH  0.955556\n",
              "3   YFB     YB  0.933333\n",
              "4   YFB   WFTM  0.527778\n",
              "5   YFB    FMR  0.555556\n",
              "6   YFB    YBG  0.866667\n",
              "7   YFB    YFE  0.955556\n",
              "8   YFB    YZG  0.733333\n",
              "9   YFB    FMB  0.777778\n",
              "10  YFB    YNV  0.733333\n",
              "11  YFB  YNWD1  0.706667\n",
              "12  YFB   YNVP  0.716667\n",
              "13  YFB   YXHL  0.716667\n",
              "14  YFB   YBCS  0.833333\n",
              "15  YFB   ATDH  0.000000\n",
              "16  YFB   YFHR  0.944444\n",
              "17  YFB    FRD  0.555556\n",
              "18  YFB   YBLD  0.833333\n",
              "19  YFB    YBL  0.866667"
            ]
          },
          "metadata": {
            "tags": []
          },
          "execution_count": 100
        }
      ]
    },
    {
      "cell_type": "markdown",
      "metadata": {
        "id": "d18dqSk3NE_H"
      },
      "source": [
        "Custom Approach"
      ]
    },
    {
      "cell_type": "markdown",
      "metadata": {
        "id": "k4PeQd0uNOuQ"
      },
      "source": [
        "https://medium.com/@d_dchris/10-methods-to-solve-the-longest-common-prefix-problem-using-python-leetcode-14-a87bb3eb0f3a\n"
      ]
    },
    {
      "cell_type": "code",
      "metadata": {
        "id": "4Q2Eo2aKOiFs"
      },
      "source": [
        "# dataframe to represent all main topic code combinations\n",
        "df1 = pd.DataFrame(items_df[\"main topic\"].unique())\n",
        "df2 = pd.DataFrame(items_df[\"main topic\"].unique())\n",
        " \n",
        "# Create all possible combinations by joining the dataframes on a fictional key\n",
        "df1[\"key\"] = 0\n",
        "df2[\"key\"] = 0\n",
        "df = df1.merge(df2, on=\"key\").drop(columns=[\"key\"])\n",
        " \n",
        "df"
      ],
      "execution_count": null,
      "outputs": []
    },
    {
      "cell_type": "code",
      "metadata": {
        "id": "Oq-iPu0NN4WV"
      },
      "source": [
        "# custom longest common prefix function\n",
        "def longestCommonPrefix(strs):\n",
        "    longest_pre = \"\"\n",
        "    if not strs: \n",
        "      return longest_pre\n",
        "    shortest_str = min(strs, key=len)\n",
        "    for i in range(len(shortest_str)):\n",
        "        if all([x.startswith(shortest_str[:i+1]) for x in strs]):\n",
        "            longest_pre = shortest_str[:i+1]\n",
        "        else:\n",
        "            break\n",
        "    return longest_pre"
      ],
      "execution_count": null,
      "outputs": []
    },
    {
      "cell_type": "code",
      "metadata": {
        "id": "ob5AwxmfNI9G"
      },
      "source": [
        "# Calculate length of the common prefixes for all possible combinations of main topic codes\n",
        "df[\"longest_common_prefix\"] = df.apply(lambda row: len(longestCommonPrefix([str(row[\"0_x\"]), str(row[\"0_y\"])])), axis=1)\n",
        " \n",
        "    # Use the distances as a filter\n",
        "##df1.loc[df1[\"id\"].isin(df.loc[df[\"distance\"] >= 0.8, \"id_x\"])]"
      ],
      "execution_count": null,
      "outputs": []
    },
    {
      "cell_type": "code",
      "metadata": {
        "colab": {
          "base_uri": "https://localhost:8080/",
          "height": 424
        },
        "id": "6M0BHPAsOFpf",
        "outputId": "0b3d6061-4c5d-459c-cb3c-e76352a12691"
      },
      "source": [
        "df"
      ],
      "execution_count": null,
      "outputs": [
        {
          "output_type": "execute_result",
          "data": {
            "text/html": [
              "<div>\n",
              "<style scoped>\n",
              "    .dataframe tbody tr th:only-of-type {\n",
              "        vertical-align: middle;\n",
              "    }\n",
              "\n",
              "    .dataframe tbody tr th {\n",
              "        vertical-align: top;\n",
              "    }\n",
              "\n",
              "    .dataframe thead th {\n",
              "        text-align: right;\n",
              "    }\n",
              "</style>\n",
              "<table border=\"1\" class=\"dataframe\">\n",
              "  <thead>\n",
              "    <tr style=\"text-align: right;\">\n",
              "      <th></th>\n",
              "      <th>0_x</th>\n",
              "      <th>0_y</th>\n",
              "      <th>longest_common_prefix</th>\n",
              "    </tr>\n",
              "  </thead>\n",
              "  <tbody>\n",
              "    <tr>\n",
              "      <th>0</th>\n",
              "      <td>YFB</td>\n",
              "      <td>YFB</td>\n",
              "      <td>3</td>\n",
              "    </tr>\n",
              "    <tr>\n",
              "      <th>1</th>\n",
              "      <td>YFB</td>\n",
              "      <td>AGZ</td>\n",
              "      <td>0</td>\n",
              "    </tr>\n",
              "    <tr>\n",
              "      <th>2</th>\n",
              "      <td>YFB</td>\n",
              "      <td>YFH</td>\n",
              "      <td>2</td>\n",
              "    </tr>\n",
              "    <tr>\n",
              "      <th>3</th>\n",
              "      <td>YFB</td>\n",
              "      <td>YB</td>\n",
              "      <td>1</td>\n",
              "    </tr>\n",
              "    <tr>\n",
              "      <th>4</th>\n",
              "      <td>YFB</td>\n",
              "      <td>WFTM</td>\n",
              "      <td>0</td>\n",
              "    </tr>\n",
              "    <tr>\n",
              "      <th>...</th>\n",
              "      <td>...</td>\n",
              "      <td>...</td>\n",
              "      <td>...</td>\n",
              "    </tr>\n",
              "    <tr>\n",
              "      <th>489995</th>\n",
              "      <td>YBD</td>\n",
              "      <td>YPAD</td>\n",
              "      <td>1</td>\n",
              "    </tr>\n",
              "    <tr>\n",
              "      <th>489996</th>\n",
              "      <td>YBD</td>\n",
              "      <td>WNCF</td>\n",
              "      <td>0</td>\n",
              "    </tr>\n",
              "    <tr>\n",
              "      <th>489997</th>\n",
              "      <td>YBD</td>\n",
              "      <td>TJFM1</td>\n",
              "      <td>0</td>\n",
              "    </tr>\n",
              "    <tr>\n",
              "      <th>489998</th>\n",
              "      <td>YBD</td>\n",
              "      <td>JPFF</td>\n",
              "      <td>0</td>\n",
              "    </tr>\n",
              "    <tr>\n",
              "      <th>489999</th>\n",
              "      <td>YBD</td>\n",
              "      <td>YBD</td>\n",
              "      <td>3</td>\n",
              "    </tr>\n",
              "  </tbody>\n",
              "</table>\n",
              "<p>490000 rows × 3 columns</p>\n",
              "</div>"
            ],
            "text/plain": [
              "        0_x    0_y  longest_common_prefix\n",
              "0       YFB    YFB                      3\n",
              "1       YFB    AGZ                      0\n",
              "2       YFB    YFH                      2\n",
              "3       YFB     YB                      1\n",
              "4       YFB   WFTM                      0\n",
              "...     ...    ...                    ...\n",
              "489995  YBD   YPAD                      1\n",
              "489996  YBD   WNCF                      0\n",
              "489997  YBD  TJFM1                      0\n",
              "489998  YBD   JPFF                      0\n",
              "489999  YBD    YBD                      3\n",
              "\n",
              "[490000 rows x 3 columns]"
            ]
          },
          "metadata": {
            "tags": []
          },
          "execution_count": 113
        }
      ]
    },
    {
      "cell_type": "code",
      "metadata": {
        "colab": {
          "base_uri": "https://localhost:8080/"
        },
        "id": "E4ZBAD0_QIO4",
        "outputId": "06f99a17-eef8-4986-8b4f-7e28cc477fca"
      },
      "source": [
        "len(items_df)"
      ],
      "execution_count": null,
      "outputs": [
        {
          "output_type": "execute_result",
          "data": {
            "text/plain": [
              "78030"
            ]
          },
          "metadata": {
            "tags": []
          },
          "execution_count": 114
        }
      ]
    },
    {
      "cell_type": "markdown",
      "metadata": {
        "id": "ic_q3lM_NTU0"
      },
      "source": [
        "End custom approach"
      ]
    },
    {
      "cell_type": "code",
      "metadata": {
        "colab": {
          "base_uri": "https://localhost:8080/",
          "height": 206
        },
        "id": "Xv17I-5aa-9b",
        "outputId": "a25defef-772f-4421-fea4-b6cfe02c23b0"
      },
      "source": [
        "transactions_df.head()"
      ],
      "execution_count": null,
      "outputs": [
        {
          "output_type": "execute_result",
          "data": {
            "text/html": [
              "<div>\n",
              "<style scoped>\n",
              "    .dataframe tbody tr th:only-of-type {\n",
              "        vertical-align: middle;\n",
              "    }\n",
              "\n",
              "    .dataframe tbody tr th {\n",
              "        vertical-align: top;\n",
              "    }\n",
              "\n",
              "    .dataframe thead th {\n",
              "        text-align: right;\n",
              "    }\n",
              "</style>\n",
              "<table border=\"1\" class=\"dataframe\">\n",
              "  <thead>\n",
              "    <tr style=\"text-align: right;\">\n",
              "      <th></th>\n",
              "      <th>sessionID</th>\n",
              "      <th>itemID</th>\n",
              "      <th>click</th>\n",
              "      <th>basket</th>\n",
              "      <th>order</th>\n",
              "    </tr>\n",
              "  </thead>\n",
              "  <tbody>\n",
              "    <tr>\n",
              "      <th>0</th>\n",
              "      <td>0</td>\n",
              "      <td>21310</td>\n",
              "      <td>1</td>\n",
              "      <td>0</td>\n",
              "      <td>0</td>\n",
              "    </tr>\n",
              "    <tr>\n",
              "      <th>1</th>\n",
              "      <td>1</td>\n",
              "      <td>73018</td>\n",
              "      <td>1</td>\n",
              "      <td>0</td>\n",
              "      <td>0</td>\n",
              "    </tr>\n",
              "    <tr>\n",
              "      <th>2</th>\n",
              "      <td>2</td>\n",
              "      <td>19194</td>\n",
              "      <td>1</td>\n",
              "      <td>0</td>\n",
              "      <td>0</td>\n",
              "    </tr>\n",
              "    <tr>\n",
              "      <th>3</th>\n",
              "      <td>3</td>\n",
              "      <td>40250</td>\n",
              "      <td>1</td>\n",
              "      <td>0</td>\n",
              "      <td>0</td>\n",
              "    </tr>\n",
              "    <tr>\n",
              "      <th>4</th>\n",
              "      <td>4</td>\n",
              "      <td>46107</td>\n",
              "      <td>1</td>\n",
              "      <td>0</td>\n",
              "      <td>0</td>\n",
              "    </tr>\n",
              "  </tbody>\n",
              "</table>\n",
              "</div>"
            ],
            "text/plain": [
              "   sessionID  itemID  click  basket  order\n",
              "0          0   21310      1       0      0\n",
              "1          1   73018      1       0      0\n",
              "2          2   19194      1       0      0\n",
              "3          3   40250      1       0      0\n",
              "4          4   46107      1       0      0"
            ]
          },
          "metadata": {
            "tags": []
          },
          "execution_count": 11
        }
      ]
    },
    {
      "cell_type": "code",
      "metadata": {
        "colab": {
          "base_uri": "https://localhost:8080/"
        },
        "id": "OnmnhtvbHYE3",
        "outputId": "9e04e95e-9b95-4f4b-9212-0d5dc81701b9"
      },
      "source": [
        "transactions_df[\"sessionID\"].value_counts()"
      ],
      "execution_count": null,
      "outputs": [
        {
          "output_type": "execute_result",
          "data": {
            "text/plain": [
              "29304     213\n",
              "95250     157\n",
              "7394      144\n",
              "218629    141\n",
              "15327     129\n",
              "         ... \n",
              "234710      1\n",
              "232661      1\n",
              "230612      1\n",
              "244947      1\n",
              "0           1\n",
              "Name: sessionID, Length: 271983, dtype: int64"
            ]
          },
          "metadata": {
            "tags": []
          },
          "execution_count": 12
        }
      ]
    },
    {
      "cell_type": "code",
      "metadata": {
        "colab": {
          "base_uri": "https://localhost:8080/"
        },
        "id": "R5wUXdaoHgZu",
        "outputId": "a72a5b50-6829-4552-edad-0ab20bec2866"
      },
      "source": [
        "transactions_df[\"click\"].value_counts()"
      ],
      "execution_count": null,
      "outputs": [
        {
          "output_type": "execute_result",
          "data": {
            "text/plain": [
              "1      288473\n",
              "2       29033\n",
              "0       23548\n",
              "3       12028\n",
              "4        4841\n",
              "5        2925\n",
              "6        1535\n",
              "7        1086\n",
              "8         598\n",
              "9         384\n",
              "10        235\n",
              "11        152\n",
              "12         89\n",
              "13         68\n",
              "14         46\n",
              "16         28\n",
              "15         21\n",
              "17         16\n",
              "18         10\n",
              "21          6\n",
              "22          5\n",
              "20          4\n",
              "19          3\n",
              "97          1\n",
              "23          1\n",
              "24          1\n",
              "25          1\n",
              "28          1\n",
              "32          1\n",
              "34          1\n",
              "36          1\n",
              "118         1\n",
              "Name: click, dtype: int64"
            ]
          },
          "metadata": {
            "tags": []
          },
          "execution_count": 13
        }
      ]
    },
    {
      "cell_type": "code",
      "metadata": {
        "colab": {
          "base_uri": "https://localhost:8080/"
        },
        "id": "0lralTaVKQNN",
        "outputId": "c5c985cc-5577-4a18-b6d6-e47538c8a5e6"
      },
      "source": [
        "transactions_df[\"order\"].value_counts()"
      ],
      "execution_count": null,
      "outputs": [
        {
          "output_type": "execute_result",
          "data": {
            "text/plain": [
              "0     348237\n",
              "1      16593\n",
              "2        255\n",
              "3         18\n",
              "4          7\n",
              "5          7\n",
              "21         4\n",
              "10         2\n",
              "25         2\n",
              "7          2\n",
              "27         2\n",
              "12         2\n",
              "11         2\n",
              "6          1\n",
              "28         1\n",
              "14         1\n",
              "15         1\n",
              "19         1\n",
              "20         1\n",
              "22         1\n",
              "23         1\n",
              "26         1\n",
              "13         1\n",
              "Name: order, dtype: int64"
            ]
          },
          "metadata": {
            "tags": []
          },
          "execution_count": 14
        }
      ]
    },
    {
      "cell_type": "code",
      "metadata": {
        "colab": {
          "base_uri": "https://localhost:8080/"
        },
        "id": "jRd2mXTtIogJ",
        "outputId": "bb617aec-ae05-4966-b130-3e16840d4c23"
      },
      "source": [
        "# itemIDs for which orders where >0 and basket was >0\n",
        "transactions_df.loc[(transactions_df[\"order\"]>0) & (transactions_df[\"basket\"]>0), \"itemID\" ]"
      ],
      "execution_count": null,
      "outputs": [
        {
          "output_type": "execute_result",
          "data": {
            "text/plain": [
              "66        10666\n",
              "115       38931\n",
              "154       53473\n",
              "269        9196\n",
              "590        2408\n",
              "          ...  \n",
              "364830     1342\n",
              "364883     3837\n",
              "364945    43441\n",
              "364983    71270\n",
              "365038    67753\n",
              "Name: itemID, Length: 4527, dtype: int64"
            ]
          },
          "metadata": {
            "tags": []
          },
          "execution_count": 10
        }
      ]
    },
    {
      "cell_type": "code",
      "metadata": {
        "colab": {
          "base_uri": "https://localhost:8080/"
        },
        "id": "b-rOKdb9KeUg",
        "outputId": "b3cb69b2-078e-470c-823f-0313a79dbb27"
      },
      "source": [
        "# itemIDs for which clicks where >0 and orders were >0 and basket was >0\n",
        "transactions_df.loc[(transactions_df[\"order\"]>0) & (transactions_df[\"click\"]>0) & (transactions_df[\"basket\"]>0), \"itemID\" ]"
      ],
      "execution_count": null,
      "outputs": [
        {
          "output_type": "execute_result",
          "data": {
            "text/plain": [
              "66        10666\n",
              "115       38931\n",
              "154       53473\n",
              "269        9196\n",
              "590        2408\n",
              "          ...  \n",
              "364830     1342\n",
              "364883     3837\n",
              "364945    43441\n",
              "364983    71270\n",
              "365038    67753\n",
              "Name: itemID, Length: 3692, dtype: int64"
            ]
          },
          "metadata": {
            "tags": []
          },
          "execution_count": 12
        }
      ]
    },
    {
      "cell_type": "code",
      "metadata": {
        "colab": {
          "base_uri": "https://localhost:8080/"
        },
        "id": "pb2SQfDsKLgH",
        "outputId": "a5ab81dd-5d9b-4c3f-b04a-a606874920fd"
      },
      "source": [
        "# itemIDs for which clicks where >0 and orders were >0\n",
        "transactions_df.loc[(transactions_df[\"order\"]>0) & (transactions_df[\"click\"]>0), \"itemID\" ]"
      ],
      "execution_count": null,
      "outputs": [
        {
          "output_type": "execute_result",
          "data": {
            "text/plain": [
              "66        10666\n",
              "115       38931\n",
              "154       53473\n",
              "269        9196\n",
              "590        2408\n",
              "          ...  \n",
              "364830     1342\n",
              "364883     3837\n",
              "364945    43441\n",
              "364983    71270\n",
              "365038    67753\n",
              "Name: itemID, Length: 3772, dtype: int64"
            ]
          },
          "metadata": {
            "tags": []
          },
          "execution_count": 11
        }
      ]
    },
    {
      "cell_type": "markdown",
      "metadata": {
        "id": "v62KeN5rjIZt"
      },
      "source": [
        "TODO: check which evaluation ids are included in those 3772 itemIDs"
      ]
    },
    {
      "cell_type": "code",
      "metadata": {
        "id": "IXCN2blnnH4F"
      },
      "source": [
        "list_click_order_ids = transactions_df.loc[(transactions_df[\"order\"]>0) & (transactions_df[\"click\"]>0), \"itemID\" ].to_list()"
      ],
      "execution_count": null,
      "outputs": []
    },
    {
      "cell_type": "code",
      "metadata": {
        "id": "cvnjHlGUnTuY"
      },
      "source": [
        "list_eval_ids = eval_df[\"itemID\"].to_list()"
      ],
      "execution_count": null,
      "outputs": []
    },
    {
      "cell_type": "code",
      "metadata": {
        "colab": {
          "base_uri": "https://localhost:8080/"
        },
        "id": "O2MFStrUnreZ",
        "outputId": "4e2ac5aa-2013-4375-d47f-80134715780c"
      },
      "source": [
        "# subsetting the click and order itemIDs that appear in the evaluation dataframe through taking the list intersection\n",
        "len(list(set(list_click_order).intersection(set(list_eval_ids))))"
      ],
      "execution_count": null,
      "outputs": [
        {
          "output_type": "execute_result",
          "data": {
            "text/plain": [
              "30"
            ]
          },
          "metadata": {
            "tags": []
          },
          "execution_count": 24
        }
      ]
    },
    {
      "cell_type": "code",
      "metadata": {
        "colab": {
          "base_uri": "https://localhost:8080/"
        },
        "id": "gCq_slm3olxj",
        "outputId": "57643e37-e66a-4152-cd29-76a0809dc160"
      },
      "source": [
        "list(set(list_click_order).intersection(set(list_eval_ids)))"
      ],
      "execution_count": null,
      "outputs": [
        {
          "output_type": "execute_result",
          "data": {
            "text/plain": [
              "[66177,\n",
              " 17665,\n",
              " 62732,\n",
              " 38543,\n",
              " 2579,\n",
              " 58262,\n",
              " 8728,\n",
              " 61593,\n",
              " 1177,\n",
              " 74398,\n",
              " 39201,\n",
              " 42531,\n",
              " 28844,\n",
              " 35638,\n",
              " 31548,\n",
              " 25663,\n",
              " 72523,\n",
              " 52305,\n",
              " 49234,\n",
              " 74196,\n",
              " 15581,\n",
              " 3166,\n",
              " 29536,\n",
              " 38368,\n",
              " 14314,\n",
              " 14318,\n",
              " 43762,\n",
              " 5362,\n",
              " 40692,\n",
              " 58236]"
            ]
          },
          "metadata": {
            "tags": []
          },
          "execution_count": 25
        }
      ]
    },
    {
      "cell_type": "code",
      "metadata": {
        "colab": {
          "base_uri": "https://localhost:8080/"
        },
        "id": "Ej8nsx3UbJh9",
        "outputId": "e4d0700f-c19b-4331-904c-cd2323a4401f"
      },
      "source": [
        "transactions_df.shape"
      ],
      "execution_count": null,
      "outputs": [
        {
          "output_type": "execute_result",
          "data": {
            "text/plain": [
              "(365143, 5)"
            ]
          },
          "metadata": {
            "tags": []
          },
          "execution_count": 13
        }
      ]
    },
    {
      "cell_type": "code",
      "metadata": {
        "colab": {
          "base_uri": "https://localhost:8080/",
          "height": 397
        },
        "id": "tT36Mwou7I5J",
        "outputId": "816e9e49-7bcb-4a07-871d-88048e7d689b"
      },
      "source": [
        "# joining the items_df and the transactions_df\n",
        "df_combined = pd.merge(items_df, transactions_df, on=\"itemID\")\n",
        "\n",
        "df_combined.head()\n",
        "                       \n",
        "                     "
      ],
      "execution_count": null,
      "outputs": [
        {
          "output_type": "execute_result",
          "data": {
            "text/html": [
              "<div>\n",
              "<style scoped>\n",
              "    .dataframe tbody tr th:only-of-type {\n",
              "        vertical-align: middle;\n",
              "    }\n",
              "\n",
              "    .dataframe tbody tr th {\n",
              "        vertical-align: top;\n",
              "    }\n",
              "\n",
              "    .dataframe thead th {\n",
              "        text-align: right;\n",
              "    }\n",
              "</style>\n",
              "<table border=\"1\" class=\"dataframe\">\n",
              "  <thead>\n",
              "    <tr style=\"text-align: right;\">\n",
              "      <th></th>\n",
              "      <th>itemID</th>\n",
              "      <th>title</th>\n",
              "      <th>author</th>\n",
              "      <th>publisher</th>\n",
              "      <th>main topic</th>\n",
              "      <th>subtopics</th>\n",
              "      <th>sessionID</th>\n",
              "      <th>click</th>\n",
              "      <th>basket</th>\n",
              "      <th>order</th>\n",
              "    </tr>\n",
              "  </thead>\n",
              "  <tbody>\n",
              "    <tr>\n",
              "      <th>0</th>\n",
              "      <td>21310</td>\n",
              "      <td>Princess Poppy: The Big Mix Up</td>\n",
              "      <td>Janey Louise Jones</td>\n",
              "      <td>Penguin Random House Children's UK</td>\n",
              "      <td>YFB</td>\n",
              "      <td>[5AH]</td>\n",
              "      <td>0</td>\n",
              "      <td>1</td>\n",
              "      <td>0</td>\n",
              "      <td>0</td>\n",
              "    </tr>\n",
              "    <tr>\n",
              "      <th>1</th>\n",
              "      <td>21310</td>\n",
              "      <td>Princess Poppy: The Big Mix Up</td>\n",
              "      <td>Janey Louise Jones</td>\n",
              "      <td>Penguin Random House Children's UK</td>\n",
              "      <td>YFB</td>\n",
              "      <td>[5AH]</td>\n",
              "      <td>89272</td>\n",
              "      <td>1</td>\n",
              "      <td>0</td>\n",
              "      <td>0</td>\n",
              "    </tr>\n",
              "    <tr>\n",
              "      <th>2</th>\n",
              "      <td>21310</td>\n",
              "      <td>Princess Poppy: The Big Mix Up</td>\n",
              "      <td>Janey Louise Jones</td>\n",
              "      <td>Penguin Random House Children's UK</td>\n",
              "      <td>YFB</td>\n",
              "      <td>[5AH]</td>\n",
              "      <td>183856</td>\n",
              "      <td>1</td>\n",
              "      <td>0</td>\n",
              "      <td>0</td>\n",
              "    </tr>\n",
              "    <tr>\n",
              "      <th>3</th>\n",
              "      <td>73018</td>\n",
              "      <td>Einfach zeichnen! Step by Step</td>\n",
              "      <td>Wiebke Krabbe</td>\n",
              "      <td>Schwager und Steinlein</td>\n",
              "      <td>AGZ</td>\n",
              "      <td>[5AJ,AGZ,WFA,YBG,YBL,YNA,YPA]</td>\n",
              "      <td>1</td>\n",
              "      <td>1</td>\n",
              "      <td>0</td>\n",
              "      <td>0</td>\n",
              "    </tr>\n",
              "    <tr>\n",
              "      <th>4</th>\n",
              "      <td>73018</td>\n",
              "      <td>Einfach zeichnen! Step by Step</td>\n",
              "      <td>Wiebke Krabbe</td>\n",
              "      <td>Schwager und Steinlein</td>\n",
              "      <td>AGZ</td>\n",
              "      <td>[5AJ,AGZ,WFA,YBG,YBL,YNA,YPA]</td>\n",
              "      <td>771</td>\n",
              "      <td>1</td>\n",
              "      <td>0</td>\n",
              "      <td>0</td>\n",
              "    </tr>\n",
              "  </tbody>\n",
              "</table>\n",
              "</div>"
            ],
            "text/plain": [
              "   itemID                           title  ... basket order\n",
              "0   21310  Princess Poppy: The Big Mix Up  ...      0     0\n",
              "1   21310  Princess Poppy: The Big Mix Up  ...      0     0\n",
              "2   21310  Princess Poppy: The Big Mix Up  ...      0     0\n",
              "3   73018  Einfach zeichnen! Step by Step  ...      0     0\n",
              "4   73018  Einfach zeichnen! Step by Step  ...      0     0\n",
              "\n",
              "[5 rows x 10 columns]"
            ]
          },
          "metadata": {
            "tags": []
          },
          "execution_count": 10
        }
      ]
    },
    {
      "cell_type": "code",
      "metadata": {
        "colab": {
          "base_uri": "https://localhost:8080/"
        },
        "id": "iCfQAVT4japC",
        "outputId": "8670ef78-78ef-4f27-ebf6-280ea3597d7e"
      },
      "source": [
        "df_combined.shape"
      ],
      "execution_count": null,
      "outputs": [
        {
          "output_type": "execute_result",
          "data": {
            "text/plain": [
              "(365143, 10)"
            ]
          },
          "metadata": {
            "tags": []
          },
          "execution_count": 12
        }
      ]
    },
    {
      "cell_type": "code",
      "metadata": {
        "id": "a8dZRSxPbsJp"
      },
      "source": [
        "# column with itemIDs for which clicks where >0 and orders were >0\n",
        "df_combined[\"click_plus_order\"] = df_combined.loc[(df_combined[\"order\"]>0) & (df_combined[\"click\"]>0), \"itemID\" ]"
      ],
      "execution_count": null,
      "outputs": []
    },
    {
      "cell_type": "code",
      "metadata": {
        "colab": {
          "base_uri": "https://localhost:8080/"
        },
        "id": "LwSf0XNGcLtH",
        "outputId": "b41c6550-f3dd-4387-feec-f0b5aa5a2095"
      },
      "source": [
        "df_combined[\"click_plus_order\"].value_counts()"
      ],
      "execution_count": null,
      "outputs": [
        {
          "output_type": "execute_result",
          "data": {
            "text/plain": [
              "47120.0    78\n",
              "69803.0    44\n",
              "55699.0    41\n",
              "13711.0    35\n",
              "55215.0    32\n",
              "           ..\n",
              "48939.0     1\n",
              "48969.0     1\n",
              "12243.0     1\n",
              "24506.0     1\n",
              "65542.0     1\n",
              "Name: click_plus_order, Length: 1786, dtype: int64"
            ]
          },
          "metadata": {
            "tags": []
          },
          "execution_count": 28
        }
      ]
    },
    {
      "cell_type": "markdown",
      "metadata": {
        "id": "tf9rmAcD9zAh"
      },
      "source": [
        "# Data Insights"
      ]
    },
    {
      "cell_type": "code",
      "metadata": {
        "colab": {
          "base_uri": "https://localhost:8080/"
        },
        "id": "m3AgSbnu9f1A",
        "outputId": "781f88ce-2cce-4aa5-843d-dea1d8d9b9fc"
      },
      "source": [
        "# dimensions and No. of features\n",
        "df_combined.shape"
      ],
      "execution_count": null,
      "outputs": [
        {
          "output_type": "execute_result",
          "data": {
            "text/plain": [
              "(365143, 10)"
            ]
          },
          "metadata": {
            "tags": []
          },
          "execution_count": 15
        }
      ]
    },
    {
      "cell_type": "code",
      "metadata": {
        "colab": {
          "base_uri": "https://localhost:8080/"
        },
        "id": "cnafSryHAcng",
        "outputId": "ef25c619-fb84-4b68-fdb6-ced77fb74567"
      },
      "source": [
        "df_combined.columns"
      ],
      "execution_count": null,
      "outputs": [
        {
          "output_type": "execute_result",
          "data": {
            "text/plain": [
              "Index(['itemID', 'title', 'author', 'publisher', 'main topic', 'subtopics',\n",
              "       'sessionID', 'click', 'basket', 'order'],\n",
              "      dtype='object')"
            ]
          },
          "metadata": {
            "tags": []
          },
          "execution_count": 16
        }
      ]
    },
    {
      "cell_type": "code",
      "metadata": {
        "colab": {
          "base_uri": "https://localhost:8080/"
        },
        "id": "h7G4i3vw9rBq",
        "outputId": "4980052d-f1b1-4822-9c3f-9dc4a5425444"
      },
      "source": [
        "# data types (5 integer variables)\n",
        "df_combined.info()"
      ],
      "execution_count": null,
      "outputs": [
        {
          "output_type": "stream",
          "text": [
            "<class 'pandas.core.frame.DataFrame'>\n",
            "Int64Index: 365143 entries, 0 to 365142\n",
            "Data columns (total 10 columns):\n",
            " #   Column      Non-Null Count   Dtype \n",
            "---  ------      --------------   ----- \n",
            " 0   itemID      365143 non-null  int64 \n",
            " 1   title       365143 non-null  object\n",
            " 2   author      323809 non-null  object\n",
            " 3   publisher   365142 non-null  object\n",
            " 4   main topic  364248 non-null  object\n",
            " 5   subtopics   365143 non-null  object\n",
            " 6   sessionID   365143 non-null  int64 \n",
            " 7   click       365143 non-null  int64 \n",
            " 8   basket      365143 non-null  int64 \n",
            " 9   order       365143 non-null  int64 \n",
            "dtypes: int64(5), object(5)\n",
            "memory usage: 30.6+ MB\n"
          ],
          "name": "stdout"
        }
      ]
    },
    {
      "cell_type": "code",
      "metadata": {
        "colab": {
          "base_uri": "https://localhost:8080/"
        },
        "id": "TXRet0S_IFCH",
        "outputId": "aaa514ac-0136-4bf7-eb18-fa3cf976c0ea"
      },
      "source": [
        "df_combined[\"basket\"].unique()"
      ],
      "execution_count": null,
      "outputs": [
        {
          "output_type": "execute_result",
          "data": {
            "text/plain": [
              "array([  0,   1,   2,   3,   4,   7,  10,  23,   6,  20,   5,  51,  43,\n",
              "        36, 119,   9,   8,  25,  14, 287, 268,  18,  38,  26,  11,  30,\n",
              "        24,  98,  52,  65,  15,  28, 182,  21,  80, 293,  58, 100,  22,\n",
              "        12,  13,  29,  16,  48, 150])"
            ]
          },
          "metadata": {
            "tags": []
          },
          "execution_count": 18
        }
      ]
    },
    {
      "cell_type": "code",
      "metadata": {
        "colab": {
          "base_uri": "https://localhost:8080/"
        },
        "id": "u9JNpf37IT1h",
        "outputId": "07423c2e-609e-48d3-8ee6-46957e4b3ffc"
      },
      "source": [
        "df_combined[\"basket\"].unique()\n"
      ],
      "execution_count": null,
      "outputs": [
        {
          "output_type": "execute_result",
          "data": {
            "text/plain": [
              "array([  0,   1,   2,   3,   4,   7,  10,  23,   6,  20,   5,  51,  43,\n",
              "        36, 119,   9,   8,  25,  14, 287, 268,  18,  38,  26,  11,  30,\n",
              "        24,  98,  52,  65,  15,  28, 182,  21,  80, 293,  58, 100,  22,\n",
              "        12,  13,  29,  16,  48, 150])"
            ]
          },
          "metadata": {
            "tags": []
          },
          "execution_count": 19
        }
      ]
    },
    {
      "cell_type": "code",
      "metadata": {
        "colab": {
          "base_uri": "https://localhost:8080/"
        },
        "id": "SYJq3LE0IXDT",
        "outputId": "31a5deb8-22e4-4150-d436-e7bba8189dd2"
      },
      "source": [
        "df_combined[\"order\"].unique()"
      ],
      "execution_count": null,
      "outputs": [
        {
          "output_type": "execute_result",
          "data": {
            "text/plain": [
              "array([ 0,  1,  2,  3,  4,  7, 10,  5, 27, 25, 26, 21, 12, 11, 15, 22, 23,\n",
              "       14, 28,  6, 13, 20, 19])"
            ]
          },
          "metadata": {
            "tags": []
          },
          "execution_count": 20
        }
      ]
    },
    {
      "cell_type": "code",
      "metadata": {
        "colab": {
          "base_uri": "https://localhost:8080/",
          "height": 300
        },
        "id": "QRM6DTjS9s5s",
        "outputId": "8a470d63-84fd-40b1-ac29-a494a92ea3ae"
      },
      "source": [
        "# summary stats (for integer variables)\n",
        "df_combined.describe()"
      ],
      "execution_count": null,
      "outputs": [
        {
          "output_type": "execute_result",
          "data": {
            "text/html": [
              "<div>\n",
              "<style scoped>\n",
              "    .dataframe tbody tr th:only-of-type {\n",
              "        vertical-align: middle;\n",
              "    }\n",
              "\n",
              "    .dataframe tbody tr th {\n",
              "        vertical-align: top;\n",
              "    }\n",
              "\n",
              "    .dataframe thead th {\n",
              "        text-align: right;\n",
              "    }\n",
              "</style>\n",
              "<table border=\"1\" class=\"dataframe\">\n",
              "  <thead>\n",
              "    <tr style=\"text-align: right;\">\n",
              "      <th></th>\n",
              "      <th>itemID</th>\n",
              "      <th>sessionID</th>\n",
              "      <th>click</th>\n",
              "      <th>basket</th>\n",
              "      <th>order</th>\n",
              "    </tr>\n",
              "  </thead>\n",
              "  <tbody>\n",
              "    <tr>\n",
              "      <th>count</th>\n",
              "      <td>365143.000000</td>\n",
              "      <td>365143.000000</td>\n",
              "      <td>365143.000000</td>\n",
              "      <td>365143.000000</td>\n",
              "      <td>365143.000000</td>\n",
              "    </tr>\n",
              "    <tr>\n",
              "      <th>mean</th>\n",
              "      <td>40051.292307</td>\n",
              "      <td>139586.939175</td>\n",
              "      <td>1.233180</td>\n",
              "      <td>0.141202</td>\n",
              "      <td>0.048403</td>\n",
              "    </tr>\n",
              "    <tr>\n",
              "      <th>std</th>\n",
              "      <td>22493.347334</td>\n",
              "      <td>80795.207871</td>\n",
              "      <td>1.069996</td>\n",
              "      <td>1.107574</td>\n",
              "      <td>0.268717</td>\n",
              "    </tr>\n",
              "    <tr>\n",
              "      <th>min</th>\n",
              "      <td>1.000000</td>\n",
              "      <td>0.000000</td>\n",
              "      <td>0.000000</td>\n",
              "      <td>0.000000</td>\n",
              "      <td>0.000000</td>\n",
              "    </tr>\n",
              "    <tr>\n",
              "      <th>25%</th>\n",
              "      <td>20713.000000</td>\n",
              "      <td>69459.500000</td>\n",
              "      <td>1.000000</td>\n",
              "      <td>0.000000</td>\n",
              "      <td>0.000000</td>\n",
              "    </tr>\n",
              "    <tr>\n",
              "      <th>50%</th>\n",
              "      <td>40692.000000</td>\n",
              "      <td>139608.000000</td>\n",
              "      <td>1.000000</td>\n",
              "      <td>0.000000</td>\n",
              "      <td>0.000000</td>\n",
              "    </tr>\n",
              "    <tr>\n",
              "      <th>75%</th>\n",
              "      <td>58916.000000</td>\n",
              "      <td>209750.500000</td>\n",
              "      <td>1.000000</td>\n",
              "      <td>0.000000</td>\n",
              "      <td>0.000000</td>\n",
              "    </tr>\n",
              "    <tr>\n",
              "      <th>max</th>\n",
              "      <td>79066.000000</td>\n",
              "      <td>279354.000000</td>\n",
              "      <td>118.000000</td>\n",
              "      <td>293.000000</td>\n",
              "      <td>28.000000</td>\n",
              "    </tr>\n",
              "  </tbody>\n",
              "</table>\n",
              "</div>"
            ],
            "text/plain": [
              "              itemID      sessionID  ...         basket          order\n",
              "count  365143.000000  365143.000000  ...  365143.000000  365143.000000\n",
              "mean    40051.292307  139586.939175  ...       0.141202       0.048403\n",
              "std     22493.347334   80795.207871  ...       1.107574       0.268717\n",
              "min         1.000000       0.000000  ...       0.000000       0.000000\n",
              "25%     20713.000000   69459.500000  ...       0.000000       0.000000\n",
              "50%     40692.000000  139608.000000  ...       0.000000       0.000000\n",
              "75%     58916.000000  209750.500000  ...       0.000000       0.000000\n",
              "max     79066.000000  279354.000000  ...     293.000000      28.000000\n",
              "\n",
              "[8 rows x 5 columns]"
            ]
          },
          "metadata": {
            "tags": []
          },
          "execution_count": 21
        }
      ]
    },
    {
      "cell_type": "code",
      "metadata": {
        "colab": {
          "base_uri": "https://localhost:8080/"
        },
        "id": "mERQ_TRpAR9u",
        "outputId": "8cf64f1a-7490-4de1-cc2a-4f8a3504e043"
      },
      "source": [
        "# detecting and counting missing values \n",
        "df_combined.isnull().sum() # number of NaNs per column"
      ],
      "execution_count": null,
      "outputs": [
        {
          "output_type": "execute_result",
          "data": {
            "text/plain": [
              "itemID            0\n",
              "title             0\n",
              "author        41334\n",
              "publisher         1\n",
              "main topic      895\n",
              "subtopics         0\n",
              "sessionID         0\n",
              "click             0\n",
              "basket            0\n",
              "order             0\n",
              "dtype: int64"
            ]
          },
          "metadata": {
            "tags": []
          },
          "execution_count": 22
        }
      ]
    },
    {
      "cell_type": "code",
      "metadata": {
        "colab": {
          "base_uri": "https://localhost:8080/",
          "height": 326
        },
        "id": "7OgbuhnpCNMa",
        "outputId": "ca3e1405-19ce-47f0-a39a-78054a98639a"
      },
      "source": [
        "# visualization of missing values\n",
        "sns.heatmap(df_combined.isnull(),cbar=False,yticklabels=False,cmap = 'viridis')"
      ],
      "execution_count": null,
      "outputs": [
        {
          "output_type": "execute_result",
          "data": {
            "text/plain": [
              "<matplotlib.axes._subplots.AxesSubplot at 0x7f4992265a10>"
            ]
          },
          "metadata": {
            "tags": []
          },
          "execution_count": 23
        },
        {
          "output_type": "display_data",
          "data": {
            "image/png": "[encoded data removed]",
            "text/plain": [
              "<Figure size 432x288 with 1 Axes>"
            ]
          },
          "metadata": {
            "tags": []
          }
        }
      ]
    },
    {
      "cell_type": "code",
      "metadata": {
        "colab": {
          "base_uri": "https://localhost:8080/"
        },
        "id": "IOWMK6AcBDnF",
        "outputId": "52b04d59-f48b-4c6f-d580-e0bea2ccbc81"
      },
      "source": [
        "# list of categorical features\n",
        "cat_feature_mask = df_combined.dtypes == object # boolean test (mask) of whether the col is of \"object type\" or not\n",
        "cat_feature_mask"
      ],
      "execution_count": null,
      "outputs": [
        {
          "output_type": "execute_result",
          "data": {
            "text/plain": [
              "itemID        False\n",
              "title          True\n",
              "author         True\n",
              "publisher      True\n",
              "main topic     True\n",
              "subtopics      True\n",
              "sessionID     False\n",
              "click         False\n",
              "basket        False\n",
              "order         False\n",
              "dtype: bool"
            ]
          },
          "metadata": {
            "tags": []
          },
          "execution_count": 24
        }
      ]
    },
    {
      "cell_type": "code",
      "metadata": {
        "colab": {
          "base_uri": "https://localhost:8080/"
        },
        "id": "5EVy2sPaBJ2V",
        "outputId": "fbcdab64-b50f-4f31-974b-c63956b2ceb5"
      },
      "source": [
        "# filter categorical columns using the mask and turn it into a list\n",
        "cat_list = df_combined.columns[cat_feature_mask].to_list()\n",
        "\n",
        "cat_list"
      ],
      "execution_count": null,
      "outputs": [
        {
          "output_type": "execute_result",
          "data": {
            "text/plain": [
              "['title', 'author', 'publisher', 'main topic', 'subtopics']"
            ]
          },
          "metadata": {
            "tags": []
          },
          "execution_count": 25
        }
      ]
    },
    {
      "cell_type": "code",
      "metadata": {
        "colab": {
          "base_uri": "https://localhost:8080/"
        },
        "id": "5khYb8AHDiV1",
        "outputId": "a4b6af5e-ca59-48af-a82a-e1f8b9a22304"
      },
      "source": [
        "# list of numerical features\n",
        "num_feature_mask = df_combined.dtypes != object # boolean test of whether the col is not of the type object \n",
        "num_feature_mask"
      ],
      "execution_count": null,
      "outputs": [
        {
          "output_type": "execute_result",
          "data": {
            "text/plain": [
              "itemID         True\n",
              "title         False\n",
              "author        False\n",
              "publisher     False\n",
              "main topic    False\n",
              "subtopics     False\n",
              "sessionID      True\n",
              "click          True\n",
              "basket         True\n",
              "order          True\n",
              "dtype: bool"
            ]
          },
          "metadata": {
            "tags": []
          },
          "execution_count": 26
        }
      ]
    },
    {
      "cell_type": "code",
      "metadata": {
        "colab": {
          "base_uri": "https://localhost:8080/"
        },
        "id": "VEH-m5BIERdh",
        "outputId": "73822081-cc15-4550-c194-97bfd2d68eff"
      },
      "source": [
        "# filter categorical columns using the mask and turn it into a list\n",
        "num_list = df_combined.columns[num_feature_mask].to_list()\n",
        "\n",
        "num_list"
      ],
      "execution_count": null,
      "outputs": [
        {
          "output_type": "execute_result",
          "data": {
            "text/plain": [
              "['itemID', 'sessionID', 'click', 'basket', 'order']"
            ]
          },
          "metadata": {
            "tags": []
          },
          "execution_count": 27
        }
      ]
    },
    {
      "cell_type": "code",
      "metadata": {
        "colab": {
          "base_uri": "https://localhost:8080/"
        },
        "id": "tsMc79dw_KMS",
        "outputId": "99636b46-b783-45b7-e009-c4c91a0247a0"
      },
      "source": [
        "df_combined[[\"author\",\"title\"]].value_counts()"
      ],
      "execution_count": null,
      "outputs": [
        {
          "output_type": "execute_result",
          "data": {
            "text/plain": [
              "author                    title                                                                                   \n",
              "Joanne K. Rowling         Harry Potter Box Set: The Complete Collection (Children's Paperback)                        2291\n",
              "Ben Aaronovitch           Der Geist in der British Library und andere Geschichten aus dem Folly                       1775\n",
              "Insight Editions, Panini  Aus den Filmen zu Harry Potter: Eine magische Reise: Alles für deine Fahrt nach Hogwarts    1749\n",
              "Gecko Keck                Die Kunst des Zeichnens für Kinder                                                          1290\n",
              "Leigh Bardugo             Goldene Flammen                                                                             1276\n",
              "                                                                                                                      ... \n",
              "Scott Sonneborn           Shell Shocker                                                                                  1\n",
              "Scott Reintgen            Bloodsworn                                                                                     1\n",
              "John T Biggs              Sacred Alarm Clock                                                                             1\n",
              "                          Clementine                                                                                     1\n",
              "Robert Westall            Blitzcat                                                                                       1\n",
              "Length: 21817, dtype: int64"
            ]
          },
          "metadata": {
            "tags": []
          },
          "execution_count": 28
        }
      ]
    },
    {
      "cell_type": "code",
      "metadata": {
        "colab": {
          "base_uri": "https://localhost:8080/"
        },
        "id": "pRG51AFhBq0E",
        "outputId": "b708ba79-d088-468b-afec-46ab3a4a5892"
      },
      "source": [
        "df_combined[[\"publisher\", \"main topic\"]].value_counts()"
      ],
      "execution_count": null,
      "outputs": [
        {
          "output_type": "execute_result",
          "data": {
            "text/plain": [
              "publisher                  main topic\n",
              "Usborne Verlag             YBG           6874\n",
              "Klett-Cotta Verlag         FMB           6709\n",
              "Ars Edition GmbH           YBG           6703\n",
              "Bloomsbury UK              YFH           6584\n",
              "LYX                        FMR           5442\n",
              "                                         ... \n",
              "G & G Verlagsgesellschaft  YBC              1\n",
              "                           Y                1\n",
              "Fulton Books               FMW              1\n",
              "                           FMH              1\n",
              ".                          FLS              1\n",
              "Length: 7618, dtype: int64"
            ]
          },
          "metadata": {
            "tags": []
          },
          "execution_count": 29
        }
      ]
    },
    {
      "cell_type": "code",
      "metadata": {
        "colab": {
          "base_uri": "https://localhost:8080/"
        },
        "id": "JGgEV_D6BuVn",
        "outputId": "d608ce41-6f35-40f5-f97b-080946b98acb"
      },
      "source": [
        "df_combined[\"main topic\"].value_counts()"
      ],
      "execution_count": null,
      "outputs": [
        {
          "output_type": "execute_result",
          "data": {
            "text/plain": [
              "FMB     27851\n",
              "YFH     24286\n",
              "YBG     23580\n",
              "YFHR    16675\n",
              "FMR     16408\n",
              "        ...  \n",
              "YXFS        1\n",
              "MQR         1\n",
              "CBVS        1\n",
              "VSA         1\n",
              "QRM         1\n",
              "Name: main topic, Length: 605, dtype: int64"
            ]
          },
          "metadata": {
            "tags": []
          },
          "execution_count": 30
        }
      ]
    },
    {
      "cell_type": "code",
      "metadata": {
        "colab": {
          "base_uri": "https://localhost:8080/",
          "height": 206
        },
        "id": "8d5FmgIw-q2A",
        "outputId": "1b493a96-f5e0-4dbe-bd69-f524ce38b729"
      },
      "source": [
        "# correlation matrix (no high positive nor negative cross-correlations)\n",
        "df_combined.corr()"
      ],
      "execution_count": null,
      "outputs": [
        {
          "output_type": "execute_result",
          "data": {
            "text/html": [
              "<div>\n",
              "<style scoped>\n",
              "    .dataframe tbody tr th:only-of-type {\n",
              "        vertical-align: middle;\n",
              "    }\n",
              "\n",
              "    .dataframe tbody tr th {\n",
              "        vertical-align: top;\n",
              "    }\n",
              "\n",
              "    .dataframe thead th {\n",
              "        text-align: right;\n",
              "    }\n",
              "</style>\n",
              "<table border=\"1\" class=\"dataframe\">\n",
              "  <thead>\n",
              "    <tr style=\"text-align: right;\">\n",
              "      <th></th>\n",
              "      <th>itemID</th>\n",
              "      <th>sessionID</th>\n",
              "      <th>click</th>\n",
              "      <th>basket</th>\n",
              "      <th>order</th>\n",
              "    </tr>\n",
              "  </thead>\n",
              "  <tbody>\n",
              "    <tr>\n",
              "      <th>itemID</th>\n",
              "      <td>1.000000</td>\n",
              "      <td>-0.001154</td>\n",
              "      <td>0.003196</td>\n",
              "      <td>-0.004658</td>\n",
              "      <td>0.002651</td>\n",
              "    </tr>\n",
              "    <tr>\n",
              "      <th>sessionID</th>\n",
              "      <td>-0.001154</td>\n",
              "      <td>1.000000</td>\n",
              "      <td>-0.001762</td>\n",
              "      <td>-0.001147</td>\n",
              "      <td>0.004193</td>\n",
              "    </tr>\n",
              "    <tr>\n",
              "      <th>click</th>\n",
              "      <td>0.003196</td>\n",
              "      <td>-0.001762</td>\n",
              "      <td>1.000000</td>\n",
              "      <td>0.024665</td>\n",
              "      <td>-0.134103</td>\n",
              "    </tr>\n",
              "    <tr>\n",
              "      <th>basket</th>\n",
              "      <td>-0.004658</td>\n",
              "      <td>-0.001147</td>\n",
              "      <td>0.024665</td>\n",
              "      <td>1.000000</td>\n",
              "      <td>0.122249</td>\n",
              "    </tr>\n",
              "    <tr>\n",
              "      <th>order</th>\n",
              "      <td>0.002651</td>\n",
              "      <td>0.004193</td>\n",
              "      <td>-0.134103</td>\n",
              "      <td>0.122249</td>\n",
              "      <td>1.000000</td>\n",
              "    </tr>\n",
              "  </tbody>\n",
              "</table>\n",
              "</div>"
            ],
            "text/plain": [
              "             itemID  sessionID     click    basket     order\n",
              "itemID     1.000000  -0.001154  0.003196 -0.004658  0.002651\n",
              "sessionID -0.001154   1.000000 -0.001762 -0.001147  0.004193\n",
              "click      0.003196  -0.001762  1.000000  0.024665 -0.134103\n",
              "basket    -0.004658  -0.001147  0.024665  1.000000  0.122249\n",
              "order      0.002651   0.004193 -0.134103  0.122249  1.000000"
            ]
          },
          "metadata": {
            "tags": []
          },
          "execution_count": 31
        }
      ]
    },
    {
      "cell_type": "code",
      "metadata": {
        "colab": {
          "base_uri": "https://localhost:8080/",
          "height": 287
        },
        "id": "NGZHdTl5AqrS",
        "outputId": "bc4cb850-9f73-445f-c558-68eaebdd8b77"
      },
      "source": [
        "# visualization of the correlation matrix\n",
        "# (Dark shades represents positive correlation while lighter shades represents negative correlation.)\n",
        "plt.figure(figsize=(6,4))\n",
        "sns.heatmap(df_combined.corr(),cmap='Blues',annot=True) \n",
        "# annot=True displays cross correlation values in the matrix cells"
      ],
      "execution_count": null,
      "outputs": [
        {
          "output_type": "execute_result",
          "data": {
            "text/plain": [
              "<matplotlib.axes._subplots.AxesSubplot at 0x7f4989cf18d0>"
            ]
          },
          "metadata": {
            "tags": []
          },
          "execution_count": 32
        },
        {
          "output_type": "display_data",
          "data": {
            "image/png": "[encoded data removed]",
            "text/plain": [
              "<Figure size 432x288 with 2 Axes>"
            ]
          },
          "metadata": {
            "tags": []
          }
        }
      ]
    },
    {
      "cell_type": "code",
      "metadata": {
        "colab": {
          "base_uri": "https://localhost:8080/",
          "height": 768
        },
        "id": "EuWjjt6JDLcS",
        "outputId": "4503ff74-5187-458c-fc0b-85147a12e3c5"
      },
      "source": [
        "# checking for outliers (in the numerical variables)\n",
        "l = df_combined[num_list].columns.values\n",
        "number_of_columns=12\n",
        "number_of_rows = len(l)-1/number_of_columns\n",
        "plt.figure(figsize=(number_of_columns,5*number_of_rows))\n",
        "for i in range(0,len(l)):\n",
        "    plt.subplot(number_of_rows + 1,number_of_columns,i+1)\n",
        "    sns.set_style('whitegrid')\n",
        "    sns.boxplot(df_combined[l[i]],color='green',orient='v')\n",
        "    plt.tight_layout()"
      ],
      "execution_count": null,
      "outputs": [
        {
          "output_type": "stream",
          "text": [
            "/usr/local/lib/python3.7/dist-packages/seaborn/_decorators.py:43: FutureWarning: Pass the following variable as a keyword arg: x. From version 0.12, the only valid positional argument will be `data`, and passing other arguments without an explicit keyword will result in an error or misinterpretation.\n",
            "  FutureWarning\n",
            "/usr/local/lib/python3.7/dist-packages/seaborn/_core.py:1319: UserWarning: Vertical orientation ignored with only `x` specified.\n",
            "  warnings.warn(single_var_warning.format(\"Vertical\", \"x\"))\n",
            "/usr/local/lib/python3.7/dist-packages/seaborn/_decorators.py:43: FutureWarning: Pass the following variable as a keyword arg: x. From version 0.12, the only valid positional argument will be `data`, and passing other arguments without an explicit keyword will result in an error or misinterpretation.\n",
            "  FutureWarning\n",
            "/usr/local/lib/python3.7/dist-packages/seaborn/_core.py:1319: UserWarning: Vertical orientation ignored with only `x` specified.\n",
            "  warnings.warn(single_var_warning.format(\"Vertical\", \"x\"))\n",
            "/usr/local/lib/python3.7/dist-packages/seaborn/_decorators.py:43: FutureWarning: Pass the following variable as a keyword arg: x. From version 0.12, the only valid positional argument will be `data`, and passing other arguments without an explicit keyword will result in an error or misinterpretation.\n",
            "  FutureWarning\n",
            "/usr/local/lib/python3.7/dist-packages/seaborn/_core.py:1319: UserWarning: Vertical orientation ignored with only `x` specified.\n",
            "  warnings.warn(single_var_warning.format(\"Vertical\", \"x\"))\n",
            "/usr/local/lib/python3.7/dist-packages/seaborn/_decorators.py:43: FutureWarning: Pass the following variable as a keyword arg: x. From version 0.12, the only valid positional argument will be `data`, and passing other arguments without an explicit keyword will result in an error or misinterpretation.\n",
            "  FutureWarning\n",
            "/usr/local/lib/python3.7/dist-packages/seaborn/_core.py:1319: UserWarning: Vertical orientation ignored with only `x` specified.\n",
            "  warnings.warn(single_var_warning.format(\"Vertical\", \"x\"))\n",
            "/usr/local/lib/python3.7/dist-packages/seaborn/_decorators.py:43: FutureWarning: Pass the following variable as a keyword arg: x. From version 0.12, the only valid positional argument will be `data`, and passing other arguments without an explicit keyword will result in an error or misinterpretation.\n",
            "  FutureWarning\n",
            "/usr/local/lib/python3.7/dist-packages/seaborn/_core.py:1319: UserWarning: Vertical orientation ignored with only `x` specified.\n",
            "  warnings.warn(single_var_warning.format(\"Vertical\", \"x\"))\n"
          ],
          "name": "stderr"
        },
        {
          "output_type": "display_data",
          "data": {
            "image/png": "[encoded data removed]",
            "text/plain": [
              "<Figure size 864x1770 with 5 Axes>"
            ]
          },
          "metadata": {
            "tags": []
          }
        }
      ]
    },
    {
      "cell_type": "code",
      "metadata": {
        "colab": {
          "base_uri": "https://localhost:8080/",
          "height": 508
        },
        "id": "o7I0znr8DB1V",
        "outputId": "d5059921-5282-436d-a749-f690ac4fe0cd"
      },
      "source": [
        "# checking distribution skewness\n",
        "plt.figure(figsize=(2*number_of_columns,5*number_of_rows))\n",
        "for i in range(0,len(l)):\n",
        "    plt.subplot(number_of_rows + 1,number_of_columns,i+1)\n",
        "    sns.distplot(df_combined[l[i]],kde=True) "
      ],
      "execution_count": null,
      "outputs": [
        {
          "output_type": "stream",
          "text": [
            "/usr/local/lib/python3.7/dist-packages/seaborn/distributions.py:2557: FutureWarning: `distplot` is a deprecated function and will be removed in a future version. Please adapt your code to use either `displot` (a figure-level function with similar flexibility) or `histplot` (an axes-level function for histograms).\n",
            "  warnings.warn(msg, FutureWarning)\n",
            "/usr/local/lib/python3.7/dist-packages/seaborn/distributions.py:2557: FutureWarning: `distplot` is a deprecated function and will be removed in a future version. Please adapt your code to use either `displot` (a figure-level function with similar flexibility) or `histplot` (an axes-level function for histograms).\n",
            "  warnings.warn(msg, FutureWarning)\n",
            "/usr/local/lib/python3.7/dist-packages/seaborn/distributions.py:2557: FutureWarning: `distplot` is a deprecated function and will be removed in a future version. Please adapt your code to use either `displot` (a figure-level function with similar flexibility) or `histplot` (an axes-level function for histograms).\n",
            "  warnings.warn(msg, FutureWarning)\n",
            "/usr/local/lib/python3.7/dist-packages/seaborn/distributions.py:2557: FutureWarning: `distplot` is a deprecated function and will be removed in a future version. Please adapt your code to use either `displot` (a figure-level function with similar flexibility) or `histplot` (an axes-level function for histograms).\n",
            "  warnings.warn(msg, FutureWarning)\n",
            "/usr/local/lib/python3.7/dist-packages/seaborn/distributions.py:2557: FutureWarning: `distplot` is a deprecated function and will be removed in a future version. Please adapt your code to use either `displot` (a figure-level function with similar flexibility) or `histplot` (an axes-level function for histograms).\n",
            "  warnings.warn(msg, FutureWarning)\n"
          ],
          "name": "stderr"
        },
        {
          "output_type": "display_data",
          "data": {
            "image/png": "[encoded data removed]",
            "text/plain": [
              "<Figure size 1728x1770 with 5 Axes>"
            ]
          },
          "metadata": {
            "tags": []
          }
        }
      ]
    },
    {
      "cell_type": "markdown",
      "metadata": {
        "id": "9grNObFcyoEI"
      },
      "source": [
        "# Feature Engineering"
      ]
    },
    {
      "cell_type": "markdown",
      "metadata": {
        "id": "7qhlWFirUcmw"
      },
      "source": [
        "https://towardsdatascience.com/building-a-content-based-book-recommendation-engine-9fd4d57a4da"
      ]
    },
    {
      "cell_type": "markdown",
      "metadata": {
        "id": "Eouot5i__qkR"
      },
      "source": [
        "**text feature extraction:** converting text data input into numerical vectors to perform machine learning  \n",
        "\n",
        "*Bag of words*: converting text data into numerical feature vectors with a fixed size:\n",
        "- step 1) tokenizing: assign a fixed ID to each word  \n",
        "- step 2) counting: count the number of occurences of each word  \n",
        "- step 3) storing: store as a value feature"
      ]
    },
    {
      "cell_type": "code",
      "metadata": {
        "colab": {
          "base_uri": "https://localhost:8080/"
        },
        "id": "4Mc-YeksLJyF",
        "outputId": "8cb0b549-ced0-4962-8414-aaac96087718"
      },
      "source": [
        "# main topic feature\n",
        "items_df[\"main topic\"]"
      ],
      "execution_count": null,
      "outputs": [
        {
          "output_type": "execute_result",
          "data": {
            "text/plain": [
              "0         YFB\n",
              "1         AGZ\n",
              "2         YFH\n",
              "3          YB\n",
              "4        WFTM\n",
              "         ... \n",
              "78025     YFA\n",
              "78026     FMB\n",
              "78027     YFU\n",
              "78028     YFC\n",
              "78029      FL\n",
              "Name: main topic, Length: 78030, dtype: object"
            ]
          },
          "metadata": {
            "tags": []
          },
          "execution_count": 20
        }
      ]
    },
    {
      "cell_type": "code",
      "metadata": {
        "colab": {
          "base_uri": "https://localhost:8080/"
        },
        "id": "68QdAnJPLN32",
        "outputId": "e2377108-de1d-4a0f-8abc-52578d174f58"
      },
      "source": [
        "items_df[\"main topic\"].value_counts()"
      ],
      "execution_count": null,
      "outputs": [
        {
          "output_type": "execute_result",
          "data": {
            "text/plain": [
              "FM       6536\n",
              "YFB      5104\n",
              "FL       4576\n",
              "YFH      4149\n",
              "YFC      3468\n",
              "         ... \n",
              "YNNH5       1\n",
              "YR          1\n",
              "CBW         1\n",
              "WHP         1\n",
              "QRST        1\n",
              "Name: main topic, Length: 699, dtype: int64"
            ]
          },
          "metadata": {
            "tags": []
          },
          "execution_count": 21
        }
      ]
    },
    {
      "cell_type": "code",
      "metadata": {
        "colab": {
          "base_uri": "https://localhost:8080/"
        },
        "id": "6-Ef3Y0ALZba",
        "outputId": "563d1a3e-085e-48c0-fccf-cf71abbb5aef"
      },
      "source": [
        "# subtopics feature\n",
        "items_df[\"subtopics\"]"
      ],
      "execution_count": null,
      "outputs": [
        {
          "output_type": "execute_result",
          "data": {
            "text/plain": [
              "0                                [5AH]\n",
              "1        [5AJ,AGZ,WFA,YBG,YBL,YNA,YPA]\n",
              "2                            [5AP,FBA]\n",
              "3                 [5AC,5AD,YBG,YBL,YF]\n",
              "4         [WD,WFTM,YBG,YBL,YBLD,YBLN1]\n",
              "                     ...              \n",
              "78025                            [YFJ]\n",
              "78026                               []\n",
              "78027                               []\n",
              "78028                        [YFG,YFH]\n",
              "78029                               []\n",
              "Name: subtopics, Length: 78030, dtype: object"
            ]
          },
          "metadata": {
            "tags": []
          },
          "execution_count": 22
        }
      ]
    },
    {
      "cell_type": "code",
      "metadata": {
        "colab": {
          "base_uri": "https://localhost:8080/"
        },
        "id": "Mtwy5zmdLmrv",
        "outputId": "8b013e01-1f01-43f1-c5da-17a903ea5c6d"
      },
      "source": [
        "items_df[\"subtopics\"].value_counts()"
      ],
      "execution_count": null,
      "outputs": [
        {
          "output_type": "execute_result",
          "data": {
            "text/plain": [
              "[]                              36904\n",
              "[YF]                             1425\n",
              "[FL]                             1076\n",
              "[YFQ]                             854\n",
              "[FM]                              841\n",
              "                                ...  \n",
              "[5AL,1FPJ,YFH]                      1\n",
              "[5AN,4CL,YNC]                       1\n",
              "[5AL,FBA,FM,YFB]                    1\n",
              "[5AM,FJMS,YFCW,YFT,YFY,3MPB]        1\n",
              "[5JA,FMR,FMX,FRD]                   1\n",
              "Name: subtopics, Length: 11381, dtype: int64"
            ]
          },
          "metadata": {
            "tags": []
          },
          "execution_count": 23
        }
      ]
    },
    {
      "cell_type": "code",
      "metadata": {
        "colab": {
          "base_uri": "https://localhost:8080/"
        },
        "id": "FNH2tDcYzFdz",
        "outputId": "cfe5eef3-dc07-442a-fbe2-8912405925f9"
      },
      "source": [
        "# title feature\n",
        "items_df[\"title\"].head()"
      ],
      "execution_count": null,
      "outputs": [
        {
          "output_type": "execute_result",
          "data": {
            "text/plain": [
              "0               Princess Poppy: The Big Mix Up\n",
              "1               Einfach zeichnen! Step by Step\n",
              "2                                  Red Queen 1\n",
              "3           Meine Kindergarten-Freunde (Pirat)\n",
              "4    Mein großes Schablonen-Buch - Wilde Tiere\n",
              "Name: title, dtype: object"
            ]
          },
          "metadata": {
            "tags": []
          },
          "execution_count": 24
        }
      ]
    },
    {
      "cell_type": "code",
      "metadata": {
        "colab": {
          "base_uri": "https://localhost:8080/"
        },
        "id": "EGD4hP5U9ooS",
        "outputId": "aca80be9-e9a4-406b-de74-8d6a5c6478b2"
      },
      "source": [
        "items_df[\"title\"].value_counts()"
      ],
      "execution_count": null,
      "outputs": [
        {
          "output_type": "execute_result",
          "data": {
            "text/plain": [
              "The Secret Garden                    25\n",
              "Anne of Green Gables                 19\n",
              "Alice's Adventures in Wonderland     18\n",
              "The Railway Children                 17\n",
              "Peter Pan                            16\n",
              "                                     ..\n",
              "Drew Is Just Like You!                1\n",
              "Take Me Back to Oz                    1\n",
              "Flat Stanley and the Fire Station     1\n",
              "Die Legende vom Feuermal              1\n",
              "The Waisting of Time                  1\n",
              "Name: title, Length: 72128, dtype: int64"
            ]
          },
          "metadata": {
            "tags": []
          },
          "execution_count": 25
        }
      ]
    },
    {
      "cell_type": "code",
      "metadata": {
        "colab": {
          "base_uri": "https://localhost:8080/"
        },
        "id": "GH1_3u6LAcW6",
        "outputId": "e32db415-eebf-4d8b-c1b9-4255d81ba951"
      },
      "source": [
        "# authors feature\n",
        "items_df[\"author\"].value_counts()"
      ],
      "execution_count": null,
      "outputs": [
        {
          "output_type": "execute_result",
          "data": {
            "text/plain": [
              "Garcia Santiago                    1479\n",
              "Shelley Admont, Kidkiddos Books     228\n",
              "James Manning                       180\n",
              "Jules Verne                         178\n",
              "Idries Shah                         168\n",
              "                                   ... \n",
              "Sharon Lee Wander                     1\n",
              "Joe Green                             1\n",
              "C. E Dimond                           1\n",
              "Paul Schullery                        1\n",
              "Katharina Wilhelm                     1\n",
              "Name: author, Length: 35969, dtype: int64"
            ]
          },
          "metadata": {
            "tags": []
          },
          "execution_count": 11
        }
      ]
    },
    {
      "cell_type": "code",
      "metadata": {
        "id": "VWuntuJjFFSW"
      },
      "source": [
        "# getting the top N words in the title feature before removing stop words\n",
        "def get_top_n_words(corpus, n=None):\n",
        "    vec = CountVectorizer().fit(corpus)\n",
        "    bag_of_words = vec.transform(corpus)\n",
        "    sum_words = bag_of_words.sum(axis=0) \n",
        "    words_freq = [(word, sum_words[0, idx]) for word, idx in vec.vocabulary_.items()]\n",
        "    words_freq =sorted(words_freq, key = lambda x: x[1], reverse=True)\n",
        "    return words_freq[:n]\n",
        "\n"
      ],
      "execution_count": null,
      "outputs": []
    },
    {
      "cell_type": "code",
      "metadata": {
        "colab": {
          "base_uri": "https://localhost:8080/",
          "height": 517
        },
        "id": "qkZS2N0nFV78",
        "outputId": "d8d9d3a9-d7e5-4fcb-93c9-eaa72a85a4b7"
      },
      "source": [
        "from plotly.offline import iplot\n",
        "import cufflinks\n",
        "cufflinks.go_offline()\n",
        "cufflinks.set_config_file(world_readable=True, theme='solar')\n",
        "import plotly.graph_objs as go\n",
        "import plotly.figure_factory as ff\n",
        "\n",
        "#import chart_studio.plotly as py\n",
        "#import plotly.figure_factory as ff\n",
        "\n",
        "common_words = get_top_n_words(df_combined['title'], n=20)\n",
        "df1 = pd.DataFrame(common_words, columns = ['title' , 'count'])\n",
        "df1.groupby('title').sum()['count'].sort_values().plot(kind='barh', \n",
        "                                                       #yTitle='Count', \n",
        "                                                       #linecolor='black', \n",
        "                                                       figsize = (12,8),\n",
        "                                                       title='Top 20 words in the book titles before removing stop words')\n",
        "\n"
      ],
      "execution_count": null,
      "outputs": [
        {
          "output_type": "display_data",
          "data": {
            "text/html": [
              "        <script type=\"text/javascript\">\n",
              "        window.PlotlyConfig = {MathJaxConfig: 'local'};\n",
              "        if (window.MathJax) {MathJax.Hub.Config({SVG: {font: \"STIX-Web\"}});}\n",
              "        if (typeof require !== 'undefined') {\n",
              "        require.undef(\"plotly\");\n",
              "        requirejs.config({\n",
              "            paths: {\n",
              "                'plotly': ['https://cdn.plot.ly/plotly-latest.min']\n",
              "            }\n",
              "        });\n",
              "        require(['plotly'], function(Plotly) {\n",
              "            window._Plotly = Plotly;\n",
              "        });\n",
              "        }\n",
              "        </script>\n",
              "        "
            ]
          },
          "metadata": {
            "tags": []
          }
        },
        {
          "output_type": "execute_result",
          "data": {
            "text/plain": [
              "<matplotlib.axes._subplots.AxesSubplot at 0x7f315102dc50>"
            ]
          },
          "metadata": {
            "tags": []
          },
          "execution_count": 23
        },
        {
          "output_type": "display_data",
          "data": {
            "image/png": "[encoded data removed]",
            "text/plain": [
              "<Figure size 864x576 with 1 Axes>"
            ]
          },
          "metadata": {
            "tags": [],
            "needs_background": "light"
          }
        }
      ]
    },
    {
      "cell_type": "code",
      "metadata": {
        "colab": {
          "base_uri": "https://localhost:8080/",
          "height": 677
        },
        "id": "YiNmDJIXGEGR",
        "outputId": "20c92a96-8c54-4103-ea03-3c4bf8afa13b"
      },
      "source": [
        "# top 20 terms in the book title feature before removing stopwords\n",
        "df1"
      ],
      "execution_count": null,
      "outputs": [
        {
          "output_type": "execute_result",
          "data": {
            "text/html": [
              "<div>\n",
              "<style scoped>\n",
              "    .dataframe tbody tr th:only-of-type {\n",
              "        vertical-align: middle;\n",
              "    }\n",
              "\n",
              "    .dataframe tbody tr th {\n",
              "        vertical-align: top;\n",
              "    }\n",
              "\n",
              "    .dataframe thead th {\n",
              "        text-align: right;\n",
              "    }\n",
              "</style>\n",
              "<table border=\"1\" class=\"dataframe\">\n",
              "  <thead>\n",
              "    <tr style=\"text-align: right;\">\n",
              "      <th></th>\n",
              "      <th>title</th>\n",
              "      <th>count</th>\n",
              "    </tr>\n",
              "  </thead>\n",
              "  <tbody>\n",
              "    <tr>\n",
              "      <th>0</th>\n",
              "      <td>der</td>\n",
              "      <td>75261</td>\n",
              "    </tr>\n",
              "    <tr>\n",
              "      <th>1</th>\n",
              "      <td>the</td>\n",
              "      <td>56291</td>\n",
              "    </tr>\n",
              "    <tr>\n",
              "      <th>2</th>\n",
              "      <td>die</td>\n",
              "      <td>53324</td>\n",
              "    </tr>\n",
              "    <tr>\n",
              "      <th>3</th>\n",
              "      <td>of</td>\n",
              "      <td>35393</td>\n",
              "    </tr>\n",
              "    <tr>\n",
              "      <th>4</th>\n",
              "      <td>das</td>\n",
              "      <td>32622</td>\n",
              "    </tr>\n",
              "    <tr>\n",
              "      <th>5</th>\n",
              "      <td>und</td>\n",
              "      <td>28431</td>\n",
              "    </tr>\n",
              "    <tr>\n",
              "      <th>6</th>\n",
              "      <td>mein</td>\n",
              "      <td>22675</td>\n",
              "    </tr>\n",
              "    <tr>\n",
              "      <th>7</th>\n",
              "      <td>harry</td>\n",
              "      <td>16425</td>\n",
              "    </tr>\n",
              "    <tr>\n",
              "      <th>8</th>\n",
              "      <td>potter</td>\n",
              "      <td>16414</td>\n",
              "    </tr>\n",
              "    <tr>\n",
              "      <th>9</th>\n",
              "      <td>des</td>\n",
              "      <td>15008</td>\n",
              "    </tr>\n",
              "    <tr>\n",
              "      <th>10</th>\n",
              "      <td>für</td>\n",
              "      <td>14862</td>\n",
              "    </tr>\n",
              "    <tr>\n",
              "      <th>11</th>\n",
              "      <td>meine</td>\n",
              "      <td>13357</td>\n",
              "    </tr>\n",
              "    <tr>\n",
              "      <th>12</th>\n",
              "      <td>and</td>\n",
              "      <td>13295</td>\n",
              "    </tr>\n",
              "    <tr>\n",
              "      <th>13</th>\n",
              "      <td>in</td>\n",
              "      <td>10565</td>\n",
              "    </tr>\n",
              "    <tr>\n",
              "      <th>14</th>\n",
              "      <td>im</td>\n",
              "      <td>10217</td>\n",
              "    </tr>\n",
              "    <tr>\n",
              "      <th>15</th>\n",
              "      <td>freunde</td>\n",
              "      <td>10181</td>\n",
              "    </tr>\n",
              "    <tr>\n",
              "      <th>16</th>\n",
              "      <td>von</td>\n",
              "      <td>10118</td>\n",
              "    </tr>\n",
              "    <tr>\n",
              "      <th>17</th>\n",
              "      <td>kinder</td>\n",
              "      <td>8190</td>\n",
              "    </tr>\n",
              "    <tr>\n",
              "      <th>18</th>\n",
              "      <td>set</td>\n",
              "      <td>8035</td>\n",
              "    </tr>\n",
              "    <tr>\n",
              "      <th>19</th>\n",
              "      <td>01</td>\n",
              "      <td>7940</td>\n",
              "    </tr>\n",
              "  </tbody>\n",
              "</table>\n",
              "</div>"
            ],
            "text/plain": [
              "      title  count\n",
              "0       der  75261\n",
              "1       the  56291\n",
              "2       die  53324\n",
              "3        of  35393\n",
              "4       das  32622\n",
              "5       und  28431\n",
              "6      mein  22675\n",
              "7     harry  16425\n",
              "8    potter  16414\n",
              "9       des  15008\n",
              "10      für  14862\n",
              "11    meine  13357\n",
              "12      and  13295\n",
              "13       in  10565\n",
              "14       im  10217\n",
              "15  freunde  10181\n",
              "16      von  10118\n",
              "17   kinder   8190\n",
              "18      set   8035\n",
              "19       01   7940"
            ]
          },
          "metadata": {
            "tags": []
          },
          "execution_count": 13
        }
      ]
    },
    {
      "cell_type": "code",
      "metadata": {
        "id": "nacKYaR2HW-y",
        "colab": {
          "base_uri": "https://localhost:8080/",
          "height": 517
        },
        "outputId": "88e70e4e-279f-4f54-ee55-4b18d19e8647"
      },
      "source": [
        "#import chart_studio.plotly as py # library for the interactive plot method iplot()\n",
        "#import plotly.graph_objects as go\n",
        "#import plotly.figure_factory as ff\n",
        "\n",
        "def get_top_n_words(corpus, n=None):\n",
        "    vec = CountVectorizer(stop_words=['english','german']).fit(corpus) # converts text documents into a matrix of token(word) counts; stop_words option is used here \n",
        "    bag_of_words = vec.transform(corpus)\n",
        "    sum_words = bag_of_words.sum(axis=0) \n",
        "    words_freq = [(word, sum_words[0, idx]) for word, idx in vec.vocabulary_.items()]\n",
        "    words_freq =sorted(words_freq, key = lambda x: x[1], reverse=True)\n",
        "    return words_freq[:n]\n",
        "\n",
        "common_words = get_top_n_words(df_combined['title'], 20)\n",
        "df2 = pd.DataFrame(common_words, columns = ['title' , 'count'])\n",
        "df2.groupby('title').sum()['count'].sort_values().plot(kind='barh', \n",
        "                                                        #yTitle='Count', \n",
        "                                                        #linecolor='black', \n",
        "                                                        figsize = (12,8),\n",
        "                                                        title='Top 20 words in book title after removing stop words')\n",
        "\n"
      ],
      "execution_count": null,
      "outputs": [
        {
          "output_type": "execute_result",
          "data": {
            "text/plain": [
              "<matplotlib.axes._subplots.AxesSubplot at 0x7f3155dd6590>"
            ]
          },
          "metadata": {
            "tags": []
          },
          "execution_count": 21
        },
        {
          "output_type": "display_data",
          "data": {
            "image/png": "[encoded data removed]",
            "text/plain": [
              "<Figure size 864x576 with 1 Axes>"
            ]
          },
          "metadata": {
            "tags": [],
            "needs_background": "light"
          }
        }
      ]
    },
    {
      "cell_type": "code",
      "metadata": {
        "colab": {
          "base_uri": "https://localhost:8080/",
          "height": 677
        },
        "id": "jDqe6DjsKRn-",
        "outputId": "0ac4a74f-495c-490e-d81a-5274cada56b1"
      },
      "source": [
        "df2"
      ],
      "execution_count": null,
      "outputs": [
        {
          "output_type": "execute_result",
          "data": {
            "text/html": [
              "<div>\n",
              "<style scoped>\n",
              "    .dataframe tbody tr th:only-of-type {\n",
              "        vertical-align: middle;\n",
              "    }\n",
              "\n",
              "    .dataframe tbody tr th {\n",
              "        vertical-align: top;\n",
              "    }\n",
              "\n",
              "    .dataframe thead th {\n",
              "        text-align: right;\n",
              "    }\n",
              "</style>\n",
              "<table border=\"1\" class=\"dataframe\">\n",
              "  <thead>\n",
              "    <tr style=\"text-align: right;\">\n",
              "      <th></th>\n",
              "      <th>title</th>\n",
              "      <th>count</th>\n",
              "    </tr>\n",
              "  </thead>\n",
              "  <tbody>\n",
              "    <tr>\n",
              "      <th>0</th>\n",
              "      <td>der</td>\n",
              "      <td>75261</td>\n",
              "    </tr>\n",
              "    <tr>\n",
              "      <th>1</th>\n",
              "      <td>the</td>\n",
              "      <td>56291</td>\n",
              "    </tr>\n",
              "    <tr>\n",
              "      <th>2</th>\n",
              "      <td>die</td>\n",
              "      <td>53324</td>\n",
              "    </tr>\n",
              "    <tr>\n",
              "      <th>3</th>\n",
              "      <td>of</td>\n",
              "      <td>35393</td>\n",
              "    </tr>\n",
              "    <tr>\n",
              "      <th>4</th>\n",
              "      <td>das</td>\n",
              "      <td>32622</td>\n",
              "    </tr>\n",
              "    <tr>\n",
              "      <th>5</th>\n",
              "      <td>und</td>\n",
              "      <td>28431</td>\n",
              "    </tr>\n",
              "    <tr>\n",
              "      <th>6</th>\n",
              "      <td>mein</td>\n",
              "      <td>22675</td>\n",
              "    </tr>\n",
              "    <tr>\n",
              "      <th>7</th>\n",
              "      <td>harry</td>\n",
              "      <td>16425</td>\n",
              "    </tr>\n",
              "    <tr>\n",
              "      <th>8</th>\n",
              "      <td>potter</td>\n",
              "      <td>16414</td>\n",
              "    </tr>\n",
              "    <tr>\n",
              "      <th>9</th>\n",
              "      <td>des</td>\n",
              "      <td>15008</td>\n",
              "    </tr>\n",
              "    <tr>\n",
              "      <th>10</th>\n",
              "      <td>für</td>\n",
              "      <td>14862</td>\n",
              "    </tr>\n",
              "    <tr>\n",
              "      <th>11</th>\n",
              "      <td>meine</td>\n",
              "      <td>13357</td>\n",
              "    </tr>\n",
              "    <tr>\n",
              "      <th>12</th>\n",
              "      <td>and</td>\n",
              "      <td>13295</td>\n",
              "    </tr>\n",
              "    <tr>\n",
              "      <th>13</th>\n",
              "      <td>in</td>\n",
              "      <td>10565</td>\n",
              "    </tr>\n",
              "    <tr>\n",
              "      <th>14</th>\n",
              "      <td>im</td>\n",
              "      <td>10217</td>\n",
              "    </tr>\n",
              "    <tr>\n",
              "      <th>15</th>\n",
              "      <td>freunde</td>\n",
              "      <td>10181</td>\n",
              "    </tr>\n",
              "    <tr>\n",
              "      <th>16</th>\n",
              "      <td>von</td>\n",
              "      <td>10118</td>\n",
              "    </tr>\n",
              "    <tr>\n",
              "      <th>17</th>\n",
              "      <td>kinder</td>\n",
              "      <td>8190</td>\n",
              "    </tr>\n",
              "    <tr>\n",
              "      <th>18</th>\n",
              "      <td>set</td>\n",
              "      <td>8035</td>\n",
              "    </tr>\n",
              "    <tr>\n",
              "      <th>19</th>\n",
              "      <td>01</td>\n",
              "      <td>7940</td>\n",
              "    </tr>\n",
              "  </tbody>\n",
              "</table>\n",
              "</div>"
            ],
            "text/plain": [
              "      title  count\n",
              "0       der  75261\n",
              "1       the  56291\n",
              "2       die  53324\n",
              "3        of  35393\n",
              "4       das  32622\n",
              "5       und  28431\n",
              "6      mein  22675\n",
              "7     harry  16425\n",
              "8    potter  16414\n",
              "9       des  15008\n",
              "10      für  14862\n",
              "11    meine  13357\n",
              "12      and  13295\n",
              "13       in  10565\n",
              "14       im  10217\n",
              "15  freunde  10181\n",
              "16      von  10118\n",
              "17   kinder   8190\n",
              "18      set   8035\n",
              "19       01   7940"
            ]
          },
          "metadata": {
            "tags": []
          },
          "execution_count": 15
        }
      ]
    },
    {
      "cell_type": "code",
      "metadata": {
        "colab": {
          "base_uri": "https://localhost:8080/"
        },
        "id": "-T8ALvkOUmCL",
        "outputId": "33ae4677-e196-4745-8e53-3ee5de368c47"
      },
      "source": [
        "# title word counts for the items_df only\n",
        "items_df['word_count'] = items_df['title'].apply(lambda x: len(str(x).split())) # adding a word_count column to the dataframe\n",
        "title_lengths = list(items_df['word_count'])\n",
        "print(\"Number of descriptions:\",len(title_lengths),\n",
        "      \"\\nAverage word count\", np.average(title_lengths),\n",
        "      \"\\nMinimum word count\", min(title_lengths),\n",
        "      \"\\nMaximum word count\", max(title_lengths))"
      ],
      "execution_count": null,
      "outputs": [
        {
          "output_type": "stream",
          "text": [
            "Number of descriptions: 78030 \n",
            "Average word count 4.816955017301038 \n",
            "Minimum word count 1 \n",
            "Maximum word count 2657\n"
          ],
          "name": "stdout"
        }
      ]
    },
    {
      "cell_type": "code",
      "metadata": {
        "colab": {
          "base_uri": "https://localhost:8080/",
          "height": 517
        },
        "id": "nifdpqLTbGlY",
        "outputId": "3424e42d-8123-4daa-c7fa-7cfd35b23980"
      },
      "source": [
        "items_df['word_count'].plot(\n",
        "    kind='hist',\n",
        "    bins = 50,\n",
        "    #linecolor='black',\n",
        "    #xTitle='word count',\n",
        "    #yTitle='count',\n",
        "    figsize = (12,8),\n",
        "    title='Word Count Distribution in book title')\n"
      ],
      "execution_count": null,
      "outputs": [
        {
          "output_type": "execute_result",
          "data": {
            "text/plain": [
              "<matplotlib.axes._subplots.AxesSubplot at 0x7fe69adefb90>"
            ]
          },
          "metadata": {
            "tags": []
          },
          "execution_count": 42
        },
        {
          "output_type": "display_data",
          "data": {
            "image/png": "[encoded data removed]",
            "text/plain": [
              "<Figure size 864x576 with 1 Axes>"
            ]
          },
          "metadata": {
            "tags": [],
            "needs_background": "light"
          }
        }
      ]
    },
    {
      "cell_type": "code",
      "metadata": {
        "colab": {
          "base_uri": "https://localhost:8080/"
        },
        "id": "DFlIHGM4U4kZ",
        "outputId": "27c077b9-4fa3-4a35-b9d4-6e551579d738"
      },
      "source": [
        "items_df[\"word_count\"].value_counts()"
      ],
      "execution_count": null,
      "outputs": [
        {
          "output_type": "execute_result",
          "data": {
            "text/plain": [
              "3       13935\n",
              "2       11973\n",
              "4       11966\n",
              "5        9363\n",
              "1        7535\n",
              "6        6795\n",
              "7        4590\n",
              "8        3081\n",
              "9        2354\n",
              "10       1543\n",
              "11       1022\n",
              "12        660\n",
              "15        533\n",
              "17        521\n",
              "13        480\n",
              "14        430\n",
              "16        430\n",
              "18        266\n",
              "20        190\n",
              "21        164\n",
              "19        155\n",
              "22         39\n",
              "23          4\n",
              "2657        1\n",
              "Name: word_count, dtype: int64"
            ]
          },
          "metadata": {
            "tags": []
          },
          "execution_count": 43
        }
      ]
    },
    {
      "cell_type": "code",
      "metadata": {
        "id": "VdUw5lb9VVh8"
      },
      "source": [
        "# drop outlier\n",
        "##items_df[items_df[\"word_count\"] == 2657]\n",
        "\n",
        "items_df[\"word_count\"] = items_df.drop(columns = \"word_count\", axis=1, index=62923)"
      ],
      "execution_count": null,
      "outputs": []
    },
    {
      "cell_type": "code",
      "metadata": {
        "colab": {
          "base_uri": "https://localhost:8080/"
        },
        "id": "0PjMzezwM_jv",
        "outputId": "4922aa29-068f-46f5-889c-72c6e5091ff1"
      },
      "source": [
        "# title word counts\n",
        "df_combined['word_count'] = df_combined['title'].apply(lambda x: len(str(x).split())) # adding a word_count column to the dataframe\n",
        "title_lengths = list(df_combined['word_count'])\n",
        "print(\"Number of descriptions:\",len(title_lengths),\n",
        "      \"\\nAverage word count\", np.average(title_lengths),\n",
        "      \"\\nMinimum word count\", min(title_lengths),\n",
        "      \"\\nMaximum word count\", max(title_lengths))"
      ],
      "execution_count": null,
      "outputs": [
        {
          "output_type": "stream",
          "text": [
            "Number of descriptions: 365143 \n",
            "Average word count 4.931793845151078 \n",
            "Minimum word count 1 \n",
            "Maximum word count 22\n"
          ],
          "name": "stdout"
        }
      ]
    },
    {
      "cell_type": "code",
      "metadata": {
        "colab": {
          "base_uri": "https://localhost:8080/",
          "height": 517
        },
        "id": "BPvLTxpFQKT1",
        "outputId": "f2dc76a0-b86c-4b42-980e-0d414aadf869"
      },
      "source": [
        "df_combined['word_count'].plot(\n",
        "    kind='hist',\n",
        "    bins = 50,\n",
        "    #linecolor='black',\n",
        "    #xTitle='word count',\n",
        "    #yTitle='count',\n",
        "    figsize = (12,8),\n",
        "    title='Word Count Distribution in book title')\n",
        "\n"
      ],
      "execution_count": null,
      "outputs": [
        {
          "output_type": "execute_result",
          "data": {
            "text/plain": [
              "<matplotlib.axes._subplots.AxesSubplot at 0x7f49f314c090>"
            ]
          },
          "metadata": {
            "tags": []
          },
          "execution_count": 68
        },
        {
          "output_type": "display_data",
          "data": {
            "image/png": "[encoded data removed]",
            "text/plain": [
              "<Figure size 864x576 with 1 Axes>"
            ]
          },
          "metadata": {
            "tags": [],
            "needs_background": "light"
          }
        }
      ]
    },
    {
      "cell_type": "code",
      "metadata": {
        "colab": {
          "base_uri": "https://localhost:8080/"
        },
        "id": "nAkqvE7hcUXm",
        "outputId": "99dc0850-bd3f-4dc4-fe7d-bc641f245c96"
      },
      "source": [
        "nltk.download('stopwords')"
      ],
      "execution_count": null,
      "outputs": [
        {
          "output_type": "stream",
          "text": [
            "[nltk_data] Downloading package stopwords to /root/nltk_data...\n",
            "[nltk_data]   Unzipping corpora/stopwords.zip.\n"
          ],
          "name": "stdout"
        },
        {
          "output_type": "execute_result",
          "data": {
            "text/plain": [
              "True"
            ]
          },
          "metadata": {
            "tags": []
          },
          "execution_count": 71
        }
      ]
    },
    {
      "cell_type": "code",
      "metadata": {
        "id": "TgvlG0WLQeJl"
      },
      "source": [
        "from nltk.corpus import stopwords\n",
        "import re\n",
        "\n",
        "# text processing (cleaning the title by removing special characters, numbers and stopwords)\n",
        "\n",
        "REPLACE_BY_SPACE_RE = re.compile('[/(){}\\[\\]\\|@,;]')\n",
        "BAD_SYMBOLS_RE = re.compile('[^0-9a-z #+_]')\n",
        "STOPWORDS = set(stopwords.words('english')) # idea: use a list of languages for stopwords\n",
        "\n",
        "def clean_text(text):\n",
        "    \"\"\"\n",
        "        text: a string\n",
        "        \n",
        "        return: modified initial string\n",
        "    \"\"\"\n",
        "    text = text.lower() # lowercase text\n",
        "    text = REPLACE_BY_SPACE_RE.sub(' ', text) # replace REPLACE_BY_SPACE_RE symbols by space in text. substitute the matched string in REPLACE_BY_SPACE_RE with space.\n",
        "    text = BAD_SYMBOLS_RE.sub('', text) # remove symbols which are in BAD_SYMBOLS_RE from text. substitute the matched string in BAD_SYMBOLS_RE with nothing. \n",
        "    text = ' '.join(word for word in text.split() if word not in STOPWORDS) # remove stopwors from text\n",
        "    return text\n",
        "    \n",
        "df_combined['title_clean'] = df_combined['title'].apply(clean_text) # adding a column with the clean title to the dataframe"
      ],
      "execution_count": null,
      "outputs": []
    },
    {
      "cell_type": "code",
      "metadata": {
        "colab": {
          "base_uri": "https://localhost:8080/",
          "height": 556
        },
        "id": "Sf53YBYhQ549",
        "outputId": "dc56fe38-646e-4dd1-d9cf-5c7d379a8334"
      },
      "source": [
        "df_combined.head()"
      ],
      "execution_count": null,
      "outputs": [
        {
          "output_type": "execute_result",
          "data": {
            "text/html": [
              "<div>\n",
              "<style scoped>\n",
              "    .dataframe tbody tr th:only-of-type {\n",
              "        vertical-align: middle;\n",
              "    }\n",
              "\n",
              "    .dataframe tbody tr th {\n",
              "        vertical-align: top;\n",
              "    }\n",
              "\n",
              "    .dataframe thead th {\n",
              "        text-align: right;\n",
              "    }\n",
              "</style>\n",
              "<table border=\"1\" class=\"dataframe\">\n",
              "  <thead>\n",
              "    <tr style=\"text-align: right;\">\n",
              "      <th></th>\n",
              "      <th>itemID</th>\n",
              "      <th>title</th>\n",
              "      <th>author</th>\n",
              "      <th>publisher</th>\n",
              "      <th>main topic</th>\n",
              "      <th>subtopics</th>\n",
              "      <th>sessionID</th>\n",
              "      <th>click</th>\n",
              "      <th>basket</th>\n",
              "      <th>order</th>\n",
              "      <th>session_count</th>\n",
              "      <th>mult_item_session</th>\n",
              "      <th>word_count</th>\n",
              "      <th>title_clean</th>\n",
              "    </tr>\n",
              "  </thead>\n",
              "  <tbody>\n",
              "    <tr>\n",
              "      <th>0</th>\n",
              "      <td>21310</td>\n",
              "      <td>Princess Poppy: The Big Mix Up</td>\n",
              "      <td>Janey Louise Jones</td>\n",
              "      <td>Penguin Random House Children's UK</td>\n",
              "      <td>YFB</td>\n",
              "      <td>[5AH]</td>\n",
              "      <td>0</td>\n",
              "      <td>1</td>\n",
              "      <td>0</td>\n",
              "      <td>0</td>\n",
              "      <td>1</td>\n",
              "      <td>NaN</td>\n",
              "      <td>6</td>\n",
              "      <td>princess poppy big mix</td>\n",
              "    </tr>\n",
              "    <tr>\n",
              "      <th>1</th>\n",
              "      <td>21310</td>\n",
              "      <td>Princess Poppy: The Big Mix Up</td>\n",
              "      <td>Janey Louise Jones</td>\n",
              "      <td>Penguin Random House Children's UK</td>\n",
              "      <td>YFB</td>\n",
              "      <td>[5AH]</td>\n",
              "      <td>89272</td>\n",
              "      <td>1</td>\n",
              "      <td>0</td>\n",
              "      <td>0</td>\n",
              "      <td>1</td>\n",
              "      <td>NaN</td>\n",
              "      <td>6</td>\n",
              "      <td>princess poppy big mix</td>\n",
              "    </tr>\n",
              "    <tr>\n",
              "      <th>2</th>\n",
              "      <td>21310</td>\n",
              "      <td>Princess Poppy: The Big Mix Up</td>\n",
              "      <td>Janey Louise Jones</td>\n",
              "      <td>Penguin Random House Children's UK</td>\n",
              "      <td>YFB</td>\n",
              "      <td>[5AH]</td>\n",
              "      <td>183856</td>\n",
              "      <td>1</td>\n",
              "      <td>0</td>\n",
              "      <td>0</td>\n",
              "      <td>1</td>\n",
              "      <td>NaN</td>\n",
              "      <td>6</td>\n",
              "      <td>princess poppy big mix</td>\n",
              "    </tr>\n",
              "    <tr>\n",
              "      <th>3</th>\n",
              "      <td>73018</td>\n",
              "      <td>Einfach zeichnen! Step by Step</td>\n",
              "      <td>Wiebke Krabbe</td>\n",
              "      <td>Schwager und Steinlein</td>\n",
              "      <td>AGZ</td>\n",
              "      <td>[5AJ,AGZ,WFA,YBG,YBL,YNA,YPA]</td>\n",
              "      <td>1</td>\n",
              "      <td>1</td>\n",
              "      <td>0</td>\n",
              "      <td>0</td>\n",
              "      <td>1</td>\n",
              "      <td>NaN</td>\n",
              "      <td>5</td>\n",
              "      <td>einfach zeichnen step step</td>\n",
              "    </tr>\n",
              "    <tr>\n",
              "      <th>4</th>\n",
              "      <td>73018</td>\n",
              "      <td>Einfach zeichnen! Step by Step</td>\n",
              "      <td>Wiebke Krabbe</td>\n",
              "      <td>Schwager und Steinlein</td>\n",
              "      <td>AGZ</td>\n",
              "      <td>[5AJ,AGZ,WFA,YBG,YBL,YNA,YPA]</td>\n",
              "      <td>771</td>\n",
              "      <td>1</td>\n",
              "      <td>0</td>\n",
              "      <td>0</td>\n",
              "      <td>3</td>\n",
              "      <td>771.0</td>\n",
              "      <td>5</td>\n",
              "      <td>einfach zeichnen step step</td>\n",
              "    </tr>\n",
              "  </tbody>\n",
              "</table>\n",
              "</div>"
            ],
            "text/plain": [
              "   itemID  ...                 title_clean\n",
              "0   21310  ...      princess poppy big mix\n",
              "1   21310  ...      princess poppy big mix\n",
              "2   21310  ...      princess poppy big mix\n",
              "3   73018  ...  einfach zeichnen step step\n",
              "4   73018  ...  einfach zeichnen step step\n",
              "\n",
              "[5 rows x 14 columns]"
            ]
          },
          "metadata": {
            "tags": []
          },
          "execution_count": 73
        }
      ]
    },
    {
      "cell_type": "markdown",
      "metadata": {
        "id": "cZZmKAKLJ3vU"
      },
      "source": [
        "# (1) Vectorization of the feature containing text data"
      ]
    },
    {
      "cell_type": "markdown",
      "metadata": {
        "id": "aq7g1k2wR9lF"
      },
      "source": [
        "old attempt of cleaning the title column start"
      ]
    },
    {
      "cell_type": "code",
      "metadata": {
        "id": "a53fz48Y63lz"
      },
      "source": [
        "# data pre-processing to remove stop words, punctuation, white space, and convert all words to lower case\n",
        "l = [] # instantiating an empty list\n",
        "r = Rake() # instantiating the RAKE (rapid automatic keyword extraction) object\n",
        "for index, row in items_df.iterrows():\n",
        "    r.extract_keywords_from_text(row['title'])\n",
        "    key_words_dict_scores = r.get_word_degrees()\n",
        "    l.append(list(key_words_dict_scores.keys()))\n",
        "items_df['keywords'] = l # creating a keywords column in the items_df dataframe which contains a list of keywords"
      ],
      "execution_count": null,
      "outputs": []
    },
    {
      "cell_type": "code",
      "metadata": {
        "colab": {
          "base_uri": "https://localhost:8080/",
          "height": 206
        },
        "id": "rsGjtf1lCi51",
        "outputId": "b2477c51-b7cc-4c12-b8bf-1a0b6b3ccdb2"
      },
      "source": [
        "items_df.head()"
      ],
      "execution_count": null,
      "outputs": [
        {
          "output_type": "execute_result",
          "data": {
            "text/html": [
              "<div>\n",
              "<style scoped>\n",
              "    .dataframe tbody tr th:only-of-type {\n",
              "        vertical-align: middle;\n",
              "    }\n",
              "\n",
              "    .dataframe tbody tr th {\n",
              "        vertical-align: top;\n",
              "    }\n",
              "\n",
              "    .dataframe thead th {\n",
              "        text-align: right;\n",
              "    }\n",
              "</style>\n",
              "<table border=\"1\" class=\"dataframe\">\n",
              "  <thead>\n",
              "    <tr style=\"text-align: right;\">\n",
              "      <th></th>\n",
              "      <th>itemID</th>\n",
              "      <th>title</th>\n",
              "      <th>author</th>\n",
              "      <th>publisher</th>\n",
              "      <th>main topic</th>\n",
              "      <th>subtopics</th>\n",
              "      <th>keywords</th>\n",
              "    </tr>\n",
              "  </thead>\n",
              "  <tbody>\n",
              "    <tr>\n",
              "      <th>0</th>\n",
              "      <td>21310</td>\n",
              "      <td>Princess Poppy: The Big Mix Up</td>\n",
              "      <td>Janey Louise Jones</td>\n",
              "      <td>Penguin Random House Children's UK</td>\n",
              "      <td>YFB</td>\n",
              "      <td>[5AH]</td>\n",
              "      <td>[princess, poppy, big, mix]</td>\n",
              "    </tr>\n",
              "    <tr>\n",
              "      <th>1</th>\n",
              "      <td>73018</td>\n",
              "      <td>Einfach zeichnen! Step by Step</td>\n",
              "      <td>Wiebke Krabbe</td>\n",
              "      <td>Schwager und Steinlein</td>\n",
              "      <td>AGZ</td>\n",
              "      <td>[5AJ,AGZ,WFA,YBG,YBL,YNA,YPA]</td>\n",
              "      <td>[step, einfach, zeichnen]</td>\n",
              "    </tr>\n",
              "    <tr>\n",
              "      <th>2</th>\n",
              "      <td>19194</td>\n",
              "      <td>Red Queen 1</td>\n",
              "      <td>Victoria Aveyard</td>\n",
              "      <td>Orion Publishing Group</td>\n",
              "      <td>YFH</td>\n",
              "      <td>[5AP,FBA]</td>\n",
              "      <td>[red, queen, 1]</td>\n",
              "    </tr>\n",
              "    <tr>\n",
              "      <th>3</th>\n",
              "      <td>40250</td>\n",
              "      <td>Meine Kindergarten-Freunde (Pirat)</td>\n",
              "      <td>NaN</td>\n",
              "      <td>Ars Edition GmbH</td>\n",
              "      <td>YB</td>\n",
              "      <td>[5AC,5AD,YBG,YBL,YF]</td>\n",
              "      <td>[meine, kindergarten, pirat, freunde]</td>\n",
              "    </tr>\n",
              "    <tr>\n",
              "      <th>4</th>\n",
              "      <td>46107</td>\n",
              "      <td>Mein großes Schablonen-Buch - Wilde Tiere</td>\n",
              "      <td>Elizabeth Golding</td>\n",
              "      <td>Edition Michael Fischer</td>\n",
              "      <td>WFTM</td>\n",
              "      <td>[WD,WFTM,YBG,YBL,YBLD,YBLN1]</td>\n",
              "      <td>[mein, großes, schablonen, buch, wilde, tiere]</td>\n",
              "    </tr>\n",
              "  </tbody>\n",
              "</table>\n",
              "</div>"
            ],
            "text/plain": [
              "   itemID  ...                                        keywords\n",
              "0   21310  ...                     [princess, poppy, big, mix]\n",
              "1   73018  ...                       [step, einfach, zeichnen]\n",
              "2   19194  ...                                 [red, queen, 1]\n",
              "3   40250  ...           [meine, kindergarten, pirat, freunde]\n",
              "4   46107  ...  [mein, großes, schablonen, buch, wilde, tiere]\n",
              "\n",
              "[5 rows x 7 columns]"
            ]
          },
          "metadata": {
            "tags": []
          },
          "execution_count": 15
        }
      ]
    },
    {
      "cell_type": "markdown",
      "metadata": {
        "id": "WeP6WHl4DAJG"
      },
      "source": [
        "The recommender system can only read and compare a vector with another so we need to convert the text data into a vector using the CountVectorizer which counts the frequencies of each word"
      ]
    },
    {
      "cell_type": "code",
      "metadata": {
        "colab": {
          "base_uri": "https://localhost:8080/"
        },
        "id": "XVF3Vv1pE_cw",
        "outputId": "287e26cb-521f-4c3c-899d-301ffd1baa94"
      },
      "source": [
        "#items_df[\"keywords\"].shape\n",
        "\n",
        "items_df[\"title\"].shape\n"
      ],
      "execution_count": null,
      "outputs": [
        {
          "output_type": "execute_result",
          "data": {
            "text/plain": [
              "(78030,)"
            ]
          },
          "metadata": {
            "tags": []
          },
          "execution_count": 32
        }
      ]
    },
    {
      "cell_type": "code",
      "metadata": {
        "id": "fFwEYtrXAE8R"
      },
      "source": [
        "# instantiating the CountVectorizer as an object\n",
        "vectorizer = CountVectorizer()"
      ],
      "execution_count": null,
      "outputs": []
    },
    {
      "cell_type": "code",
      "metadata": {
        "colab": {
          "base_uri": "https://localhost:8080/"
        },
        "id": "8oDhCboUCRbl",
        "outputId": "a3212f69-cdce-409a-f1aa-a72c8c5fe28f"
      },
      "source": [
        "bag_of_words = vectorizer.fit_transform(items_df[\"title\"])\n",
        "\n",
        "print(bag_of_words) # (tuple) frequency of words"
      ],
      "execution_count": null,
      "outputs": [
        {
          "output_type": "stream",
          "text": [
            "  (0, 30745)\t1\n",
            "  (0, 30413)\t1\n",
            "  (0, 38985)\t1\n",
            "  (0, 4741)\t1\n",
            "  (0, 25672)\t1\n",
            "  (0, 41085)\t1\n",
            "  (1, 11630)\t1\n",
            "  (1, 44408)\t1\n",
            "  (1, 37222)\t2\n",
            "  (1, 6247)\t1\n",
            "  (2, 31944)\t1\n",
            "  (2, 31324)\t1\n",
            "  (3, 24997)\t1\n",
            "  (3, 21236)\t1\n",
            "  (3, 14922)\t1\n",
            "  (3, 29990)\t1\n",
            "  (4, 24996)\t1\n",
            "  (4, 16986)\t1\n",
            "  (4, 33824)\t1\n",
            "  (4, 5978)\t1\n",
            "  (4, 43243)\t1\n",
            "  (4, 39248)\t1\n",
            "  (5, 13000)\t1\n",
            "  (5, 15792)\t1\n",
            "  (6, 24997)\t1\n",
            "  :\t:\n",
            "  (78023, 37412)\t1\n",
            "  (78023, 26505)\t1\n",
            "  (78023, 39975)\t1\n",
            "  (78023, 11969)\t1\n",
            "  (78023, 3665)\t1\n",
            "  (78024, 38985)\t1\n",
            "  (78024, 27995)\t1\n",
            "  (78024, 10767)\t1\n",
            "  (78024, 30582)\t1\n",
            "  (78025, 38389)\t1\n",
            "  (78025, 13301)\t1\n",
            "  (78025, 39348)\t1\n",
            "  (78026, 15430)\t1\n",
            "  (78026, 9677)\t1\n",
            "  (78027, 38985)\t1\n",
            "  (78027, 2164)\t1\n",
            "  (78027, 9690)\t1\n",
            "  (78027, 23174)\t1\n",
            "  (78027, 23470)\t1\n",
            "  (78028, 38985)\t1\n",
            "  (78028, 12986)\t1\n",
            "  (78028, 2844)\t1\n",
            "  (78029, 38985)\t1\n",
            "  (78029, 23052)\t1\n",
            "  (78029, 42277)\t1\n"
          ],
          "name": "stdout"
        }
      ]
    },
    {
      "cell_type": "code",
      "metadata": {
        "colab": {
          "base_uri": "https://localhost:8080/"
        },
        "id": "CHd4S9DBDEGs",
        "outputId": "5a362fc4-e46d-48c6-bf78-19e2bf12ab84"
      },
      "source": [
        "# print the counts of repeated words\n",
        "##print(vectorizer.vocabulary_)\n"
      ],
      "execution_count": null,
      "outputs": [
        {
          "output_type": "execute_result",
          "data": {
            "text/plain": [
              "<function dict.values>"
            ]
          },
          "metadata": {
            "tags": []
          },
          "execution_count": 67
        }
      ]
    },
    {
      "cell_type": "markdown",
      "metadata": {
        "id": "Gbb7IvnzSQNZ"
      },
      "source": [
        "old attempt to clean the title feature end"
      ]
    },
    {
      "cell_type": "markdown",
      "metadata": {
        "id": "NCoR6AcjKETo"
      },
      "source": [
        "# (2) TF-IDF Transformation"
      ]
    },
    {
      "cell_type": "markdown",
      "metadata": {
        "id": "qS5wW5SZONJm"
      },
      "source": [
        "TF-IDF: \"term frequency - inverse document frequency\n",
        "Text mining technique to compute a weight for each word (=term) representing its importance in the document"
      ]
    },
    {
      "cell_type": "markdown",
      "metadata": {
        "id": "Kk8fRaw_khRp"
      },
      "source": [
        "https://towardsdatascience.com/tf-idf-for-document-ranking-from-scratch-in-python-on-real-world-dataset-796d339a4089"
      ]
    },
    {
      "cell_type": "markdown",
      "metadata": {
        "id": "zwnBv8R5-7Hk"
      },
      "source": [
        "**Parameters of the TfidfVectorizer function**:  \n",
        "\n",
        "analyzer : str, {'word', 'char', 'char_wb'} \n",
        "    Whether the feature should be made of word or character n-grams.\n",
        "    Option 'char_wb' creates character n-grams only from text inside \n",
        "   word boundaries; n-grams at the edges of words are padded with space.\n",
        "\n",
        "ngram_range : tuple (min_n, max_n), default=(1, 1)\n",
        "    The lower and upper boundary of the range of n-values for different\n",
        "    n-grams to be extracted  \n",
        "\n",
        "\n"
      ]
    },
    {
      "cell_type": "code",
      "metadata": {
        "id": "-1CyGqZB92q4"
      },
      "source": [
        "##df_combined.set_index('title', inplace = True) # modifying the dataframe in place (not in a new object)\n",
        "\n",
        "# Create a TF-IDF matrix (containing the TFIDF scores) of unigrams, bigrams, and trigrams for each book title\n",
        "tf = TfidfVectorizer(analyzer='word', ngram_range=(1, 3), min_df=0, stop_words='english') \n",
        "tfidf_matrix = tf.fit_transform(df_combined['title_clean']) # transform the cleaned title feature \n",
        "\n",
        "\n",
        "\n",
        "\n"
      ],
      "execution_count": null,
      "outputs": []
    },
    {
      "cell_type": "markdown",
      "metadata": {
        "id": "jx5C7FC7Z_S9"
      },
      "source": [
        "TO DO: use multiple features and compute TFIDF scores for all of them\n",
        ", e.g.:  \n",
        "tfidf_matrix_3_features = tf.fit_transform(df_combined[[\"title_clean\",\"publisher\",\"author\"]])"
      ]
    },
    {
      "cell_type": "code",
      "metadata": {
        "colab": {
          "base_uri": "https://localhost:8080/"
        },
        "id": "3Pcywcyd-K7-",
        "outputId": "c57a763f-ec40-492f-c12b-6d1dee1d9d8f"
      },
      "source": [
        "# the TFIDF matrix contains the TFIDF score of each word\n",
        "print(tfidf_matrix)"
      ],
      "execution_count": null,
      "outputs": [
        {
          "output_type": "stream",
          "text": [
            "  (0, 66613)\t0.37498706618772626\n",
            "  (0, 67132)\t0.37498706618772626\n",
            "  (0, 9859)\t0.37498706618772626\n",
            "  (0, 66612)\t0.37498706618772626\n",
            "  (0, 67131)\t0.3627469117723769\n",
            "  (0, 59787)\t0.3540623840068011\n",
            "  (0, 9814)\t0.2454669545374768\n",
            "  (0, 66611)\t0.271322082930969\n",
            "  (0, 67075)\t0.2161564446016081\n",
            "  (1, 66613)\t0.37498706618772626\n",
            "  (1, 67132)\t0.37498706618772626\n",
            "  (1, 9859)\t0.37498706618772626\n",
            "  (1, 66612)\t0.37498706618772626\n",
            "  (1, 67131)\t0.3627469117723769\n",
            "  (1, 59787)\t0.3540623840068011\n",
            "  (1, 9814)\t0.2454669545374768\n",
            "  (1, 66611)\t0.271322082930969\n",
            "  (1, 67075)\t0.2161564446016081\n",
            "  (2, 66613)\t0.37498706618772626\n",
            "  (2, 67132)\t0.37498706618772626\n",
            "  (2, 9859)\t0.37498706618772626\n",
            "  (2, 66612)\t0.37498706618772626\n",
            "  (2, 67131)\t0.3627469117723769\n",
            "  (2, 59787)\t0.3540623840068011\n",
            "  (2, 9814)\t0.2454669545374768\n",
            "  :\t:\n",
            "  (365139, 35198)\t0.26143793829041395\n",
            "  (365139, 89679)\t0.26143793829041395\n",
            "  (365139, 5526)\t0.26143793829041395\n",
            "  (365139, 35197)\t0.26143793829041395\n",
            "  (365139, 89678)\t0.26143793829041395\n",
            "  (365139, 48728)\t0.26143793829041395\n",
            "  (365139, 89675)\t0.21562375250744903\n",
            "  (365139, 5521)\t0.25456386645658025\n",
            "  (365139, 35196)\t0.25456386645658025\n",
            "  (365139, 20562)\t0.2075268698403271\n",
            "  (365139, 61542)\t0.19024031091974383\n",
            "  (365139, 19169)\t0.06940671301142315\n",
            "  (365140, 81524)\t1.0\n",
            "  (365141, 42212)\t0.425925429045126\n",
            "  (365141, 38508)\t0.425925429045126\n",
            "  (365141, 42211)\t0.425925429045126\n",
            "  (365141, 38507)\t0.41275736054900786\n",
            "  (365141, 42208)\t0.3961675562259972\n",
            "  (365141, 41161)\t0.35839254370691614\n",
            "  (365142, 31501)\t0.43019623390190215\n",
            "  (365142, 74375)\t0.43019623390190215\n",
            "  (365142, 31500)\t0.43019623390190215\n",
            "  (365142, 31499)\t0.43019623390190215\n",
            "  (365142, 5509)\t0.3424785473690693\n",
            "  (365142, 74374)\t0.377403293491792\n"
          ],
          "name": "stdout"
        }
      ]
    },
    {
      "cell_type": "code",
      "metadata": {
        "colab": {
          "base_uri": "https://localhost:8080/"
        },
        "id": "PuHKAN8aMmRa",
        "outputId": "630c87df-8009-4f72-ef3a-1e325e5f7d91"
      },
      "source": [
        "tfidf_matrix.shape"
      ],
      "execution_count": null,
      "outputs": [
        {
          "output_type": "execute_result",
          "data": {
            "text/plain": [
              "(365143, 94745)"
            ]
          },
          "metadata": {
            "tags": []
          },
          "execution_count": 86
        }
      ]
    },
    {
      "cell_type": "markdown",
      "metadata": {
        "id": "Bdw0zPIvRilF"
      },
      "source": [
        "Cosine Similarity: The ultimate reason behind using cosine is that the value of cosine will increase as the angle between vectors with decreases, which signifies more similarity."
      ]
    },
    {
      "cell_type": "code",
      "metadata": {
        "colab": {
          "base_uri": "https://localhost:8080/"
        },
        "id": "N9JiUX1I_dqK",
        "outputId": "e95b5dd5-0338-4663-d647-9b855ea5d07a"
      },
      "source": [
        "# calcluating cosine similarities: (trying a subset of the data first to prevent the session from crashing)\n",
        "cosine_similarities = cosine_similarity(tfidf_matrix[1:1500], tfidf_matrix[1:1500]) \n",
        "\n",
        "print(cosine_similarities)"
      ],
      "execution_count": null,
      "outputs": [
        {
          "output_type": "stream",
          "text": [
            "[[1. 1. 0. ... 0. 0. 0.]\n",
            " [1. 1. 0. ... 0. 0. 0.]\n",
            " [0. 0. 1. ... 0. 0. 0.]\n",
            " ...\n",
            " [0. 0. 0. ... 1. 1. 1.]\n",
            " [0. 0. 0. ... 1. 1. 1.]\n",
            " [0. 0. 0. ... 1. 1. 1.]]\n"
          ],
          "name": "stdout"
        }
      ]
    },
    {
      "cell_type": "code",
      "metadata": {
        "colab": {
          "base_uri": "https://localhost:8080/"
        },
        "id": "kZPNQngDSwsl",
        "outputId": "0d0a1964-fe54-4075-83ff-10c7f7ba8969"
      },
      "source": [
        "cosine_similarities.shape"
      ],
      "execution_count": null,
      "outputs": [
        {
          "output_type": "execute_result",
          "data": {
            "text/plain": [
              "(1499, 1499)"
            ]
          },
          "metadata": {
            "tags": []
          },
          "execution_count": 31
        }
      ]
    },
    {
      "cell_type": "code",
      "metadata": {
        "id": "j1Otu_nPGkzb"
      },
      "source": [
        "# creating a series of titles, so that the series index can match the row and column index of the similarity matrix\n",
        "##indices = pd.Series(df_combined.index)\n",
        "indices = pd.Series(df_combined[\"title\"])"
      ],
      "execution_count": null,
      "outputs": []
    },
    {
      "cell_type": "markdown",
      "metadata": {
        "id": "xdoZlwJhTimx"
      },
      "source": [
        "# (3) Making a recommendation"
      ]
    },
    {
      "cell_type": "markdown",
      "metadata": {
        "id": "3CLZT7fRQCWN"
      },
      "source": [
        "**Idea**: include main topics/subtopics in the recommendation function  \n",
        "**final model number 1**: combine item-item recommender (title, author) with kNN clustering of transaction data"
      ]
    },
    {
      "cell_type": "code",
      "metadata": {
        "id": "wtfgYGS4Dc5s"
      },
      "source": [
        "#  defining the function that takes in a book title as an input and returns the top 5 recommended similar books\n",
        "# This function will match the input book title with the corresponding index of the Similarity Matrix and extract the row of similarity values in descending order\n",
        "\n",
        "def recommendations(title, cosine_sim = cosine_similarities):\n",
        "    \n",
        "    recommendations = [] # initializing the empty list of recommended books\n",
        "\n",
        "    # gettin the index of the book that matches the title\n",
        "    idx = indices[indices == title].index[0]\n",
        "\n",
        "    ##if title not in idx:\n",
        "    ##    raise KeyError(\"title is not in indices\")\n",
        "\n",
        "    # creating a Series with the similarity scores in descending order\n",
        "    score_series = pd.Series(cosine_sim[idx]).sort_values(ascending = False)\n",
        "\n",
        "    # getting the indices of the 10 most similar movies\n",
        "    top_5_indices = list(score_series.iloc[1:6].index)\n",
        "\n",
        "    # populating the list with the titles of the best 10 matching movies\n",
        "    for i in top_5_indices:\n",
        "        recommendations.append(list(items_df[\"title\"])[i])\n",
        "\n",
        "    return recommendations\n"
      ],
      "execution_count": null,
      "outputs": []
    },
    {
      "cell_type": "code",
      "metadata": {
        "colab": {
          "base_uri": "https://localhost:8080/"
        },
        "id": "JneJvcXmD0hP",
        "outputId": "7600afe5-7205-4543-f49e-f8b05e705a17"
      },
      "source": [
        "# calling the recommendation function \n",
        "recommendations(title = \"Red Queen 1\", cosine_sim=cosine_similarities)"
      ],
      "execution_count": null,
      "outputs": [
        {
          "output_type": "execute_result",
          "data": {
            "text/plain": [
              "['Fae - The Sins of the Wyrde',\n",
              " 'Fall; or, Dodge in Hell',\n",
              " 'Gregs Filmtagebuch - Endlich berühmt!',\n",
              " 'Meine Kindergarten-Freunde (Dinosaurier)',\n",
              " 'Mein erstes Einhorn-Bastelbuch']"
            ]
          },
          "metadata": {
            "tags": []
          },
          "execution_count": 38
        }
      ]
    },
    {
      "cell_type": "markdown",
      "metadata": {
        "id": "X7O5pYO9IoLe"
      },
      "source": [
        "Backtest"
      ]
    },
    {
      "cell_type": "code",
      "metadata": {
        "colab": {
          "base_uri": "https://localhost:8080/",
          "height": 206
        },
        "id": "2fJWvvBeIpSy",
        "outputId": "7137e319-e61b-426e-9b9b-344139db0674"
      },
      "source": [
        "items_df.head()"
      ],
      "execution_count": null,
      "outputs": [
        {
          "output_type": "execute_result",
          "data": {
            "text/html": [
              "<div>\n",
              "<style scoped>\n",
              "    .dataframe tbody tr th:only-of-type {\n",
              "        vertical-align: middle;\n",
              "    }\n",
              "\n",
              "    .dataframe tbody tr th {\n",
              "        vertical-align: top;\n",
              "    }\n",
              "\n",
              "    .dataframe thead th {\n",
              "        text-align: right;\n",
              "    }\n",
              "</style>\n",
              "<table border=\"1\" class=\"dataframe\">\n",
              "  <thead>\n",
              "    <tr style=\"text-align: right;\">\n",
              "      <th></th>\n",
              "      <th>itemID</th>\n",
              "      <th>title</th>\n",
              "      <th>author</th>\n",
              "      <th>publisher</th>\n",
              "      <th>main topic</th>\n",
              "      <th>subtopics</th>\n",
              "      <th>keywords</th>\n",
              "    </tr>\n",
              "  </thead>\n",
              "  <tbody>\n",
              "    <tr>\n",
              "      <th>0</th>\n",
              "      <td>21310</td>\n",
              "      <td>Princess Poppy: The Big Mix Up</td>\n",
              "      <td>Janey Louise Jones</td>\n",
              "      <td>Penguin Random House Children's UK</td>\n",
              "      <td>YFB</td>\n",
              "      <td>[5AH]</td>\n",
              "      <td>[princess, poppy, big, mix]</td>\n",
              "    </tr>\n",
              "    <tr>\n",
              "      <th>1</th>\n",
              "      <td>73018</td>\n",
              "      <td>Einfach zeichnen! Step by Step</td>\n",
              "      <td>Wiebke Krabbe</td>\n",
              "      <td>Schwager und Steinlein</td>\n",
              "      <td>AGZ</td>\n",
              "      <td>[5AJ,AGZ,WFA,YBG,YBL,YNA,YPA]</td>\n",
              "      <td>[step, einfach, zeichnen]</td>\n",
              "    </tr>\n",
              "    <tr>\n",
              "      <th>2</th>\n",
              "      <td>19194</td>\n",
              "      <td>Red Queen 1</td>\n",
              "      <td>Victoria Aveyard</td>\n",
              "      <td>Orion Publishing Group</td>\n",
              "      <td>YFH</td>\n",
              "      <td>[5AP,FBA]</td>\n",
              "      <td>[red, queen, 1]</td>\n",
              "    </tr>\n",
              "    <tr>\n",
              "      <th>3</th>\n",
              "      <td>40250</td>\n",
              "      <td>Meine Kindergarten-Freunde (Pirat)</td>\n",
              "      <td>NaN</td>\n",
              "      <td>Ars Edition GmbH</td>\n",
              "      <td>YB</td>\n",
              "      <td>[5AC,5AD,YBG,YBL,YF]</td>\n",
              "      <td>[meine, kindergarten, pirat, freunde]</td>\n",
              "    </tr>\n",
              "    <tr>\n",
              "      <th>4</th>\n",
              "      <td>46107</td>\n",
              "      <td>Mein großes Schablonen-Buch - Wilde Tiere</td>\n",
              "      <td>Elizabeth Golding</td>\n",
              "      <td>Edition Michael Fischer</td>\n",
              "      <td>WFTM</td>\n",
              "      <td>[WD,WFTM,YBG,YBL,YBLD,YBLN1]</td>\n",
              "      <td>[mein, großes, schablonen, buch, wilde, tiere]</td>\n",
              "    </tr>\n",
              "  </tbody>\n",
              "</table>\n",
              "</div>"
            ],
            "text/plain": [
              "   itemID  ...                                        keywords\n",
              "0   21310  ...                     [princess, poppy, big, mix]\n",
              "1   73018  ...                       [step, einfach, zeichnen]\n",
              "2   19194  ...                                 [red, queen, 1]\n",
              "3   40250  ...           [meine, kindergarten, pirat, freunde]\n",
              "4   46107  ...  [mein, großes, schablonen, buch, wilde, tiere]\n",
              "\n",
              "[5 rows x 7 columns]"
            ]
          },
          "metadata": {
            "tags": []
          },
          "execution_count": 50
        }
      ]
    },
    {
      "cell_type": "code",
      "metadata": {
        "colab": {
          "base_uri": "https://localhost:8080/"
        },
        "id": "8nMiowatIvZ2",
        "outputId": "b5eb7964-ffe8-4be2-8959-d54eee86418f"
      },
      "source": [
        "# double check: printing the keywords of the book with the title \"Astrid Lindgren\"\n",
        "items_df[\"keywords\"].loc[items_df[\"title\"]==\"Astrid Lindgren\"]"
      ],
      "execution_count": null,
      "outputs": [
        {
          "output_type": "execute_result",
          "data": {
            "text/plain": [
              "75    [astrid, lindgren]\n",
              "Name: keywords, dtype: object"
            ]
          },
          "metadata": {
            "tags": []
          },
          "execution_count": 57
        }
      ]
    },
    {
      "cell_type": "markdown",
      "metadata": {
        "id": "3RzXUMKhFPnu"
      },
      "source": [
        "# K-NN based item-item recommendation"
      ]
    },
    {
      "cell_type": "markdown",
      "metadata": {
        "id": "3QI8YYgDZMF-"
      },
      "source": [
        "Idea: filtering out sessions with more than 1 item\n",
        "```\n",
        "# Create column containing the number of items per session\n",
        "df_combined['session_count'] = df_combined.groupby('sessionID')['itemID'].transform('count')\n",
        "\n",
        "# creating a column with session ids for which there is more than 1 item per session\n",
        "##df_combined[\"mult_item_session\"] = df_combined[ifelse(df_combined[\"session_count\"] > 1][\"sessionID\"]\n",
        "\n",
        "\n",
        "df_combined[\"\"]df_combined[\"mult_item_session\"].dropna()\n",
        "\n",
        "\n",
        "# This is formatted as code\n",
        "```\n",
        "\n",
        "\n"
      ]
    },
    {
      "cell_type": "markdown",
      "metadata": {
        "id": "jHAkh2joFlzf"
      },
      "source": [
        "https://github.com/topspinj/recommender-tutorial/blob/master/part-1-item-item-recommender.ipynb"
      ]
    },
    {
      "cell_type": "markdown",
      "metadata": {
        "id": "RjUKNfAUIDYT"
      },
      "source": [
        "\n",
        "\n",
        "The create_X() function outputs a sparse matrix X with four mapper dictionaries:\n",
        "\n",
        "    user_mapper: maps user id to user index\n",
        "    movie_mapper: maps movie id to movie index\n",
        "    user_inv_mapper: maps user index to user id\n",
        "    movie_inv_mapper: maps movie index to movie id\n",
        "\n",
        "We need these dictionaries because they map which row and column of the utility matrix corresponds to which user ID and movie ID, respectively.\n",
        "\n",
        "The X (user-item) matrix is a scipy.sparse.csr_matrix which stores the data sparsely.\n"
      ]
    },
    {
      "cell_type": "code",
      "metadata": {
        "id": "Zu55F9IMH8eH"
      },
      "source": [
        "# Idea:\n",
        "# movie id = itemID\n",
        "# user id  = sessionID\n",
        "# use click or order as implicit feedback (equivalent to ratings in a CF recommender)\n",
        "\n",
        "from scipy.sparse import csr_matrix\n",
        "\n",
        "def create_X(df):\n",
        "    \"\"\"\n",
        "    Generates a sparse matrix from ratings dataframe.\n",
        "    \n",
        "    Args:\n",
        "        df: pandas dataframe\n",
        "    \n",
        "    Returns:\n",
        "        X: sparse matrix\n",
        "        user_mapper: dict that maps user id's to user indices\n",
        "        user_inv_mapper: dict that maps user indices to user id's\n",
        "        movie_mapper: dict that maps movie id's to movie indices\n",
        "        movie_inv_mapper: dict that maps movie indices to movie id's\n",
        "    \"\"\"\n",
        "    N = df_combined['sessionID'].nunique()\n",
        "    M = df_combined['itemID'].nunique()\n",
        "\n",
        "    user_mapper = dict(zip(np.unique(df_combined['sessionID']), list(range(N))))\n",
        "    book_mapper = dict(zip(np.unique(df_combined['itemID']), list(range(M))))\n",
        "    \n",
        "    user_inv_mapper = dict(zip(list(range(N)), np.unique(df_combined['sessionID'])))\n",
        "    book_inv_mapper = dict(zip(list(range(M)), np.unique(df_combined['itemID'])))\n",
        "    \n",
        "    user_index = [user_mapper[i] for i in df_combined['sessionID']]\n",
        "    book_index = [book_mapper[i] for i in df_combined['itemID']]\n",
        "\n",
        "    X = csr_matrix((df_combined[\"click\"], (book_index, user_index)), shape=(M, N)) #data to be used for the KNN model\n",
        "    \n",
        "    return X, user_mapper, book_mapper, user_inv_mapper, book_inv_mapper"
      ],
      "execution_count": null,
      "outputs": []
    },
    {
      "cell_type": "code",
      "metadata": {
        "colab": {
          "base_uri": "https://localhost:8080/",
          "height": 258
        },
        "id": "N7OfI1U4blaI",
        "outputId": "5698f051-e0f8-4632-c7b7-a2efbba4f949"
      },
      "source": [
        "items_df.head()"
      ],
      "execution_count": null,
      "outputs": [
        {
          "output_type": "execute_result",
          "data": {
            "text/html": [
              "<div>\n",
              "<style scoped>\n",
              "    .dataframe tbody tr th:only-of-type {\n",
              "        vertical-align: middle;\n",
              "    }\n",
              "\n",
              "    .dataframe tbody tr th {\n",
              "        vertical-align: top;\n",
              "    }\n",
              "\n",
              "    .dataframe thead th {\n",
              "        text-align: right;\n",
              "    }\n",
              "</style>\n",
              "<table border=\"1\" class=\"dataframe\">\n",
              "  <thead>\n",
              "    <tr style=\"text-align: right;\">\n",
              "      <th></th>\n",
              "      <th>itemID</th>\n",
              "      <th>title</th>\n",
              "      <th>author</th>\n",
              "      <th>publisher</th>\n",
              "      <th>main topic</th>\n",
              "      <th>subtopics</th>\n",
              "    </tr>\n",
              "  </thead>\n",
              "  <tbody>\n",
              "    <tr>\n",
              "      <th>0</th>\n",
              "      <td>21310</td>\n",
              "      <td>Princess Poppy: The Big Mix Up</td>\n",
              "      <td>Janey Louise Jones</td>\n",
              "      <td>Penguin Random House Children's UK</td>\n",
              "      <td>YFB</td>\n",
              "      <td>[5AH]</td>\n",
              "    </tr>\n",
              "    <tr>\n",
              "      <th>1</th>\n",
              "      <td>73018</td>\n",
              "      <td>Einfach zeichnen! Step by Step</td>\n",
              "      <td>Wiebke Krabbe</td>\n",
              "      <td>Schwager und Steinlein</td>\n",
              "      <td>AGZ</td>\n",
              "      <td>[5AJ,AGZ,WFA,YBG,YBL,YNA,YPA]</td>\n",
              "    </tr>\n",
              "    <tr>\n",
              "      <th>2</th>\n",
              "      <td>19194</td>\n",
              "      <td>Red Queen 1</td>\n",
              "      <td>Victoria Aveyard</td>\n",
              "      <td>Orion Publishing Group</td>\n",
              "      <td>YFH</td>\n",
              "      <td>[5AP,FBA]</td>\n",
              "    </tr>\n",
              "    <tr>\n",
              "      <th>3</th>\n",
              "      <td>40250</td>\n",
              "      <td>Meine Kindergarten-Freunde (Pirat)</td>\n",
              "      <td>NaN</td>\n",
              "      <td>Ars Edition GmbH</td>\n",
              "      <td>YB</td>\n",
              "      <td>[5AC,5AD,YBG,YBL,YF]</td>\n",
              "    </tr>\n",
              "    <tr>\n",
              "      <th>4</th>\n",
              "      <td>46107</td>\n",
              "      <td>Mein großes Schablonen-Buch - Wilde Tiere</td>\n",
              "      <td>Elizabeth Golding</td>\n",
              "      <td>Edition Michael Fischer</td>\n",
              "      <td>WFTM</td>\n",
              "      <td>[WD,WFTM,YBG,YBL,YBLD,YBLN1]</td>\n",
              "    </tr>\n",
              "  </tbody>\n",
              "</table>\n",
              "</div>"
            ],
            "text/plain": [
              "   itemID  ...                      subtopics\n",
              "0   21310  ...                          [5AH]\n",
              "1   73018  ...  [5AJ,AGZ,WFA,YBG,YBL,YNA,YPA]\n",
              "2   19194  ...                      [5AP,FBA]\n",
              "3   40250  ...           [5AC,5AD,YBG,YBL,YF]\n",
              "4   46107  ...   [WD,WFTM,YBG,YBL,YBLD,YBLN1]\n",
              "\n",
              "[5 rows x 6 columns]"
            ]
          },
          "metadata": {
            "tags": []
          },
          "execution_count": 12
        }
      ]
    },
    {
      "cell_type": "code",
      "metadata": {
        "id": "Boc8tdKgIoBD"
      },
      "source": [
        "X, user_mapper, book_mapper, user_inv_mapper, book_inv_mapper = create_X(df_combined)"
      ],
      "execution_count": null,
      "outputs": []
    },
    {
      "cell_type": "code",
      "metadata": {
        "colab": {
          "base_uri": "https://localhost:8080/"
        },
        "id": "0o99dkNSL-0F",
        "outputId": "c6972681-45de-43b6-f312-39b861f7babe"
      },
      "source": [
        "print(X)"
      ],
      "execution_count": null,
      "outputs": [
        {
          "output_type": "stream",
          "text": [
            "  (0, 7513)\t1\n",
            "  (0, 207411)\t1\n",
            "  (1, 1767)\t1\n",
            "  (1, 51239)\t5\n",
            "  (1, 56349)\t1\n",
            "  (1, 104271)\t6\n",
            "  (1, 126197)\t1\n",
            "  (1, 134470)\t1\n",
            "  (1, 142703)\t1\n",
            "  (1, 160706)\t1\n",
            "  (2, 30167)\t1\n",
            "  (2, 48732)\t1\n",
            "  (2, 71006)\t1\n",
            "  (2, 111982)\t1\n",
            "  (2, 176435)\t1\n",
            "  (2, 179604)\t4\n",
            "  (2, 203482)\t1\n",
            "  (2, 207065)\t1\n",
            "  (3, 22430)\t1\n",
            "  (3, 35159)\t1\n",
            "  (3, 102727)\t1\n",
            "  (4, 65632)\t1\n",
            "  (4, 79253)\t1\n",
            "  (4, 104981)\t1\n",
            "  (4, 111387)\t1\n",
            "  :\t:\n",
            "  (24905, 84929)\t1\n",
            "  (24905, 169227)\t1\n",
            "  (24905, 261402)\t1\n",
            "  (24905, 269352)\t1\n",
            "  (24906, 48713)\t1\n",
            "  (24907, 18599)\t0\n",
            "  (24907, 46178)\t1\n",
            "  (24907, 67923)\t2\n",
            "  (24907, 123127)\t1\n",
            "  (24907, 129521)\t2\n",
            "  (24907, 139518)\t1\n",
            "  (24907, 139934)\t1\n",
            "  (24907, 151267)\t1\n",
            "  (24907, 162298)\t1\n",
            "  (24907, 164637)\t1\n",
            "  (24907, 192226)\t1\n",
            "  (24907, 196006)\t1\n",
            "  (24907, 209951)\t2\n",
            "  (24908, 58069)\t1\n",
            "  (24908, 137244)\t1\n",
            "  (24908, 142784)\t1\n",
            "  (24908, 166946)\t1\n",
            "  (24908, 210817)\t0\n",
            "  (24908, 251444)\t1\n",
            "  (24908, 266675)\t1\n"
          ],
          "name": "stdout"
        }
      ]
    },
    {
      "cell_type": "code",
      "metadata": {
        "id": "U1d-EAZ-MuUW"
      },
      "source": [
        "from sklearn.neighbors import NearestNeighbors"
      ],
      "execution_count": null,
      "outputs": []
    },
    {
      "cell_type": "code",
      "metadata": {
        "id": "I89wCIZ-Fjbq"
      },
      "source": [
        "# k-nearest neighbors using cosine as a similarity measure\n",
        "\n",
        "\n",
        "book_id = df_combined[\"itemID\"]\n",
        "\n",
        "\n",
        "def find_similar_books(movie_id, X, k, metric='cosine', show_distance=False):\n",
        "    \"\"\"\n",
        "    Finds k-nearest neighbours for a given movie id.\n",
        "    \n",
        "    Args:\n",
        "        movie_id: id of the movie of interest\n",
        "        X: user-item utility matrix\n",
        "        k: number of similar movies to retrieve\n",
        "        metric: distance metric for kNN calculations\n",
        "    \n",
        "    Returns:\n",
        "        list of k similar movie ID's\n",
        "    \"\"\"\n",
        "    neighbour_ids = []\n",
        "    \n",
        "    book_ind = book_mapper[book_id]\n",
        "    book_vec = X[book_ind]\n",
        "    k+=1\n",
        "    kNN = NearestNeighbors(n_neighbors=k, algorithm=\"brute\", metric=metric, n_jobs=-1)\n",
        "    kNN.fit(X)\n",
        "    if isinstance(book_vec, (np.ndarray)):\n",
        "        book_vec = book_vec.reshape(1,-1)\n",
        "    neighbour = kNN.kneighbors(book_vec, return_distance=show_distance)\n",
        "    for i in range(0,k):\n",
        "        n = neighbour.item(i)\n",
        "        neighbour_ids.append(book_inv_mapper[n])\n",
        "    neighbour_ids.pop(0)\n",
        "    return neighbour_ids"
      ],
      "execution_count": null,
      "outputs": []
    },
    {
      "cell_type": "code",
      "metadata": {
        "colab": {
          "base_uri": "https://localhost:8080/"
        },
        "id": "kSWlha63GNzF",
        "outputId": "f0117e38-c0d1-4511-8f7b-d21122f3d2ab"
      },
      "source": [
        "book_titles = dict(zip(df_combined['itemID'], df_combined[\"title\"]))\n",
        "\n",
        "book_id = 73018\n",
        "\n",
        "similar_ids = find_similar_books(book_id, X, k=5) # use k-NN to get the top 5 (k=5) similar items\n",
        "book_title = book_titles[book_id]\n",
        "\n",
        "print(f\"Recommendations for {book_title}:\")\n",
        "for i in similar_ids:\n",
        "    print(book_titles[i])\n",
        "\n"
      ],
      "execution_count": null,
      "outputs": [
        {
          "output_type": "stream",
          "text": [
            "Recommendations for Einfach zeichnen! Step by Step:\n",
            "Chibi zeichnen lernen\n",
            "Zeichnen mit Jill\n",
            "Zeichnen lernen: Linien Formen Buchstaben: Kinder Aktivitätenheft: Ab 3 Jahren: Ein Aktivitätenheft \n",
            "Und plötzlich war Frau Honig da\n",
            "Zeichnen mit Schablonen - Pferde\n"
          ],
          "name": "stdout"
        }
      ]
    },
    {
      "cell_type": "code",
      "metadata": {
        "colab": {
          "base_uri": "https://localhost:8080/"
        },
        "id": "8jsq-oGnLZm1",
        "outputId": "671f204b-99a4-4963-cd3c-7cf27b7a78e3"
      },
      "source": [
        "movie_id"
      ],
      "execution_count": null,
      "outputs": [
        {
          "output_type": "execute_result",
          "data": {
            "text/plain": [
              "1"
            ]
          },
          "metadata": {
            "tags": []
          },
          "execution_count": 37
        }
      ]
    },
    {
      "cell_type": "code",
      "metadata": {
        "colab": {
          "base_uri": "https://localhost:8080/",
          "height": 164
        },
        "id": "mBQXMd3jOGF2",
        "outputId": "10c994ce-dd30-46bf-c6ec-a241dd8c32eb"
      },
      "source": [
        "df_combined[df_combined[\"itemID\"] == 1]"
      ],
      "execution_count": null,
      "outputs": [
        {
          "output_type": "execute_result",
          "data": {
            "text/html": [
              "<div>\n",
              "<style scoped>\n",
              "    .dataframe tbody tr th:only-of-type {\n",
              "        vertical-align: middle;\n",
              "    }\n",
              "\n",
              "    .dataframe tbody tr th {\n",
              "        vertical-align: top;\n",
              "    }\n",
              "\n",
              "    .dataframe thead th {\n",
              "        text-align: right;\n",
              "    }\n",
              "</style>\n",
              "<table border=\"1\" class=\"dataframe\">\n",
              "  <thead>\n",
              "    <tr style=\"text-align: right;\">\n",
              "      <th></th>\n",
              "      <th>itemID</th>\n",
              "      <th>title</th>\n",
              "      <th>author</th>\n",
              "      <th>publisher</th>\n",
              "      <th>main topic</th>\n",
              "      <th>subtopics</th>\n",
              "      <th>sessionID</th>\n",
              "      <th>click</th>\n",
              "      <th>basket</th>\n",
              "      <th>order</th>\n",
              "    </tr>\n",
              "  </thead>\n",
              "  <tbody>\n",
              "    <tr>\n",
              "      <th>260801</th>\n",
              "      <td>1</td>\n",
              "      <td>Kinderklassiker-Soundbuch - Don Quichotte</td>\n",
              "      <td>Miguel de Cervantes Saavedra</td>\n",
              "      <td>Yo Yo Books</td>\n",
              "      <td>YBC</td>\n",
              "      <td>[]</td>\n",
              "      <td>7743</td>\n",
              "      <td>1</td>\n",
              "      <td>0</td>\n",
              "      <td>0</td>\n",
              "    </tr>\n",
              "    <tr>\n",
              "      <th>260802</th>\n",
              "      <td>1</td>\n",
              "      <td>Kinderklassiker-Soundbuch - Don Quichotte</td>\n",
              "      <td>Miguel de Cervantes Saavedra</td>\n",
              "      <td>Yo Yo Books</td>\n",
              "      <td>YBC</td>\n",
              "      <td>[]</td>\n",
              "      <td>212997</td>\n",
              "      <td>1</td>\n",
              "      <td>0</td>\n",
              "      <td>0</td>\n",
              "    </tr>\n",
              "  </tbody>\n",
              "</table>\n",
              "</div>"
            ],
            "text/plain": [
              "        itemID                                      title  ... basket order\n",
              "260801       1  Kinderklassiker-Soundbuch - Don Quichotte  ...      0     0\n",
              "260802       1  Kinderklassiker-Soundbuch - Don Quichotte  ...      0     0\n",
              "\n",
              "[2 rows x 10 columns]"
            ]
          },
          "metadata": {
            "tags": []
          },
          "execution_count": 46
        }
      ]
    },
    {
      "cell_type": "markdown",
      "metadata": {
        "id": "m_iVDga0zbY_"
      },
      "source": [
        "# Word Embedding Recommender"
      ]
    },
    {
      "cell_type": "markdown",
      "metadata": {
        "id": "lakzT5S-zkr6"
      },
      "source": [
        "https://www.kdnuggets.com/2020/08/content-based-recommendation-system-word-embeddings.html"
      ]
    },
    {
      "cell_type": "markdown",
      "metadata": {
        "id": "dzKokd9-1Sdm"
      },
      "source": [
        "Word embedding features create a dense, low dimensional feature whereas TF-IDF creates a sparse, high dimensional feature. It also captures the semantic meaning very well.\n",
        "\n",
        "One of the significant breakthroughs is word2vec embeddings which were introduced in 2013 by Google. Using embeddings word2vec outperforms TF-IDF in many ways. Another turning point in NLP was the Transformer network introduced in 2017. Followed by multiple research, BERT (Bidirectional Encoder Representations from Transformers) and many others were introduced which are considered state of art algorithms in NLP."
      ]
    },
    {
      "cell_type": "markdown",
      "metadata": {
        "id": "c2GlhHAsAvzf"
      },
      "source": [
        "Bidirectional Encoder Representations from Transformers (BERT) is a Transformer-based machine learning technique for natural language processing (NLP) pre-training developed by Google. BERT was created and published in 2018 by Jacob Devlin and his colleagues from Google"
      ]
    },
    {
      "cell_type": "markdown",
      "metadata": {
        "id": "gThZyAdd21qO"
      },
      "source": [
        "Differences between Word2Vec and BERT:  \n",
        "https://medium.com/swlh/differences-between-word2vec-and-bert-c08a3326b5d1\n",
        "\n",
        "- **Context:** Word2Vec creates one vector for each word which contains different meanings of each word (context independent) vs BERT creates multiple vectors for the same word based on the context in which the word is used (context dependent)\n",
        "\n",
        "- **Word Ordering:** Word2Vec embeddings do not take into account the word position whereas BERT takes into account a word's position (index) before calculating an embedding\n",
        "\n",
        "- **Embedding Input/Output:** Word2Vec embeddings can be used from a pre-trained model (model is not required but only the embeddings); the model takes a single word as an input and outputs a vector whereas the BERT model takes a sentence as an input to account for the context provided by the surrounding words and outputs a fixed-length vector for the entire input sentence\n",
        "\n",
        "- **Out of Vocabulary:** Word2Vec learns embeddings at the word level (e.g. corpus of 1 mio unique words - 1 mio word embeddings; Word2Vec can't account for words outside of the vocabulary space whereas BERT is trained on the \"subword\" level (between character and word level) and provides support for out of vocabulary words"
      ]
    },
    {
      "cell_type": "code",
      "metadata": {
        "id": "g4uvyWtPznvf",
        "colab": {
          "base_uri": "https://localhost:8080/"
        },
        "outputId": "608e39ee-1355-48a0-f0fb-7c8e474747d2"
      },
      "source": [
        "# Importing necessary libraries\n",
        "import nltk\n",
        "nltk.download('stopwords')\n",
        "from nltk.corpus import stopwords\n",
        "from sklearn.metrics.pairwise import linear_kernel\n",
        "from sklearn.feature_extraction.text import CountVectorizer\n",
        "from sklearn.feature_extraction.text import TfidfVectorizer\n",
        "from nltk.tokenize import RegexpTokenizer\n",
        "import re\n",
        "import string\n",
        "import random\n",
        "from PIL import Image\n",
        "import requests\n",
        "from io import BytesIO\n",
        "from sklearn.metrics.pairwise import cosine_similarity\n",
        "from gensim.models import Word2Vec\n",
        "from gensim.models.phrases import Phrases, Phraser\n",
        "from gensim.models import KeyedVectors"
      ],
      "execution_count": 6,
      "outputs": [
        {
          "output_type": "stream",
          "text": [
            "[nltk_data] Downloading package stopwords to /root/nltk_data...\n",
            "[nltk_data]   Package stopwords is already up-to-date!\n"
          ],
          "name": "stdout"
        }
      ]
    },
    {
      "cell_type": "code",
      "metadata": {
        "id": "tPEcys5x0sAM"
      },
      "source": [
        "# cleaning the titles\n",
        "\n",
        "# Utitlity functions for removing ASCII characters, converting lower case, removing stop words, html and punctuation from description\n",
        "\n",
        "def _removeNonAscii(s):\n",
        "    return \"\".join(i for i in s if  ord(i)<128)\n",
        "\n",
        "def make_lower_case(text):\n",
        "    return text.lower()\n",
        "\n",
        "def remove_stop_words(text):\n",
        "    text = text.split()\n",
        "    stops = set(stopwords.words(\"english\"))\n",
        "    text = [w for w in text if not w in stops]\n",
        "    text = \" \".join(text)\n",
        "    return text\n",
        "\n",
        "def remove_html(text):\n",
        "    html_pattern = re.compile('<.*?>')\n",
        "    return html_pattern.sub(r'', text)\n",
        "\n",
        "def remove_punctuation(text):\n",
        "    tokenizer = RegexpTokenizer(r'\\w+')\n",
        "    text = tokenizer.tokenize(text)\n",
        "    text = \" \".join(text)\n",
        "    return text\n",
        "\n",
        "items_df['title_cleaned'] = items_df['title'].apply(_removeNonAscii) # creating a new cleaned title column\n",
        "\n",
        "items_df['title_cleaned'] = items_df.title_cleaned.apply(func = make_lower_case)\n",
        "items_df['title_cleaned'] = items_df.title_cleaned.apply(func = remove_stop_words)\n",
        "items_df['title_cleaned'] = items_df.title_cleaned.apply(func=remove_punctuation)\n",
        "items_df['title_cleaned'] = items_df.title_cleaned.apply(func=remove_html)"
      ],
      "execution_count": 7,
      "outputs": []
    },
    {
      "cell_type": "code",
      "metadata": {
        "colab": {
          "base_uri": "https://localhost:8080/"
        },
        "id": "Yp1wVwy90sK7",
        "outputId": "34e00ede-47a9-40a8-f4de-e38105f6134f"
      },
      "source": [
        "# check\n",
        "items_df[\"title_cleaned\"].head()"
      ],
      "execution_count": 8,
      "outputs": [
        {
          "output_type": "execute_result",
          "data": {
            "text/plain": [
              "0                    princess poppy big mix\n",
              "1                einfach zeichnen step step\n",
              "2                               red queen 1\n",
              "3          meine kindergarten freunde pirat\n",
              "4    mein groes schablonen buch wilde tiere\n",
              "Name: title_cleaned, dtype: object"
            ]
          },
          "metadata": {
            "tags": []
          },
          "execution_count": 8
        }
      ]
    },
    {
      "cell_type": "code",
      "metadata": {
        "id": "AIpoAPak3ycs"
      },
      "source": [
        "# splitting the title into single words and storing them in a list\n",
        "# in linguistics and NLP \"corpus\" refers to a collection of texts\n",
        "\n",
        "corpus = []\n",
        "for words in items_df['title_cleaned']:\n",
        "    corpus.append(words.split())"
      ],
      "execution_count": 9,
      "outputs": []
    },
    {
      "cell_type": "code",
      "metadata": {
        "colab": {
          "base_uri": "https://localhost:8080/"
        },
        "id": "JUatZnwC4Hgi",
        "outputId": "5646d2d6-965d-4e93-94b3-3d5ddb9c5afc"
      },
      "source": [
        "len(corpus) # length of the corpus list"
      ],
      "execution_count": 10,
      "outputs": [
        {
          "output_type": "execute_result",
          "data": {
            "text/plain": [
              "78030"
            ]
          },
          "metadata": {
            "tags": []
          },
          "execution_count": 10
        }
      ]
    },
    {
      "cell_type": "markdown",
      "metadata": {
        "id": "m9aCPsi94oOi"
      },
      "source": [
        "Google pretrained Word2Vec model"
      ]
    },
    {
      "cell_type": "markdown",
      "metadata": {
        "id": "0TZrGQoeeAzz"
      },
      "source": [
        "API of Word2Vec:  \n",
        "https://radimrehurek.com/gensim/models/word2vec.html"
      ]
    },
    {
      "cell_type": "code",
      "metadata": {
        "colab": {
          "base_uri": "https://localhost:8080/",
          "height": 416
        },
        "id": "XLNhH-FM4iDP",
        "outputId": "0ab75444-157c-4be2-8d96-5030aac9db9a"
      },
      "source": [
        "# Downloading the Google pretrained Word2Vec Model\n",
        "!wget -P /root/input/ -c \"https://s3.amazonaws.com/dl4j-distribution/GoogleNews-vectors-negative300.bin.gz\"\n",
        "\n",
        "EMBEDDING_FILE = '/root/input/GoogleNews-vectors-negative300.bin.gz'\n",
        "google_word2vec = KeyedVectors.load_word2vec_format(EMBEDDING_FILE, binary=True)\n",
        "\n",
        "# Training our corpus using the Google Pretrained Model\n",
        "\n",
        "google_model = Word2Vec(size = 300, window=5, min_count = 2, workers = -1)\n",
        "google_model.build_vocab(corpus)\n",
        "\n",
        "#model.intersect_word2vec_format('./word2vec/GoogleNews-vectors-negative300.bin', lockf=1.0, binary=True)\n",
        "\n",
        "google_model.intersect_word2vec_format(EMBEDDING_FILE, lockf=1.0, binary=True)\n",
        "\n",
        "google_model.train(corpus, total_examples=google_model.corpus_count, epochs = 5)"
      ],
      "execution_count": 14,
      "outputs": [
        {
          "output_type": "error",
          "ename": "KeyboardInterrupt",
          "evalue": "ignored",
          "traceback": [
            "\u001b[0;31m---------------------------------------------------------------------------\u001b[0m",
            "\u001b[0;31mKeyboardInterrupt\u001b[0m                         Traceback (most recent call last)",
            "\u001b[0;32m<ipython-input-14-42b22958b171>\u001b[0m in \u001b[0;36m<module>\u001b[0;34m()\u001b[0m\n\u001b[1;32m      3\u001b[0m \u001b[0;34m\u001b[0m\u001b[0m\n\u001b[1;32m      4\u001b[0m \u001b[0mEMBEDDING_FILE\u001b[0m \u001b[0;34m=\u001b[0m \u001b[0;34m'/root/input/GoogleNews-vectors-negative300.bin.gz'\u001b[0m\u001b[0;34m\u001b[0m\u001b[0;34m\u001b[0m\u001b[0m\n\u001b[0;32m----> 5\u001b[0;31m \u001b[0mgoogle_word2vec\u001b[0m \u001b[0;34m=\u001b[0m \u001b[0mKeyedVectors\u001b[0m\u001b[0;34m.\u001b[0m\u001b[0mload_word2vec_format\u001b[0m\u001b[0;34m(\u001b[0m\u001b[0mEMBEDDING_FILE\u001b[0m\u001b[0;34m,\u001b[0m \u001b[0mbinary\u001b[0m\u001b[0;34m=\u001b[0m\u001b[0;32mTrue\u001b[0m\u001b[0;34m)\u001b[0m\u001b[0;34m\u001b[0m\u001b[0;34m\u001b[0m\u001b[0m\n\u001b[0m\u001b[1;32m      6\u001b[0m \u001b[0;34m\u001b[0m\u001b[0m\n\u001b[1;32m      7\u001b[0m \u001b[0;31m# Training our corpus using the Google Pretrained Model\u001b[0m\u001b[0;34m\u001b[0m\u001b[0;34m\u001b[0m\u001b[0;34m\u001b[0m\u001b[0m\n",
            "\u001b[0;32m/usr/local/lib/python3.7/dist-packages/gensim/models/keyedvectors.py\u001b[0m in \u001b[0;36mload_word2vec_format\u001b[0;34m(cls, fname, fvocab, binary, encoding, unicode_errors, limit, datatype)\u001b[0m\n\u001b[1;32m   1436\u001b[0m         return _load_word2vec_format(\n\u001b[1;32m   1437\u001b[0m             \u001b[0mcls\u001b[0m\u001b[0;34m,\u001b[0m \u001b[0mfname\u001b[0m\u001b[0;34m,\u001b[0m \u001b[0mfvocab\u001b[0m\u001b[0;34m=\u001b[0m\u001b[0mfvocab\u001b[0m\u001b[0;34m,\u001b[0m \u001b[0mbinary\u001b[0m\u001b[0;34m=\u001b[0m\u001b[0mbinary\u001b[0m\u001b[0;34m,\u001b[0m \u001b[0mencoding\u001b[0m\u001b[0;34m=\u001b[0m\u001b[0mencoding\u001b[0m\u001b[0;34m,\u001b[0m \u001b[0municode_errors\u001b[0m\u001b[0;34m=\u001b[0m\u001b[0municode_errors\u001b[0m\u001b[0;34m,\u001b[0m\u001b[0;34m\u001b[0m\u001b[0;34m\u001b[0m\u001b[0m\n\u001b[0;32m-> 1438\u001b[0;31m             limit=limit, datatype=datatype)\n\u001b[0m\u001b[1;32m   1439\u001b[0m \u001b[0;34m\u001b[0m\u001b[0m\n\u001b[1;32m   1440\u001b[0m     \u001b[0;32mdef\u001b[0m \u001b[0mget_keras_embedding\u001b[0m\u001b[0;34m(\u001b[0m\u001b[0mself\u001b[0m\u001b[0;34m,\u001b[0m \u001b[0mtrain_embeddings\u001b[0m\u001b[0;34m=\u001b[0m\u001b[0;32mFalse\u001b[0m\u001b[0;34m)\u001b[0m\u001b[0;34m:\u001b[0m\u001b[0;34m\u001b[0m\u001b[0;34m\u001b[0m\u001b[0m\n",
            "\u001b[0;32m/usr/local/lib/python3.7/dist-packages/gensim/models/utils_any2vec.py\u001b[0m in \u001b[0;36m_load_word2vec_format\u001b[0;34m(cls, fname, fvocab, binary, encoding, unicode_errors, limit, datatype)\u001b[0m\n\u001b[1;32m    210\u001b[0m                         \u001b[0mword\u001b[0m\u001b[0;34m.\u001b[0m\u001b[0mappend\u001b[0m\u001b[0;34m(\u001b[0m\u001b[0mch\u001b[0m\u001b[0;34m)\u001b[0m\u001b[0;34m\u001b[0m\u001b[0;34m\u001b[0m\u001b[0m\n\u001b[1;32m    211\u001b[0m                 \u001b[0mword\u001b[0m \u001b[0;34m=\u001b[0m \u001b[0mutils\u001b[0m\u001b[0;34m.\u001b[0m\u001b[0mto_unicode\u001b[0m\u001b[0;34m(\u001b[0m\u001b[0;34mb''\u001b[0m\u001b[0;34m.\u001b[0m\u001b[0mjoin\u001b[0m\u001b[0;34m(\u001b[0m\u001b[0mword\u001b[0m\u001b[0;34m)\u001b[0m\u001b[0;34m,\u001b[0m \u001b[0mencoding\u001b[0m\u001b[0;34m=\u001b[0m\u001b[0mencoding\u001b[0m\u001b[0;34m,\u001b[0m \u001b[0merrors\u001b[0m\u001b[0;34m=\u001b[0m\u001b[0municode_errors\u001b[0m\u001b[0;34m)\u001b[0m\u001b[0;34m\u001b[0m\u001b[0;34m\u001b[0m\u001b[0m\n\u001b[0;32m--> 212\u001b[0;31m                 \u001b[0mweights\u001b[0m \u001b[0;34m=\u001b[0m \u001b[0mfromstring\u001b[0m\u001b[0;34m(\u001b[0m\u001b[0mfin\u001b[0m\u001b[0;34m.\u001b[0m\u001b[0mread\u001b[0m\u001b[0;34m(\u001b[0m\u001b[0mbinary_len\u001b[0m\u001b[0;34m)\u001b[0m\u001b[0;34m,\u001b[0m \u001b[0mdtype\u001b[0m\u001b[0;34m=\u001b[0m\u001b[0mREAL\u001b[0m\u001b[0;34m)\u001b[0m\u001b[0;34m.\u001b[0m\u001b[0mastype\u001b[0m\u001b[0;34m(\u001b[0m\u001b[0mdatatype\u001b[0m\u001b[0;34m)\u001b[0m\u001b[0;34m\u001b[0m\u001b[0;34m\u001b[0m\u001b[0m\n\u001b[0m\u001b[1;32m    213\u001b[0m                 \u001b[0madd_word\u001b[0m\u001b[0;34m(\u001b[0m\u001b[0mword\u001b[0m\u001b[0;34m,\u001b[0m \u001b[0mweights\u001b[0m\u001b[0;34m)\u001b[0m\u001b[0;34m\u001b[0m\u001b[0;34m\u001b[0m\u001b[0m\n\u001b[1;32m    214\u001b[0m         \u001b[0;32melse\u001b[0m\u001b[0;34m:\u001b[0m\u001b[0;34m\u001b[0m\u001b[0;34m\u001b[0m\u001b[0m\n",
            "\u001b[0;31mKeyboardInterrupt\u001b[0m: "
          ]
        }
      ]
    },
    {
      "cell_type": "code",
      "metadata": {
        "id": "vW5m7LNj5eyO"
      },
      "source": [
        "# Creating a function called vectors for generating average Word2Vec embeddings \n",
        "# and storing them as a list called ‘word_embeddings’\n",
        "\n",
        "# Generate the average word2vec for the each book description\n",
        "\n",
        "def vectors(x):\n",
        "    \n",
        "    # Creating a list for storing the vectors (description into vectors)\n",
        "    global word_embeddings\n",
        "    word_embeddings = []\n",
        "\n",
        "    # Reading the each book description \n",
        "    for line in items_df['title_cleaned']:\n",
        "        avgword2vec = None\n",
        "        count = 0\n",
        "        for word in line.split():\n",
        "            if word in google_model.wv.vocab:\n",
        "                count += 1\n",
        "                if avgword2vec is None:\n",
        "                    avgword2vec = google_model[word]\n",
        "                else:\n",
        "                    avgword2vec = avgword2vec + google_model[word]\n",
        "                \n",
        "        if avgword2vec is not None:\n",
        "            avgword2vec = avgword2vec / count\n",
        "        \n",
        "            word_embeddings.append(avgword2vec)"
      ],
      "execution_count": 12,
      "outputs": []
    },
    {
      "cell_type": "code",
      "metadata": {
        "colab": {
          "base_uri": "https://localhost:8080/",
          "height": 318
        },
        "id": "F1mAzK_pXhqa",
        "outputId": "df7cae78-8d3a-43c2-9dfe-6ba92b9a8580"
      },
      "source": [
        "# calling the vectors function to generate word embeddings\n",
        "vectors(corpus)"
      ],
      "execution_count": 13,
      "outputs": [
        {
          "output_type": "error",
          "ename": "NameError",
          "evalue": "ignored",
          "traceback": [
            "\u001b[0;31m---------------------------------------------------------------------------\u001b[0m",
            "\u001b[0;31mNameError\u001b[0m                                 Traceback (most recent call last)",
            "\u001b[0;32m<ipython-input-13-b98d555f03cc>\u001b[0m in \u001b[0;36m<module>\u001b[0;34m()\u001b[0m\n\u001b[1;32m      1\u001b[0m \u001b[0;31m# calling the vectors function to generate word embeddings\u001b[0m\u001b[0;34m\u001b[0m\u001b[0;34m\u001b[0m\u001b[0;34m\u001b[0m\u001b[0m\n\u001b[0;32m----> 2\u001b[0;31m \u001b[0mvectors\u001b[0m\u001b[0;34m(\u001b[0m\u001b[0mcorpus\u001b[0m\u001b[0;34m)\u001b[0m\u001b[0;34m\u001b[0m\u001b[0;34m\u001b[0m\u001b[0m\n\u001b[0m",
            "\u001b[0;32m<ipython-input-12-d6b4fc587db7>\u001b[0m in \u001b[0;36mvectors\u001b[0;34m(x)\u001b[0m\n\u001b[1;32m     15\u001b[0m         \u001b[0mcount\u001b[0m \u001b[0;34m=\u001b[0m \u001b[0;36m0\u001b[0m\u001b[0;34m\u001b[0m\u001b[0;34m\u001b[0m\u001b[0m\n\u001b[1;32m     16\u001b[0m         \u001b[0;32mfor\u001b[0m \u001b[0mword\u001b[0m \u001b[0;32min\u001b[0m \u001b[0mline\u001b[0m\u001b[0;34m.\u001b[0m\u001b[0msplit\u001b[0m\u001b[0;34m(\u001b[0m\u001b[0;34m)\u001b[0m\u001b[0;34m:\u001b[0m\u001b[0;34m\u001b[0m\u001b[0;34m\u001b[0m\u001b[0m\n\u001b[0;32m---> 17\u001b[0;31m             \u001b[0;32mif\u001b[0m \u001b[0mword\u001b[0m \u001b[0;32min\u001b[0m \u001b[0mgoogle_model\u001b[0m\u001b[0;34m.\u001b[0m\u001b[0mwv\u001b[0m\u001b[0;34m.\u001b[0m\u001b[0mvocab\u001b[0m\u001b[0;34m:\u001b[0m\u001b[0;34m\u001b[0m\u001b[0;34m\u001b[0m\u001b[0m\n\u001b[0m\u001b[1;32m     18\u001b[0m                 \u001b[0mcount\u001b[0m \u001b[0;34m+=\u001b[0m \u001b[0;36m1\u001b[0m\u001b[0;34m\u001b[0m\u001b[0;34m\u001b[0m\u001b[0m\n\u001b[1;32m     19\u001b[0m                 \u001b[0;32mif\u001b[0m \u001b[0mavgword2vec\u001b[0m \u001b[0;32mis\u001b[0m \u001b[0;32mNone\u001b[0m\u001b[0;34m:\u001b[0m\u001b[0;34m\u001b[0m\u001b[0;34m\u001b[0m\u001b[0m\n",
            "\u001b[0;31mNameError\u001b[0m: name 'google_model' is not defined"
          ]
        }
      ]
    },
    {
      "cell_type": "code",
      "metadata": {
        "colab": {
          "base_uri": "https://localhost:8080/"
        },
        "id": "tcea2zWMLNsi",
        "outputId": "ff7e398c-5bed-4930-b2e7-a849572f6340"
      },
      "source": [
        "array_embeddings = word_embeddings\n",
        "\n",
        "len(word_embeddings)"
      ],
      "execution_count": 23,
      "outputs": [
        {
          "output_type": "execute_result",
          "data": {
            "text/plain": [
              "73939"
            ]
          },
          "metadata": {
            "tags": []
          },
          "execution_count": 23
        }
      ]
    },
    {
      "cell_type": "code",
      "metadata": {
        "colab": {
          "base_uri": "https://localhost:8080/"
        },
        "id": "ju-8HHgtYlLG",
        "outputId": "17c39e61-1c1d-4bdf-bd70-a788e942d432"
      },
      "source": [
        "word_embeddings[1:10]"
      ],
      "execution_count": 30,
      "outputs": [
        {
          "output_type": "execute_result",
          "data": {
            "text/plain": [
              "[array([-0.07302269,  0.0518485 ,  0.04675459, -0.08937353, -0.14229386,\n",
              "        -0.00155867,  0.05519833, -0.1053351 ,  0.01847689,  0.10212863,\n",
              "         0.07639129, -0.05789734,  0.07012239, -0.02491805, -0.11151642,\n",
              "         0.05500191,  0.11968205, -0.01523484, -0.0030975 , -0.07105806,\n",
              "         0.08532815,  0.0623019 ,  0.1199355 ,  0.04066737,  0.03480523,\n",
              "         0.05483752, -0.00882809,  0.01964537, -0.03629423,  0.00998082,\n",
              "        -0.05076137,  0.04623223,  0.04034686, -0.01750526, -0.07446565,\n",
              "        -0.0522985 ,  0.06368329,  0.06311066,  0.04394434,  0.03235407,\n",
              "        -0.09494753, -0.01070049,  0.03522715, -0.0103653 , -0.06791006,\n",
              "        -0.19748133, -0.17508474, -0.0173971 , -0.16818039,  0.06328861,\n",
              "        -0.07502972,  0.13647124,  0.05740081, -0.11516082,  0.08651444,\n",
              "         0.07938945, -0.03584358, -0.07592809, -0.02543282,  0.01247443,\n",
              "        -0.1492597 ,  0.02878238, -0.042869  ,  0.06736728,  0.0605721 ,\n",
              "        -0.08973602,  0.0332939 ,  0.04956881, -0.09660545,  0.14172333,\n",
              "        -0.19020815,  0.01851348, -0.07078497, -0.08399233, -0.02123679,\n",
              "        -0.06736598,  0.10907733, -0.00580296,  0.11954444,  0.07210989,\n",
              "         0.06374314, -0.06387306,  0.21929692, -0.02620481,  0.19211453,\n",
              "         0.06851589,  0.0261604 , -0.03734014,  0.16833298, -0.01469982,\n",
              "         0.16306627, -0.00282409, -0.03278758, -0.07172288,  0.05902264,\n",
              "        -0.15103956, -0.09201817,  0.06718763,  0.03523416, -0.09009245,\n",
              "        -0.08212948,  0.03153089, -0.02636227,  0.02143168,  0.03789845,\n",
              "         0.02486293,  0.06265358,  0.00683703,  0.03470431,  0.06657715,\n",
              "        -0.0163828 , -0.04342842,  0.09370527,  0.0027108 ,  0.02170597,\n",
              "         0.10592884, -0.02937498,  0.04414475,  0.03587386, -0.05071322,\n",
              "         0.04885378,  0.04905989, -0.12759264,  0.05970128,  0.06535895,\n",
              "        -0.00089126, -0.01548754,  0.05680845,  0.06024185,  0.07730619,\n",
              "         0.02020332, -0.0433168 ,  0.06099044,  0.18624431,  0.05245513,\n",
              "         0.01770037, -0.02012584,  0.0313468 , -0.02520908,  0.1741877 ,\n",
              "         0.11936514, -0.00702078, -0.04954926,  0.05007593, -0.03076188,\n",
              "         0.09391812,  0.06757239,  0.00999527,  0.03803686, -0.15260407,\n",
              "         0.09412123, -0.00355699, -0.05921732, -0.01551711,  0.00914023,\n",
              "         0.05039874,  0.00904529, -0.03382078, -0.02009909, -0.01358682,\n",
              "         0.09137318, -0.00460237,  0.06502984, -0.08582969, -0.05776841,\n",
              "        -0.18141948,  0.08644087,  0.02376033,  0.00182567,  0.00955317,\n",
              "        -0.03729909, -0.10206126, -0.03699476, -0.02939144,  0.08300517,\n",
              "        -0.00315707,  0.0659301 , -0.06497239,  0.0586337 ,  0.11242932,\n",
              "        -0.15265253, -0.04594182, -0.04678647, -0.13210247,  0.05200771,\n",
              "         0.06488007, -0.03809638,  0.08929547,  0.02189416, -0.02655878,\n",
              "         0.078602  ,  0.03973143,  0.09213667, -0.04951669, -0.10930289,\n",
              "        -0.05395935, -0.06240946,  0.13979596,  0.11351085, -0.08857134,\n",
              "        -0.06948605,  0.10286023,  0.10877615,  0.03271727,  0.03092938,\n",
              "        -0.03274161,  0.10354923, -0.11068389,  0.08064976, -0.0773703 ,\n",
              "         0.11259038,  0.13128272, -0.20600589,  0.0202798 , -0.1476957 ,\n",
              "         0.00314447,  0.15961811, -0.09355102,  0.04788246, -0.1060425 ,\n",
              "        -0.03347598, -0.03837713, -0.0583792 ,  0.01459967,  0.05329917,\n",
              "        -0.03616169,  0.04889259, -0.14509287,  0.06653214,  0.00321194,\n",
              "        -0.0359882 ,  0.06175048, -0.09733442,  0.03489899, -0.00936108,\n",
              "         0.06433582, -0.23145121,  0.02292471, -0.0504045 ,  0.02615827,\n",
              "         0.02594265,  0.01325711,  0.04018959, -0.00490062,  0.12522121,\n",
              "        -0.08812602, -0.03444137,  0.15699896,  0.08318706, -0.13754761,\n",
              "        -0.02731013,  0.07390264, -0.06266072, -0.03577222,  0.01629429,\n",
              "         0.06498002,  0.03416833,  0.03265543, -0.06073118, -0.04409539,\n",
              "         0.01861977, -0.01952713,  0.04674175, -0.0495958 ,  0.16896157,\n",
              "         0.03852618,  0.02678791, -0.0174436 , -0.11427942,  0.03884088,\n",
              "         0.10338613,  0.14975876,  0.06961325,  0.03764024,  0.12306464,\n",
              "         0.02835233, -0.09450042, -0.00665718, -0.05063362,  0.14973173,\n",
              "         0.03166843, -0.10181537,  0.02465855,  0.07224222,  0.01199414,\n",
              "         0.10125512, -0.02565598,  0.06946253, -0.0756749 ,  0.02919229,\n",
              "        -0.19291288,  0.05725546, -0.1136778 , -0.0116088 , -0.08626654,\n",
              "         0.031388  , -0.00404258,  0.14463201,  0.05234262,  0.02498   ],\n",
              "       dtype=float32),\n",
              " array([ 0.05106608, -0.10725912,  0.08902995,  0.15315755,  0.00626628,\n",
              "        -0.12451172, -0.02441406, -0.22509766, -0.03450521,  0.11360677,\n",
              "        -0.04467773, -0.13366699,  0.08321127, -0.05349477, -0.1328125 ,\n",
              "        -0.02677409, -0.05859375,  0.04002635, -0.04817708, -0.04475911,\n",
              "         0.02408854,  0.03621419, -0.10709635, -0.16048177,  0.02640788,\n",
              "        -0.0024821 , -0.10709635,  0.02099609,  0.17675781,  0.0078125 ,\n",
              "        -0.08300781, -0.05403646,  0.01831055, -0.09488932, -0.19384766,\n",
              "        -0.0082194 , -0.00130208,  0.15152995, -0.05143229,  0.09895834,\n",
              "         0.07446289, -0.20540364,  0.09844971, -0.02437337,  0.12615967,\n",
              "        -0.05891927,  0.0636495 , -0.02058919,  0.07039388,  0.15136719,\n",
              "        -0.14921062,  0.1163737 ,  0.07609049, -0.05493164, -0.16308594,\n",
              "         0.01090495, -0.19173177, -0.13720703, -0.0337321 , -0.00923665,\n",
              "        -0.05957031,  0.09305827, -0.08797201, -0.0538737 ,  0.02242025,\n",
              "        -0.00705973, -0.05401611,  0.08328756,  0.03761292,  0.11669922,\n",
              "         0.13496907,  0.07617188,  0.00952148, -0.04402669,  0.02685547,\n",
              "         0.06596883,  0.14583333,  0.02756754, -0.02290853,  0.10591634,\n",
              "        -0.02042643, -0.12898763,  0.10961914, -0.02473958,  0.01114909,\n",
              "         0.06767273, -0.19807942,  0.13948567,  0.20930989,  0.04048665,\n",
              "         0.08850098,  0.01595052, -0.01672363, -0.01505534,  0.0239563 ,\n",
              "         0.06026204,  0.0234375 ,  0.01607259,  0.07609049,  0.1365865 ,\n",
              "         0.02565511, -0.05314128,  0.10294596, -0.08537801, -0.16141765,\n",
              "        -0.03371175, -0.06907145, -0.0998942 , -0.06722005, -0.11905924,\n",
              "         0.08407593, -0.07763672,  0.00491333,  0.03417969,  0.15616862,\n",
              "         0.01253255,  0.16666667, -0.03988647,  0.04874675,  0.17610677,\n",
              "        -0.00113932, -0.07543945,  0.00321452, -0.1159668 ,  0.1282552 ,\n",
              "        -0.00327555,  0.05318196,  0.14941406,  0.0871582 ,  0.05493164,\n",
              "         0.03808594,  0.06754557, -0.0065918 ,  0.11775716, -0.04585775,\n",
              "         0.07096354, -0.13289388,  0.02837626,  0.10042318,  0.07503255,\n",
              "         0.00561523, -0.07356771,  0.06087239, -0.04972331,  0.07259115,\n",
              "         0.05851237,  0.05083974,  0.09578451, -0.10139974, -0.1167806 ,\n",
              "         0.08650716,  0.02351888, -0.06722005, -0.04353841, -0.16552734,\n",
              "        -0.02498372, -0.04512532, -0.05330404,  0.04559326, -0.00252279,\n",
              "        -0.09326172,  0.07438151,  0.37890625,  0.01948039, -0.08235677,\n",
              "        -0.01424154,  0.12548828, -0.06087239, -0.04437828,  0.04207866,\n",
              "        -0.11824545, -0.00724284,  0.07698059,  0.0246582 , -0.20703125,\n",
              "        -0.08072916, -0.00082397,  0.01826986, -0.01798503, -0.09279379,\n",
              "        -0.10367838,  0.02050781, -0.07954916,  0.11165365,  0.04861705,\n",
              "        -0.09505209,  0.10036214,  0.02189128, -0.01464844,  0.06766764,\n",
              "        -0.02315267, -0.11376953, -0.00622559, -0.10872396,  0.07381185,\n",
              "         0.1402181 ,  0.02685547,  0.07600912, -0.04695638, -0.20690918,\n",
              "        -0.0335439 , -0.03759766,  0.02473958, -0.08793131,  0.15433757,\n",
              "        -0.07389323, -0.02685547,  0.11905924,  0.02982585,  0.00732422,\n",
              "        -0.01525879,  0.02872721, -0.00551351, -0.07633463, -0.01005046,\n",
              "         0.1320699 ,  0.09863281, -0.13655598, -0.01708984,  0.00423177,\n",
              "        -0.07486979,  0.02709961,  0.08162435,  0.06800333, -0.0909017 ,\n",
              "        -0.0373586 , -0.0069987 , -0.06339518,  0.06644694,  0.0061849 ,\n",
              "        -0.04390462, -0.12988281, -0.13309734,  0.11914062,  0.0094401 ,\n",
              "        -0.09098307, -0.06844076, -0.16569011,  0.02323659, -0.11425781,\n",
              "         0.17480469, -0.05094401,  0.05989583,  0.00386556,  0.0369161 ,\n",
              "        -0.06520589,  0.00358073, -0.02058919,  0.15885417, -0.13151042,\n",
              "         0.0382487 ,  0.01787313,  0.06380209,  0.06685384,  0.06738281,\n",
              "        -0.03792318, -0.1730957 , -0.10839844, -0.07307943,  0.01688639,\n",
              "         0.06572469,  0.08797201, -0.09798177, -0.01265462,  0.02392578,\n",
              "         0.02087402, -0.02189128,  0.17252605,  0.07861328,  0.03574626,\n",
              "         0.01611328,  0.11124674, -0.01818848, -0.02596029,  0.1081543 ,\n",
              "        -0.08524577, -0.07486979, -0.18033855, -0.02994792,  0.22167969,\n",
              "         0.12727864,  0.13623047,  0.18326823, -0.02207438,  0.1387024 ,\n",
              "        -0.10188802, -0.0448405 , -0.03263346, -0.00591024, -0.09106445,\n",
              "         0.03805542, -0.1180013 , -0.22167969, -0.07202148,  0.01098633,\n",
              "         0.00431315,  0.00105794, -0.05655925,  0.08968099,  0.10201009],\n",
              "       dtype=float32),\n",
              " array([ 9.56539139e-02, -4.98678349e-02,  1.86725205e-03,  3.98645066e-02,\n",
              "        -6.58911304e-04,  2.24426873e-02,  1.30998358e-01,  3.55193019e-02,\n",
              "         4.51671369e-02,  2.78505757e-02,  9.39920694e-02, -2.23477054e-02,\n",
              "        -4.85207066e-02, -2.71583721e-02, -3.03002950e-02, -2.48508565e-02,\n",
              "        -2.27133068e-03,  9.63491797e-02, -1.15855411e-03, -2.38340534e-02,\n",
              "         3.41581069e-02,  7.70718306e-02,  1.10290505e-01,  6.71467409e-02,\n",
              "        -1.82906073e-02, -1.20959625e-01,  2.95270551e-02,  2.28594877e-02,\n",
              "         4.08580042e-02,  3.06611303e-02, -1.03690535e-01, -2.27904469e-02,\n",
              "        -6.46204129e-02,  3.00223622e-02, -2.78541967e-02, -1.12620085e-01,\n",
              "         9.07041579e-02,  6.07341900e-02, -2.31050886e-02, -2.08979170e-03,\n",
              "        -4.32351381e-02,  1.35627175e-02,  7.75885433e-02, -5.76726794e-02,\n",
              "         1.03926822e-03, -3.13014463e-02,  1.09256832e-02, -3.94556113e-02,\n",
              "        -1.29083171e-01,  1.03416502e-01, -1.60635948e-01, -3.64568196e-02,\n",
              "         2.27920525e-02,  2.68820021e-02,  3.93531621e-02,  2.36571170e-02,\n",
              "        -4.00178656e-02, -2.96701565e-02, -7.01221675e-02, -1.29090548e-01,\n",
              "        -4.92859120e-03,  4.23820838e-02,  9.32701007e-02, -1.02261141e-01,\n",
              "         2.63001788e-02, -4.43056673e-02,  1.79828815e-02,  1.97481308e-02,\n",
              "        -1.13994461e-02,  8.27934295e-02,  8.59331116e-02,  3.68904113e-03,\n",
              "         8.50406196e-03,  1.65206585e-02, -1.00793287e-01,  7.79651105e-02,\n",
              "         8.96626785e-02, -4.55867276e-02,  5.46318330e-02,  7.21077472e-02,\n",
              "         2.45602168e-02, -8.47666860e-02, -1.49783999e-01,  2.59679370e-02,\n",
              "         2.02521980e-02,  1.29900083e-01,  5.61787337e-02,  2.06558302e-01,\n",
              "         9.03917253e-02, -4.33710478e-02, -8.13346729e-03, -1.16167463e-01,\n",
              "        -1.32854357e-02,  3.22510116e-02, -4.23205420e-02,  9.39816469e-04,\n",
              "         5.14201671e-02, -4.00898829e-02,  1.27397077e-02, -3.44570912e-02,\n",
              "        -7.69771785e-02, -5.33217490e-02, -8.41738731e-02, -3.09647657e-02,\n",
              "        -8.87647793e-02, -2.05168705e-02,  1.91949941e-02,  9.07358304e-02,\n",
              "        -8.86295140e-02, -3.99545617e-02, -3.77527140e-02, -5.74201979e-02,\n",
              "         4.54655699e-02,  2.10414291e-03, -2.76679453e-02, -3.86206480e-03,\n",
              "         1.66255403e-02, -1.44461483e-01, -3.58402282e-02, -8.42250064e-02,\n",
              "         3.54270190e-02,  4.25601611e-03, -6.49987683e-02,  2.82293335e-02,\n",
              "         1.50226932e-02, -6.17943555e-02, -1.38100982e-01, -2.95388903e-02,\n",
              "        -1.13672204e-02,  3.62765826e-02, -7.30949342e-02, -4.05097455e-02,\n",
              "         1.00649670e-02, -3.82048152e-02, -1.02879025e-01,  2.22623274e-02,\n",
              "         2.07745098e-02, -4.16014716e-02,  9.49464887e-02,  7.74155632e-02,\n",
              "        -2.13146042e-02, -8.98169950e-02, -3.75011116e-02, -5.96468709e-02,\n",
              "        -1.60916634e-02,  8.44963118e-02,  2.43470445e-02,  8.52405280e-02,\n",
              "        -4.77784351e-02, -8.64902660e-02,  1.93770766e-01, -7.12872148e-02,\n",
              "        -2.97066830e-02,  8.77334177e-02, -2.68038083e-02, -1.34278938e-01,\n",
              "         2.54044626e-02, -3.53690889e-03, -2.62001678e-02, -2.07207706e-02,\n",
              "        -2.81030852e-02,  1.09947370e-02,  1.02202512e-01, -1.59101598e-02,\n",
              "        -2.52649635e-02, -1.30209401e-02,  2.67449785e-02,  1.29232146e-02,\n",
              "         4.45018243e-03,  1.14634775e-01, -7.56368265e-02,  2.25425120e-02,\n",
              "        -1.41759366e-02, -1.30166179e-02,  1.15983570e-02,  1.46852225e-01,\n",
              "        -7.08674174e-03,  1.17358705e-02,  1.15835378e-02, -7.81010231e-03,\n",
              "        -3.09235770e-02, -4.89096828e-02, -2.87429392e-02,  4.25906144e-02,\n",
              "         2.74193361e-02,  8.20006952e-02, -2.43560150e-02, -4.74679731e-02,\n",
              "         3.14382650e-02,  3.16754393e-02, -2.97484249e-02, -8.32485780e-03,\n",
              "        -7.73979574e-02,  4.26780321e-02,  1.94853172e-02,  9.89388898e-02,\n",
              "         6.25908524e-02, -1.93910599e-02, -2.88441144e-02,  4.49175015e-02,\n",
              "        -9.30013135e-02, -4.71917205e-02,  7.52886385e-02, -9.75689217e-02,\n",
              "        -7.91712627e-02, -9.38536972e-02,  4.35397914e-03, -9.05261263e-02,\n",
              "        -9.80280563e-02,  5.65440282e-02,  2.92771738e-02,  6.99560391e-03,\n",
              "        -1.64712779e-02, -6.21972941e-02, -5.39341494e-02,  2.68709902e-02,\n",
              "         2.42491215e-02,  5.22718066e-04,  1.01196216e-02, -9.89104807e-02,\n",
              "        -3.06507871e-02,  5.18729500e-02,  8.55283290e-02,  2.40239277e-02,\n",
              "         4.49869446e-02, -6.10086396e-02, -5.50283901e-02, -7.93086365e-03,\n",
              "         8.09838250e-03, -1.84415393e-02,  8.06289166e-02,  6.52855355e-03,\n",
              "        -5.03435098e-02,  1.19148329e-01,  3.91217545e-02,  3.09486291e-03,\n",
              "        -2.55091041e-02, -1.79813802e-02,  6.13538399e-02, -2.19596736e-02,\n",
              "         1.19622551e-01,  1.39053753e-02,  1.40672885e-02, -3.95014696e-03,\n",
              "        -5.21709062e-02, -1.05536339e-04, -5.50406165e-02,  8.51149857e-02,\n",
              "        -2.74458211e-02, -4.66425270e-02, -7.78819174e-02,  1.42143387e-02,\n",
              "         4.30980586e-02,  1.09482437e-01, -3.33207995e-02, -7.55575374e-02,\n",
              "        -4.00183722e-02, -6.85995668e-02, -7.61442706e-02,  4.95529361e-02,\n",
              "         6.69078249e-03,  5.44797108e-02, -3.54342908e-02, -8.24281722e-02,\n",
              "        -2.97705401e-02,  7.17310831e-02,  9.07227844e-02,  2.34290734e-02,\n",
              "        -8.27265456e-02,  1.17690802e-01, -1.57800429e-02, -4.00570631e-02,\n",
              "         9.88389365e-04,  8.52219686e-02,  9.14917216e-02, -7.56550059e-02,\n",
              "         2.85380520e-02, -3.94351445e-02,  6.89018816e-02, -2.21665297e-02,\n",
              "        -2.23775040e-02,  6.62320927e-02, -1.09301113e-01,  3.79997902e-02,\n",
              "         1.05741248e-02, -6.43445179e-03,  7.24187568e-02,  9.98421907e-02,\n",
              "        -7.82135315e-03,  2.12316662e-01, -5.44794500e-02, -7.59127131e-03,\n",
              "        -3.68625894e-02, -5.12565747e-02, -1.91372875e-02,  4.15847450e-02,\n",
              "        -6.21425733e-02,  3.43144275e-02,  4.10146601e-02,  1.05039716e-01],\n",
              "       dtype=float32),\n",
              " array([ 0.05699248,  0.0318717 ,  0.06027826,  0.0873232 , -0.00841598,\n",
              "        -0.05654129,  0.04296477, -0.02015129, -0.02508196,  0.11158279,\n",
              "        -0.07064808, -0.12066161, -0.10808301,  0.03936106, -0.10544261,\n",
              "         0.05369365,  0.11911196,  0.07653636, -0.08556449,  0.00350711,\n",
              "        -0.00212653, -0.00141107,  0.02041117,  0.04392833, -0.05593453,\n",
              "        -0.04735185, -0.05179003,  0.02882469, -0.00464499, -0.05164272,\n",
              "         0.00133792,  0.02993796,  0.0084216 , -0.03524817, -0.01434543,\n",
              "        -0.09003095, -0.06500912,  0.079056  ,  0.1398033 ,  0.02920485,\n",
              "        -0.05093714, -0.07764613,  0.02988381,  0.0047657 , -0.00918205,\n",
              "        -0.07507371, -0.06662074,  0.03528621,  0.05122659,  0.00400788,\n",
              "        -0.12027881,  0.06465289,  0.06204289, -0.0190216 , -0.03357557,\n",
              "         0.03884018, -0.0637729 , -0.08333058, -0.0371976 , -0.0997875 ,\n",
              "         0.0154655 , -0.00653738, -0.0406326 , -0.00164371,  0.02892661,\n",
              "        -0.05663811,  0.07519849, -0.03458952, -0.06773809,  0.0858697 ,\n",
              "         0.02826598,  0.15745418,  0.01610055,  0.07179385, -0.06177217,\n",
              "        -0.07281093,  0.0178932 ,  0.04069116, -0.00194601, -0.04604107,\n",
              "         0.01984159, -0.02245947,  0.00192494, -0.12171591, -0.04486689,\n",
              "         0.1351443 ,  0.02724707,  0.08356369, -0.02369294, -0.07041575,\n",
              "        -0.10714233,  0.0280767 , -0.0160428 ,  0.03515159, -0.05999284,\n",
              "        -0.02176216,  0.0191746 , -0.02141619,  0.03358876,  0.03429281,\n",
              "        -0.04336561,  0.06184819,  0.02912226,  0.02730709, -0.08237088,\n",
              "        -0.0006792 ,  0.00802232,  0.06169939, -0.00673616, -0.012479  ,\n",
              "        -0.08908708, -0.13436086,  0.13462926, -0.04469422,  0.05154814,\n",
              "         0.03125881,  0.00436342, -0.03988884, -0.01403034, -0.00905615,\n",
              "         0.02075114,  0.02038056, -0.11635935,  0.01556229,  0.10419051,\n",
              "         0.02899778, -0.15448512,  0.00892991,  0.0085549 , -0.00082751,\n",
              "        -0.09675314,  0.0478371 ,  0.07875594,  0.03399808, -0.06904618,\n",
              "        -0.01623656,  0.02075436, -0.04691975,  0.0891699 ,  0.01033156,\n",
              "         0.11678919, -0.05050207,  0.00622994, -0.01604298, -0.04808941,\n",
              "        -0.03344983, -0.03325684,  0.02764187, -0.00351664,  0.0009895 ,\n",
              "         0.03038698,  0.0058431 , -0.00194405, -0.06671295, -0.04328304,\n",
              "        -0.12007511,  0.00029013,  0.11753645, -0.00349394, -0.05814021,\n",
              "         0.02115327, -0.03667751,  0.03562998,  0.00547516, -0.01919947,\n",
              "        -0.11128835,  0.08515125, -0.06683996, -0.04980553,  0.09166767,\n",
              "        -0.07566433, -0.0537958 , -0.00600223, -0.09344041, -0.08223222,\n",
              "         0.01509126,  0.05039161, -0.1227591 , -0.00624021, -0.06016472,\n",
              "         0.07075404,  0.04092374, -0.06712303, -0.04161755,  0.05117084,\n",
              "         0.08478132,  0.0460522 , -0.02191527,  0.03124248,  0.08843997,\n",
              "         0.05646743,  0.01009652, -0.04032953,  0.11601147,  0.08794582,\n",
              "        -0.01354713,  0.03649159,  0.07590593, -0.03238245,  0.050761  ,\n",
              "        -0.02514306, -0.03544917,  0.00421559, -0.05224308,  0.03126306,\n",
              "        -0.01534998, -0.01407402, -0.01369383, -0.138317  ,  0.0530805 ,\n",
              "         0.00744082, -0.00931528, -0.02107741, -0.00354852, -0.06514107,\n",
              "         0.0243106 ,  0.0155195 , -0.03997254, -0.01074143, -0.02537394,\n",
              "        -0.03056818,  0.04505806, -0.04685955,  0.03675026,  0.05273108,\n",
              "        -0.04388053,  0.01472163, -0.07372703, -0.06074188, -0.04510707,\n",
              "        -0.01944954, -0.02289984,  0.0373996 ,  0.03306949,  0.08210073,\n",
              "        -0.0075564 ,  0.00151779,  0.01841223,  0.06658855,  0.01012182,\n",
              "         0.06088978,  0.06158619,  0.00250158, -0.04673876, -0.03393697,\n",
              "         0.00027476, -0.02111246,  0.09665653, -0.07420151, -0.02176511,\n",
              "         0.02030093,  0.04794286,  0.08915529,  0.07186365, -0.051572  ,\n",
              "        -0.06456475, -0.0654292 , -0.04956524,  0.03391185, -0.08741608,\n",
              "        -0.06897181,  0.04407473, -0.01788551, -0.04927702, -0.10736764,\n",
              "         0.04493285,  0.0224776 , -0.01388018,  0.04292521,  0.02752464,\n",
              "        -0.04334525, -0.06120057, -0.00906287, -0.00524112,  0.02296703,\n",
              "        -0.02879035,  0.0088425 ,  0.02092277, -0.02594663,  0.07383987,\n",
              "         0.01466086, -0.02853902, -0.01984288,  0.01628817, -0.02134408,\n",
              "         0.00977357,  0.01916606,  0.0523151 , -0.04834918,  0.03779065,\n",
              "        -0.01911672,  0.05610969, -0.02649048,  0.01017488, -0.0795527 ,\n",
              "        -0.02444432, -0.00929899, -0.06629722, -0.00468524,  0.01084216],\n",
              "       dtype=float32),\n",
              " array([ 2.46971264e-04,  3.82423459e-05,  1.11316913e-05,  5.82579989e-04,\n",
              "         5.50030614e-04, -7.35614740e-04, -2.32881546e-04,  3.30030278e-04,\n",
              "         5.61435299e-05, -6.60692283e-04, -1.16189430e-03,  4.43123077e-04,\n",
              "         1.03120343e-04, -4.73664986e-04, -1.22818828e-03, -1.05331442e-03,\n",
              "        -2.16945948e-04,  7.72693777e-04,  9.49296955e-05,  4.65281773e-04,\n",
              "        -4.36337723e-05,  1.89329439e-04,  6.52448158e-04,  6.27323345e-04,\n",
              "         1.51102897e-04,  8.94476252e-04, -1.36477698e-04, -1.18740718e-03,\n",
              "         2.93760357e-04, -3.29402945e-04, -8.94132303e-04, -5.77441941e-04,\n",
              "         2.02045732e-04,  3.25762521e-04, -2.44227209e-04,  2.78980675e-04,\n",
              "         1.04797515e-03,  8.20075511e-04, -1.37141440e-03, -8.33429629e-04,\n",
              "         3.21821048e-04, -1.00932783e-03,  7.92584149e-04, -5.14175219e-04,\n",
              "        -9.27148736e-04, -2.35579180e-04,  3.56526260e-04,  1.11332315e-03,\n",
              "        -6.66405773e-04, -3.67802277e-05,  2.47238349e-04, -3.05249152e-04,\n",
              "        -2.32371618e-04, -4.97545814e-04,  3.54009913e-04,  6.10781019e-04,\n",
              "        -8.20672314e-04, -2.38582230e-04,  3.93023103e-04,  9.07862326e-04,\n",
              "         9.52398288e-04, -2.52537284e-05, -2.65980780e-05,  9.39514022e-04,\n",
              "        -1.53441099e-04, -6.27518690e-04,  5.70199336e-05,  6.13595184e-04,\n",
              "         9.44424071e-04, -1.38563919e-03,  1.34349882e-03, -6.35788718e-04,\n",
              "         6.72487426e-04, -7.49332947e-04, -1.00776111e-03,  7.35096983e-05,\n",
              "        -3.34690558e-04,  2.99422187e-04,  1.76879839e-04, -4.98715497e-04,\n",
              "         8.70415475e-04, -2.72454199e-05, -4.84916673e-04, -6.79655350e-04,\n",
              "         2.58615881e-04, -5.41139336e-04, -1.13361893e-05, -4.06485691e-04,\n",
              "         8.73916550e-04,  5.39178029e-04, -3.44007276e-05,  3.43066233e-04,\n",
              "         9.08369315e-04, -1.27370749e-03,  4.48711799e-05,  4.36670613e-04,\n",
              "         5.57725871e-05, -1.45709736e-03,  3.09656374e-04,  3.00295098e-04,\n",
              "        -3.23580578e-04, -7.75731678e-05,  1.03071216e-03,  3.63923027e-04,\n",
              "         7.46481819e-05, -1.08811154e-03, -1.01493485e-03,  5.37488959e-04,\n",
              "         9.53844574e-05, -2.05068965e-04, -8.89676507e-04, -1.12013298e-03,\n",
              "        -1.14199100e-03, -5.45043404e-05, -1.47711558e-04,  1.47913408e-04,\n",
              "         9.33444608e-05, -1.79750554e-04, -1.40534510e-04, -3.97771946e-05,\n",
              "         7.51946529e-04, -7.94598076e-04,  1.05090567e-03, -1.26163242e-03,\n",
              "         1.34454155e-03,  2.30505218e-04,  2.12390878e-04,  1.36523147e-03,\n",
              "        -5.07290461e-05,  1.13896916e-04,  4.41567390e-04, -2.13329477e-04,\n",
              "        -1.32542424e-04,  9.87712294e-04,  6.05053385e-04,  4.22731246e-04,\n",
              "        -1.23748870e-03,  2.18350324e-05, -5.02656272e-04,  7.89625279e-04,\n",
              "         1.26985239e-03,  1.30577572e-03, -9.09092370e-04,  6.69227680e-04,\n",
              "         4.14997106e-04, -4.49845829e-04, -9.15881712e-04,  6.08533854e-04,\n",
              "        -1.07083318e-03, -1.06582767e-04, -9.36898694e-04, -1.36792252e-04,\n",
              "         1.10530193e-04,  1.53896501e-04, -8.74890247e-06, -1.13198068e-03,\n",
              "        -6.64127525e-04, -4.49446088e-04,  5.84564637e-04,  2.06183875e-04,\n",
              "        -4.53108805e-05,  4.79379873e-04,  1.09187409e-03, -2.62426183e-04,\n",
              "        -2.62039161e-04, -7.08810403e-05, -2.41338974e-04, -8.06174648e-04,\n",
              "        -3.42644053e-05,  4.11094836e-04,  8.19855777e-04,  5.02357841e-04,\n",
              "        -7.67110614e-05,  5.90310781e-04, -5.00704278e-04,  5.63564769e-04,\n",
              "         2.07379679e-04,  5.82955079e-04, -3.80685146e-04, -1.37009961e-03,\n",
              "        -1.10243820e-03, -4.22843004e-04, -2.56520492e-04,  3.15994723e-04,\n",
              "        -7.62228738e-05, -3.46636109e-04, -8.62806919e-04, -1.31687964e-03,\n",
              "        -1.09743257e-03, -4.02882288e-05,  5.58664906e-05,  7.15460221e-04,\n",
              "        -1.30123342e-04, -2.19089532e-04,  6.55450800e-04, -1.29441475e-03,\n",
              "         1.51770608e-03, -1.26545632e-03,  3.55077034e-04, -5.46179770e-04,\n",
              "         6.63987244e-04,  2.96786544e-04,  9.96867428e-04,  6.78637763e-04,\n",
              "         8.07605102e-05,  7.13142974e-04,  1.40734785e-03, -1.59541029e-04,\n",
              "         1.04674080e-03,  5.34355815e-04,  5.04914729e-04,  3.96062969e-05,\n",
              "         7.80082308e-04, -1.43502693e-04,  8.45619128e-04, -6.30150549e-04,\n",
              "        -4.78734524e-04,  7.48138584e-04, -5.00437920e-04,  6.80203317e-04,\n",
              "         3.71276052e-04, -2.95844220e-04,  4.99358808e-04, -5.60748158e-04,\n",
              "         1.43291545e-05,  5.89251576e-04,  1.28004234e-03, -7.70407030e-04,\n",
              "         4.21969482e-04,  2.80948239e-04, -6.52377494e-05, -2.10643426e-04,\n",
              "        -1.18174299e-03, -4.78286558e-04,  5.20851230e-04, -6.47114939e-04,\n",
              "         6.08469418e-05, -1.69977546e-04,  1.82364020e-04,  7.89599144e-04,\n",
              "         1.03349553e-03, -4.48854553e-04, -2.85015558e-04,  4.59719740e-04,\n",
              "         3.14516830e-04, -1.31282909e-03,  3.63791332e-04, -1.08972925e-03,\n",
              "         4.54568741e-04,  6.07675756e-04,  7.02346442e-05,  4.33844660e-04,\n",
              "        -9.99248237e-04,  4.94532054e-04,  2.65919371e-05,  5.81689063e-04,\n",
              "         9.96346353e-04,  7.49568804e-04, -6.98986929e-04,  3.98226897e-04,\n",
              "         3.22888140e-04, -6.93407259e-04,  1.26329961e-03,  9.03364853e-05,\n",
              "         5.34863910e-04,  3.74587893e-04,  2.11342529e-04,  5.96278755e-04,\n",
              "        -3.18751729e-04, -1.05913123e-03, -3.61940416e-04, -4.91067185e-04,\n",
              "        -9.11328360e-04,  6.57344179e-04,  1.31504051e-03,  5.02751383e-04,\n",
              "        -4.70394996e-04, -4.27727558e-04, -4.35074908e-04, -4.75270557e-04,\n",
              "         3.35161167e-04,  6.72663853e-04, -2.91557837e-04, -1.25260977e-03,\n",
              "         3.67485336e-05,  9.95087205e-04,  3.62079008e-05, -4.23015386e-04,\n",
              "        -3.05357244e-04, -1.18878274e-03, -9.25339118e-04, -4.01047233e-04,\n",
              "        -4.68097685e-04, -1.36447442e-03,  6.47497189e-04,  8.73033423e-05,\n",
              "         7.61045783e-04, -1.96468900e-04, -1.07044834e-04, -2.48556287e-04],\n",
              "       dtype=float32),\n",
              " array([ 0.19746728,  0.02010131,  0.03456427,  0.11153419, -0.09990221,\n",
              "         0.13429949,  0.08421627, -0.09047887,  0.05980812,  0.10238394,\n",
              "         0.00332539, -0.03932102, -0.06675375, -0.04539137, -0.11100695,\n",
              "         0.06206493, -0.04729759,  0.07518499, -0.04417208, -0.04025982,\n",
              "         0.04968417,  0.17206037,  0.04182649,  0.02179164, -0.08323502,\n",
              "        -0.09913934,  0.01185821,  0.11853013,  0.00866114,  0.02460421,\n",
              "        -0.07418308,  0.04878124, -0.0673282 ,  0.0295602 ,  0.1398607 ,\n",
              "        -0.16040117,  0.13385083,  0.20681883, -0.05260678, -0.00579931,\n",
              "        -0.05598834,  0.02799323, -0.04735843, -0.02469091, -0.09745881,\n",
              "        -0.01599463, -0.04810335, -0.06655677,  0.04920848,  0.00192891,\n",
              "        -0.24059878,  0.07073263,  0.14549662, -0.06152877,  0.07136718,\n",
              "         0.03480289, -0.03241849, -0.07763854,  0.0601644 , -0.00594163,\n",
              "        -0.0502957 ,  0.03896201, -0.07323388, -0.12374336, -0.09634578,\n",
              "        -0.12674282, -0.1329647 , -0.03440242, -0.04722157,  0.11766092,\n",
              "         0.16043706,  0.06726052,  0.00755191, -0.15428767, -0.1008867 ,\n",
              "         0.00758306,  0.08576939,  0.04199146,  0.03312507,  0.016424  ,\n",
              "         0.12681192, -0.13751529, -0.15710117,  0.01752358, -0.03572064,\n",
              "         0.0616182 ,  0.08978256,  0.11449494,  0.05252096,  0.05017595,\n",
              "        -0.06129364, -0.06687884,  0.07433409, -0.01370506, -0.05443594,\n",
              "         0.00787429, -0.01012399,  0.05900579,  0.0426694 , -0.0886335 ,\n",
              "        -0.09972638, -0.06701013, -0.02029171, -0.01850023, -0.03216897,\n",
              "         0.0028525 , -0.01720876,  0.02753842, -0.13821091, -0.05157964,\n",
              "        -0.06757655, -0.23740584,  0.12953426,  0.06390777,  0.03963182,\n",
              "         0.05261482, -0.03666721, -0.10890778,  0.00088207, -0.10836495,\n",
              "         0.06675006,  0.06264239, -0.10056135,  0.07547527,  0.10387067,\n",
              "         0.07278591, -0.01295019, -0.07766805, -0.00911955,  0.10330775,\n",
              "        -0.01593384,  0.00388332,  0.03545382, -0.05899064, -0.06223084,\n",
              "         0.17450225, -0.04455346, -0.05377531,  0.01733959,  0.10599402,\n",
              "        -0.1084301 ,  0.02300538, -0.06639756, -0.08432523, -0.01086884,\n",
              "        -0.05911085,  0.08479653,  0.05133171, -0.03362158, -0.18418063,\n",
              "         0.10766063,  0.01787419,  0.02394965, -0.07387174,  0.0549984 ,\n",
              "        -0.0335244 , -0.14809111,  0.13907923, -0.00324112,  0.06358797,\n",
              "        -0.04677108,  0.0298414 ,  0.16694146, -0.03032237, -0.02108561,\n",
              "        -0.16589405,  0.04615151, -0.03650512, -0.17451942,  0.15306625,\n",
              "         0.02698344, -0.08992383, -0.00626545,  0.00313002, -0.24250753,\n",
              "         0.14387693,  0.03846116, -0.20705573,  0.02536985, -0.0350589 ,\n",
              "        -0.13989612, -0.03440864, -0.05620804,  0.12587124,  0.00996876,\n",
              "         0.00256117, -0.03822393,  0.01324235, -0.13498895,  0.11261094,\n",
              "        -0.01395166,  0.04714067, -0.1563067 ,  0.06970571,  0.04926959,\n",
              "         0.13801986, -0.01540407, -0.02306713, -0.1393107 ,  0.02982461,\n",
              "        -0.02144928, -0.03789336, -0.07577906, -0.05900814,  0.04175529,\n",
              "        -0.09770772, -0.02256438,  0.0025873 , -0.14183216,  0.05834529,\n",
              "        -0.03393891,  0.03991865, -0.06381495,  0.03347528, -0.11726593,\n",
              "         0.10817685,  0.1836373 ,  0.09451022, -0.02183187, -0.12215988,\n",
              "        -0.07608531, -0.04771456,  0.08250018,  0.04355159,  0.06619929,\n",
              "        -0.15168026,  0.07899599,  0.02264347, -0.00645564, -0.03545673,\n",
              "        -0.04677883, -0.00675707,  0.01669851, -0.01421421, -0.06384865,\n",
              "        -0.06190162,  0.13536467,  0.02148239,  0.11840638, -0.04055465,\n",
              "         0.18490191, -0.12457297, -0.05828051, -0.02512905, -0.07682363,\n",
              "         0.05809861, -0.0334517 ,  0.11286601, -0.01848154,  0.01862872,\n",
              "        -0.06869385,  0.12252336,  0.05588093,  0.0278248 , -0.04331578,\n",
              "        -0.03576124, -0.08012658,  0.04638163,  0.09623697, -0.03825761,\n",
              "         0.05936104,  0.04917389, -0.00195188, -0.17675324,  0.01533476,\n",
              "        -0.06677495, -0.06218689, -0.0169748 ,  0.02727396, -0.04581697,\n",
              "         0.00193347,  0.01111879,  0.05731042,  0.1474381 ,  0.05284088,\n",
              "         0.01333325, -0.08834258,  0.02269357, -0.03445223,  0.0801534 ,\n",
              "         0.03322628,  0.1417089 , -0.01662037, -0.03296197, -0.01943289,\n",
              "        -0.02536408,  0.06305312,  0.06987208, -0.0752446 ,  0.00470134,\n",
              "         0.04047909,  0.10361474, -0.08586997,  0.02936698,  0.02368571,\n",
              "         0.01241418, -0.03860649, -0.05271642, -0.01758772,  0.04629972],\n",
              "       dtype=float32),\n",
              " array([ 5.10816164e-02,  4.12765518e-02, -1.62793288e-03, -5.77012673e-02,\n",
              "        -4.73796390e-02,  8.39625522e-02,  2.07839422e-02, -2.48966049e-02,\n",
              "        -2.05693562e-02,  1.87118687e-02, -3.67352739e-02, -1.13942884e-01,\n",
              "        -1.28072649e-01, -1.75611097e-02, -5.61486855e-02,  7.54207373e-03,\n",
              "         5.49298599e-02,  1.41528890e-01, -5.91087639e-02,  7.64800608e-03,\n",
              "        -7.28181973e-02,  2.44663320e-02,  4.46260348e-02,  1.05102584e-01,\n",
              "        -5.71508631e-02, -6.28739744e-02, -9.59240049e-02,  4.47080322e-02,\n",
              "        -9.56363156e-02,  7.43681914e-04,  9.94960219e-02,  7.13316128e-02,\n",
              "         2.92709563e-02, -8.61149207e-02, -1.83781050e-02,  5.92068806e-02,\n",
              "        -8.00564085e-05,  1.00996435e-01,  1.15177229e-01, -1.54921962e-02,\n",
              "        -8.73204172e-02, -2.61543989e-02,  1.75094903e-02, -7.53325457e-03,\n",
              "         2.20383634e-03, -9.46533605e-02, -6.03255033e-02, -1.02124497e-01,\n",
              "        -2.63390876e-02,  1.02206804e-01, -1.40020758e-01,  1.23900071e-01,\n",
              "         5.04669733e-02,  1.17664084e-01, -7.85690248e-02,  5.20396419e-02,\n",
              "        -8.21571127e-02, -6.37703538e-02,  2.22985749e-03, -7.27815628e-02,\n",
              "        -1.34201393e-01,  7.03897551e-02, -5.28989919e-02, -4.97783162e-02,\n",
              "        -9.92142688e-03, -1.69610873e-01, -2.69201342e-02, -1.08623885e-01,\n",
              "        -9.95433033e-02,  1.00071512e-01, -3.29493433e-02,  9.68236178e-02,\n",
              "         7.47888256e-03,  2.11645979e-02, -1.51958894e-02, -8.20894819e-03,\n",
              "         9.95933488e-02,  7.83878416e-02, -6.17856570e-02, -1.42470762e-01,\n",
              "         1.16647435e-02, -3.47414538e-02, -1.55900884e-02, -5.28086200e-02,\n",
              "        -1.15034720e-02,  1.70240030e-01, -1.12928133e-02,  8.96699801e-02,\n",
              "         1.56319924e-02, -3.18215936e-02, -2.07357630e-02,  1.70549490e-02,\n",
              "         4.35983166e-02, -3.52074876e-02,  8.02684277e-02,  4.95864339e-02,\n",
              "        -2.53376458e-02,  8.29158872e-02,  5.79118915e-02, -7.00092465e-02,\n",
              "        -5.25140949e-02,  5.66450544e-02,  6.14413843e-02,  6.90137362e-03,\n",
              "        -1.00268900e-01,  7.93845728e-02, -1.12623990e-01,  1.34530976e-01,\n",
              "        -9.68960971e-02,  2.03653313e-02, -9.72185060e-02, -1.82859644e-01,\n",
              "         1.09923981e-01, -3.53628024e-02,  3.58301029e-02,  4.51744571e-02,\n",
              "         1.08223138e-02, -7.68817216e-02, -4.34643067e-02, -1.69831980e-02,\n",
              "        -4.81457338e-02, -6.50346056e-02, -1.04946770e-01, -1.96071789e-02,\n",
              "         1.13442585e-01, -1.21493377e-01, -1.26079142e-01, -3.73319425e-02,\n",
              "         2.10265983e-02,  1.03059307e-01,  2.87737884e-02, -1.37657421e-02,\n",
              "         2.31010304e-03,  3.08841858e-02, -1.90069705e-01,  5.08814454e-02,\n",
              "        -5.60759790e-02, -9.54515859e-03,  1.86461359e-01,  9.51288715e-02,\n",
              "         9.18101743e-02, -1.00939143e-02, -4.73032221e-02, -2.40482902e-03,\n",
              "        -5.13867848e-02,  1.62278600e-02, -2.27518026e-02,  1.04349159e-01,\n",
              "         3.15572806e-02, -3.53084207e-02, -1.93387009e-02, -1.31168753e-01,\n",
              "        -1.73802935e-02, -5.45932949e-02, -2.05022283e-02, -6.73582479e-02,\n",
              "         3.14702727e-02,  2.45276853e-01,  7.07265083e-03, -1.65561773e-02,\n",
              "         1.21666789e-02,  5.21916151e-02,  1.58353969e-02, -9.71921310e-02,\n",
              "        -1.36465533e-02, -2.23809555e-02,  4.63962406e-02,  3.66222486e-02,\n",
              "         1.60201173e-03,  8.39051157e-02, -5.20481169e-02, -4.65964787e-02,\n",
              "        -6.80684522e-02, -7.37492815e-02,  1.46730468e-02,  1.51974140e-02,\n",
              "        -3.53244208e-02, -9.26501527e-02,  4.27647606e-02, -5.79654202e-02,\n",
              "        -1.23351376e-04, -3.17771696e-02, -2.28982302e-03, -7.82112963e-03,\n",
              "         5.95397130e-02,  4.76844087e-02,  1.32520590e-02,  6.48038238e-02,\n",
              "        -7.42621347e-03,  8.75367522e-02,  2.52273940e-02,  1.80625822e-02,\n",
              "         4.57844213e-02,  6.74049258e-02,  5.89055941e-02, -6.60784543e-02,\n",
              "         4.47653010e-02,  4.82379757e-02,  2.13324744e-02,  3.56039293e-02,\n",
              "        -6.14167564e-02, -4.22791764e-02,  3.89821827e-02, -8.87306556e-02,\n",
              "         8.73902962e-02, -3.37097608e-02,  2.21775174e-02,  1.10127367e-01,\n",
              "        -8.98171738e-02,  1.73085779e-01,  6.12871647e-02, -5.07230535e-02,\n",
              "        -1.10650443e-01,  3.40974815e-02, -1.33925021e-01, -5.73283024e-02,\n",
              "         1.09464183e-01, -6.81249201e-02,  8.21142048e-02, -1.30108148e-02,\n",
              "        -2.42761187e-02, -1.33631127e-02, -7.56852934e-03,  1.29853994e-01,\n",
              "        -2.94742314e-03, -9.48817655e-03,  3.39672156e-02,  1.08443899e-02,\n",
              "        -1.86135080e-02, -6.47092313e-02, -1.36242416e-02,  1.39616635e-02,\n",
              "        -3.52943316e-02, -1.34336919e-01,  5.78017421e-02,  1.03178713e-02,\n",
              "        -2.72608809e-02,  6.24521375e-02,  4.28731330e-02, -7.33336061e-02,\n",
              "        -7.42952898e-03, -3.21744271e-02,  3.43701988e-02, -3.91030759e-02,\n",
              "        -4.03458402e-02,  9.86684673e-03, -4.68155816e-02,  9.20075551e-02,\n",
              "        -1.12979161e-02, -4.13733162e-02, -3.57201025e-02,  7.48024508e-02,\n",
              "        -2.94525716e-02,  6.53592721e-02, -5.50589636e-02, -8.62817839e-03,\n",
              "        -6.17355593e-02, -4.15798975e-03,  2.77582314e-02,  4.72655483e-02,\n",
              "         4.27983776e-02,  8.97416845e-02,  1.70060441e-01, -4.16551903e-02,\n",
              "        -5.16093858e-02,  4.76377718e-02,  1.32046072e-02,  6.33268207e-02,\n",
              "         5.61431535e-02,  1.11856414e-02,  4.48187813e-03, -1.33762345e-01,\n",
              "        -3.92762013e-03,  1.72092789e-03,  7.67612308e-02, -3.87240276e-02,\n",
              "        -6.45065531e-02, -3.82566340e-02, -6.77121282e-02,  7.60718361e-02,\n",
              "         1.35671897e-02,  7.12400228e-02,  6.00675270e-02,  2.72291317e-03,\n",
              "         3.76726314e-02,  1.11974142e-01,  1.17928132e-01,  5.03908470e-03,\n",
              "        -2.66488679e-02,  2.70404778e-02,  2.25140993e-02,  2.64726784e-02,\n",
              "         1.24095310e-03,  8.77115279e-02, -4.19422463e-02, -2.77008805e-02,\n",
              "        -6.74485713e-02,  8.41876492e-03, -2.85923965e-02,  1.19273424e-01],\n",
              "       dtype=float32),\n",
              " array([ 5.09913042e-02,  4.13556509e-02, -1.59625825e-03, -5.75728714e-02,\n",
              "        -4.80480716e-02,  8.38699341e-02,  2.00850219e-02, -2.50617713e-02,\n",
              "        -2.02838648e-02,  1.84044000e-02, -3.72386687e-02, -1.14389017e-01,\n",
              "        -1.27825320e-01, -1.77779756e-02, -5.52535765e-02,  7.33273197e-03,\n",
              "         5.54075763e-02,  1.41679525e-01, -5.89472428e-02,  6.86516752e-03,\n",
              "        -7.21316710e-02,  2.45736577e-02,  4.43405956e-02,  1.05928279e-01,\n",
              "        -5.72047755e-02, -6.36122078e-02, -9.63148475e-02,  4.48660441e-02,\n",
              "        -9.51950401e-02,  9.54351388e-04,  9.87839848e-02,  7.20204562e-02,\n",
              "         2.94056498e-02, -8.51122588e-02, -1.84732862e-02,  5.92191294e-02,\n",
              "         2.40968933e-04,  1.01452969e-01,  1.15059815e-01, -1.54985785e-02,\n",
              "        -8.68495703e-02, -2.65877750e-02,  1.70196332e-02, -8.28936230e-03,\n",
              "         2.03846209e-03, -9.46856588e-02, -6.11764714e-02, -1.02183677e-01,\n",
              "        -2.57540643e-02,  1.01928793e-01, -1.40006691e-01,  1.23367749e-01,\n",
              "         4.98398840e-02,  1.17667750e-01, -7.81982020e-02,  5.18762879e-02,\n",
              "        -8.20788294e-02, -6.37307540e-02,  2.38629337e-03, -7.25956112e-02,\n",
              "        -1.34322643e-01,  7.00538233e-02, -5.28077781e-02, -4.98703048e-02,\n",
              "        -9.60869528e-03, -1.69622153e-01, -2.65113972e-02, -1.08791053e-01,\n",
              "        -9.88562405e-02,  9.97593850e-02, -3.38017717e-02,  9.74423513e-02,\n",
              "         7.82380346e-03,  2.13443972e-02, -1.46167306e-02, -8.21311306e-03,\n",
              "         9.91017446e-02,  7.87995905e-02, -6.22379184e-02, -1.42133504e-01,\n",
              "         1.21643841e-02, -3.51659432e-02, -1.59114283e-02, -5.30749969e-02,\n",
              "        -1.13077136e-02,  1.69912770e-01, -1.19605027e-02,  8.91430229e-02,\n",
              "         1.58148669e-02, -3.17579024e-02, -2.04415489e-02,  1.70370676e-02,\n",
              "         4.34874892e-02, -3.53102721e-02,  8.04933608e-02,  4.87856492e-02,\n",
              "        -2.48650424e-02,  8.24674964e-02,  5.78876361e-02, -7.01998696e-02,\n",
              "        -5.27849719e-02,  5.62384129e-02,  6.20994456e-02,  6.82174787e-03,\n",
              "        -1.00715257e-01,  7.96753019e-02, -1.12975322e-01,  1.34628221e-01,\n",
              "        -9.62266102e-02,  2.00640298e-02, -9.76658687e-02, -1.82501003e-01,\n",
              "         1.09324157e-01, -3.63209248e-02,  3.55650075e-02,  4.50102650e-02,\n",
              "         1.10183591e-02, -7.78041184e-02, -4.31321487e-02, -1.68863684e-02,\n",
              "        -4.79760580e-02, -6.52195811e-02, -1.04922056e-01, -1.93036702e-02,\n",
              "         1.12957038e-01, -1.22052170e-01, -1.26136273e-01, -3.72392312e-02,\n",
              "         2.03393605e-02,  1.02564827e-01,  2.87572592e-02, -1.29345711e-02,\n",
              "         2.69882404e-03,  3.03500649e-02, -1.90041780e-01,  5.04890867e-02,\n",
              "        -5.52743264e-02, -1.00838067e-02,  1.86561659e-01,  9.58167762e-02,\n",
              "         9.24004093e-02, -9.93601140e-03, -4.71788719e-02, -2.76461546e-03,\n",
              "        -5.20380624e-02,  1.54287945e-02, -2.25036517e-02,  1.04728818e-01,\n",
              "         3.11524905e-02, -3.50903831e-02, -1.95096899e-02, -1.30134895e-01,\n",
              "        -1.63813252e-02, -5.38475811e-02, -2.03019269e-02, -6.68194070e-02,\n",
              "         3.09652425e-02,  2.45454028e-01,  7.15477532e-03, -1.63670145e-02,\n",
              "         1.18392734e-02,  5.23544364e-02,  1.64812319e-02, -9.70644280e-02,\n",
              "        -1.38912648e-02, -2.23945323e-02,  4.71041352e-02,  3.62400673e-02,\n",
              "         1.69772189e-03,  8.35985616e-02, -5.25236018e-02, -4.68905196e-02,\n",
              "        -6.80469945e-02, -7.34430924e-02,  1.44576477e-02,  1.45855499e-02,\n",
              "        -3.61342095e-02, -9.25402492e-02,  4.29330952e-02, -5.78884855e-02,\n",
              "         3.05771937e-05, -3.17855887e-02, -2.49583274e-03, -7.96032045e-03,\n",
              "         6.02722168e-02,  4.71199676e-02,  1.35874944e-02,  6.44546971e-02,\n",
              "        -7.78989261e-03,  8.72580409e-02,  2.50136014e-02,  1.80310812e-02,\n",
              "         4.62686718e-02,  6.66132122e-02,  5.81437461e-02, -6.64933026e-02,\n",
              "         4.42114547e-02,  4.83815521e-02,  2.10822839e-02,  3.51257063e-02,\n",
              "        -6.13384470e-02, -4.21803556e-02,  3.93126085e-02, -8.87782946e-02,\n",
              "         8.80033746e-02, -3.39946374e-02,  2.33324543e-02,  1.10220946e-01,\n",
              "        -8.98256227e-02,  1.73325241e-01,  6.09172285e-02, -5.11972681e-02,\n",
              "        -1.11211136e-01,  3.39896940e-02, -1.33793905e-01, -5.75430505e-02,\n",
              "         1.09261811e-01, -6.79929703e-02,  8.18420798e-02, -1.32535975e-02,\n",
              "        -2.41375864e-02, -1.28077818e-02, -8.42845626e-03,  1.29950210e-01,\n",
              "        -2.87809828e-03, -9.12686996e-03,  3.33377682e-02,  1.08738914e-02,\n",
              "        -1.84144340e-02, -6.48957416e-02, -1.37876105e-02,  1.49527071e-02,\n",
              "        -3.45802940e-02, -1.33532673e-01,  5.76522052e-02,  1.00106401e-02,\n",
              "        -2.63616890e-02,  6.22592941e-02,  4.26591039e-02, -7.39255175e-02,\n",
              "        -8.17269646e-03, -3.15187313e-02,  3.46972942e-02, -3.92031483e-02,\n",
              "        -4.05614972e-02,  9.39468294e-03, -4.68740463e-02,  9.21840072e-02,\n",
              "        -1.13543216e-02, -4.20475341e-02, -3.57755795e-02,  7.44714737e-02,\n",
              "        -2.97996998e-02,  6.50148019e-02, -5.53174801e-02, -9.14816093e-03,\n",
              "        -6.11080751e-02, -4.84419381e-03,  2.75796093e-02,  4.66751978e-02,\n",
              "         4.26169261e-02,  8.99801180e-02,  1.70297697e-01, -4.18865196e-02,\n",
              "        -5.10175638e-02,  4.71845940e-02,  1.25958500e-02,  6.38782009e-02,\n",
              "         5.57011962e-02,  1.13018770e-02,  4.08000359e-03, -1.34533256e-01,\n",
              "        -3.35933780e-03,  1.33296812e-03,  7.61884302e-02, -3.87830213e-02,\n",
              "        -6.42404109e-02, -3.81555557e-02, -6.77057356e-02,  7.56682158e-02,\n",
              "         1.35001037e-02,  7.05512390e-02,  6.06493652e-02,  3.23025067e-03,\n",
              "         3.79959419e-02,  1.12132847e-01,  1.17942236e-01,  5.32222306e-03,\n",
              "        -2.63580382e-02,  2.68834680e-02,  2.22861283e-02,  2.63331477e-02,\n",
              "         1.44733826e-03,  8.78859311e-02, -4.20533940e-02, -2.73751821e-02,\n",
              "        -6.72420338e-02,  8.79328698e-03, -2.89293025e-02,  1.19667470e-01],\n",
              "       dtype=float32),\n",
              " array([ 1.95287853e-01,  4.65803072e-02, -7.18238938e-04,  1.94351915e-02,\n",
              "        -6.39158040e-02,  7.54241049e-02,  1.52322322e-01, -1.56610355e-01,\n",
              "        -1.41626652e-02,  1.12494268e-01,  7.92630110e-03, -1.22877046e-01,\n",
              "        -1.58672512e-01,  1.14366505e-02, -1.14831135e-01, -6.48452416e-02,\n",
              "         1.00510672e-01,  2.54103839e-01, -8.08944106e-02,  3.67842242e-02,\n",
              "        -5.30495830e-02, -3.58929150e-02,  2.51383893e-02,  5.79826124e-02,\n",
              "         1.78195182e-02, -7.44423643e-02, -1.18241355e-01,  9.59690809e-02,\n",
              "        -1.87673539e-01, -6.75064176e-02,  1.64978907e-01,  6.59742430e-02,\n",
              "        -9.36355814e-02, -1.47608399e-01, -4.21455577e-02,  1.10945757e-02,\n",
              "         2.61917319e-02,  7.54966810e-02,  2.76814140e-02,  2.65606632e-03,\n",
              "         1.53489709e-01, -1.38315735e-02,  4.16975096e-02, -1.56754218e-02,\n",
              "         6.11683652e-02, -1.52206361e-01, -7.22490251e-02, -2.32165381e-01,\n",
              "        -9.67186131e-03,  1.29140839e-01, -1.98467880e-01,  1.20951973e-01,\n",
              "         3.95032354e-02, -4.53568324e-02, -8.41493830e-02, -1.10582057e-02,\n",
              "        -7.31254518e-02, -9.03001949e-02, -8.81487727e-02, -5.75634353e-02,\n",
              "        -3.82381678e-02, -3.81496176e-02, -1.26906289e-02, -4.43224497e-02,\n",
              "         8.91088396e-02, -2.15024382e-01,  5.57149723e-02, -1.36401236e-01,\n",
              "        -1.15295149e-01,  1.88592941e-01,  5.53706996e-02,  1.93699688e-01,\n",
              "         4.93840910e-02,  7.27444738e-02, -1.21941969e-01, -3.91956158e-02,\n",
              "         4.21631150e-02,  2.79281195e-02, -1.05611486e-02,  5.92109840e-03,\n",
              "         5.51754013e-02, -1.32359609e-01, -8.73462763e-03,  1.06066369e-01,\n",
              "        -5.80758564e-02,  1.77017659e-01,  5.31603098e-02,  1.75404936e-01,\n",
              "         5.38263209e-02, -3.19343284e-02,  4.22542021e-02,  7.59164104e-03,\n",
              "         7.99455505e-04,  8.14674497e-02, -7.34750088e-03,  1.11762688e-01,\n",
              "         8.33617002e-02, -5.51498774e-03,  1.03980266e-01, -8.72814208e-02,\n",
              "        -4.37849611e-02,  3.26213352e-02,  4.62111235e-02,  7.51592964e-02,\n",
              "        -1.18314341e-01,  2.06685923e-02, -9.82555747e-02,  8.87777954e-02,\n",
              "        -1.59682542e-01,  1.26199082e-01, -2.99667176e-02, -3.03422600e-01,\n",
              "         1.46094859e-01, -2.00424083e-02,  9.54979435e-02,  7.69229839e-03,\n",
              "        -1.21857775e-02, -4.96424511e-02,  1.29883587e-02,  4.38303426e-02,\n",
              "        -1.32075429e-01, -6.10812902e-02, -1.24751225e-01, -1.12471864e-01,\n",
              "         1.39821053e-01, -2.29470342e-01, -5.25332205e-02, -1.36147942e-02,\n",
              "        -1.31064400e-01,  1.30733624e-01,  3.91054861e-02,  6.83642104e-02,\n",
              "        -1.07705548e-01,  5.92684932e-02, -1.72756836e-01,  7.45325610e-02,\n",
              "        -1.08513728e-01, -8.50439295e-02,  1.61239848e-01,  7.64916912e-02,\n",
              "         1.25912756e-01, -3.13490331e-02, -9.16741267e-02,  3.52574252e-02,\n",
              "        -1.22216687e-01,  9.73020121e-02,  1.39218479e-01,  7.98570067e-02,\n",
              "         3.93268093e-02, -2.11228415e-01,  2.68825535e-02, -3.83739583e-02,\n",
              "        -8.62098262e-02, -8.25262070e-03, -1.89191289e-02, -6.71814987e-03,\n",
              "        -4.69951741e-02,  2.47546628e-01, -9.74522308e-02,  2.53517628e-02,\n",
              "         8.42752159e-02,  1.06946781e-01, -8.71649683e-02, -5.70308976e-02,\n",
              "         3.09309806e-03, -9.93507504e-02, -4.62630298e-03,  7.99903274e-02,\n",
              "        -1.17809474e-01,  1.02537729e-01, -1.97030514e-01, -6.02351651e-02,\n",
              "        -6.46035820e-02, -2.01960161e-01, -1.74492411e-02,  1.25808433e-01,\n",
              "         4.71488982e-02, -7.47074634e-02,  1.06731251e-01, -5.45743480e-02,\n",
              "         3.03351395e-02, -1.74500346e-01, -1.07857324e-01,  8.27391222e-02,\n",
              "         4.63063344e-02,  1.36995912e-01,  1.54330283e-02, -3.93934809e-02,\n",
              "        -3.10062412e-02,  1.70106247e-01,  9.65589955e-02,  8.00126120e-02,\n",
              "        -6.03790358e-02,  1.57904416e-01,  1.17472246e-01, -4.11007330e-02,\n",
              "         5.34416549e-02,  8.16294923e-04, -1.94285139e-02,  3.35699022e-02,\n",
              "        -5.43340258e-02,  1.64407495e-04, -1.52112339e-02, -5.80116827e-03,\n",
              "         5.41476496e-02, -8.09868574e-02,  3.99827883e-02,  9.60968584e-02,\n",
              "        -1.66199923e-01,  3.50399613e-02,  4.67169024e-02, -9.74183008e-02,\n",
              "        -1.68924034e-02,  3.54737155e-02, -1.09406039e-01, -1.02917649e-01,\n",
              "         1.23828888e-01, -4.85090539e-02,  5.93187734e-02,  7.80499587e-03,\n",
              "        -5.46594039e-02, -4.80898209e-02, -8.32655579e-02,  7.69672766e-02,\n",
              "         3.05745266e-02, -8.50437302e-03,  1.44251600e-01,  7.81611875e-02,\n",
              "         3.41488943e-02, -7.04088286e-02,  1.36863235e-02, -3.51228304e-02,\n",
              "        -6.81983754e-02, -1.80345833e-01,  8.08459744e-02,  2.21477486e-02,\n",
              "        -5.99288717e-02,  1.43542498e-01,  7.79755712e-02, -6.43412247e-02,\n",
              "        -4.97122714e-03, -4.20050928e-03, -7.22301826e-02, -1.01166591e-01,\n",
              "        -1.23119457e-02,  1.17634252e-01, -5.50680757e-02,  1.89870715e-01,\n",
              "        -6.76008314e-02, -1.41253471e-01, -3.26618776e-02,  7.97213763e-02,\n",
              "        -2.54782643e-02,  4.22543176e-02, -1.22119032e-01, -8.12180638e-02,\n",
              "        -7.83754960e-02,  6.24512658e-02, -2.94741546e-03, -3.07504032e-02,\n",
              "         3.49560985e-03, -8.03920068e-03,  4.75129671e-02,  6.76450580e-02,\n",
              "        -8.92358832e-03,  1.34413153e-01,  2.42265221e-02,  1.18768802e-02,\n",
              "         1.89704243e-02,  8.15859586e-02,  7.00447559e-02, -1.64081663e-01,\n",
              "        -3.08625400e-04, -5.53365462e-02,  1.09573662e-01, -1.46072462e-01,\n",
              "        -1.78226113e-01,  1.21033192e-01, -1.01230182e-01,  1.09548829e-01,\n",
              "         1.24133006e-02,  2.05666907e-02,  1.01461053e-01, -7.33733624e-02,\n",
              "        -7.26582133e-04,  1.54761955e-01,  1.30123526e-01,  2.99948398e-02,\n",
              "        -2.27742530e-02,  1.22723551e-02,  5.20082340e-02,  1.29055008e-02,\n",
              "        -1.05763808e-01,  1.42592669e-01, -7.53946081e-02, -4.93172705e-02,\n",
              "        -2.03057811e-01,  6.01353422e-02,  1.17999151e-01,  5.41714951e-02],\n",
              "       dtype=float32)]"
            ]
          },
          "metadata": {
            "tags": []
          },
          "execution_count": 30
        }
      ]
    },
    {
      "cell_type": "markdown",
      "metadata": {
        "id": "WZyXju8tdHh1"
      },
      "source": [
        "![Screen Shot 2021-05-22 at 4.21.15 PM.png](data:image/png;base64,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)"
      ]
    },
    {
      "cell_type": "markdown",
      "metadata": {
        "id": "ipQAATxXTigy"
      },
      "source": [
        "TO DO: Splitting the matrix into smaller chunks to get the cosine_similarity function to run"
      ]
    },
    {
      "cell_type": "code",
      "metadata": {
        "id": "SQrOCpkrThRl"
      },
      "source": [
        "# Change chunk_size to control resource consumption and speed\n",
        "# Higher chunk_size means more memory/RAM needed but also faster \n",
        "\n",
        "your_matrix = np.asarray(word_embeddings)\n",
        "\n",
        "chunk_size = 500 \n",
        "matrix_len = your_matrix.shape[0] # Not sparse numpy.ndarray\n",
        "\n",
        "def similarity_cosine_by_chunk(start, end):\n",
        "    if end > matrix_len:\n",
        "        end = matrix_len\n",
        "    return cosine_similarity(X=your_matrix[start:end], Y=your_matrix) # scikit-learn function\n",
        "\n",
        "for chunk_start in range(0, matrix_len, chunk_size):\n",
        "    cosine_similarity_chunk = similarity_cosine_by_chunk(chunk_start, chunk_start+chunk_size)\n",
        "    # Handle cosine_similarity_chunk  ( Write it to file_timestamp and close the file )\n",
        "    # Do not open the same file again or you may end up with out of memory after few chunks "
      ],
      "execution_count": 31,
      "outputs": []
    },
    {
      "cell_type": "code",
      "metadata": {
        "colab": {
          "base_uri": "https://localhost:8080/"
        },
        "id": "t0qVrIhjfto7",
        "outputId": "0feaa30f-e700-42ac-8cd0-4b23734f3f74"
      },
      "source": [
        "# total matrix of word embeddings\n",
        "your_matrix.shape"
      ],
      "execution_count": 32,
      "outputs": [
        {
          "output_type": "execute_result",
          "data": {
            "text/plain": [
              "(73939, 300)"
            ]
          },
          "metadata": {
            "tags": []
          },
          "execution_count": 32
        }
      ]
    },
    {
      "cell_type": "code",
      "metadata": {
        "colab": {
          "base_uri": "https://localhost:8080/"
        },
        "id": "FCWTXMlBaP3O",
        "outputId": "bfefd50d-9e4c-48f7-ccfe-e1b7ef4519cd"
      },
      "source": [
        "cosine_similarity_chunk.shape"
      ],
      "execution_count": 33,
      "outputs": [
        {
          "output_type": "execute_result",
          "data": {
            "text/plain": [
              "(439, 73939)"
            ]
          },
          "metadata": {
            "tags": []
          },
          "execution_count": 33
        }
      ]
    },
    {
      "cell_type": "markdown",
      "metadata": {
        "id": "h6z1l-iZa0nm"
      },
      "source": [
        "Attempt to store the results and loop through the entire matrix"
      ]
    },
    {
      "cell_type": "code",
      "metadata": {
        "id": "fgk-DiRXcBpZ"
      },
      "source": [
        "# Change chunk_size to control resource consumption and speed\n",
        "# Higher chunk_size means more memory/RAM needed but also faster \n",
        "\n",
        "your_matrix = np.asarray(word_embeddings)\n",
        "\n",
        "chunk_size = 50 \n",
        "matrix_len = your_matrix.shape[0] # Not sparse numpy.ndarray (number of rows)\n",
        "\n",
        "def similarity_cosine_by_chunk(start, end):\n",
        "    if end > matrix_len:\n",
        "        end = matrix_len\n",
        "    return cosine_similarity(X=your_matrix[start:end], Y=your_matrix) # scikit-learn function\n",
        "\n",
        "# storing the cosine values of the chunks already run in a new list\n",
        "cosine_chunks = []    # empty list\n",
        "\n",
        "for chunk_start in range(0, matrix_len, chunk_size):\n",
        "    cosine_chunks.append(similarity_cosine_by_chunk(chunk_start, chunk_start+chunk_size))\n",
        "    # Handle cosine_similarity_chunk  ( Write it to file_timestamp and close the file )\n",
        "    # Do not open the same file again or you may end up with out of memory after few chunks \n",
        "\n",
        "\n",
        "##cosine_chunks.append(similarity_cosine_by_chunk(start=1, end =500))\n",
        "##cosine_chunks.append(similarity_cosine_by_chunk(start=501, end =1000))"
      ],
      "execution_count": null,
      "outputs": []
    },
    {
      "cell_type": "code",
      "metadata": {
        "id": "tba4pbTDby5o"
      },
      "source": [
        "cosine_chunks"
      ],
      "execution_count": null,
      "outputs": []
    },
    {
      "cell_type": "code",
      "metadata": {
        "id": "alQ61uEG5-sf"
      },
      "source": [
        "# Recommending the Top 5 similar books using Average Word2Vec\n",
        "\n",
        "def recommendations(title):\n",
        "    \n",
        "    # Calling the function vectors\n",
        "\n",
        "    vectors(items_df)\n",
        "    \n",
        "    # finding the cosine similarity for the vectors (cosine_similarity tries to run the sparse dot product)\n",
        "\n",
        "    cosine_similarities = cosine_similarity(array_embeddings, array_embeddings, dense_output=False) # dense_output = False added \n",
        "\n",
        "    # taking the title and book image link and store in new data frame called books\n",
        "    ##books = items_df[['title_cleaned', 'image_link']]\n",
        "    books = items_df['title_cleaned']\n",
        "    # Reversing the mapping of the index\n",
        "    indices = pd.Series(df.index, index = items_df['title_cleaned']).drop_duplicates()\n",
        "         \n",
        "    idx = indices[title]\n",
        "    sim_scores = list(enumerate(cosine_similarities[idx]))\n",
        "    sim_scores = sorted(sim_scores, key = lambda x: x[1], reverse = True) # sorting by descending cosine similarity\n",
        "    sim_scores = sim_scores[1:6]\n",
        "    book_indices = [i[0] for i in sim_scores]\n",
        "    recommend = books.iloc[book_indices]\n",
        "    for index, row in recommend.iterrows():\n",
        "\n",
        "        response = requests.get(row['image_link'])\n",
        "        img = Image.open(BytesIO(response.content))\n",
        "        plt.figure()\n",
        "        plt.imshow(img)\n",
        "        plt.title(row['title'])"
      ],
      "execution_count": 18,
      "outputs": []
    },
    {
      "cell_type": "code",
      "metadata": {
        "colab": {
          "base_uri": "https://localhost:8080/"
        },
        "id": "x9e39rEkHQkq",
        "outputId": "96235b91-012e-45a6-c97b-51b5774b7f31"
      },
      "source": [
        "# getting recommendations for a specific book\n",
        "recommendations(title =\"Einfach zeichnen! Step by Step:\")"
      ],
      "execution_count": null,
      "outputs": [
        {
          "output_type": "stream",
          "text": [
            "/usr/local/lib/python3.7/dist-packages/ipykernel_launcher.py:20: DeprecationWarning: Call to deprecated `__getitem__` (Method will be removed in 4.0.0, use self.wv.__getitem__() instead).\n",
            "/usr/local/lib/python3.7/dist-packages/ipykernel_launcher.py:22: DeprecationWarning: Call to deprecated `__getitem__` (Method will be removed in 4.0.0, use self.wv.__getitem__() instead).\n"
          ],
          "name": "stderr"
        }
      ]
    },
    {
      "cell_type": "markdown",
      "metadata": {
        "id": "kIf1G3VGNKfY"
      },
      "source": [
        "# Recommender system based on implicit feedback"
      ]
    },
    {
      "cell_type": "markdown",
      "metadata": {
        "id": "waAHbZ8NNS2a"
      },
      "source": [
        "https://github.com/topspinj/recommender-tutorial/blob/master/part-3-implicit-feedback-recommender.ipynb"
      ]
    },
    {
      "cell_type": "code",
      "metadata": {
        "id": "Tj9gJOU4NJqk"
      },
      "source": [
        "# Idea:\n",
        "# movie id = itemID\n",
        "# user id  = sessionID\n",
        "# use click or order as implicit feedback (equivalent to ratings in a CF recommender)\n",
        "\n",
        "from scipy.sparse import csr_matrix\n",
        "\n",
        "def create_X(df):\n",
        "    \"\"\"\n",
        "    Generates a sparse matrix from ratings dataframe.\n",
        "    \n",
        "    Args:\n",
        "        df: pandas dataframe\n",
        "    \n",
        "    Returns:\n",
        "        X: sparse matrix\n",
        "        user_mapper: dict that maps user id's to user indices\n",
        "        user_inv_mapper: dict that maps user indices to user id's\n",
        "        movie_mapper: dict that maps movie id's to movie indices\n",
        "        movie_inv_mapper: dict that maps movie indices to movie id's\n",
        "    \"\"\"\n",
        "    N = df_combined['sessionID'].nunique()\n",
        "    M = df_combined['itemID'].nunique()\n",
        "\n",
        "    user_mapper = dict(zip(np.unique(df_combined['sessionID']), list(range(N))))\n",
        "    movie_mapper = dict(zip(np.unique(df_combined['itemID']), list(range(M))))\n",
        "    \n",
        "    user_inv_mapper = dict(zip(list(range(N)), np.unique(df_combined['sessionID'])))\n",
        "    movie_inv_mapper = dict(zip(list(range(M)), np.unique(df_combined['itemID'])))\n",
        "    \n",
        "    user_index = [user_mapper[i] for i in df_combined['sessionID']]\n",
        "    movie_index = [movie_mapper[i] for i in df_combined['itemID']]\n",
        "\n",
        "    X = csr_matrix((df_combined[\"click\"], (movie_index, user_index)), shape=(M, N))\n",
        "    \n",
        "    return X, user_mapper, movie_mapper, user_inv_mapper, movie_inv_mapper"
      ],
      "execution_count": null,
      "outputs": []
    },
    {
      "cell_type": "code",
      "metadata": {
        "id": "gvCE5O0aNnTY"
      },
      "source": [
        "X, user_mapper, movie_mapper, user_inv_mapper, movie_inv_mapper = create_X(df_combined)"
      ],
      "execution_count": null,
      "outputs": []
    },
    {
      "cell_type": "markdown",
      "metadata": {
        "id": "64QSJ9LkNZjm"
      },
      "source": [
        "\n",
        "Creating Movie Title Mappers¶\n",
        "\n",
        "We need to interpret a movie title from its index in the user-item matrix and vice versa. Let's create 2 helper functions that make this interpretation easy:\n",
        "\n",
        "    get_movie_index() - converts a movie title to movie index\n",
        "        Note that this function uses fuzzywuzzy's string matching to get the approximate movie title match based on the string that gets passed in. This means that you don't need to know the exact spelling and formatting of the title to get the corresponding movie index.\n",
        "    get_movie_title() - converts a movie index to movie title\n",
        "\n"
      ]
    },
    {
      "cell_type": "code",
      "metadata": {
        "colab": {
          "base_uri": "https://localhost:8080/"
        },
        "id": "Xklve3OUOchY",
        "outputId": "1ae9b6c0-0a6f-4e0f-c709-acbdc7a67573"
      },
      "source": [
        "pip install fuzzywuzzy"
      ],
      "execution_count": null,
      "outputs": [
        {
          "output_type": "stream",
          "text": [
            "Collecting fuzzywuzzy\n",
            "  Downloading https://files.pythonhosted.org/packages/43/ff/74f23998ad2f93b945c0309f825be92e04e0348e062026998b5eefef4c33/fuzzywuzzy-0.18.0-py2.py3-none-any.whl\n",
            "Installing collected packages: fuzzywuzzy\n",
            "Successfully installed fuzzywuzzy-0.18.0\n"
          ],
          "name": "stdout"
        }
      ]
    },
    {
      "cell_type": "code",
      "metadata": {
        "id": "jjhmJVVyNaBR"
      },
      "source": [
        "# idea: replace movies[\"title\"] with df_combined[\"title\"] and movies[\"movieID\"] with df_combined[\"itemID\"]\n",
        "\n",
        "from fuzzywuzzy import process\n",
        "\n",
        "def movie_finder(title):\n",
        "    all_titles = df_combined['title'].tolist()\n",
        "    closest_match = process.extractOne(title,all_titles)\n",
        "    return closest_match[0]\n",
        "\n",
        "movie_title_mapper = dict(zip(df_combined['title'], df_combined['itemID']))\n",
        "movie_title_inv_mapper = dict(zip(df_combined['itemID'], df_combined['title']))\n",
        "\n",
        "def get_movie_index(title):\n",
        "    fuzzy_title = movie_finder(title)\n",
        "    movie_id = movie_title_mapper[fuzzy_title]\n",
        "    movie_idx = movie_mapper[movie_id]\n",
        "    return movie_idx\n",
        "\n",
        "def get_movie_title(movie_idx): \n",
        "    movie_id = movie_inv_mapper[movie_idx]\n",
        "    title = movie_title_inv_mapper[movie_id]\n",
        "    return title\n"
      ],
      "execution_count": null,
      "outputs": []
    },
    {
      "cell_type": "code",
      "metadata": {
        "colab": {
          "base_uri": "https://localhost:8080/"
        },
        "id": "0m2xfNUNOlgv",
        "outputId": "9f471fbe-5d4a-4798-d61f-f14e1b7d49b6"
      },
      "source": [
        "# test\n",
        "get_movie_index('Red Queen 1')"
      ],
      "execution_count": null,
      "outputs": [
        {
          "output_type": "execute_result",
          "data": {
            "text/plain": [
              "614"
            ]
          },
          "metadata": {
            "tags": []
          },
          "execution_count": 61
        }
      ]
    },
    {
      "cell_type": "code",
      "metadata": {
        "colab": {
          "base_uri": "https://localhost:8080/",
          "height": 36
        },
        "id": "qUunRcCuO8se",
        "outputId": "3faeef61-ecb9-4bd1-8096-655277c7a5af"
      },
      "source": [
        "# test\n",
        "get_movie_title(19194)"
      ],
      "execution_count": null,
      "outputs": [
        {
          "output_type": "execute_result",
          "data": {
            "application/vnd.google.colaboratory.intrinsic+json": {
              "type": "string"
            },
            "text/plain": [
              "'Harry Potter and the Cursed Child: Journey: Behind the Scenes of the Award-Winning Stage Production'"
            ]
          },
          "metadata": {
            "tags": []
          },
          "execution_count": 62
        }
      ]
    },
    {
      "cell_type": "markdown",
      "metadata": {
        "id": "y4BOtqWvPn2_"
      },
      "source": [
        "# Matrix factorization using alternating least squares"
      ]
    },
    {
      "cell_type": "markdown",
      "metadata": {
        "id": "2izhsorhP1zj"
      },
      "source": [
        "We've transformed and prepared our data so that we can start creating our recommender model.\n",
        "\n",
        "The implicit package is built around a linear algebra technique called matrix factorization), which can help us discover latent features underlying the interactions between users and movies. These latent features give a more compact representation of user tastes and item descriptions. Matrix factorization is particularly useful for very sparse data and can enhance the quality of recommendations. The algorithm works by factorizing the original user-item matrix into two factor matrices:\n",
        "\n",
        "    user-factor matrix (n_users, k)\n",
        "    item-factor matrix (k, n_items)\n",
        "\n",
        "We are reducing the dimensions of our original matrix into \"taste\" dimensions. We cannot interpret what each latent feature $k$ represents. However, we could imagine that one latent feature may represent users who like romantic comedies from the 1990s, while another latent feature may represent movies which are independent foreign language films.\n",
        "$$X_{mn} \\approx P_{mk} \\times Q_{nk}^T = \\hat{X}$$\n",
        "\n",
        "In traditional matrix factorization, such as SVD, we would attempt to solve the factorization at once which can be very computationally expensive. As a more practical alternative, we can use a technique called Alternating Least Squares (ALS) instead. With ALS, we solve for one factor matrix at a time:\n",
        "\n",
        "    Step 1: hold user-factor matrix fixed and solve for the item-factor matrix\n",
        "    Step 2: hold item-factor matrix fixed and solve for the user-item matrix\n",
        "\n",
        "We alternate between Step 1 and 2 above, until the dot product of the item-factor matrix and user-item matrix is approximately equal to the original X (user-item) matrix. This approach is less computationally expensive and can be run in parallel.\n",
        "\n",
        "The implicit package implements matrix factorization using Alternating Least Squares (see docs here). Let's initiate the model using the AlternatingLeastSquares class."
      ]
    },
    {
      "cell_type": "code",
      "metadata": {
        "colab": {
          "base_uri": "https://localhost:8080/"
        },
        "id": "Ly_c9sGcP9f_",
        "outputId": "6c8edce8-469a-4359-acc7-5e5bd22a587e"
      },
      "source": [
        "pip install implicit"
      ],
      "execution_count": null,
      "outputs": [
        {
          "output_type": "stream",
          "text": [
            "Collecting implicit\n",
            "\u001b[?25l  Downloading https://files.pythonhosted.org/packages/bc/07/c0121884722d16e2c5beeb815f6b84b41cbf22e738e4075f1475be2791bc/implicit-0.4.4.tar.gz (1.1MB)\n",
            "\r\u001b[K     |▎                               | 10kB 22.9MB/s eta 0:00:01\r\u001b[K     |▋                               | 20kB 27.8MB/s eta 0:00:01\r\u001b[K     |▉                               | 30kB 18.7MB/s eta 0:00:01\r\u001b[K     |█▏                              | 40kB 20.8MB/s eta 0:00:01\r\u001b[K     |█▌                              | 51kB 22.6MB/s eta 0:00:01\r\u001b[K     |█▊                              | 61kB 23.8MB/s eta 0:00:01\r\u001b[K     |██                              | 71kB 18.0MB/s eta 0:00:01\r\u001b[K     |██▍                             | 81kB 18.7MB/s eta 0:00:01\r\u001b[K     |██▋                             | 92kB 18.0MB/s eta 0:00:01\r\u001b[K     |███                             | 102kB 17.7MB/s eta 0:00:01\r\u001b[K     |███▎                            | 112kB 17.7MB/s eta 0:00:01\r\u001b[K     |███▌                            | 122kB 17.7MB/s eta 0:00:01\r\u001b[K     |███▉                            | 133kB 17.7MB/s eta 0:00:01\r\u001b[K     |████▏                           | 143kB 17.7MB/s eta 0:00:01\r\u001b[K     |████▍                           | 153kB 17.7MB/s eta 0:00:01\r\u001b[K     |████▊                           | 163kB 17.7MB/s eta 0:00:01\r\u001b[K     |█████                           | 174kB 17.7MB/s eta 0:00:01\r\u001b[K     |█████▎                          | 184kB 17.7MB/s eta 0:00:01\r\u001b[K     |█████▋                          | 194kB 17.7MB/s eta 0:00:01\r\u001b[K     |██████                          | 204kB 17.7MB/s eta 0:00:01\r\u001b[K     |██████▏                         | 215kB 17.7MB/s eta 0:00:01\r\u001b[K     |██████▌                         | 225kB 17.7MB/s eta 0:00:01\r\u001b[K     |██████▉                         | 235kB 17.7MB/s eta 0:00:01\r\u001b[K     |███████                         | 245kB 17.7MB/s eta 0:00:01\r\u001b[K     |███████▍                        | 256kB 17.7MB/s eta 0:00:01\r\u001b[K     |███████▊                        | 266kB 17.7MB/s eta 0:00:01\r\u001b[K     |████████                        | 276kB 17.7MB/s eta 0:00:01\r\u001b[K     |████████▎                       | 286kB 17.7MB/s eta 0:00:01\r\u001b[K     |████████▋                       | 296kB 17.7MB/s eta 0:00:01\r\u001b[K     |████████▉                       | 307kB 17.7MB/s eta 0:00:01\r\u001b[K     |█████████▏                      | 317kB 17.7MB/s eta 0:00:01\r\u001b[K     |█████████▌                      | 327kB 17.7MB/s eta 0:00:01\r\u001b[K     |█████████▊                      | 337kB 17.7MB/s eta 0:00:01\r\u001b[K     |██████████                      | 348kB 17.7MB/s eta 0:00:01\r\u001b[K     |██████████▍                     | 358kB 17.7MB/s eta 0:00:01\r\u001b[K     |██████████▋                     | 368kB 17.7MB/s eta 0:00:01\r\u001b[K     |███████████                     | 378kB 17.7MB/s eta 0:00:01\r\u001b[K     |███████████▏                    | 389kB 17.7MB/s eta 0:00:01\r\u001b[K     |███████████▌                    | 399kB 17.7MB/s eta 0:00:01\r\u001b[K     |███████████▉                    | 409kB 17.7MB/s eta 0:00:01\r\u001b[K     |████████████                    | 419kB 17.7MB/s eta 0:00:01\r\u001b[K     |████████████▍                   | 430kB 17.7MB/s eta 0:00:01\r\u001b[K     |████████████▊                   | 440kB 17.7MB/s eta 0:00:01\r\u001b[K     |█████████████                   | 450kB 17.7MB/s eta 0:00:01\r\u001b[K     |█████████████▎                  | 460kB 17.7MB/s eta 0:00:01\r\u001b[K     |█████████████▋                  | 471kB 17.7MB/s eta 0:00:01\r\u001b[K     |█████████████▉                  | 481kB 17.7MB/s eta 0:00:01\r\u001b[K     |██████████████▏                 | 491kB 17.7MB/s eta 0:00:01\r\u001b[K     |██████████████▌                 | 501kB 17.7MB/s eta 0:00:01\r\u001b[K     |██████████████▊                 | 512kB 17.7MB/s eta 0:00:01\r\u001b[K     |███████████████                 | 522kB 17.7MB/s eta 0:00:01\r\u001b[K     |███████████████▍                | 532kB 17.7MB/s eta 0:00:01\r\u001b[K     |███████████████▋                | 542kB 17.7MB/s eta 0:00:01\r\u001b[K     |████████████████                | 552kB 17.7MB/s eta 0:00:01\r\u001b[K     |████████████████▎               | 563kB 17.7MB/s eta 0:00:01\r\u001b[K     |████████████████▌               | 573kB 17.7MB/s eta 0:00:01\r\u001b[K     |████████████████▉               | 583kB 17.7MB/s eta 0:00:01\r\u001b[K     |█████████████████▏              | 593kB 17.7MB/s eta 0:00:01\r\u001b[K     |█████████████████▍              | 604kB 17.7MB/s eta 0:00:01\r\u001b[K     |█████████████████▊              | 614kB 17.7MB/s eta 0:00:01\r\u001b[K     |██████████████████              | 624kB 17.7MB/s eta 0:00:01\r\u001b[K     |██████████████████▎             | 634kB 17.7MB/s eta 0:00:01\r\u001b[K     |██████████████████▋             | 645kB 17.7MB/s eta 0:00:01\r\u001b[K     |███████████████████             | 655kB 17.7MB/s eta 0:00:01\r\u001b[K     |███████████████████▏            | 665kB 17.7MB/s eta 0:00:01\r\u001b[K     |███████████████████▌            | 675kB 17.7MB/s eta 0:00:01\r\u001b[K     |███████████████████▉            | 686kB 17.7MB/s eta 0:00:01\r\u001b[K     |████████████████████            | 696kB 17.7MB/s eta 0:00:01\r\u001b[K     |████████████████████▍           | 706kB 17.7MB/s eta 0:00:01\r\u001b[K     |████████████████████▊           | 716kB 17.7MB/s eta 0:00:01\r\u001b[K     |█████████████████████           | 727kB 17.7MB/s eta 0:00:01\r\u001b[K     |█████████████████████▎          | 737kB 17.7MB/s eta 0:00:01\r\u001b[K     |█████████████████████▋          | 747kB 17.7MB/s eta 0:00:01\r\u001b[K     |█████████████████████▉          | 757kB 17.7MB/s eta 0:00:01\r\u001b[K     |██████████████████████▏         | 768kB 17.7MB/s eta 0:00:01\r\u001b[K     |██████████████████████▍         | 778kB 17.7MB/s eta 0:00:01\r\u001b[K     |██████████████████████▊         | 788kB 17.7MB/s eta 0:00:01\r\u001b[K     |███████████████████████         | 798kB 17.7MB/s eta 0:00:01\r\u001b[K     |███████████████████████▎        | 808kB 17.7MB/s eta 0:00:01\r\u001b[K     |███████████████████████▋        | 819kB 17.7MB/s eta 0:00:01\r\u001b[K     |████████████████████████        | 829kB 17.7MB/s eta 0:00:01\r\u001b[K     |████████████████████████▏       | 839kB 17.7MB/s eta 0:00:01\r\u001b[K     |████████████████████████▌       | 849kB 17.7MB/s eta 0:00:01\r\u001b[K     |████████████████████████▉       | 860kB 17.7MB/s eta 0:00:01\r\u001b[K     |█████████████████████████       | 870kB 17.7MB/s eta 0:00:01\r\u001b[K     |█████████████████████████▍      | 880kB 17.7MB/s eta 0:00:01\r\u001b[K     |█████████████████████████▊      | 890kB 17.7MB/s eta 0:00:01\r\u001b[K     |██████████████████████████      | 901kB 17.7MB/s eta 0:00:01\r\u001b[K     |██████████████████████████▎     | 911kB 17.7MB/s eta 0:00:01\r\u001b[K     |██████████████████████████▋     | 921kB 17.7MB/s eta 0:00:01\r\u001b[K     |██████████████████████████▉     | 931kB 17.7MB/s eta 0:00:01\r\u001b[K     |███████████████████████████▏    | 942kB 17.7MB/s eta 0:00:01\r\u001b[K     |███████████████████████████▌    | 952kB 17.7MB/s eta 0:00:01\r\u001b[K     |███████████████████████████▊    | 962kB 17.7MB/s eta 0:00:01\r\u001b[K     |████████████████████████████    | 972kB 17.7MB/s eta 0:00:01\r\u001b[K     |████████████████████████████▍   | 983kB 17.7MB/s eta 0:00:01\r\u001b[K     |████████████████████████████▋   | 993kB 17.7MB/s eta 0:00:01\r\u001b[K     |█████████████████████████████   | 1.0MB 17.7MB/s eta 0:00:01\r\u001b[K     |█████████████████████████████▎  | 1.0MB 17.7MB/s eta 0:00:01\r\u001b[K     |█████████████████████████████▌  | 1.0MB 17.7MB/s eta 0:00:01\r\u001b[K     |█████████████████████████████▉  | 1.0MB 17.7MB/s eta 0:00:01\r\u001b[K     |██████████████████████████████▏ | 1.0MB 17.7MB/s eta 0:00:01\r\u001b[K     |██████████████████████████████▍ | 1.1MB 17.7MB/s eta 0:00:01\r\u001b[K     |██████████████████████████████▊ | 1.1MB 17.7MB/s eta 0:00:01\r\u001b[K     |███████████████████████████████ | 1.1MB 17.7MB/s eta 0:00:01\r\u001b[K     |███████████████████████████████▎| 1.1MB 17.7MB/s eta 0:00:01\r\u001b[K     |███████████████████████████████▋| 1.1MB 17.7MB/s eta 0:00:01\r\u001b[K     |████████████████████████████████| 1.1MB 17.7MB/s eta 0:00:01\r\u001b[K     |████████████████████████████████| 1.1MB 17.7MB/s \n",
            "\u001b[?25hRequirement already satisfied: numpy in /usr/local/lib/python3.7/dist-packages (from implicit) (1.19.5)\n",
            "Requirement already satisfied: scipy>=0.16 in /usr/local/lib/python3.7/dist-packages (from implicit) (1.4.1)\n",
            "Requirement already satisfied: tqdm>=4.27 in /usr/local/lib/python3.7/dist-packages (from implicit) (4.41.1)\n",
            "Building wheels for collected packages: implicit\n",
            "  Building wheel for implicit (setup.py) ... \u001b[?25l\u001b[?25hdone\n",
            "  Created wheel for implicit: filename=implicit-0.4.4-cp37-cp37m-linux_x86_64.whl size=3406430 sha256=f28fa8edd2478737c4a192bbb17169f3511c862972164afdc4b3ecd55a2422a8\n",
            "  Stored in directory: /root/.cache/pip/wheels/bf/d4/ec/fd4f622fcbefb7521f149905295b2c26adecb23af38aa28217\n",
            "Successfully built implicit\n",
            "Installing collected packages: implicit\n",
            "Successfully installed implicit-0.4.4\n"
          ],
          "name": "stdout"
        }
      ]
    },
    {
      "cell_type": "markdown",
      "metadata": {
        "id": "FIdtPDsmR1nN"
      },
      "source": [
        "ALS recommender is a matrix factorization algorithm that uses Alternating Least Squares with Weighted-Lamda-Regularization (ALS-WR). It factors the user to item matrix A into the user-to-feature matrix U and the item-to-feature matrix M: It runs the ALS algorithm in a parallel fashion"
      ]
    },
    {
      "cell_type": "code",
      "metadata": {
        "id": "EV6zgFAPPsUs"
      },
      "source": [
        "import implicit\n",
        "\n",
        "model = implicit.als.AlternatingLeastSquares(factors=64)"
      ],
      "execution_count": null,
      "outputs": []
    },
    {
      "cell_type": "markdown",
      "metadata": {
        "id": "uWDhISJpQiIh"
      },
      "source": [
        "\n",
        "\n",
        "This model comes with a couple of hyperparameters that can be tuned to generate optimal results:\n",
        "\n",
        "    factors ($k$): number of latent factors,\n",
        "    regularization ($\\lambda$): prevents the model from overfitting during training\n",
        "\n",
        "In this tutorial, we'll set $k = 50$ and $\\lambda = 0.01$ (the default). In a real-world scenario, I highly recommend tuning these hyperparameters before generating recommendations to generate optimal results.\n",
        "\n",
        "The next step is to fit our model with our user-item matrix.\n"
      ]
    },
    {
      "cell_type": "code",
      "metadata": {
        "colab": {
          "base_uri": "https://localhost:8080/",
          "height": 67,
          "referenced_widgets": [
            "d2333fe356f646b8861ee3ad2fa77c67",
            "4bf559ac774b46449806854a8fa9ebc0",
            "daa648ca46a6466680794fc69ad8cf33",
            "2821977ceb524355ab1b47f2f165cbab",
            "06b04e350a2146cc90ca9fb954778618",
            "b48003d6d49e47878a349a7f64df9c90",
            "1a8a58e812e84992955bbe25b61c9048",
            "2ca96bdb2e4b4cfaadd5106b9a09d796"
          ]
        },
        "id": "aOyovTcuP5Og",
        "outputId": "c5a0b197-2cef-4305-99e5-8be4dc7c41e2"
      },
      "source": [
        "model.fit(X)"
      ],
      "execution_count": null,
      "outputs": [
        {
          "output_type": "display_data",
          "data": {
            "application/vnd.jupyter.widget-view+json": {
              "model_id": "d2333fe356f646b8861ee3ad2fa77c67",
              "version_minor": 0,
              "version_major": 2
            },
            "text/plain": [
              "HBox(children=(FloatProgress(value=0.0, max=15.0), HTML(value='')))"
            ]
          },
          "metadata": {
            "tags": []
          }
        },
        {
          "output_type": "stream",
          "text": [
            "\n"
          ],
          "name": "stdout"
        }
      ]
    },
    {
      "cell_type": "markdown",
      "metadata": {
        "id": "hLSvdt_IQtCC"
      },
      "source": [
        "\n",
        "\n",
        "Now, let's test out the model's recommendations. We can use the model's similar_items() method which returns the most relevant movies of a given movie. We can use our helpful get_movie_index() function to get the movie index of the movie that we're interested in.\n"
      ]
    },
    {
      "cell_type": "code",
      "metadata": {
        "colab": {
          "base_uri": "https://localhost:8080/"
        },
        "id": "qBU7oSjvQtpK",
        "outputId": "2a3f7aaf-29d2-46bb-ef35-9e1244195283"
      },
      "source": [
        "movie_of_interest = 'Red Queen 1'\n",
        "\n",
        "movie_index = get_movie_index(movie_of_interest)\n",
        "related = model.similar_items(movie_index)\n",
        "related"
      ],
      "execution_count": null,
      "outputs": [
        {
          "output_type": "execute_result",
          "data": {
            "text/plain": [
              "[(614, 1.0000001),\n",
              " (6004, 0.9425057),\n",
              " (5250, 0.91434276),\n",
              " (10416, 0.89084107),\n",
              " (18611, 0.8875659),\n",
              " (13414, 0.88539433),\n",
              " (12986, 0.8837407),\n",
              " (2908, 0.8756041),\n",
              " (11683, 0.87245053),\n",
              " (13302, 0.855826)]"
            ]
          },
          "metadata": {
            "tags": []
          },
          "execution_count": 53
        }
      ]
    },
    {
      "cell_type": "markdown",
      "metadata": {
        "id": "-UKdvgWQR69v"
      },
      "source": [
        "The output of similar_items() is not user-friendly. We'll need to use our get_movie_title() function to interpret what our results are."
      ]
    },
    {
      "cell_type": "code",
      "metadata": {
        "colab": {
          "base_uri": "https://localhost:8080/"
        },
        "id": "O5DSOoPSRzbN",
        "outputId": "4c92dc8f-8224-4a14-c1a3-9bcf9869dec0"
      },
      "source": [
        "print(f\"Because you watched {movie_finder(movie_of_interest)}...\")\n",
        "for r in related:\n",
        "    recommended_title = get_movie_title(r[0])\n",
        "    if recommended_title != movie_finder(movie_of_interest):     # != : \"is not equal to\"; print titles not equal to the title supplied to the model\n",
        "        print(recommended_title)"
      ],
      "execution_count": null,
      "outputs": [
        {
          "output_type": "stream",
          "text": [
            "Because you watched Red Queen 1...\n",
            "Truly Devious\n",
            "The Beautiful\n",
            "American Royals 2: Majesty\n",
            "Lovely War\n",
            "Looking for Alaska\n",
            "Looking for Alaska\n",
            "These Witches Don't Burn\n",
            "I Have Lost My Way\n"
          ],
          "name": "stdout"
        }
      ]
    },
    {
      "cell_type": "markdown",
      "metadata": {
        "id": "4Jk2qbdacpoq"
      },
      "source": [
        "last execution took 72 min"
      ]
    }
  ]
}